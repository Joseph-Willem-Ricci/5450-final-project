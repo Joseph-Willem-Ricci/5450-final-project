{
  "cells": [
    {
      "cell_type": "markdown",
      "metadata": {
        "id": "view-in-github",
        "colab_type": "text"
      },
      "source": [
        "<a href=\"https://colab.research.google.com/github/Joseph-Willem-Ricci/5450-final-project/blob/joe/CIS5450_Project.ipynb\" target=\"_parent\"><img src=\"https://colab.research.google.com/assets/colab-badge.svg\" alt=\"Open In Colab\"/></a>"
      ]
    },
    {
      "cell_type": "markdown",
      "metadata": {
        "id": "O5RzHfJIP-OW"
      },
      "source": [
        "# CIT 5450 Final Project\n",
        "Joanne Crean, Juan Goleniowski, Joseph Ricci"
      ]
    },
    {
      "cell_type": "markdown",
      "metadata": {
        "id": "CgvinkN7Qm8e"
      },
      "source": [
        "Before running, be sure to create a new Kaggle API token and save it as 'kaggle.json' in your default Google Drive location (/content/drive/MyDrive/)"
      ]
    },
    {
      "cell_type": "code",
      "execution_count": 3,
      "metadata": {
        "id": "lTHg3UfjQbIp",
        "colab": {
          "base_uri": "https://localhost:8080/"
        },
        "outputId": "52002e58-09ff-409b-b666-b8a925c149e5"
      },
      "outputs": [
        {
          "output_type": "stream",
          "name": "stdout",
          "text": [
            "Looking in indexes: https://pypi.org/simple, https://us-python.pkg.dev/colab-wheels/public/simple/\n",
            "Requirement already satisfied: pandasql in /usr/local/lib/python3.9/dist-packages (0.7.3)\n",
            "Requirement already satisfied: pandas in /usr/local/lib/python3.9/dist-packages (from pandasql) (1.4.4)\n",
            "Requirement already satisfied: sqlalchemy in /usr/local/lib/python3.9/dist-packages (from pandasql) (1.4.46)\n",
            "Requirement already satisfied: numpy in /usr/local/lib/python3.9/dist-packages (from pandasql) (1.22.4)\n",
            "Requirement already satisfied: pytz>=2020.1 in /usr/local/lib/python3.9/dist-packages (from pandas->pandasql) (2022.7.1)\n",
            "Requirement already satisfied: python-dateutil>=2.8.1 in /usr/local/lib/python3.9/dist-packages (from pandas->pandasql) (2.8.2)\n",
            "Requirement already satisfied: greenlet!=0.4.17 in /usr/local/lib/python3.9/dist-packages (from sqlalchemy->pandasql) (2.0.2)\n",
            "Requirement already satisfied: six>=1.5 in /usr/local/lib/python3.9/dist-packages (from python-dateutil>=2.8.1->pandas->pandasql) (1.16.0)\n",
            "Looking in indexes: https://pypi.org/simple, https://us-python.pkg.dev/colab-wheels/public/simple/\n",
            "Requirement already satisfied: sqlalchemy==1.4.46 in /usr/local/lib/python3.9/dist-packages (1.4.46)\n",
            "Requirement already satisfied: greenlet!=0.4.17 in /usr/local/lib/python3.9/dist-packages (from sqlalchemy==1.4.46) (2.0.2)\n"
          ]
        }
      ],
      "source": [
        "# Installs\n",
        "!pip install -q kaggle\n",
        "!pip install pandasql\n",
        "!pip install sqlalchemy==1.4.46"
      ]
    },
    {
      "cell_type": "code",
      "execution_count": 4,
      "metadata": {
        "id": "iwAn5PY1_KU6"
      },
      "outputs": [],
      "source": [
        "# Imports\n",
        "import pandas as pd\n",
        "from google.colab import drive\n",
        "import warnings\n",
        "warnings.simplefilter(action='ignore', category=FutureWarning)"
      ]
    },
    {
      "cell_type": "code",
      "execution_count": 5,
      "metadata": {
        "colab": {
          "base_uri": "https://localhost:8080/"
        },
        "id": "8q53w-KnA7wi",
        "outputId": "893e58d5-7663-4507-9268-fd05beb5ea75"
      },
      "outputs": [
        {
          "output_type": "stream",
          "name": "stdout",
          "text": [
            "Drive already mounted at /content/drive; to attempt to forcibly remount, call drive.mount(\"/content/drive\", force_remount=True).\n",
            "mkdir: cannot create directory ‘/root/.kaggle’: File exists\n"
          ]
        }
      ],
      "source": [
        "# Setup\n",
        "drive.mount('/content/drive')\n",
        "!mkdir ~/.kaggle\n",
        "!cp /content/drive/MyDrive/kaggle.json ~/.kaggle/"
      ]
    },
    {
      "cell_type": "code",
      "execution_count": 6,
      "metadata": {
        "colab": {
          "base_uri": "https://localhost:8080/"
        },
        "id": "JxzLvzzIB-fi",
        "outputId": "fa6ae2bb-ab02-4e85-c6c0-bebfd0db7ee3"
      },
      "outputs": [
        {
          "output_type": "execute_result",
          "data": {
            "text/plain": [
              "['Downloading tiktok-popular-songs-2021.zip to /content',\n",
              " '',\n",
              " '  0% 0.00/11.0k [00:00<?, ?B/s]',\n",
              " '',\n",
              " '100% 11.0k/11.0k [00:00<00:00, 3.75MB/s]']"
            ]
          },
          "metadata": {},
          "execution_count": 6
        }
      ],
      "source": [
        "# Download Datasets\n",
        "# Spotify Top 200 and Viral 50 Charts for 2017 through 2021 Dataset\n",
        "!!kaggle datasets download -d dhruvildave/spotify-charts\n",
        "\n",
        "# Spotify Audio Features Datasets\n",
        "!!kaggle datasets download -d rodolfofigueroa/spotify-12m-songs\n",
        "!!kaggle datasets download -d muhmores/spotify-top-100-songs-of-20152019\n",
        "!!kaggle datasets download -d sashankpillai/spotify-top-200-charts-20202021\n",
        "!!kaggle datasets download -d maharshipandya/-spotify-tracks-dataset\n",
        "!!kaggle datasets download -d vatsalmavani/spotify-dataset\n",
        "!!kaggle datasets download -d nandhakumarss/spotify-song-tracks\n",
        "!!kaggle datasets download -d elemento/music-albums-popularity-prediction\n",
        "\n",
        "# TikTok Popular Songs Dataset\n",
        "!!kaggle datasets download -d sveta151/tiktok-popular-songs-2019\n",
        "!!kaggle datasets download -d sveta151/tiktok-popular-songs-2020\n",
        "!!kaggle datasets download -d sveta151/tiktok-popular-songs-2021"
      ]
    },
    {
      "cell_type": "code",
      "execution_count": 7,
      "metadata": {
        "colab": {
          "base_uri": "https://localhost:8080/"
        },
        "id": "2WPqLyOGCp8B",
        "outputId": "cde0c374-6359-4e53-b3c5-7fdc90d18f73"
      },
      "outputs": [
        {
          "output_type": "stream",
          "name": "stdout",
          "text": [
            "Archive:  /content/spotify-charts.zip\n",
            "  inflating: charts.csv              \n",
            "Archive:  /content/spotify-12m-songs.zip\n",
            "  inflating: tracks_features.csv     \n",
            "Archive:  /content/spotify-top-100-songs-of-20152019.zip\n",
            "  inflating: Spotify 2010 - 2019 Top 100 Songs.xlsx  \n",
            "  inflating: Spotify 2010 - 2019 Top 100.csv  \n",
            "Archive:  /content/spotify-top-200-charts-20202021.zip\n",
            "  inflating: spotify_dataset.csv     \n",
            "Archive:  /content/-spotify-tracks-dataset.zip\n",
            "  inflating: dataset.csv             \n",
            "Archive:  /content/spotify-dataset.zip\n",
            "  inflating: data/data.csv           \n",
            "  inflating: data/data_by_artist.csv  \n",
            "  inflating: data/data_by_genres.csv  \n",
            "  inflating: data/data_by_year.csv   \n",
            "  inflating: data/data_w_genres.csv  \n",
            "Archive:  /content/spotify-song-tracks.zip\n",
            "  inflating: SpotifyFeatures.csv     \n",
            "Archive:  /content/music-albums-popularity-prediction.zip\n",
            "  inflating: sample_solution.csv     \n",
            "  inflating: test.csv                \n",
            "  inflating: train.csv               \n",
            "Archive:  /content/tiktok-popular-songs-2019.zip\n",
            "  inflating: TikTok_songs_2019.csv   \n",
            "  inflating: TikTok_songs_2019.xlsx  \n",
            "Archive:  /content/tiktok-popular-songs-2020.zip\n",
            "  inflating: TikTok_songs_2020.csv   \n",
            "Archive:  /content/tiktok-popular-songs-2021.zip\n",
            "  inflating: TikTok_songs_2021.csv   \n"
          ]
        }
      ],
      "source": [
        "# Unzip Datasets\n",
        "!unzip /content/spotify-charts.zip\n",
        "!unzip /content/spotify-12m-songs.zip\n",
        "!unzip /content/spotify-top-100-songs-of-20152019.zip\n",
        "!unzip /content/spotify-top-200-charts-20202021.zip\n",
        "!unzip /content/-spotify-tracks-dataset.zip\n",
        "!unzip /content/spotify-dataset.zip\n",
        "!unzip /content/spotify-song-tracks.zip\n",
        "!unzip /content/music-albums-popularity-prediction.zip\n",
        "!unzip /content/tiktok-popular-songs-2019\n",
        "!unzip /content/tiktok-popular-songs-2020\n",
        "!unzip /content/tiktok-popular-songs-2021"
      ]
    },
    {
      "cell_type": "code",
      "execution_count": 8,
      "metadata": {
        "id": "5AlyHOELYRnS",
        "colab": {
          "base_uri": "https://localhost:8080/"
        },
        "outputId": "cccb16e9-f305-4285-ef9c-7c4b3d108976"
      },
      "outputs": [
        {
          "output_type": "stream",
          "name": "stdout",
          "text": [
            "rm: cannot remove 'sample_data/*': No such file or directory\n",
            "rm: cannot remove 'sample_data': No such file or directory\n"
          ]
        }
      ],
      "source": [
        "# Clean up directory to save space\n",
        "!rm sample_data/*\n",
        "!rm -d sample_data\n",
        "!rm ./*.zip\n",
        "!rm sample_solution.csv\n",
        "!rm ./*.xlsx"
      ]
    },
    {
      "cell_type": "code",
      "execution_count": 9,
      "metadata": {
        "id": "dEbMv8CEQMJG"
      },
      "outputs": [],
      "source": [
        "# Read the csv files and save them to pandas dataframes\n",
        "df_charts = pd.read_csv('charts.csv')\n",
        "df_song_features_1 = pd.read_csv('tracks_features.csv')\n",
        "df_song_features_2 = pd.read_csv('Spotify 2010 - 2019 Top 100.csv')\n",
        "df_song_features_3 = pd.read_csv('spotify_dataset.csv')\n",
        "df_song_features_4 = pd.read_csv('dataset.csv')\n",
        "df_song_features_5 = pd.read_csv('data/data.csv')\n",
        "df_song_features_6 = pd.read_csv('SpotifyFeatures.csv')\n",
        "df_song_features_7 = pd.read_csv('train.csv')\n",
        "df_song_features_10 = pd.read_csv('test.csv')\n",
        "df_tiktok_19 = pd.read_csv('TikTok_songs_2019.csv')\n",
        "df_tiktok_20 = pd.read_csv('TikTok_songs_2020.csv')\n",
        "df_tiktok_21 = pd.read_csv('TikTok_songs_2021.csv')"
      ]
    },
    {
      "cell_type": "code",
      "execution_count": 10,
      "metadata": {
        "colab": {
          "base_uri": "https://localhost:8080/"
        },
        "id": "C1epbANjRnzN",
        "outputId": "16e9bd80-3b4d-4044-8a3e-5c749cf4c2c5"
      },
      "outputs": [
        {
          "output_type": "stream",
          "name": "stdout",
          "text": [
            "Drive already mounted at /content/drive; to attempt to forcibly remount, call drive.mount(\"/content/drive\", force_remount=True).\n"
          ]
        }
      ],
      "source": [
        "from google.colab import drive\n",
        "drive.mount('/content/drive')"
      ]
    },
    {
      "cell_type": "code",
      "execution_count": 11,
      "metadata": {
        "id": "NsiSHzoWYAfn"
      },
      "outputs": [],
      "source": [
        "# Clean up remaining files\n",
        "!rm data/*\n",
        "!rm -d data\n",
        "!rm ./*.csv"
      ]
    },
    {
      "cell_type": "markdown",
      "metadata": {
        "id": "5Hmg7zVxaI-6"
      },
      "source": [
        "# Spotify Top 200 and Viral 50 Charts EDA"
      ]
    },
    {
      "cell_type": "code",
      "execution_count": 12,
      "metadata": {
        "id": "Kv90Vf_y_d_M"
      },
      "outputs": [],
      "source": [
        "# Create a separate column for Year\n",
        "df_charts['Year']=df_charts['date'].str.slice(stop=4)\n",
        "\n",
        "# Cast 'Year' as Int\n",
        "df_charts['Year'] = df_charts['Year'].astype(int)\n",
        "\n",
        "# Show datatypes \n",
        "df_charts.dtypes\n",
        "\n",
        "#remove ID, trend and streams columns\n",
        "df_charts.drop(['url', 'trend', 'streams'], axis=1, inplace=True)\n",
        "\n",
        "df_charts.dropna(inplace=True)"
      ]
    },
    {
      "cell_type": "code",
      "execution_count": 13,
      "metadata": {
        "id": "gJnMPf5uE4gp"
      },
      "outputs": [],
      "source": [
        "# Number of record per year\n",
        "df_charts.groupby(by='Year').count()"
      ]
    },
    {
      "cell_type": "code",
      "execution_count": 14,
      "metadata": {
        "id": "qPnsptwJI-qg"
      },
      "outputs": [],
      "source": [
        "# Remore records with year 2017 and 2018\n",
        "df_charts=df_charts[df_charts['Year'] > 2018]"
      ]
    },
    {
      "cell_type": "code",
      "execution_count": 15,
      "metadata": {
        "id": "DQX18QK4JEPf"
      },
      "outputs": [],
      "source": [
        "df_charts.groupby(by='Year').count()"
      ]
    },
    {
      "cell_type": "code",
      "execution_count": 16,
      "metadata": {
        "id": "rSWbSPjhGHTM"
      },
      "outputs": [],
      "source": [
        "df_charts.groupby(by='Year').count()"
      ]
    },
    {
      "cell_type": "code",
      "execution_count": 17,
      "metadata": {
        "id": "Q9a2ZRHIGQ74"
      },
      "outputs": [],
      "source": [
        "query = \"\"\"SELECT artist, count(date) as 'days as number 1'\n",
        "FROM df_charts\n",
        "WHERE rank == 1\n",
        "GROUP BY artist\n",
        "ORDER BY count(date) DESC\n",
        "LIMIT 50\n",
        "\"\"\"\n",
        "\n",
        "sql_top_50_artists = ps.sqldf(query, locals())"
      ]
    },
    {
      "cell_type": "code",
      "execution_count": 18,
      "metadata": {
        "id": "stIirPTbGUkK"
      },
      "outputs": [],
      "source": [
        "sql_top_50_artists"
      ]
    },
    {
      "cell_type": "code",
      "execution_count": 19,
      "metadata": {
        "id": "R-IYyMNZGZzl"
      },
      "outputs": [],
      "source": [
        "query = \"\"\"SELECT title, count(date) as 'days as number 1'\n",
        "FROM df_charts\n",
        "WHERE rank == 1\n",
        "GROUP BY title\n",
        "ORDER BY count(date) DESC\n",
        "LIMIT 50\n",
        "\"\"\"\n",
        "\n",
        "sql_top_50_songs = ps.sqldf(query, locals())"
      ]
    },
    {
      "cell_type": "code",
      "execution_count": 20,
      "metadata": {
        "id": "iWilb77mGall"
      },
      "outputs": [],
      "source": [
        "sql_top_50_songs"
      ]
    },
    {
      "cell_type": "markdown",
      "metadata": {
        "id": "mfi4tbmeaYPc"
      },
      "source": [
        "# Spotify Audio Feature Dataset EDA\n",
        "\n",
        "Since the Spotify Top 200 and Viral 50 charts dataset does not come with audio features the songs, there is no guarantee that we can find datasets that include audio features for all of the songs in the charts. One relevant question to explore is therefore\n",
        "\n",
        "1. Can we find audio feature data for a suitably \"big\" fraction of the songs in the Charts dataset?\n",
        "\n",
        "Additionally, since we'll be combining multiple audio features datasets, there is no guarantee that those datasets share the same features, so\n",
        "\n",
        "2. What fields do the datasets share?"
      ]
    },
    {
      "cell_type": "code",
      "source": [
        "# First, since we want to find song features for as many of the songs in 'df_charts' as possible, let's start by\n",
        "# projecting df_charts by song title and artist name, which will uniquely identify each song, and then dropping duplicates\n",
        "df_charts_songs_artists = df_charts[['title', 'artist']].drop_duplicates()\n",
        "\n",
        "# Next, let's join the features datasets on song title and artist name and see what percentage of songs in charts_df\n",
        "# each song features dataset can provide features for\n",
        "\n",
        "# Clean extranneous characters from artist columns if necessary\n",
        "df_song_features_1['artists'] = df_song_features_1['artists'].str.replace('[', '').str.replace(']', '').str.replace(\"'\", '')\n",
        "df_song_features_5['artists'] = df_song_features_5['artists'].str.replace('[', '').str.replace(']', '').str.replace(\"'\", '')\n",
        "df_song_features_7['artists'] = df_song_features_7['artists'].str.replace(', ', '')\n",
        "df_song_features_10['artists'] = df_song_features_10['artists'].str.replace(', ', '')"
      ],
      "metadata": {
        "id": "zLjoplKkLYD2"
      },
      "execution_count": 21,
      "outputs": []
    },
    {
      "cell_type": "code",
      "execution_count": 22,
      "metadata": {
        "colab": {
          "base_uri": "https://localhost:8080/"
        },
        "id": "es9cOCyBb6IW",
        "outputId": "b5c828d2-036b-46b7-f62f-73d3e8616280"
      },
      "outputs": [
        {
          "output_type": "stream",
          "name": "stdout",
          "text": [
            "We are able to provide audio features for 16.48% of songs in df_charts, for a total of 18950 out of 115014 songs\n"
          ]
        }
      ],
      "source": [
        "# Rename song title \"title\" and \"artist\" columns in each dataframe and \n",
        "# create separate dataframes for features_7 and features_10, which each have three columns for each field for three different songs\n",
        "df_song_features_1 = df_song_features_1.rename(columns={'name': 'title', 'artists': 'artist'})\n",
        "# _song_features_2 already has fields 'title' and 'artist'\n",
        "df_song_features_3 = df_song_features_3.rename(columns={'Song Name': 'title', 'Artist': 'artist'})\n",
        "df_song_features_4 = df_song_features_4.rename(columns={'track_name': 'title', 'artists': 'artist'})\n",
        "df_song_features_5 = df_song_features_5.rename(columns={'name': 'title', 'artists': 'artist'})\n",
        "df_song_features_6 = df_song_features_6.rename(columns={'track_name': 'title', 'artist_name': 'artist'})\n",
        "df_song_features_8 = df_song_features_7.rename(columns={'t_name1': 'title', 'artists': 'artist'}).drop(columns=['t_name0', 't_name2', 't_dur0', 't_dur2', 't_dance0', 't_dance2', 't_energy0', 't_energy2', 't_key0', 't_key2', 't_mode0', 't_mode2', 't_speech0', 't_speech2', 't_acous0', 't_acous2', 't_ins0', 't_ins2', 't_live0', 't_live2', 't_val0', 't_val2', 't_tempo0', 't_tempo2', 't_sig0', 't_sig2'])\n",
        "df_song_features_9 = df_song_features_7.rename(columns={'t_name2': 'title', 'artists': 'artist'}).drop(columns=['t_name0', 't_name1', 't_dur0', 't_dur1', 't_dance0', 't_dance1', 't_energy0', 't_energy1', 't_key0', 't_key1', 't_mode0', 't_mode1', 't_speech0', 't_speech1', 't_acous0', 't_acous1', 't_ins0', 't_ins1', 't_live0', 't_live1', 't_val0', 't_val1', 't_tempo0', 't_tempo1', 't_sig0', 't_sig1'])\n",
        "df_song_features_7 = df_song_features_7.rename(columns={'t_name0': 'title', 'artists': 'artist'}).drop(columns=['t_name1', 't_name2', 't_dur1', 't_dur2', 't_dance1', 't_dance2', 't_energy1', 't_energy2', 't_key1', 't_key2', 't_mode1', 't_mode2', 't_speech1', 't_speech2', 't_acous1', 't_acous2', 't_ins1', 't_ins2', 't_live1', 't_live2', 't_val1', 't_val2', 't_tempo1', 't_tempo2', 't_sig1', 't_sig2'])\n",
        "df_song_features_11 = df_song_features_10.rename(columns={'t_name1': 'title', 'artists': 'artist'}).drop(columns=['t_name0', 't_name2', 't_dur0', 't_dur2', 't_dance0', 't_dance2', 't_energy0', 't_energy2', 't_key0', 't_key2', 't_mode0', 't_mode2', 't_speech0', 't_speech2', 't_acous0', 't_acous2', 't_ins0', 't_ins2', 't_live0', 't_live2', 't_val0', 't_val2', 't_tempo0', 't_tempo2', 't_sig0', 't_sig2'])\n",
        "df_song_features_12 = df_song_features_10.rename(columns={'t_name2': 'title', 'artists': 'artist'}).drop(columns=['t_name0', 't_name1', 't_dur0', 't_dur1', 't_dance0', 't_dance1', 't_energy0', 't_energy1', 't_key0', 't_key1', 't_mode0', 't_mode1', 't_speech0', 't_speech1', 't_acous0', 't_acous1', 't_ins0', 't_ins1', 't_live0', 't_live1', 't_val0', 't_val1', 't_tempo0', 't_tempo1', 't_sig0', 't_sig1'])\n",
        "df_song_features_10 = df_song_features_10.rename(columns={'t_name0': 'title', 'artists': 'artist'}).drop(columns=['t_name1', 't_name2', 't_dur1', 't_dur2', 't_dance1', 't_dance2', 't_energy1', 't_energy2', 't_key1', 't_key2', 't_mode1', 't_mode2', 't_speech1', 't_speech2', 't_acous1', 't_acous2', 't_ins1', 't_ins2', 't_live1', 't_live2', 't_val1', 't_val2', 't_tempo1', 't_tempo2', 't_sig1', 't_sig2'])\n",
        "\n",
        "# Project only the necessary columns from each feature dataset and also rename to maintain consistency\n",
        "features_1_projected = df_song_features_1[['title', 'artist']]\n",
        "features_2_projected = df_song_features_2[['title', 'artist']]\n",
        "features_3_projected = df_song_features_3[['title', 'artist']]\n",
        "features_4_projected = df_song_features_4[['title', 'artist']]\n",
        "features_5_projected = df_song_features_5[['title', 'artist']]\n",
        "features_6_projected = df_song_features_6[['title', 'artist']]\n",
        "features_7_projected = df_song_features_7[['title', 'artist']]\n",
        "features_8_projected = df_song_features_8[['title', 'artist']]\n",
        "features_9_projected = df_song_features_9[['title', 'artist']]\n",
        "features_10_projected = df_song_features_10[['title', 'artist']]\n",
        "features_11_projected = df_song_features_11[['title', 'artist']]\n",
        "features_12_projected = df_song_features_12[['title', 'artist']]\n",
        "all_songs_with_features = pd.concat([features_1_projected, features_2_projected, features_3_projected, features_4_projected, \n",
        "                                     features_5_projected, features_6_projected, features_7_projected, features_8_projected, \n",
        "                                     features_9_projected, features_10_projected, features_11_projected, features_12_projected], ignore_index=True).drop_duplicates()\n",
        "\n",
        "# Join on song title and artist name\n",
        "feature_matches = pd.merge(df_charts_songs_artists, all_songs_with_features, on=['title', 'artist'], how='inner')\n",
        "\n",
        "# Calculate the percentage of songs each features dataset was able to provide song features for\n",
        "match_percentage_combined = 100 * feature_matches.shape[0] / df_charts_songs_artists.shape[0]\n",
        "print(\"We are able to provide audio features for \" + str(round(match_percentage_combined,2)) + \"% of songs in df_charts,\"\\\n",
        "      \" for a total of \" + str(feature_matches.shape[0]) + \" out of \" + str(df_charts_songs_artists.shape[0]) + \" songs\")"
      ]
    },
    {
      "cell_type": "markdown",
      "metadata": {
        "id": "VWfoMYNn0xcx"
      },
      "source": [
        "Lets now see whether we can do any additional cleaning to boost our match percentage. Since there are many obscure songs in df_charts that have, say, reached chart position 200 in small countries like Latvia and Ecuador, let us limit our search to songs that charted highly in the United States, and see if any of those songs were unmatched in the features data"
      ]
    },
    {
      "cell_type": "code",
      "execution_count": 23,
      "metadata": {
        "id": "5AAL49Tp0xcx",
        "colab": {
          "base_uri": "https://localhost:8080/",
          "height": 241
        },
        "outputId": "8ce91909-adc6-4ca4-c89a-b5a40646f471"
      },
      "outputs": [
        {
          "output_type": "stream",
          "name": "stderr",
          "text": [
            "<ipython-input-23-b56ed4472038>:1: UserWarning: Boolean Series key will be reindexed to match DataFrame index.\n",
            "  non_matches = pd.merge(df_charts[df_charts['rank'] > 10][df_charts['region'] == 'United States'][['title', 'artist']],\n"
          ]
        },
        {
          "output_type": "execute_result",
          "data": {
            "text/plain": [
              "                                title                     artist     _merge\n",
              "23   Walk Em Down (feat. Roddy Ricch)    Roddy Ricch, NLE Choppa  left_only\n",
              "53                  Social Distancing                   Lil Baby  left_only\n",
              "58                             Coffee  Quinn XCII, Marc E. Bassy  left_only\n",
              "73       Eleven (feat. Summer Walker)                     Khalid  left_only\n",
              "121                          Low Down                   Lil Baby  left_only"
            ],
            "text/html": [
              "\n",
              "  <div id=\"df-3bf554b0-5e45-41f1-88d5-ce51898f7b32\">\n",
              "    <div class=\"colab-df-container\">\n",
              "      <div>\n",
              "<style scoped>\n",
              "    .dataframe tbody tr th:only-of-type {\n",
              "        vertical-align: middle;\n",
              "    }\n",
              "\n",
              "    .dataframe tbody tr th {\n",
              "        vertical-align: top;\n",
              "    }\n",
              "\n",
              "    .dataframe thead th {\n",
              "        text-align: right;\n",
              "    }\n",
              "</style>\n",
              "<table border=\"1\" class=\"dataframe\">\n",
              "  <thead>\n",
              "    <tr style=\"text-align: right;\">\n",
              "      <th></th>\n",
              "      <th>title</th>\n",
              "      <th>artist</th>\n",
              "      <th>_merge</th>\n",
              "    </tr>\n",
              "  </thead>\n",
              "  <tbody>\n",
              "    <tr>\n",
              "      <th>23</th>\n",
              "      <td>Walk Em Down (feat. Roddy Ricch)</td>\n",
              "      <td>Roddy Ricch, NLE Choppa</td>\n",
              "      <td>left_only</td>\n",
              "    </tr>\n",
              "    <tr>\n",
              "      <th>53</th>\n",
              "      <td>Social Distancing</td>\n",
              "      <td>Lil Baby</td>\n",
              "      <td>left_only</td>\n",
              "    </tr>\n",
              "    <tr>\n",
              "      <th>58</th>\n",
              "      <td>Coffee</td>\n",
              "      <td>Quinn XCII, Marc E. Bassy</td>\n",
              "      <td>left_only</td>\n",
              "    </tr>\n",
              "    <tr>\n",
              "      <th>73</th>\n",
              "      <td>Eleven (feat. Summer Walker)</td>\n",
              "      <td>Khalid</td>\n",
              "      <td>left_only</td>\n",
              "    </tr>\n",
              "    <tr>\n",
              "      <th>121</th>\n",
              "      <td>Low Down</td>\n",
              "      <td>Lil Baby</td>\n",
              "      <td>left_only</td>\n",
              "    </tr>\n",
              "  </tbody>\n",
              "</table>\n",
              "</div>\n",
              "      <button class=\"colab-df-convert\" onclick=\"convertToInteractive('df-3bf554b0-5e45-41f1-88d5-ce51898f7b32')\"\n",
              "              title=\"Convert this dataframe to an interactive table.\"\n",
              "              style=\"display:none;\">\n",
              "        \n",
              "  <svg xmlns=\"http://www.w3.org/2000/svg\" height=\"24px\"viewBox=\"0 0 24 24\"\n",
              "       width=\"24px\">\n",
              "    <path d=\"M0 0h24v24H0V0z\" fill=\"none\"/>\n",
              "    <path d=\"M18.56 5.44l.94 2.06.94-2.06 2.06-.94-2.06-.94-.94-2.06-.94 2.06-2.06.94zm-11 1L8.5 8.5l.94-2.06 2.06-.94-2.06-.94L8.5 2.5l-.94 2.06-2.06.94zm10 10l.94 2.06.94-2.06 2.06-.94-2.06-.94-.94-2.06-.94 2.06-2.06.94z\"/><path d=\"M17.41 7.96l-1.37-1.37c-.4-.4-.92-.59-1.43-.59-.52 0-1.04.2-1.43.59L10.3 9.45l-7.72 7.72c-.78.78-.78 2.05 0 2.83L4 21.41c.39.39.9.59 1.41.59.51 0 1.02-.2 1.41-.59l7.78-7.78 2.81-2.81c.8-.78.8-2.07 0-2.86zM5.41 20L4 18.59l7.72-7.72 1.47 1.35L5.41 20z\"/>\n",
              "  </svg>\n",
              "      </button>\n",
              "      \n",
              "  <style>\n",
              "    .colab-df-container {\n",
              "      display:flex;\n",
              "      flex-wrap:wrap;\n",
              "      gap: 12px;\n",
              "    }\n",
              "\n",
              "    .colab-df-convert {\n",
              "      background-color: #E8F0FE;\n",
              "      border: none;\n",
              "      border-radius: 50%;\n",
              "      cursor: pointer;\n",
              "      display: none;\n",
              "      fill: #1967D2;\n",
              "      height: 32px;\n",
              "      padding: 0 0 0 0;\n",
              "      width: 32px;\n",
              "    }\n",
              "\n",
              "    .colab-df-convert:hover {\n",
              "      background-color: #E2EBFA;\n",
              "      box-shadow: 0px 1px 2px rgba(60, 64, 67, 0.3), 0px 1px 3px 1px rgba(60, 64, 67, 0.15);\n",
              "      fill: #174EA6;\n",
              "    }\n",
              "\n",
              "    [theme=dark] .colab-df-convert {\n",
              "      background-color: #3B4455;\n",
              "      fill: #D2E3FC;\n",
              "    }\n",
              "\n",
              "    [theme=dark] .colab-df-convert:hover {\n",
              "      background-color: #434B5C;\n",
              "      box-shadow: 0px 1px 3px 1px rgba(0, 0, 0, 0.15);\n",
              "      filter: drop-shadow(0px 1px 2px rgba(0, 0, 0, 0.3));\n",
              "      fill: #FFFFFF;\n",
              "    }\n",
              "  </style>\n",
              "\n",
              "      <script>\n",
              "        const buttonEl =\n",
              "          document.querySelector('#df-3bf554b0-5e45-41f1-88d5-ce51898f7b32 button.colab-df-convert');\n",
              "        buttonEl.style.display =\n",
              "          google.colab.kernel.accessAllowed ? 'block' : 'none';\n",
              "\n",
              "        async function convertToInteractive(key) {\n",
              "          const element = document.querySelector('#df-3bf554b0-5e45-41f1-88d5-ce51898f7b32');\n",
              "          const dataTable =\n",
              "            await google.colab.kernel.invokeFunction('convertToInteractive',\n",
              "                                                     [key], {});\n",
              "          if (!dataTable) return;\n",
              "\n",
              "          const docLinkHtml = 'Like what you see? Visit the ' +\n",
              "            '<a target=\"_blank\" href=https://colab.research.google.com/notebooks/data_table.ipynb>data table notebook</a>'\n",
              "            + ' to learn more about interactive tables.';\n",
              "          element.innerHTML = '';\n",
              "          dataTable['output_type'] = 'display_data';\n",
              "          await google.colab.output.renderOutput(dataTable, element);\n",
              "          const docLink = document.createElement('div');\n",
              "          docLink.innerHTML = docLinkHtml;\n",
              "          element.appendChild(docLink);\n",
              "        }\n",
              "      </script>\n",
              "    </div>\n",
              "  </div>\n",
              "  "
            ]
          },
          "metadata": {},
          "execution_count": 23
        }
      ],
      "source": [
        "non_matches = pd.merge(df_charts[df_charts['rank'] > 10][df_charts['region'] == 'United States'][['title', 'artist']], \n",
        "                                  all_songs_with_features, on=['title', 'artist'], how='left', indicator=True).drop_duplicates()\n",
        "non_matches = non_matches[non_matches['_merge'] == 'left_only']\n",
        "non_matches.head()"
      ]
    },
    {
      "cell_type": "code",
      "execution_count": 24,
      "metadata": {
        "id": "AAkQD5ey0xcx",
        "colab": {
          "base_uri": "https://localhost:8080/"
        },
        "outputId": "925c5fe8-222a-4b6e-bdff-7564a75c33e4"
      },
      "outputs": [
        {
          "output_type": "stream",
          "name": "stdout",
          "text": [
            "                                   title                   artist\n",
            "991025  Walk Em Down (feat. Roddy Ricch)  NLE Choppa, Roddy Ricch\n"
          ]
        }
      ],
      "source": [
        "# Does all_songs_with_features contain any of these songs but perhaps with a different format for title and artist?\n",
        "print(all_songs_with_features[all_songs_with_features['artist'] == 'NLE Choppa, Roddy Ricch'])"
      ]
    },
    {
      "cell_type": "markdown",
      "metadata": {
        "id": "ixpQ3cAq0xcx"
      },
      "source": [
        "This suggests that when there is a featured artist, the ordering of the artist names in the features datasets may be the opposite of the ordering in the charts dataset. Lets look at the other row with a featured artist."
      ]
    },
    {
      "cell_type": "code",
      "execution_count": 25,
      "metadata": {
        "id": "qdEeJDPN0xcx",
        "colab": {
          "base_uri": "https://localhost:8080/"
        },
        "outputId": "b9e824ad-d2a9-4b3e-9555-7339d4e7bb63"
      },
      "outputs": [
        {
          "output_type": "stream",
          "name": "stdout",
          "text": [
            "                                title                 artist\n",
            "1111433  Eleven (feat. Summer Walker)  Khalid, Summer Walker\n"
          ]
        }
      ],
      "source": [
        "print(all_songs_with_features[all_songs_with_features['artist'] == \"Khalid, Summer Walker\"])"
      ]
    },
    {
      "cell_type": "markdown",
      "metadata": {
        "id": "mYxPCiZ00xcx"
      },
      "source": [
        "In this case, the featured artist is not included in the 'artist' column in the charts dataset, but is in the features datasets. In joins so far, we have been joining on 'artist' and 'title' to be sure to uniquely identify each song. But since these songs with featured artists have varying formats in the 'artist' column, but the same format in the 'title' column, and since they are sure to be uniquely identified just by song title, let us try to filter by songs that have \"(feat. \" in their title, and join the charts and features datasets on 'title'."
      ]
    },
    {
      "cell_type": "code",
      "execution_count": 26,
      "metadata": {
        "id": "kvySHSIt0xcy",
        "colab": {
          "base_uri": "https://localhost:8080/"
        },
        "outputId": "e1da37f3-e077-4797-d79a-d07cb805db25"
      },
      "outputs": [
        {
          "output_type": "stream",
          "name": "stdout",
          "text": [
            "We are able to provide audio features for 17.86% of songs in df_charts, for a total of 20544 out of 115014 songs\n"
          ]
        }
      ],
      "source": [
        "charts_featured = df_charts_songs_artists[df_charts_songs_artists['title'].str.contains(\"\\(feat\\. \")][['title', 'artist']]\n",
        "featured_feature_matches = pd.merge(charts_featured, all_songs_with_features, on=['title'], how='inner').drop_duplicates(subset='title')\n",
        "featured_feature_matches.drop(columns=['artist_x'], inplace=True)\n",
        "featured_feature_matches.rename(columns={'artist_y': 'artist'}, inplace=True)\n",
        "feature_matches = pd.concat([feature_matches, featured_feature_matches], ignore_index=True).drop_duplicates()\n",
        "match_percentage_combined = 100 * feature_matches.shape[0] / df_charts_songs_artists.shape[0]\n",
        "print(\"We are able to provide audio features for \" + str(round(match_percentage_combined,2)) + \"% of songs in df_charts,\"\\\n",
        "      \" for a total of \" + str(feature_matches.shape[0]) + \" out of \" + str(df_charts_songs_artists.shape[0]) + \" songs\")"
      ]
    },
    {
      "cell_type": "markdown",
      "metadata": {
        "id": "j-MiLcop0xcy"
      },
      "source": [
        "Next, lets see what columns each of the features datasets share, and create one unified features dataset."
      ]
    },
    {
      "cell_type": "code",
      "source": [
        "print([col for col in df_song_features_1.columns])\n",
        "print([col for col in df_song_features_2.columns])\n",
        "print([col for col in df_song_features_3.columns])\n",
        "print([col for col in df_song_features_4.columns])\n",
        "print([col for col in df_song_features_5.columns])\n",
        "print([col for col in df_song_features_6.columns])\n",
        "print([col for col in df_song_features_7.columns])\n",
        "print([col for col in df_song_features_8.columns])\n",
        "print([col for col in df_song_features_9.columns])\n",
        "print([col for col in df_song_features_10.columns])\n",
        "print([col for col in df_song_features_11.columns])\n",
        "print([col for col in df_song_features_12.columns])"
      ],
      "metadata": {
        "colab": {
          "base_uri": "https://localhost:8080/"
        },
        "id": "lMiBMVWZD4xt",
        "outputId": "c6eaa39a-7801-4184-f36f-d7826b568fde"
      },
      "execution_count": 27,
      "outputs": [
        {
          "output_type": "stream",
          "name": "stdout",
          "text": [
            "['id', 'title', 'album', 'album_id', 'artist', 'artist_ids', 'track_number', 'disc_number', 'explicit', 'danceability', 'energy', 'key', 'loudness', 'mode', 'speechiness', 'acousticness', 'instrumentalness', 'liveness', 'valence', 'tempo', 'duration_ms', 'time_signature', 'year', 'release_date']\n",
            "['title', 'artist', 'top genre', 'year released', 'added', 'bpm', 'nrgy', 'dnce', 'dB', 'live', 'val', 'dur', 'acous', 'spch', 'pop', 'top year', 'artist type']\n",
            "['Index', 'Highest Charting Position', 'Number of Times Charted', 'Week of Highest Charting', 'title', 'Streams', 'artist', 'Artist Followers', 'Song ID', 'Genre', 'Release Date', 'Weeks Charted', 'Popularity', 'Danceability', 'Energy', 'Loudness', 'Speechiness', 'Acousticness', 'Liveness', 'Tempo', 'Duration (ms)', 'Valence', 'Chord']\n",
            "['Unnamed: 0', 'track_id', 'artist', 'album_name', 'title', 'popularity', 'duration_ms', 'explicit', 'danceability', 'energy', 'key', 'loudness', 'mode', 'speechiness', 'acousticness', 'instrumentalness', 'liveness', 'valence', 'tempo', 'time_signature', 'track_genre']\n",
            "['valence', 'year', 'acousticness', 'artist', 'danceability', 'duration_ms', 'energy', 'explicit', 'id', 'instrumentalness', 'key', 'liveness', 'loudness', 'mode', 'title', 'popularity', 'release_date', 'speechiness', 'tempo']\n",
            "['genre', 'artist', 'title', 'track_id', 'popularity', 'acousticness', 'danceability', 'duration_ms', 'energy', 'instrumentalness', 'key', 'liveness', 'loudness', 'mode', 'speechiness', 'tempo', 'time_signature', 'valence']\n",
            "['id', 'name', 'release_date', 'artist', 'total_tracks', 'title', 't_dur0', 't_dance0', 't_energy0', 't_key0', 't_mode0', 't_speech0', 't_acous0', 't_ins0', 't_live0', 't_val0', 't_tempo0', 't_sig0', 'popularity']\n",
            "['id', 'name', 'release_date', 'artist', 'total_tracks', 'title', 't_dur1', 't_dance1', 't_energy1', 't_key1', 't_mode1', 't_speech1', 't_acous1', 't_ins1', 't_live1', 't_val1', 't_tempo1', 't_sig1', 'popularity']\n",
            "['id', 'name', 'release_date', 'artist', 'total_tracks', 'title', 't_dur2', 't_dance2', 't_energy2', 't_key2', 't_mode2', 't_speech2', 't_acous2', 't_ins2', 't_live2', 't_val2', 't_tempo2', 't_sig2', 'popularity']\n",
            "['id', 'name', 'release_date', 'artist', 'total_tracks', 'title', 't_dur0', 't_dance0', 't_energy0', 't_key0', 't_mode0', 't_speech0', 't_acous0', 't_ins0', 't_live0', 't_val0', 't_tempo0', 't_sig0']\n",
            "['id', 'name', 'release_date', 'artist', 'total_tracks', 'title', 't_dur1', 't_dance1', 't_energy1', 't_key1', 't_mode1', 't_speech1', 't_acous1', 't_ins1', 't_live1', 't_val1', 't_tempo1', 't_sig1']\n",
            "['id', 'name', 'release_date', 'artist', 'total_tracks', 'title', 't_dur2', 't_dance2', 't_energy2', 't_key2', 't_mode2', 't_speech2', 't_acous2', 't_ins2', 't_live2', 't_val2', 't_tempo2', 't_sig2']\n"
          ]
        }
      ]
    },
    {
      "cell_type": "markdown",
      "source": [
        "Common columns:\n",
        "\n",
        "title, artist, tempo, energy, danceability, liveness, valence, duration, acousticness, speechiness"
      ],
      "metadata": {
        "id": "e3RIRHuiRq0E"
      }
    },
    {
      "cell_type": "code",
      "source": [
        "features_1_drop_cols = ['loudness', 'album', 'id', 'album_id', 'artist_ids', 'track_number', 'disc_number', 'explicit', 'key', 'mode', 'instrumentalness', 'time_signature', 'year', 'release_date']\n",
        "features_2_drop_cols = ['dB', 'year released', 'added', 'pop', 'top year', 'artist type', 'top genre']\n",
        "features_3_drop_cols = ['Chord', 'Loudness', 'Index', 'Highest Charting Position', 'Number of Times Charted', 'Week of Highest Charting', 'Streams', 'Artist Followers', 'Song ID', 'Genre', 'Release Date', 'Weeks Charted', 'Popularity']\n",
        "features_4_drop_cols = ['loudness', 'Unnamed: 0', 'track_id', 'album_name', 'popularity', 'explicit', 'key', 'mode', 'instrumentalness', 'time_signature', 'track_genre']\n",
        "features_5_drop_cols = ['loudness', 'year', 'explicit', 'id', 'instrumentalness', 'key', 'mode', 'popularity', 'release_date']\n",
        "features_6_drop_cols = ['loudness', 'genre', 'track_id', 'popularity', 'instrumentalness', 'key', 'mode', 'time_signature']\n",
        "features_7_drop_cols = ['id', 'name', 'release_date', 'total_tracks', 't_key0', 't_mode0', 't_ins0', 't_sig0', 'popularity']\n",
        "features_8_drop_cols = ['id', 'name', 'release_date', 'total_tracks', 't_key1', 't_mode1', 't_ins1', 't_sig1', 'popularity']\n",
        "features_9_drop_cols = ['id', 'name', 'release_date', 'total_tracks', 't_key2', 't_mode2', 't_ins2', 't_sig2', 'popularity']\n",
        "features_10_drop_cols = ['id', 'name', 'release_date', 'total_tracks', 't_key0', 't_mode0', 't_ins0', 't_sig0']\n",
        "features_11_drop_cols = ['id', 'name', 'release_date', 'total_tracks', 't_key1', 't_mode1', 't_ins1', 't_sig1']\n",
        "features_12_drop_cols = ['id', 'name', 'release_date', 'total_tracks', 't_key2', 't_mode2', 't_ins2', 't_sig2']\n",
        "\n",
        "features_2_rename_map = {'bpm': 'tempo', 'nrgy': 'energy', 'dnce': 'danceability', 'live': 'liveness', 'val': 'valence', 'dur': 'duration_ms', 'acous': 'acousticness', 'spch': 'speechiness'}\n",
        "features_3_rename_map = {'Danceability': 'danceability', 'Energy': 'energy', 'Speechiness': 'speechiness', 'Acousticness': 'acousticness', 'Liveness': 'liveness', 'Tempo': 'tempo', 'Duration (ms)': 'duration_ms', 'Valence': 'valence'}\n",
        "features_7_rename_map = {'t_dance0': 'danceability', 't_energy0': 'energy', 't_speech0': 'speechiness', 't_acous0': 'acousticness', 't_live0': 'liveness', 't_tempo0': 'tempo', 't_dur0': 'duration_ms', 't_val0': 'valence'}\n",
        "features_8_rename_map = {'t_dance1': 'danceability', 't_energy1': 'energy', 't_speech1': 'speechiness', 't_acous1': 'acousticness', 't_live1': 'liveness', 't_tempo1': 'tempo', 't_dur1': 'duration_ms', 't_val1': 'valence'}\n",
        "features_9_rename_map = {'t_dance2': 'danceability', 't_energy2': 'energy', 't_speech2': 'speechiness', 't_acous2': 'acousticness', 't_live2': 'liveness', 't_tempo2': 'tempo', 't_dur2': 'duration_ms', 't_val2': 'valence'}\n",
        "features_10_rename_map = {'t_dance0': 'danceability', 't_energy0': 'energy', 't_speech0': 'speechiness', 't_acous0': 'acousticness', 't_live0': 'liveness', 't_tempo0': 'tempo', 't_dur0': 'duration_ms', 't_val0': 'valence'}\n",
        "features_11_rename_map = {'t_dance1': 'danceability', 't_energy1': 'energy', 't_speech1': 'speechiness', 't_acous1': 'acousticness', 't_live1': 'liveness', 't_tempo1': 'tempo', 't_dur1': 'duration_ms', 't_val1': 'valence'}\n",
        "features_12_rename_map = {'t_dance2': 'danceability', 't_energy2': 'energy', 't_speech2': 'speechiness', 't_acous2': 'acousticness', 't_live2': 'liveness', 't_tempo2': 'tempo', 't_dur2': 'duration_ms', 't_val2': 'valence'}\n",
        "\n",
        "df_song_features_1 = df_song_features_1.drop(columns=features_1_drop_cols)\n",
        "df_song_features_2 = df_song_features_2.drop(columns=features_2_drop_cols).rename(columns=features_2_rename_map)\n",
        "df_song_features_3 = df_song_features_3.drop(columns=features_3_drop_cols).rename(columns=features_3_rename_map)\n",
        "df_song_features_4 = df_song_features_4.drop(columns=features_4_drop_cols)\n",
        "df_song_features_5 = df_song_features_5.drop(columns=features_5_drop_cols)\n",
        "df_song_features_6 = df_song_features_6.drop(columns=features_6_drop_cols)\n",
        "df_song_features_7 = df_song_features_7.drop(columns=features_7_drop_cols).rename(columns=features_7_rename_map)\n",
        "df_song_features_8 = df_song_features_8.drop(columns=features_8_drop_cols).rename(columns=features_8_rename_map)    \n",
        "df_song_features_9 = df_song_features_9.drop(columns=features_9_drop_cols).rename(columns=features_9_rename_map)\n",
        "df_song_features_10 = df_song_features_10.drop(columns=features_10_drop_cols).rename(columns=features_10_rename_map)\n",
        "df_song_features_11 = df_song_features_11.drop(columns=features_11_drop_cols).rename(columns=features_11_rename_map)\n",
        "df_song_features_12 = df_song_features_12.drop(columns=features_12_drop_cols).rename(columns=features_12_rename_map)"
      ],
      "metadata": {
        "id": "nbIKYoFzPD4e"
      },
      "execution_count": 31,
      "outputs": []
    },
    {
      "cell_type": "markdown",
      "source": [
        "Check that all features dataframes have the same columns now:"
      ],
      "metadata": {
        "id": "9UIbeQP8YLb7"
      }
    },
    {
      "cell_type": "code",
      "source": [
        "print(([col for col in df_song_features_1.columns.sort_values()]))\n",
        "print(([col for col in df_song_features_2.columns.sort_values()]))\n",
        "print(([col for col in df_song_features_3.columns.sort_values()]))\n",
        "print(([col for col in df_song_features_4.columns.sort_values()]))\n",
        "print(([col for col in df_song_features_5.columns.sort_values()]))\n",
        "print(([col for col in df_song_features_6.columns.sort_values()]))\n",
        "print(([col for col in df_song_features_7.columns.sort_values()]))\n",
        "print(([col for col in df_song_features_8.columns.sort_values()])) \n",
        "print(([col for col in df_song_features_9.columns.sort_values()]))\n",
        "print(([col for col in df_song_features_10.columns.sort_values()]))\n",
        "print(([col for col in df_song_features_11.columns.sort_values()]))\n",
        "print(([col for col in df_song_features_12.columns.sort_values()]))"
      ],
      "metadata": {
        "id": "cZnIVmsiX0nH",
        "outputId": "1fc261d1-bb2a-407a-c5ab-0adce076860a",
        "colab": {
          "base_uri": "https://localhost:8080/"
        }
      },
      "execution_count": 32,
      "outputs": [
        {
          "output_type": "stream",
          "name": "stdout",
          "text": [
            "['acousticness', 'artist', 'danceability', 'duration_ms', 'energy', 'liveness', 'speechiness', 'tempo', 'title', 'valence']\n",
            "['acousticness', 'artist', 'danceability', 'duration_ms', 'energy', 'liveness', 'speechiness', 'tempo', 'title', 'valence']\n",
            "['acousticness', 'artist', 'danceability', 'duration_ms', 'energy', 'liveness', 'speechiness', 'tempo', 'title', 'valence']\n",
            "['acousticness', 'artist', 'danceability', 'duration_ms', 'energy', 'liveness', 'speechiness', 'tempo', 'title', 'valence']\n",
            "['acousticness', 'artist', 'danceability', 'duration_ms', 'energy', 'liveness', 'speechiness', 'tempo', 'title', 'valence']\n",
            "['acousticness', 'artist', 'danceability', 'duration_ms', 'energy', 'liveness', 'speechiness', 'tempo', 'title', 'valence']\n",
            "['acousticness', 'artist', 'danceability', 'duration_ms', 'energy', 'liveness', 'speechiness', 'tempo', 'title', 'valence']\n",
            "['acousticness', 'artist', 'danceability', 'duration_ms', 'energy', 'liveness', 'speechiness', 'tempo', 'title', 'valence']\n",
            "['acousticness', 'artist', 'danceability', 'duration_ms', 'energy', 'liveness', 'speechiness', 'tempo', 'title', 'valence']\n",
            "['acousticness', 'artist', 'danceability', 'duration_ms', 'energy', 'liveness', 'speechiness', 'tempo', 'title', 'valence']\n",
            "['acousticness', 'artist', 'danceability', 'duration_ms', 'energy', 'liveness', 'speechiness', 'tempo', 'title', 'valence']\n",
            "['acousticness', 'artist', 'danceability', 'duration_ms', 'energy', 'liveness', 'speechiness', 'tempo', 'title', 'valence']\n"
          ]
        }
      ]
    },
    {
      "cell_type": "markdown",
      "source": [
        "Now lets concatenate all of these features dataframes into one and do an inner join with `all_songs_with_features` to get the final, combined features dataset"
      ],
      "metadata": {
        "id": "JxDepA63aIyk"
      }
    },
    {
      "cell_type": "code",
      "source": [
        "df_features = pd.concat([df_song_features_1, df_song_features_2, df_song_features_3, df_song_features_4, df_song_features_5, df_song_features_6, df_song_features_7, df_song_features_8, df_song_features_9, df_song_features_10, df_song_features_11, df_song_features_12], axis=0, ignore_index=True)\n",
        "df_features = df_features.dropna()\n",
        "df_features = pd.merge(df_features, feature_matches, on=['title', 'artist'], how='inner')\n",
        "df_features = df_features.drop_duplicates(subset=['title', 'artist'])\n",
        "df_features.reset_index(drop=True, inplace=True)\n",
        "df_features.head(100)  # inspect"
      ],
      "metadata": {
        "id": "K4puVSP5aYSn",
        "outputId": "d0240f87-5e36-4f30-d936-5fe83fe497b7",
        "colab": {
          "base_uri": "https://localhost:8080/",
          "height": 424
        }
      },
      "execution_count": 77,
      "outputs": [
        {
          "output_type": "execute_result",
          "data": {
            "text/plain": [
              "                                                title  \\\n",
              "0                               Sleep Now In the Fire   \n",
              "1                         Swear It Again - Radio Edit   \n",
              "2                        If I Let You Go - Radio Edit   \n",
              "3                                Flying Without Wings   \n",
              "4                                          Fool Again   \n",
              "..                                                ...   \n",
              "95                   Feels (feat. Young Thug & J Hus)   \n",
              "96                  Put It All on Me (feat. Ella Mai)   \n",
              "97         Nothing On You (feat. Paulo Londra & Dave)   \n",
              "98             I Don't Want Your Money (feat. H.E.R.)   \n",
              "99  1000 Nights (feat. Meek Mill & A Boogie Wit da...   \n",
              "\n",
              "                                           artist danceability energy  \\\n",
              "0                        Rage Against The Machine        0.426  0.929   \n",
              "1                                        Westlife        0.626  0.532   \n",
              "2                                        Westlife        0.571  0.697   \n",
              "3                                        Westlife        0.443  0.493   \n",
              "4                                        Westlife        0.532  0.526   \n",
              "..                                            ...          ...    ...   \n",
              "95                  Ed Sheeran, Young Thug, J Hus        0.665   0.68   \n",
              "96                           Ed Sheeran, Ella Mai        0.627  0.594   \n",
              "97                 Ed Sheeran, Paulo Londra, Dave        0.747  0.649   \n",
              "98                             Ed Sheeran, H.E.R.        0.468   0.63   \n",
              "99  Ed Sheeran, Meek Mill, A Boogie Wit da Hoodie        0.778  0.589   \n",
              "\n",
              "   speechiness acousticness liveness valence    tempo duration_ms  \n",
              "0       0.0701      0.00162   0.0789   0.539  127.059      205600  \n",
              "1       0.0276        0.296    0.123    0.33  130.076      247933  \n",
              "2       0.0294      0.00574   0.0775   0.636  181.987      221533  \n",
              "3       0.0318        0.323     0.21   0.283   72.742      215307  \n",
              "4       0.0292       0.0468    0.053   0.536   75.996      235067  \n",
              "..         ...          ...      ...     ...      ...         ...  \n",
              "95       0.291        0.112    0.096    0.69   91.667      150787  \n",
              "96      0.0479        0.256    0.373   0.388  101.007      197093  \n",
              "97       0.218        0.333    0.172    0.84   88.011      200733  \n",
              "98      0.0843         0.31    0.137   0.762   91.419      204507  \n",
              "99       0.269        0.467   0.0902   0.513   98.001      212307  \n",
              "\n",
              "[100 rows x 10 columns]"
            ],
            "text/html": [
              "\n",
              "  <div id=\"df-c41351bd-5122-4971-815f-7988cebe4b35\">\n",
              "    <div class=\"colab-df-container\">\n",
              "      <div>\n",
              "<style scoped>\n",
              "    .dataframe tbody tr th:only-of-type {\n",
              "        vertical-align: middle;\n",
              "    }\n",
              "\n",
              "    .dataframe tbody tr th {\n",
              "        vertical-align: top;\n",
              "    }\n",
              "\n",
              "    .dataframe thead th {\n",
              "        text-align: right;\n",
              "    }\n",
              "</style>\n",
              "<table border=\"1\" class=\"dataframe\">\n",
              "  <thead>\n",
              "    <tr style=\"text-align: right;\">\n",
              "      <th></th>\n",
              "      <th>title</th>\n",
              "      <th>artist</th>\n",
              "      <th>danceability</th>\n",
              "      <th>energy</th>\n",
              "      <th>speechiness</th>\n",
              "      <th>acousticness</th>\n",
              "      <th>liveness</th>\n",
              "      <th>valence</th>\n",
              "      <th>tempo</th>\n",
              "      <th>duration_ms</th>\n",
              "    </tr>\n",
              "  </thead>\n",
              "  <tbody>\n",
              "    <tr>\n",
              "      <th>0</th>\n",
              "      <td>Sleep Now In the Fire</td>\n",
              "      <td>Rage Against The Machine</td>\n",
              "      <td>0.426</td>\n",
              "      <td>0.929</td>\n",
              "      <td>0.0701</td>\n",
              "      <td>0.00162</td>\n",
              "      <td>0.0789</td>\n",
              "      <td>0.539</td>\n",
              "      <td>127.059</td>\n",
              "      <td>205600</td>\n",
              "    </tr>\n",
              "    <tr>\n",
              "      <th>1</th>\n",
              "      <td>Swear It Again - Radio Edit</td>\n",
              "      <td>Westlife</td>\n",
              "      <td>0.626</td>\n",
              "      <td>0.532</td>\n",
              "      <td>0.0276</td>\n",
              "      <td>0.296</td>\n",
              "      <td>0.123</td>\n",
              "      <td>0.33</td>\n",
              "      <td>130.076</td>\n",
              "      <td>247933</td>\n",
              "    </tr>\n",
              "    <tr>\n",
              "      <th>2</th>\n",
              "      <td>If I Let You Go - Radio Edit</td>\n",
              "      <td>Westlife</td>\n",
              "      <td>0.571</td>\n",
              "      <td>0.697</td>\n",
              "      <td>0.0294</td>\n",
              "      <td>0.00574</td>\n",
              "      <td>0.0775</td>\n",
              "      <td>0.636</td>\n",
              "      <td>181.987</td>\n",
              "      <td>221533</td>\n",
              "    </tr>\n",
              "    <tr>\n",
              "      <th>3</th>\n",
              "      <td>Flying Without Wings</td>\n",
              "      <td>Westlife</td>\n",
              "      <td>0.443</td>\n",
              "      <td>0.493</td>\n",
              "      <td>0.0318</td>\n",
              "      <td>0.323</td>\n",
              "      <td>0.21</td>\n",
              "      <td>0.283</td>\n",
              "      <td>72.742</td>\n",
              "      <td>215307</td>\n",
              "    </tr>\n",
              "    <tr>\n",
              "      <th>4</th>\n",
              "      <td>Fool Again</td>\n",
              "      <td>Westlife</td>\n",
              "      <td>0.532</td>\n",
              "      <td>0.526</td>\n",
              "      <td>0.0292</td>\n",
              "      <td>0.0468</td>\n",
              "      <td>0.053</td>\n",
              "      <td>0.536</td>\n",
              "      <td>75.996</td>\n",
              "      <td>235067</td>\n",
              "    </tr>\n",
              "    <tr>\n",
              "      <th>...</th>\n",
              "      <td>...</td>\n",
              "      <td>...</td>\n",
              "      <td>...</td>\n",
              "      <td>...</td>\n",
              "      <td>...</td>\n",
              "      <td>...</td>\n",
              "      <td>...</td>\n",
              "      <td>...</td>\n",
              "      <td>...</td>\n",
              "      <td>...</td>\n",
              "    </tr>\n",
              "    <tr>\n",
              "      <th>95</th>\n",
              "      <td>Feels (feat. Young Thug &amp; J Hus)</td>\n",
              "      <td>Ed Sheeran, Young Thug, J Hus</td>\n",
              "      <td>0.665</td>\n",
              "      <td>0.68</td>\n",
              "      <td>0.291</td>\n",
              "      <td>0.112</td>\n",
              "      <td>0.096</td>\n",
              "      <td>0.69</td>\n",
              "      <td>91.667</td>\n",
              "      <td>150787</td>\n",
              "    </tr>\n",
              "    <tr>\n",
              "      <th>96</th>\n",
              "      <td>Put It All on Me (feat. Ella Mai)</td>\n",
              "      <td>Ed Sheeran, Ella Mai</td>\n",
              "      <td>0.627</td>\n",
              "      <td>0.594</td>\n",
              "      <td>0.0479</td>\n",
              "      <td>0.256</td>\n",
              "      <td>0.373</td>\n",
              "      <td>0.388</td>\n",
              "      <td>101.007</td>\n",
              "      <td>197093</td>\n",
              "    </tr>\n",
              "    <tr>\n",
              "      <th>97</th>\n",
              "      <td>Nothing On You (feat. Paulo Londra &amp; Dave)</td>\n",
              "      <td>Ed Sheeran, Paulo Londra, Dave</td>\n",
              "      <td>0.747</td>\n",
              "      <td>0.649</td>\n",
              "      <td>0.218</td>\n",
              "      <td>0.333</td>\n",
              "      <td>0.172</td>\n",
              "      <td>0.84</td>\n",
              "      <td>88.011</td>\n",
              "      <td>200733</td>\n",
              "    </tr>\n",
              "    <tr>\n",
              "      <th>98</th>\n",
              "      <td>I Don't Want Your Money (feat. H.E.R.)</td>\n",
              "      <td>Ed Sheeran, H.E.R.</td>\n",
              "      <td>0.468</td>\n",
              "      <td>0.63</td>\n",
              "      <td>0.0843</td>\n",
              "      <td>0.31</td>\n",
              "      <td>0.137</td>\n",
              "      <td>0.762</td>\n",
              "      <td>91.419</td>\n",
              "      <td>204507</td>\n",
              "    </tr>\n",
              "    <tr>\n",
              "      <th>99</th>\n",
              "      <td>1000 Nights (feat. Meek Mill &amp; A Boogie Wit da...</td>\n",
              "      <td>Ed Sheeran, Meek Mill, A Boogie Wit da Hoodie</td>\n",
              "      <td>0.778</td>\n",
              "      <td>0.589</td>\n",
              "      <td>0.269</td>\n",
              "      <td>0.467</td>\n",
              "      <td>0.0902</td>\n",
              "      <td>0.513</td>\n",
              "      <td>98.001</td>\n",
              "      <td>212307</td>\n",
              "    </tr>\n",
              "  </tbody>\n",
              "</table>\n",
              "<p>100 rows × 10 columns</p>\n",
              "</div>\n",
              "      <button class=\"colab-df-convert\" onclick=\"convertToInteractive('df-c41351bd-5122-4971-815f-7988cebe4b35')\"\n",
              "              title=\"Convert this dataframe to an interactive table.\"\n",
              "              style=\"display:none;\">\n",
              "        \n",
              "  <svg xmlns=\"http://www.w3.org/2000/svg\" height=\"24px\"viewBox=\"0 0 24 24\"\n",
              "       width=\"24px\">\n",
              "    <path d=\"M0 0h24v24H0V0z\" fill=\"none\"/>\n",
              "    <path d=\"M18.56 5.44l.94 2.06.94-2.06 2.06-.94-2.06-.94-.94-2.06-.94 2.06-2.06.94zm-11 1L8.5 8.5l.94-2.06 2.06-.94-2.06-.94L8.5 2.5l-.94 2.06-2.06.94zm10 10l.94 2.06.94-2.06 2.06-.94-2.06-.94-.94-2.06-.94 2.06-2.06.94z\"/><path d=\"M17.41 7.96l-1.37-1.37c-.4-.4-.92-.59-1.43-.59-.52 0-1.04.2-1.43.59L10.3 9.45l-7.72 7.72c-.78.78-.78 2.05 0 2.83L4 21.41c.39.39.9.59 1.41.59.51 0 1.02-.2 1.41-.59l7.78-7.78 2.81-2.81c.8-.78.8-2.07 0-2.86zM5.41 20L4 18.59l7.72-7.72 1.47 1.35L5.41 20z\"/>\n",
              "  </svg>\n",
              "      </button>\n",
              "      \n",
              "  <style>\n",
              "    .colab-df-container {\n",
              "      display:flex;\n",
              "      flex-wrap:wrap;\n",
              "      gap: 12px;\n",
              "    }\n",
              "\n",
              "    .colab-df-convert {\n",
              "      background-color: #E8F0FE;\n",
              "      border: none;\n",
              "      border-radius: 50%;\n",
              "      cursor: pointer;\n",
              "      display: none;\n",
              "      fill: #1967D2;\n",
              "      height: 32px;\n",
              "      padding: 0 0 0 0;\n",
              "      width: 32px;\n",
              "    }\n",
              "\n",
              "    .colab-df-convert:hover {\n",
              "      background-color: #E2EBFA;\n",
              "      box-shadow: 0px 1px 2px rgba(60, 64, 67, 0.3), 0px 1px 3px 1px rgba(60, 64, 67, 0.15);\n",
              "      fill: #174EA6;\n",
              "    }\n",
              "\n",
              "    [theme=dark] .colab-df-convert {\n",
              "      background-color: #3B4455;\n",
              "      fill: #D2E3FC;\n",
              "    }\n",
              "\n",
              "    [theme=dark] .colab-df-convert:hover {\n",
              "      background-color: #434B5C;\n",
              "      box-shadow: 0px 1px 3px 1px rgba(0, 0, 0, 0.15);\n",
              "      filter: drop-shadow(0px 1px 2px rgba(0, 0, 0, 0.3));\n",
              "      fill: #FFFFFF;\n",
              "    }\n",
              "  </style>\n",
              "\n",
              "      <script>\n",
              "        const buttonEl =\n",
              "          document.querySelector('#df-c41351bd-5122-4971-815f-7988cebe4b35 button.colab-df-convert');\n",
              "        buttonEl.style.display =\n",
              "          google.colab.kernel.accessAllowed ? 'block' : 'none';\n",
              "\n",
              "        async function convertToInteractive(key) {\n",
              "          const element = document.querySelector('#df-c41351bd-5122-4971-815f-7988cebe4b35');\n",
              "          const dataTable =\n",
              "            await google.colab.kernel.invokeFunction('convertToInteractive',\n",
              "                                                     [key], {});\n",
              "          if (!dataTable) return;\n",
              "\n",
              "          const docLinkHtml = 'Like what you see? Visit the ' +\n",
              "            '<a target=\"_blank\" href=https://colab.research.google.com/notebooks/data_table.ipynb>data table notebook</a>'\n",
              "            + ' to learn more about interactive tables.';\n",
              "          element.innerHTML = '';\n",
              "          dataTable['output_type'] = 'display_data';\n",
              "          await google.colab.output.renderOutput(dataTable, element);\n",
              "          const docLink = document.createElement('div');\n",
              "          docLink.innerHTML = docLinkHtml;\n",
              "          element.appendChild(docLink);\n",
              "        }\n",
              "      </script>\n",
              "    </div>\n",
              "  </div>\n",
              "  "
            ]
          },
          "metadata": {},
          "execution_count": 77
        }
      ]
    },
    {
      "cell_type": "code",
      "source": [
        "df_features.describe"
      ],
      "metadata": {
        "id": "qhw-hyW5fvK9",
        "outputId": "1b6d1843-7802-4af0-a4e2-d48ce99cd45e",
        "colab": {
          "base_uri": "https://localhost:8080/"
        }
      },
      "execution_count": 78,
      "outputs": [
        {
          "output_type": "execute_result",
          "data": {
            "text/plain": [
              "<bound method NDFrame.describe of                               title                    artist danceability  \\\n",
              "0             Sleep Now In the Fire  Rage Against The Machine        0.426   \n",
              "1       Swear It Again - Radio Edit                  Westlife        0.626   \n",
              "2      If I Let You Go - Radio Edit                  Westlife        0.571   \n",
              "3              Flying Without Wings                  Westlife        0.443   \n",
              "4                        Fool Again                  Westlife        0.532   \n",
              "...                             ...                       ...          ...   \n",
              "20538                      BALMAINS                Dutty Dior        0.913   \n",
              "20539                   Hitam Putih                 Fourtwnty        0.517   \n",
              "20540                        Голоса                   Zvonkiy         0.77   \n",
              "20541                אוסף עוד געגוע                Eyal Golan        0.455   \n",
              "20542          Likolo (feat. Ninho)               Fally Ipupa        0.781   \n",
              "\n",
              "      energy speechiness acousticness liveness valence    tempo duration_ms  \n",
              "0      0.929      0.0701      0.00162   0.0789   0.539  127.059      205600  \n",
              "1      0.532      0.0276        0.296    0.123    0.33  130.076      247933  \n",
              "2      0.697      0.0294      0.00574   0.0775   0.636  181.987      221533  \n",
              "3      0.493      0.0318        0.323     0.21   0.283   72.742      215307  \n",
              "4      0.526      0.0292       0.0468    0.053   0.536   75.996      235067  \n",
              "...      ...         ...          ...      ...     ...      ...         ...  \n",
              "20538  0.459       0.129       0.0646     0.13   0.669  123.003    171341.0  \n",
              "20539  0.329       0.033        0.785   0.0823   0.148  119.863    251000.0  \n",
              "20540    0.9      0.0993        0.233    0.125   0.696  100.051    206400.0  \n",
              "20541  0.595      0.0376        0.617    0.154   0.576  106.107    225258.0  \n",
              "20542  0.612      0.0778        0.434   0.0863   0.595  116.045    195720.0  \n",
              "\n",
              "[20543 rows x 10 columns]>"
            ]
          },
          "metadata": {},
          "execution_count": 78
        }
      ]
    },
    {
      "cell_type": "markdown",
      "metadata": {
        "id": "N9uFxr2sQGxY"
      },
      "source": [
        "# TikTok Popular Songs Dataset EDA"
      ]
    },
    {
      "cell_type": "code",
      "execution_count": 48,
      "metadata": {
        "colab": {
          "base_uri": "https://localhost:8080/",
          "height": 374
        },
        "id": "J-JdIrzO08GS",
        "outputId": "d07bd35b-95e9-436c-c627-167c53f9d921"
      },
      "outputs": [
        {
          "output_type": "execute_result",
          "data": {
            "text/plain": [
              "             track_name                 artist_name  artist_pop  \\\n",
              "0              Shake It               Metro Station          53   \n",
              "1      Chinese New Year                       SALES          61   \n",
              "2        Baby I'm Yours                    Breakbot          57   \n",
              "3            The Git Up                Blanco Brown          60   \n",
              "4  Say Hey (I Love You)  Michael Franti & Spearhead          58   \n",
              "\n",
              "               album  track_pop  danceability  energy  loudness  mode  key  \\\n",
              "0      Metro Station         68         0.618   0.955    -3.836     1    4   \n",
              "1         SALES - EP         53         0.744   0.845    -7.422     0    4   \n",
              "2       By Your Side         69         0.829   0.792    -3.755     0    2   \n",
              "3         The Git Up          2         0.847   0.678    -8.635     1    9   \n",
              "4  All Rebel Rockers          0         0.738   0.983    -4.374     0    5   \n",
              "\n",
              "   speechiness  acousticness  instrumentalness  liveness  valence    tempo  \\\n",
              "0       0.0798       0.00221          0.000003     0.486    0.790  150.034   \n",
              "1       0.2530       0.75900          0.232000     0.100    0.749   75.221   \n",
              "2       0.0668       0.72600          0.000006     0.122    0.758  118.050   \n",
              "3       0.1090       0.06690          0.000000     0.274    0.811   97.984   \n",
              "4       0.0855       0.03800          0.000006     0.183    0.957   92.998   \n",
              "\n",
              "   time_signature  duration_ms  \n",
              "0               4       179947  \n",
              "1               4       160000  \n",
              "2               4       215507  \n",
              "3               4       200594  \n",
              "4               4       235760  "
            ],
            "text/html": [
              "\n",
              "  <div id=\"df-d7883f17-0192-4edc-a4e5-945a8e4d2784\">\n",
              "    <div class=\"colab-df-container\">\n",
              "      <div>\n",
              "<style scoped>\n",
              "    .dataframe tbody tr th:only-of-type {\n",
              "        vertical-align: middle;\n",
              "    }\n",
              "\n",
              "    .dataframe tbody tr th {\n",
              "        vertical-align: top;\n",
              "    }\n",
              "\n",
              "    .dataframe thead th {\n",
              "        text-align: right;\n",
              "    }\n",
              "</style>\n",
              "<table border=\"1\" class=\"dataframe\">\n",
              "  <thead>\n",
              "    <tr style=\"text-align: right;\">\n",
              "      <th></th>\n",
              "      <th>track_name</th>\n",
              "      <th>artist_name</th>\n",
              "      <th>artist_pop</th>\n",
              "      <th>album</th>\n",
              "      <th>track_pop</th>\n",
              "      <th>danceability</th>\n",
              "      <th>energy</th>\n",
              "      <th>loudness</th>\n",
              "      <th>mode</th>\n",
              "      <th>key</th>\n",
              "      <th>speechiness</th>\n",
              "      <th>acousticness</th>\n",
              "      <th>instrumentalness</th>\n",
              "      <th>liveness</th>\n",
              "      <th>valence</th>\n",
              "      <th>tempo</th>\n",
              "      <th>time_signature</th>\n",
              "      <th>duration_ms</th>\n",
              "    </tr>\n",
              "  </thead>\n",
              "  <tbody>\n",
              "    <tr>\n",
              "      <th>0</th>\n",
              "      <td>Shake It</td>\n",
              "      <td>Metro Station</td>\n",
              "      <td>53</td>\n",
              "      <td>Metro Station</td>\n",
              "      <td>68</td>\n",
              "      <td>0.618</td>\n",
              "      <td>0.955</td>\n",
              "      <td>-3.836</td>\n",
              "      <td>1</td>\n",
              "      <td>4</td>\n",
              "      <td>0.0798</td>\n",
              "      <td>0.00221</td>\n",
              "      <td>0.000003</td>\n",
              "      <td>0.486</td>\n",
              "      <td>0.790</td>\n",
              "      <td>150.034</td>\n",
              "      <td>4</td>\n",
              "      <td>179947</td>\n",
              "    </tr>\n",
              "    <tr>\n",
              "      <th>1</th>\n",
              "      <td>Chinese New Year</td>\n",
              "      <td>SALES</td>\n",
              "      <td>61</td>\n",
              "      <td>SALES - EP</td>\n",
              "      <td>53</td>\n",
              "      <td>0.744</td>\n",
              "      <td>0.845</td>\n",
              "      <td>-7.422</td>\n",
              "      <td>0</td>\n",
              "      <td>4</td>\n",
              "      <td>0.2530</td>\n",
              "      <td>0.75900</td>\n",
              "      <td>0.232000</td>\n",
              "      <td>0.100</td>\n",
              "      <td>0.749</td>\n",
              "      <td>75.221</td>\n",
              "      <td>4</td>\n",
              "      <td>160000</td>\n",
              "    </tr>\n",
              "    <tr>\n",
              "      <th>2</th>\n",
              "      <td>Baby I'm Yours</td>\n",
              "      <td>Breakbot</td>\n",
              "      <td>57</td>\n",
              "      <td>By Your Side</td>\n",
              "      <td>69</td>\n",
              "      <td>0.829</td>\n",
              "      <td>0.792</td>\n",
              "      <td>-3.755</td>\n",
              "      <td>0</td>\n",
              "      <td>2</td>\n",
              "      <td>0.0668</td>\n",
              "      <td>0.72600</td>\n",
              "      <td>0.000006</td>\n",
              "      <td>0.122</td>\n",
              "      <td>0.758</td>\n",
              "      <td>118.050</td>\n",
              "      <td>4</td>\n",
              "      <td>215507</td>\n",
              "    </tr>\n",
              "    <tr>\n",
              "      <th>3</th>\n",
              "      <td>The Git Up</td>\n",
              "      <td>Blanco Brown</td>\n",
              "      <td>60</td>\n",
              "      <td>The Git Up</td>\n",
              "      <td>2</td>\n",
              "      <td>0.847</td>\n",
              "      <td>0.678</td>\n",
              "      <td>-8.635</td>\n",
              "      <td>1</td>\n",
              "      <td>9</td>\n",
              "      <td>0.1090</td>\n",
              "      <td>0.06690</td>\n",
              "      <td>0.000000</td>\n",
              "      <td>0.274</td>\n",
              "      <td>0.811</td>\n",
              "      <td>97.984</td>\n",
              "      <td>4</td>\n",
              "      <td>200594</td>\n",
              "    </tr>\n",
              "    <tr>\n",
              "      <th>4</th>\n",
              "      <td>Say Hey (I Love You)</td>\n",
              "      <td>Michael Franti &amp; Spearhead</td>\n",
              "      <td>58</td>\n",
              "      <td>All Rebel Rockers</td>\n",
              "      <td>0</td>\n",
              "      <td>0.738</td>\n",
              "      <td>0.983</td>\n",
              "      <td>-4.374</td>\n",
              "      <td>0</td>\n",
              "      <td>5</td>\n",
              "      <td>0.0855</td>\n",
              "      <td>0.03800</td>\n",
              "      <td>0.000006</td>\n",
              "      <td>0.183</td>\n",
              "      <td>0.957</td>\n",
              "      <td>92.998</td>\n",
              "      <td>4</td>\n",
              "      <td>235760</td>\n",
              "    </tr>\n",
              "  </tbody>\n",
              "</table>\n",
              "</div>\n",
              "      <button class=\"colab-df-convert\" onclick=\"convertToInteractive('df-d7883f17-0192-4edc-a4e5-945a8e4d2784')\"\n",
              "              title=\"Convert this dataframe to an interactive table.\"\n",
              "              style=\"display:none;\">\n",
              "        \n",
              "  <svg xmlns=\"http://www.w3.org/2000/svg\" height=\"24px\"viewBox=\"0 0 24 24\"\n",
              "       width=\"24px\">\n",
              "    <path d=\"M0 0h24v24H0V0z\" fill=\"none\"/>\n",
              "    <path d=\"M18.56 5.44l.94 2.06.94-2.06 2.06-.94-2.06-.94-.94-2.06-.94 2.06-2.06.94zm-11 1L8.5 8.5l.94-2.06 2.06-.94-2.06-.94L8.5 2.5l-.94 2.06-2.06.94zm10 10l.94 2.06.94-2.06 2.06-.94-2.06-.94-.94-2.06-.94 2.06-2.06.94z\"/><path d=\"M17.41 7.96l-1.37-1.37c-.4-.4-.92-.59-1.43-.59-.52 0-1.04.2-1.43.59L10.3 9.45l-7.72 7.72c-.78.78-.78 2.05 0 2.83L4 21.41c.39.39.9.59 1.41.59.51 0 1.02-.2 1.41-.59l7.78-7.78 2.81-2.81c.8-.78.8-2.07 0-2.86zM5.41 20L4 18.59l7.72-7.72 1.47 1.35L5.41 20z\"/>\n",
              "  </svg>\n",
              "      </button>\n",
              "      \n",
              "  <style>\n",
              "    .colab-df-container {\n",
              "      display:flex;\n",
              "      flex-wrap:wrap;\n",
              "      gap: 12px;\n",
              "    }\n",
              "\n",
              "    .colab-df-convert {\n",
              "      background-color: #E8F0FE;\n",
              "      border: none;\n",
              "      border-radius: 50%;\n",
              "      cursor: pointer;\n",
              "      display: none;\n",
              "      fill: #1967D2;\n",
              "      height: 32px;\n",
              "      padding: 0 0 0 0;\n",
              "      width: 32px;\n",
              "    }\n",
              "\n",
              "    .colab-df-convert:hover {\n",
              "      background-color: #E2EBFA;\n",
              "      box-shadow: 0px 1px 2px rgba(60, 64, 67, 0.3), 0px 1px 3px 1px rgba(60, 64, 67, 0.15);\n",
              "      fill: #174EA6;\n",
              "    }\n",
              "\n",
              "    [theme=dark] .colab-df-convert {\n",
              "      background-color: #3B4455;\n",
              "      fill: #D2E3FC;\n",
              "    }\n",
              "\n",
              "    [theme=dark] .colab-df-convert:hover {\n",
              "      background-color: #434B5C;\n",
              "      box-shadow: 0px 1px 3px 1px rgba(0, 0, 0, 0.15);\n",
              "      filter: drop-shadow(0px 1px 2px rgba(0, 0, 0, 0.3));\n",
              "      fill: #FFFFFF;\n",
              "    }\n",
              "  </style>\n",
              "\n",
              "      <script>\n",
              "        const buttonEl =\n",
              "          document.querySelector('#df-d7883f17-0192-4edc-a4e5-945a8e4d2784 button.colab-df-convert');\n",
              "        buttonEl.style.display =\n",
              "          google.colab.kernel.accessAllowed ? 'block' : 'none';\n",
              "\n",
              "        async function convertToInteractive(key) {\n",
              "          const element = document.querySelector('#df-d7883f17-0192-4edc-a4e5-945a8e4d2784');\n",
              "          const dataTable =\n",
              "            await google.colab.kernel.invokeFunction('convertToInteractive',\n",
              "                                                     [key], {});\n",
              "          if (!dataTable) return;\n",
              "\n",
              "          const docLinkHtml = 'Like what you see? Visit the ' +\n",
              "            '<a target=\"_blank\" href=https://colab.research.google.com/notebooks/data_table.ipynb>data table notebook</a>'\n",
              "            + ' to learn more about interactive tables.';\n",
              "          element.innerHTML = '';\n",
              "          dataTable['output_type'] = 'display_data';\n",
              "          await google.colab.output.renderOutput(dataTable, element);\n",
              "          const docLink = document.createElement('div');\n",
              "          docLink.innerHTML = docLinkHtml;\n",
              "          element.appendChild(docLink);\n",
              "        }\n",
              "      </script>\n",
              "    </div>\n",
              "  </div>\n",
              "  "
            ]
          },
          "metadata": {},
          "execution_count": 48
        }
      ],
      "source": [
        "df_tiktok_19.head()"
      ]
    },
    {
      "cell_type": "code",
      "execution_count": 49,
      "metadata": {
        "colab": {
          "base_uri": "https://localhost:8080/",
          "height": 392
        },
        "id": "9txjEQY71b4g",
        "outputId": "0ba2ebe3-086d-4a82-aeac-df6736973494"
      },
      "outputs": [
        {
          "output_type": "execute_result",
          "data": {
            "text/plain": [
              "                         track_name          artist_name  artist_pop  \\\n",
              "0                            Say So             Doja Cat          88   \n",
              "1                   Blinding Lights           The Weeknd          93   \n",
              "2  Supalonely (feat. Gus Dapperton)                BENEE          67   \n",
              "3                            Savage  Megan Thee Stallion          82   \n",
              "4                Moral of the Story                 Ashe          68   \n",
              "\n",
              "                album  track_pop  danceability  energy  loudness  mode  key  \\\n",
              "0            Hot Pink         80         0.787   0.673    -4.583     0   11   \n",
              "1         After Hours         90         0.514   0.730    -5.934     1    1   \n",
              "2             Hey u x         63         0.862   0.631    -4.746     1    7   \n",
              "3                Suga         70         0.843   0.741    -5.609     1   11   \n",
              "4  Moral of the Story         76         0.572   0.406    -8.624     1   10   \n",
              "\n",
              "   speechiness  acousticness  instrumentalness  liveness  valence    tempo  \\\n",
              "0       0.1590       0.26400          0.000003    0.0904    0.779  110.962   \n",
              "1       0.0598       0.00146          0.000095    0.0897    0.334  171.005   \n",
              "2       0.0515       0.29100          0.000209    0.1230    0.841  128.978   \n",
              "3       0.3340       0.02520          0.000000    0.0960    0.680  168.983   \n",
              "4       0.0427       0.58700          0.000004    0.1020    0.265  119.812   \n",
              "\n",
              "   time_signature  duration_ms  \n",
              "0               4       237893  \n",
              "1               4       200040  \n",
              "2               4       223488  \n",
              "3               4       155497  \n",
              "4               4       201084  "
            ],
            "text/html": [
              "\n",
              "  <div id=\"df-23c96c9c-a9a7-4137-934d-d2a26e0a7a61\">\n",
              "    <div class=\"colab-df-container\">\n",
              "      <div>\n",
              "<style scoped>\n",
              "    .dataframe tbody tr th:only-of-type {\n",
              "        vertical-align: middle;\n",
              "    }\n",
              "\n",
              "    .dataframe tbody tr th {\n",
              "        vertical-align: top;\n",
              "    }\n",
              "\n",
              "    .dataframe thead th {\n",
              "        text-align: right;\n",
              "    }\n",
              "</style>\n",
              "<table border=\"1\" class=\"dataframe\">\n",
              "  <thead>\n",
              "    <tr style=\"text-align: right;\">\n",
              "      <th></th>\n",
              "      <th>track_name</th>\n",
              "      <th>artist_name</th>\n",
              "      <th>artist_pop</th>\n",
              "      <th>album</th>\n",
              "      <th>track_pop</th>\n",
              "      <th>danceability</th>\n",
              "      <th>energy</th>\n",
              "      <th>loudness</th>\n",
              "      <th>mode</th>\n",
              "      <th>key</th>\n",
              "      <th>speechiness</th>\n",
              "      <th>acousticness</th>\n",
              "      <th>instrumentalness</th>\n",
              "      <th>liveness</th>\n",
              "      <th>valence</th>\n",
              "      <th>tempo</th>\n",
              "      <th>time_signature</th>\n",
              "      <th>duration_ms</th>\n",
              "    </tr>\n",
              "  </thead>\n",
              "  <tbody>\n",
              "    <tr>\n",
              "      <th>0</th>\n",
              "      <td>Say So</td>\n",
              "      <td>Doja Cat</td>\n",
              "      <td>88</td>\n",
              "      <td>Hot Pink</td>\n",
              "      <td>80</td>\n",
              "      <td>0.787</td>\n",
              "      <td>0.673</td>\n",
              "      <td>-4.583</td>\n",
              "      <td>0</td>\n",
              "      <td>11</td>\n",
              "      <td>0.1590</td>\n",
              "      <td>0.26400</td>\n",
              "      <td>0.000003</td>\n",
              "      <td>0.0904</td>\n",
              "      <td>0.779</td>\n",
              "      <td>110.962</td>\n",
              "      <td>4</td>\n",
              "      <td>237893</td>\n",
              "    </tr>\n",
              "    <tr>\n",
              "      <th>1</th>\n",
              "      <td>Blinding Lights</td>\n",
              "      <td>The Weeknd</td>\n",
              "      <td>93</td>\n",
              "      <td>After Hours</td>\n",
              "      <td>90</td>\n",
              "      <td>0.514</td>\n",
              "      <td>0.730</td>\n",
              "      <td>-5.934</td>\n",
              "      <td>1</td>\n",
              "      <td>1</td>\n",
              "      <td>0.0598</td>\n",
              "      <td>0.00146</td>\n",
              "      <td>0.000095</td>\n",
              "      <td>0.0897</td>\n",
              "      <td>0.334</td>\n",
              "      <td>171.005</td>\n",
              "      <td>4</td>\n",
              "      <td>200040</td>\n",
              "    </tr>\n",
              "    <tr>\n",
              "      <th>2</th>\n",
              "      <td>Supalonely (feat. Gus Dapperton)</td>\n",
              "      <td>BENEE</td>\n",
              "      <td>67</td>\n",
              "      <td>Hey u x</td>\n",
              "      <td>63</td>\n",
              "      <td>0.862</td>\n",
              "      <td>0.631</td>\n",
              "      <td>-4.746</td>\n",
              "      <td>1</td>\n",
              "      <td>7</td>\n",
              "      <td>0.0515</td>\n",
              "      <td>0.29100</td>\n",
              "      <td>0.000209</td>\n",
              "      <td>0.1230</td>\n",
              "      <td>0.841</td>\n",
              "      <td>128.978</td>\n",
              "      <td>4</td>\n",
              "      <td>223488</td>\n",
              "    </tr>\n",
              "    <tr>\n",
              "      <th>3</th>\n",
              "      <td>Savage</td>\n",
              "      <td>Megan Thee Stallion</td>\n",
              "      <td>82</td>\n",
              "      <td>Suga</td>\n",
              "      <td>70</td>\n",
              "      <td>0.843</td>\n",
              "      <td>0.741</td>\n",
              "      <td>-5.609</td>\n",
              "      <td>1</td>\n",
              "      <td>11</td>\n",
              "      <td>0.3340</td>\n",
              "      <td>0.02520</td>\n",
              "      <td>0.000000</td>\n",
              "      <td>0.0960</td>\n",
              "      <td>0.680</td>\n",
              "      <td>168.983</td>\n",
              "      <td>4</td>\n",
              "      <td>155497</td>\n",
              "    </tr>\n",
              "    <tr>\n",
              "      <th>4</th>\n",
              "      <td>Moral of the Story</td>\n",
              "      <td>Ashe</td>\n",
              "      <td>68</td>\n",
              "      <td>Moral of the Story</td>\n",
              "      <td>76</td>\n",
              "      <td>0.572</td>\n",
              "      <td>0.406</td>\n",
              "      <td>-8.624</td>\n",
              "      <td>1</td>\n",
              "      <td>10</td>\n",
              "      <td>0.0427</td>\n",
              "      <td>0.58700</td>\n",
              "      <td>0.000004</td>\n",
              "      <td>0.1020</td>\n",
              "      <td>0.265</td>\n",
              "      <td>119.812</td>\n",
              "      <td>4</td>\n",
              "      <td>201084</td>\n",
              "    </tr>\n",
              "  </tbody>\n",
              "</table>\n",
              "</div>\n",
              "      <button class=\"colab-df-convert\" onclick=\"convertToInteractive('df-23c96c9c-a9a7-4137-934d-d2a26e0a7a61')\"\n",
              "              title=\"Convert this dataframe to an interactive table.\"\n",
              "              style=\"display:none;\">\n",
              "        \n",
              "  <svg xmlns=\"http://www.w3.org/2000/svg\" height=\"24px\"viewBox=\"0 0 24 24\"\n",
              "       width=\"24px\">\n",
              "    <path d=\"M0 0h24v24H0V0z\" fill=\"none\"/>\n",
              "    <path d=\"M18.56 5.44l.94 2.06.94-2.06 2.06-.94-2.06-.94-.94-2.06-.94 2.06-2.06.94zm-11 1L8.5 8.5l.94-2.06 2.06-.94-2.06-.94L8.5 2.5l-.94 2.06-2.06.94zm10 10l.94 2.06.94-2.06 2.06-.94-2.06-.94-.94-2.06-.94 2.06-2.06.94z\"/><path d=\"M17.41 7.96l-1.37-1.37c-.4-.4-.92-.59-1.43-.59-.52 0-1.04.2-1.43.59L10.3 9.45l-7.72 7.72c-.78.78-.78 2.05 0 2.83L4 21.41c.39.39.9.59 1.41.59.51 0 1.02-.2 1.41-.59l7.78-7.78 2.81-2.81c.8-.78.8-2.07 0-2.86zM5.41 20L4 18.59l7.72-7.72 1.47 1.35L5.41 20z\"/>\n",
              "  </svg>\n",
              "      </button>\n",
              "      \n",
              "  <style>\n",
              "    .colab-df-container {\n",
              "      display:flex;\n",
              "      flex-wrap:wrap;\n",
              "      gap: 12px;\n",
              "    }\n",
              "\n",
              "    .colab-df-convert {\n",
              "      background-color: #E8F0FE;\n",
              "      border: none;\n",
              "      border-radius: 50%;\n",
              "      cursor: pointer;\n",
              "      display: none;\n",
              "      fill: #1967D2;\n",
              "      height: 32px;\n",
              "      padding: 0 0 0 0;\n",
              "      width: 32px;\n",
              "    }\n",
              "\n",
              "    .colab-df-convert:hover {\n",
              "      background-color: #E2EBFA;\n",
              "      box-shadow: 0px 1px 2px rgba(60, 64, 67, 0.3), 0px 1px 3px 1px rgba(60, 64, 67, 0.15);\n",
              "      fill: #174EA6;\n",
              "    }\n",
              "\n",
              "    [theme=dark] .colab-df-convert {\n",
              "      background-color: #3B4455;\n",
              "      fill: #D2E3FC;\n",
              "    }\n",
              "\n",
              "    [theme=dark] .colab-df-convert:hover {\n",
              "      background-color: #434B5C;\n",
              "      box-shadow: 0px 1px 3px 1px rgba(0, 0, 0, 0.15);\n",
              "      filter: drop-shadow(0px 1px 2px rgba(0, 0, 0, 0.3));\n",
              "      fill: #FFFFFF;\n",
              "    }\n",
              "  </style>\n",
              "\n",
              "      <script>\n",
              "        const buttonEl =\n",
              "          document.querySelector('#df-23c96c9c-a9a7-4137-934d-d2a26e0a7a61 button.colab-df-convert');\n",
              "        buttonEl.style.display =\n",
              "          google.colab.kernel.accessAllowed ? 'block' : 'none';\n",
              "\n",
              "        async function convertToInteractive(key) {\n",
              "          const element = document.querySelector('#df-23c96c9c-a9a7-4137-934d-d2a26e0a7a61');\n",
              "          const dataTable =\n",
              "            await google.colab.kernel.invokeFunction('convertToInteractive',\n",
              "                                                     [key], {});\n",
              "          if (!dataTable) return;\n",
              "\n",
              "          const docLinkHtml = 'Like what you see? Visit the ' +\n",
              "            '<a target=\"_blank\" href=https://colab.research.google.com/notebooks/data_table.ipynb>data table notebook</a>'\n",
              "            + ' to learn more about interactive tables.';\n",
              "          element.innerHTML = '';\n",
              "          dataTable['output_type'] = 'display_data';\n",
              "          await google.colab.output.renderOutput(dataTable, element);\n",
              "          const docLink = document.createElement('div');\n",
              "          docLink.innerHTML = docLinkHtml;\n",
              "          element.appendChild(docLink);\n",
              "        }\n",
              "      </script>\n",
              "    </div>\n",
              "  </div>\n",
              "  "
            ]
          },
          "metadata": {},
          "execution_count": 49
        }
      ],
      "source": [
        "df_tiktok_20.head()"
      ]
    },
    {
      "cell_type": "code",
      "execution_count": 50,
      "metadata": {
        "colab": {
          "base_uri": "https://localhost:8080/",
          "height": 461
        },
        "id": "IhbEd8of1cI5",
        "outputId": "cc4f867f-ce38-47e8-8304-c6c649f63fbf"
      },
      "outputs": [
        {
          "output_type": "execute_result",
          "data": {
            "text/plain": [
              "                               track_name    artist_name  artist_pop  \\\n",
              "0               STAY (with Justin Bieber)  The Kid LAROI          83   \n",
              "1  Peaches (feat. Daniel Caesar & Giveon)  Justin Bieber          90   \n",
              "2              edamame (feat. Rich Brian)          bbno$          72   \n",
              "3                     Here's Your Perfect   Jamie Miller          65   \n",
              "4                                It's You        Sezairi          57   \n",
              "\n",
              "                        album  track_pop  danceability  energy  loudness  \\\n",
              "0   STAY (with Justin Bieber)         89         0.591   0.764    -5.484   \n",
              "1                     Justice         86         0.677   0.696    -6.181   \n",
              "2  edamame (feat. Rich Brian)         77         0.815   0.848    -4.704   \n",
              "3         Here's Your Perfect         77         0.558   0.454    -5.335   \n",
              "4                    It's You         73         0.630   0.456    -8.285   \n",
              "\n",
              "   mode  key  speechiness  acousticness  instrumentalness  liveness  valence  \\\n",
              "0     1    1       0.0483        0.0383          0.000000    0.1030    0.478   \n",
              "1     1    0       0.1190        0.3210          0.000000    0.4200    0.464   \n",
              "2     0    4       0.1150        0.0230          0.000162    0.0265    0.684   \n",
              "3     1    6       0.0551        0.4990          0.000000    0.1460    0.424   \n",
              "4     1    8       0.0317        0.5450          0.000000    0.1140    0.166   \n",
              "\n",
              "     tempo  time_signature  duration_ms  \n",
              "0  169.928               4       141806  \n",
              "1   90.030               4       198082  \n",
              "2  106.032               4       133707  \n",
              "3  113.120               4       158594  \n",
              "4  137.915               3       251440  "
            ],
            "text/html": [
              "\n",
              "  <div id=\"df-1005e721-8db6-4cfc-81d5-11fb4e079b7a\">\n",
              "    <div class=\"colab-df-container\">\n",
              "      <div>\n",
              "<style scoped>\n",
              "    .dataframe tbody tr th:only-of-type {\n",
              "        vertical-align: middle;\n",
              "    }\n",
              "\n",
              "    .dataframe tbody tr th {\n",
              "        vertical-align: top;\n",
              "    }\n",
              "\n",
              "    .dataframe thead th {\n",
              "        text-align: right;\n",
              "    }\n",
              "</style>\n",
              "<table border=\"1\" class=\"dataframe\">\n",
              "  <thead>\n",
              "    <tr style=\"text-align: right;\">\n",
              "      <th></th>\n",
              "      <th>track_name</th>\n",
              "      <th>artist_name</th>\n",
              "      <th>artist_pop</th>\n",
              "      <th>album</th>\n",
              "      <th>track_pop</th>\n",
              "      <th>danceability</th>\n",
              "      <th>energy</th>\n",
              "      <th>loudness</th>\n",
              "      <th>mode</th>\n",
              "      <th>key</th>\n",
              "      <th>speechiness</th>\n",
              "      <th>acousticness</th>\n",
              "      <th>instrumentalness</th>\n",
              "      <th>liveness</th>\n",
              "      <th>valence</th>\n",
              "      <th>tempo</th>\n",
              "      <th>time_signature</th>\n",
              "      <th>duration_ms</th>\n",
              "    </tr>\n",
              "  </thead>\n",
              "  <tbody>\n",
              "    <tr>\n",
              "      <th>0</th>\n",
              "      <td>STAY (with Justin Bieber)</td>\n",
              "      <td>The Kid LAROI</td>\n",
              "      <td>83</td>\n",
              "      <td>STAY (with Justin Bieber)</td>\n",
              "      <td>89</td>\n",
              "      <td>0.591</td>\n",
              "      <td>0.764</td>\n",
              "      <td>-5.484</td>\n",
              "      <td>1</td>\n",
              "      <td>1</td>\n",
              "      <td>0.0483</td>\n",
              "      <td>0.0383</td>\n",
              "      <td>0.000000</td>\n",
              "      <td>0.1030</td>\n",
              "      <td>0.478</td>\n",
              "      <td>169.928</td>\n",
              "      <td>4</td>\n",
              "      <td>141806</td>\n",
              "    </tr>\n",
              "    <tr>\n",
              "      <th>1</th>\n",
              "      <td>Peaches (feat. Daniel Caesar &amp; Giveon)</td>\n",
              "      <td>Justin Bieber</td>\n",
              "      <td>90</td>\n",
              "      <td>Justice</td>\n",
              "      <td>86</td>\n",
              "      <td>0.677</td>\n",
              "      <td>0.696</td>\n",
              "      <td>-6.181</td>\n",
              "      <td>1</td>\n",
              "      <td>0</td>\n",
              "      <td>0.1190</td>\n",
              "      <td>0.3210</td>\n",
              "      <td>0.000000</td>\n",
              "      <td>0.4200</td>\n",
              "      <td>0.464</td>\n",
              "      <td>90.030</td>\n",
              "      <td>4</td>\n",
              "      <td>198082</td>\n",
              "    </tr>\n",
              "    <tr>\n",
              "      <th>2</th>\n",
              "      <td>edamame (feat. Rich Brian)</td>\n",
              "      <td>bbno$</td>\n",
              "      <td>72</td>\n",
              "      <td>edamame (feat. Rich Brian)</td>\n",
              "      <td>77</td>\n",
              "      <td>0.815</td>\n",
              "      <td>0.848</td>\n",
              "      <td>-4.704</td>\n",
              "      <td>0</td>\n",
              "      <td>4</td>\n",
              "      <td>0.1150</td>\n",
              "      <td>0.0230</td>\n",
              "      <td>0.000162</td>\n",
              "      <td>0.0265</td>\n",
              "      <td>0.684</td>\n",
              "      <td>106.032</td>\n",
              "      <td>4</td>\n",
              "      <td>133707</td>\n",
              "    </tr>\n",
              "    <tr>\n",
              "      <th>3</th>\n",
              "      <td>Here's Your Perfect</td>\n",
              "      <td>Jamie Miller</td>\n",
              "      <td>65</td>\n",
              "      <td>Here's Your Perfect</td>\n",
              "      <td>77</td>\n",
              "      <td>0.558</td>\n",
              "      <td>0.454</td>\n",
              "      <td>-5.335</td>\n",
              "      <td>1</td>\n",
              "      <td>6</td>\n",
              "      <td>0.0551</td>\n",
              "      <td>0.4990</td>\n",
              "      <td>0.000000</td>\n",
              "      <td>0.1460</td>\n",
              "      <td>0.424</td>\n",
              "      <td>113.120</td>\n",
              "      <td>4</td>\n",
              "      <td>158594</td>\n",
              "    </tr>\n",
              "    <tr>\n",
              "      <th>4</th>\n",
              "      <td>It's You</td>\n",
              "      <td>Sezairi</td>\n",
              "      <td>57</td>\n",
              "      <td>It's You</td>\n",
              "      <td>73</td>\n",
              "      <td>0.630</td>\n",
              "      <td>0.456</td>\n",
              "      <td>-8.285</td>\n",
              "      <td>1</td>\n",
              "      <td>8</td>\n",
              "      <td>0.0317</td>\n",
              "      <td>0.5450</td>\n",
              "      <td>0.000000</td>\n",
              "      <td>0.1140</td>\n",
              "      <td>0.166</td>\n",
              "      <td>137.915</td>\n",
              "      <td>3</td>\n",
              "      <td>251440</td>\n",
              "    </tr>\n",
              "  </tbody>\n",
              "</table>\n",
              "</div>\n",
              "      <button class=\"colab-df-convert\" onclick=\"convertToInteractive('df-1005e721-8db6-4cfc-81d5-11fb4e079b7a')\"\n",
              "              title=\"Convert this dataframe to an interactive table.\"\n",
              "              style=\"display:none;\">\n",
              "        \n",
              "  <svg xmlns=\"http://www.w3.org/2000/svg\" height=\"24px\"viewBox=\"0 0 24 24\"\n",
              "       width=\"24px\">\n",
              "    <path d=\"M0 0h24v24H0V0z\" fill=\"none\"/>\n",
              "    <path d=\"M18.56 5.44l.94 2.06.94-2.06 2.06-.94-2.06-.94-.94-2.06-.94 2.06-2.06.94zm-11 1L8.5 8.5l.94-2.06 2.06-.94-2.06-.94L8.5 2.5l-.94 2.06-2.06.94zm10 10l.94 2.06.94-2.06 2.06-.94-2.06-.94-.94-2.06-.94 2.06-2.06.94z\"/><path d=\"M17.41 7.96l-1.37-1.37c-.4-.4-.92-.59-1.43-.59-.52 0-1.04.2-1.43.59L10.3 9.45l-7.72 7.72c-.78.78-.78 2.05 0 2.83L4 21.41c.39.39.9.59 1.41.59.51 0 1.02-.2 1.41-.59l7.78-7.78 2.81-2.81c.8-.78.8-2.07 0-2.86zM5.41 20L4 18.59l7.72-7.72 1.47 1.35L5.41 20z\"/>\n",
              "  </svg>\n",
              "      </button>\n",
              "      \n",
              "  <style>\n",
              "    .colab-df-container {\n",
              "      display:flex;\n",
              "      flex-wrap:wrap;\n",
              "      gap: 12px;\n",
              "    }\n",
              "\n",
              "    .colab-df-convert {\n",
              "      background-color: #E8F0FE;\n",
              "      border: none;\n",
              "      border-radius: 50%;\n",
              "      cursor: pointer;\n",
              "      display: none;\n",
              "      fill: #1967D2;\n",
              "      height: 32px;\n",
              "      padding: 0 0 0 0;\n",
              "      width: 32px;\n",
              "    }\n",
              "\n",
              "    .colab-df-convert:hover {\n",
              "      background-color: #E2EBFA;\n",
              "      box-shadow: 0px 1px 2px rgba(60, 64, 67, 0.3), 0px 1px 3px 1px rgba(60, 64, 67, 0.15);\n",
              "      fill: #174EA6;\n",
              "    }\n",
              "\n",
              "    [theme=dark] .colab-df-convert {\n",
              "      background-color: #3B4455;\n",
              "      fill: #D2E3FC;\n",
              "    }\n",
              "\n",
              "    [theme=dark] .colab-df-convert:hover {\n",
              "      background-color: #434B5C;\n",
              "      box-shadow: 0px 1px 3px 1px rgba(0, 0, 0, 0.15);\n",
              "      filter: drop-shadow(0px 1px 2px rgba(0, 0, 0, 0.3));\n",
              "      fill: #FFFFFF;\n",
              "    }\n",
              "  </style>\n",
              "\n",
              "      <script>\n",
              "        const buttonEl =\n",
              "          document.querySelector('#df-1005e721-8db6-4cfc-81d5-11fb4e079b7a button.colab-df-convert');\n",
              "        buttonEl.style.display =\n",
              "          google.colab.kernel.accessAllowed ? 'block' : 'none';\n",
              "\n",
              "        async function convertToInteractive(key) {\n",
              "          const element = document.querySelector('#df-1005e721-8db6-4cfc-81d5-11fb4e079b7a');\n",
              "          const dataTable =\n",
              "            await google.colab.kernel.invokeFunction('convertToInteractive',\n",
              "                                                     [key], {});\n",
              "          if (!dataTable) return;\n",
              "\n",
              "          const docLinkHtml = 'Like what you see? Visit the ' +\n",
              "            '<a target=\"_blank\" href=https://colab.research.google.com/notebooks/data_table.ipynb>data table notebook</a>'\n",
              "            + ' to learn more about interactive tables.';\n",
              "          element.innerHTML = '';\n",
              "          dataTable['output_type'] = 'display_data';\n",
              "          await google.colab.output.renderOutput(dataTable, element);\n",
              "          const docLink = document.createElement('div');\n",
              "          docLink.innerHTML = docLinkHtml;\n",
              "          element.appendChild(docLink);\n",
              "        }\n",
              "      </script>\n",
              "    </div>\n",
              "  </div>\n",
              "  "
            ]
          },
          "metadata": {},
          "execution_count": 50
        }
      ],
      "source": [
        "df_tiktok_21.head()"
      ]
    },
    {
      "cell_type": "code",
      "execution_count": 51,
      "metadata": {
        "id": "KKJBDGC21cZF"
      },
      "outputs": [],
      "source": [
        "# Combine the tiktok datasets\n",
        "data_tiktok = [df_tiktok_19, df_tiktok_20, df_tiktok_21]\n",
        "df_tiktok_full = pd.concat(data_tiktok)"
      ]
    },
    {
      "cell_type": "code",
      "execution_count": 52,
      "metadata": {
        "colab": {
          "base_uri": "https://localhost:8080/"
        },
        "id": "5AXhyqlrMnYp",
        "outputId": "5c50fe34-62f6-4b44-c4a7-7ccde0929b34"
      },
      "outputs": [
        {
          "output_type": "execute_result",
          "data": {
            "text/plain": [
              "705"
            ]
          },
          "metadata": {},
          "execution_count": 52
        }
      ],
      "source": [
        "# Extract the track name and artist to check for the overlap\n",
        "df_tiktok_tracks = df_tiktok_full[['track_name', 'artist_name']]\n",
        "\n",
        "# Check number of rows\n",
        "df_tiktok_tracks.shape[0]"
      ]
    },
    {
      "cell_type": "code",
      "execution_count": 53,
      "metadata": {
        "colab": {
          "base_uri": "https://localhost:8080/"
        },
        "id": "qBAyfruiUPD1",
        "outputId": "ee093168-6ba6-4935-d76e-a1d9e91c2970"
      },
      "outputs": [
        {
          "output_type": "execute_result",
          "data": {
            "text/plain": [
              "641"
            ]
          },
          "metadata": {},
          "execution_count": 53
        }
      ],
      "source": [
        "# Merge with spotify features on track names only to check overlap\n",
        "df_tiktok_tracks_only = feature_matches.merge(df_tiktok_tracks.drop_duplicates(), left_on = ['title'], right_on=['track_name'], how='inner')\n",
        "\n",
        "# Check overlap\n",
        "df_tiktok_tracks_only.shape[0]"
      ]
    },
    {
      "cell_type": "code",
      "execution_count": 54,
      "metadata": {
        "id": "2C0fFJATUy4M"
      },
      "outputs": [],
      "source": [
        "# Review rows that didn't match to see if there's more clean-up that can be done \n",
        "df_tiktok_full_merge = feature_matches.merge(df_tiktok_tracks.drop_duplicates(), left_on = ['title'], right_on=['track_name'], how='outer', indicator = True)"
      ]
    },
    {
      "cell_type": "code",
      "execution_count": 55,
      "metadata": {
        "colab": {
          "base_uri": "https://localhost:8080/",
          "height": 206
        },
        "id": "tnSpyq4oV8bu",
        "outputId": "71b6a07b-1ac7-46f2-d884-10ab8f20d74b"
      },
      "outputs": [
        {
          "output_type": "execute_result",
          "data": {
            "text/plain": [
              "     title     artist track_name artist_name     _merge\n",
              "0  Ride It     Regard    Ride It      Regard       both\n",
              "1   +Linda      Dalex        NaN         NaN  left_only\n",
              "2     Woah   Lil Baby        NaN         NaN  left_only\n",
              "3     25/8  Bad Bunny        NaN         NaN  left_only\n",
              "4     Keii   Anuel AA        NaN         NaN  left_only"
            ],
            "text/html": [
              "\n",
              "  <div id=\"df-d408decc-7df9-43ad-b0fd-e0856aa95dd8\">\n",
              "    <div class=\"colab-df-container\">\n",
              "      <div>\n",
              "<style scoped>\n",
              "    .dataframe tbody tr th:only-of-type {\n",
              "        vertical-align: middle;\n",
              "    }\n",
              "\n",
              "    .dataframe tbody tr th {\n",
              "        vertical-align: top;\n",
              "    }\n",
              "\n",
              "    .dataframe thead th {\n",
              "        text-align: right;\n",
              "    }\n",
              "</style>\n",
              "<table border=\"1\" class=\"dataframe\">\n",
              "  <thead>\n",
              "    <tr style=\"text-align: right;\">\n",
              "      <th></th>\n",
              "      <th>title</th>\n",
              "      <th>artist</th>\n",
              "      <th>track_name</th>\n",
              "      <th>artist_name</th>\n",
              "      <th>_merge</th>\n",
              "    </tr>\n",
              "  </thead>\n",
              "  <tbody>\n",
              "    <tr>\n",
              "      <th>0</th>\n",
              "      <td>Ride It</td>\n",
              "      <td>Regard</td>\n",
              "      <td>Ride It</td>\n",
              "      <td>Regard</td>\n",
              "      <td>both</td>\n",
              "    </tr>\n",
              "    <tr>\n",
              "      <th>1</th>\n",
              "      <td>+Linda</td>\n",
              "      <td>Dalex</td>\n",
              "      <td>NaN</td>\n",
              "      <td>NaN</td>\n",
              "      <td>left_only</td>\n",
              "    </tr>\n",
              "    <tr>\n",
              "      <th>2</th>\n",
              "      <td>Woah</td>\n",
              "      <td>Lil Baby</td>\n",
              "      <td>NaN</td>\n",
              "      <td>NaN</td>\n",
              "      <td>left_only</td>\n",
              "    </tr>\n",
              "    <tr>\n",
              "      <th>3</th>\n",
              "      <td>25/8</td>\n",
              "      <td>Bad Bunny</td>\n",
              "      <td>NaN</td>\n",
              "      <td>NaN</td>\n",
              "      <td>left_only</td>\n",
              "    </tr>\n",
              "    <tr>\n",
              "      <th>4</th>\n",
              "      <td>Keii</td>\n",
              "      <td>Anuel AA</td>\n",
              "      <td>NaN</td>\n",
              "      <td>NaN</td>\n",
              "      <td>left_only</td>\n",
              "    </tr>\n",
              "  </tbody>\n",
              "</table>\n",
              "</div>\n",
              "      <button class=\"colab-df-convert\" onclick=\"convertToInteractive('df-d408decc-7df9-43ad-b0fd-e0856aa95dd8')\"\n",
              "              title=\"Convert this dataframe to an interactive table.\"\n",
              "              style=\"display:none;\">\n",
              "        \n",
              "  <svg xmlns=\"http://www.w3.org/2000/svg\" height=\"24px\"viewBox=\"0 0 24 24\"\n",
              "       width=\"24px\">\n",
              "    <path d=\"M0 0h24v24H0V0z\" fill=\"none\"/>\n",
              "    <path d=\"M18.56 5.44l.94 2.06.94-2.06 2.06-.94-2.06-.94-.94-2.06-.94 2.06-2.06.94zm-11 1L8.5 8.5l.94-2.06 2.06-.94-2.06-.94L8.5 2.5l-.94 2.06-2.06.94zm10 10l.94 2.06.94-2.06 2.06-.94-2.06-.94-.94-2.06-.94 2.06-2.06.94z\"/><path d=\"M17.41 7.96l-1.37-1.37c-.4-.4-.92-.59-1.43-.59-.52 0-1.04.2-1.43.59L10.3 9.45l-7.72 7.72c-.78.78-.78 2.05 0 2.83L4 21.41c.39.39.9.59 1.41.59.51 0 1.02-.2 1.41-.59l7.78-7.78 2.81-2.81c.8-.78.8-2.07 0-2.86zM5.41 20L4 18.59l7.72-7.72 1.47 1.35L5.41 20z\"/>\n",
              "  </svg>\n",
              "      </button>\n",
              "      \n",
              "  <style>\n",
              "    .colab-df-container {\n",
              "      display:flex;\n",
              "      flex-wrap:wrap;\n",
              "      gap: 12px;\n",
              "    }\n",
              "\n",
              "    .colab-df-convert {\n",
              "      background-color: #E8F0FE;\n",
              "      border: none;\n",
              "      border-radius: 50%;\n",
              "      cursor: pointer;\n",
              "      display: none;\n",
              "      fill: #1967D2;\n",
              "      height: 32px;\n",
              "      padding: 0 0 0 0;\n",
              "      width: 32px;\n",
              "    }\n",
              "\n",
              "    .colab-df-convert:hover {\n",
              "      background-color: #E2EBFA;\n",
              "      box-shadow: 0px 1px 2px rgba(60, 64, 67, 0.3), 0px 1px 3px 1px rgba(60, 64, 67, 0.15);\n",
              "      fill: #174EA6;\n",
              "    }\n",
              "\n",
              "    [theme=dark] .colab-df-convert {\n",
              "      background-color: #3B4455;\n",
              "      fill: #D2E3FC;\n",
              "    }\n",
              "\n",
              "    [theme=dark] .colab-df-convert:hover {\n",
              "      background-color: #434B5C;\n",
              "      box-shadow: 0px 1px 3px 1px rgba(0, 0, 0, 0.15);\n",
              "      filter: drop-shadow(0px 1px 2px rgba(0, 0, 0, 0.3));\n",
              "      fill: #FFFFFF;\n",
              "    }\n",
              "  </style>\n",
              "\n",
              "      <script>\n",
              "        const buttonEl =\n",
              "          document.querySelector('#df-d408decc-7df9-43ad-b0fd-e0856aa95dd8 button.colab-df-convert');\n",
              "        buttonEl.style.display =\n",
              "          google.colab.kernel.accessAllowed ? 'block' : 'none';\n",
              "\n",
              "        async function convertToInteractive(key) {\n",
              "          const element = document.querySelector('#df-d408decc-7df9-43ad-b0fd-e0856aa95dd8');\n",
              "          const dataTable =\n",
              "            await google.colab.kernel.invokeFunction('convertToInteractive',\n",
              "                                                     [key], {});\n",
              "          if (!dataTable) return;\n",
              "\n",
              "          const docLinkHtml = 'Like what you see? Visit the ' +\n",
              "            '<a target=\"_blank\" href=https://colab.research.google.com/notebooks/data_table.ipynb>data table notebook</a>'\n",
              "            + ' to learn more about interactive tables.';\n",
              "          element.innerHTML = '';\n",
              "          dataTable['output_type'] = 'display_data';\n",
              "          await google.colab.output.renderOutput(dataTable, element);\n",
              "          const docLink = document.createElement('div');\n",
              "          docLink.innerHTML = docLinkHtml;\n",
              "          element.appendChild(docLink);\n",
              "        }\n",
              "      </script>\n",
              "    </div>\n",
              "  </div>\n",
              "  "
            ]
          },
          "metadata": {},
          "execution_count": 55
        }
      ],
      "source": [
        "df_tiktok_full_merge.head()"
      ]
    },
    {
      "cell_type": "code",
      "execution_count": 56,
      "metadata": {
        "colab": {
          "base_uri": "https://localhost:8080/"
        },
        "id": "7BUzsCr2VuXv",
        "outputId": "b52092ca-a6de-4638-d513-bace64d6d37b"
      },
      "outputs": [
        {
          "output_type": "stream",
          "name": "stdout",
          "text": [
            "           title     artist                              track_name  \\\n",
            "1         +Linda      Dalex                                     NaN   \n",
            "2           Woah   Lil Baby                                     NaN   \n",
            "3           25/8  Bad Bunny                                     NaN   \n",
            "4           Keii   Anuel AA                                     NaN   \n",
            "5      Hei rakas       BEHM                                     NaN   \n",
            "...          ...        ...                                     ...   \n",
            "20743        NaN        NaN                           Favorite Girl   \n",
            "20744        NaN        NaN  Love Tonight - David Guetta Remix Edit   \n",
            "20745        NaN        NaN                           Polaroid Love   \n",
            "20746        NaN        NaN                                   Panda   \n",
            "20747        NaN        NaN                             TO THE MOON   \n",
            "\n",
            "         artist_name      _merge  \n",
            "1                NaN   left_only  \n",
            "2                NaN   left_only  \n",
            "3                NaN   left_only  \n",
            "4                NaN   left_only  \n",
            "5                NaN   left_only  \n",
            "...              ...         ...  \n",
            "20743  Justin Bieber  right_only  \n",
            "20744         Shouse  right_only  \n",
            "20745        ENHYPEN  right_only  \n",
            "20746      Desiigner  right_only  \n",
            "20747       Jnr Choi  right_only  \n",
            "\n",
            "[20107 rows x 5 columns]\n"
          ]
        }
      ],
      "source": [
        "# Review rows that didn't match to see if there's more clean-up that can be done \n",
        "print(df_tiktok_full_merge[df_tiktok_full_merge['_merge'] != 'both'])"
      ]
    },
    {
      "cell_type": "code",
      "execution_count": 57,
      "metadata": {
        "colab": {
          "base_uri": "https://localhost:8080/"
        },
        "id": "Wxuu_bf2WYfF",
        "outputId": "77cc3943-0588-4aef-d89d-dcc0b5102280"
      },
      "outputs": [
        {
          "output_type": "stream",
          "name": "stdout",
          "text": [
            "Empty DataFrame\n",
            "Columns: [title, artist, track_name, artist_name, _merge, title_l, track_name_l]\n",
            "Index: []\n"
          ]
        }
      ],
      "source": [
        "# do a check to see if I convert the track names to lower case, could I get more matches \n",
        "df_tiktok_full_merge.dropna(inplace = True)\n",
        "df_tiktok_full_merge['title_l'] = df_tiktok_full_merge.apply(lambda x : x['title'].lower(), axis =1)\n",
        "df_tiktok_full_merge['track_name_l'] = df_tiktok_full_merge.apply(lambda x : x['track_name'].lower(), axis =1)\n",
        "\n",
        "print(df_tiktok_full_merge[(df_tiktok_full_merge['title_l'] == df_tiktok_full_merge['track_name_l']) & (df_tiktok_full_merge['_merge'] != 'both')])\n",
        "\n",
        "# prints an empty dataframe so the conclusion is that no I can't"
      ]
    },
    {
      "cell_type": "code",
      "execution_count": 58,
      "metadata": {
        "id": "evjfggiCWtcD"
      },
      "outputs": [],
      "source": [
        "# Create a match column to indicate cases where the tiktok artist name can be found as a substring in the spotify artist column \n",
        "df_tiktok_tracks_only['match'] = df_tiktok_tracks_only.apply(lambda x: x['artist_name'].lower().find(x['artist'].lower()), axis=1).ge(0)\n",
        "\n",
        "# Create a match column to indicate cases where the spotify artist column can be found as a substring in the tiktok artist name \n",
        "df_tiktok_tracks_only['match_2'] = df_tiktok_tracks_only.apply(lambda x: x['artist'].lower().find(x['artist_name'].lower()), axis=1).ge(0)"
      ]
    },
    {
      "cell_type": "code",
      "execution_count": 59,
      "metadata": {
        "colab": {
          "base_uri": "https://localhost:8080/"
        },
        "id": "Ef71rA5qiRYD",
        "outputId": "87a45b8a-fa0c-4c85-b463-7422d1af5ff7"
      },
      "outputs": [
        {
          "output_type": "stream",
          "name": "stdout",
          "text": [
            "                                                 title  \\\n",
            "0                                              Ride It   \n",
            "1                                                GOOBA   \n",
            "2                                               Ransom   \n",
            "3                                      Don't Start Now   \n",
            "4                                Roses - Imanbek Remix   \n",
            "..                                                 ...   \n",
            "636                         edamame (feat. Rich Brian)   \n",
            "637   Famous (I'm The One) (feat. Yo Gotti & DeJ Loaf)   \n",
            "638          THICK (feat. Megan Thee Stallion) - Remix   \n",
            "639     If the World Was Ending (feat. Julia Michaels)   \n",
            "640  SAD GIRLZ LUV MONEY Remix (feat. Kali Uchis an...   \n",
            "\n",
            "                                artist  \\\n",
            "0                               Regard   \n",
            "1                              6ix9ine   \n",
            "2                            Lil Tecca   \n",
            "3                             Dua Lipa   \n",
            "4                            SAINt JHN   \n",
            "..                                 ...   \n",
            "636                    bbno$Rich Brian   \n",
            "637  Mozzy, Iamsu!, Yo Gotti, DeJ Loaf   \n",
            "638      DJ Chose, Megan Thee Stallion   \n",
            "639              JP SaxeJulia Michaels   \n",
            "640           Amaarae;Kali Uchis;Moliy   \n",
            "\n",
            "                                            track_name artist_name  match  \\\n",
            "0                                              Ride It      Regard   True   \n",
            "1                                                GOOBA     6ix9ine   True   \n",
            "2                                               Ransom   Lil Tecca   True   \n",
            "3                                      Don't Start Now    Dua Lipa   True   \n",
            "4                                Roses - Imanbek Remix   SAINt JHN   True   \n",
            "..                                                 ...         ...    ...   \n",
            "636                         edamame (feat. Rich Brian)       bbno$  False   \n",
            "637   Famous (I'm The One) (feat. Yo Gotti & DeJ Loaf)       Mozzy  False   \n",
            "638          THICK (feat. Megan Thee Stallion) - Remix    DJ Chose  False   \n",
            "639     If the World Was Ending (feat. Julia Michaels)     JP Saxe  False   \n",
            "640  SAD GIRLZ LUV MONEY Remix (feat. Kali Uchis an...     Amaarae  False   \n",
            "\n",
            "     match_2  \n",
            "0       True  \n",
            "1       True  \n",
            "2       True  \n",
            "3       True  \n",
            "4       True  \n",
            "..       ...  \n",
            "636     True  \n",
            "637     True  \n",
            "638     True  \n",
            "639     True  \n",
            "640     True  \n",
            "\n",
            "[462 rows x 6 columns]\n"
          ]
        }
      ],
      "source": [
        "# review data to see which rows have matched\n",
        "print(df_tiktok_tracks_only[df_tiktok_tracks_only['match'] |df_tiktok_tracks_only['match_2']])"
      ]
    },
    {
      "cell_type": "code",
      "execution_count": 60,
      "metadata": {
        "colab": {
          "base_uri": "https://localhost:8080/"
        },
        "id": "Y9khMP9ZTkFg",
        "outputId": "9239758c-ea83-4f53-fdfd-4defe2371168"
      },
      "outputs": [
        {
          "output_type": "stream",
          "name": "stdout",
          "text": [
            "                   title                                   artist  \\\n",
            "6        Blinding Lights                                  Ouvindo   \n",
            "8                   Tutu                              Grupo Sigma   \n",
            "12                Say So  Poorchoice, Cam Sanders, Veronica Bravo   \n",
            "13                Say So                              Masked Wolf   \n",
            "17               Falling                             Harry Styles   \n",
            "..                   ...                                      ...   \n",
            "571          Baby Powder                                Jenevieve   \n",
            "582  MIDDLE OF THE NIGHT                                 Monsta X   \n",
            "600             Sunshine                              Young Dolph   \n",
            "601             Sunshine                              OneRepublic   \n",
            "617                Yours                                      JIN   \n",
            "\n",
            "              track_name    artist_name  match  match_2  \n",
            "6        Blinding Lights     The Weeknd  False    False  \n",
            "8                   Tutu         Camilo  False    False  \n",
            "12                Say So       Doja Cat  False    False  \n",
            "13                Say So       Doja Cat  False    False  \n",
            "17               Falling  Trevor Daniel  False    False  \n",
            "..                   ...            ...    ...      ...  \n",
            "571          Baby Powder  Bandingo YGNE  False    False  \n",
            "582  MIDDLE OF THE NIGHT     Elley Duhé  False    False  \n",
            "600             Sunshine      Ant Beale  False    False  \n",
            "601             Sunshine      Ant Beale  False    False  \n",
            "617                Yours         Raiden  False    False  \n",
            "\n",
            "[179 rows x 6 columns]\n"
          ]
        }
      ],
      "source": [
        "# review data to see which rows have not matched\n",
        "print(df_tiktok_tracks_only[(df_tiktok_tracks_only['match'] == False) & (df_tiktok_tracks_only['match_2'] == False)])"
      ]
    },
    {
      "cell_type": "code",
      "execution_count": 61,
      "metadata": {
        "colab": {
          "base_uri": "https://localhost:8080/",
          "height": 424
        },
        "id": "WMJjLZcVijGK",
        "outputId": "13537bee-cb56-4079-b548-0bb402bc9479"
      },
      "outputs": [
        {
          "output_type": "execute_result",
          "data": {
            "text/plain": [
              "                                                 title  \\\n",
              "7                                                 Tutu   \n",
              "9                     death bed (coffee for your head)   \n",
              "28                        Savage Remix (feat. Beyoncé)   \n",
              "29                        Savage Remix (feat. Beyoncé)   \n",
              "33                                        Lose Control   \n",
              "..                                                 ...   \n",
              "636                         edamame (feat. Rich Brian)   \n",
              "637   Famous (I'm The One) (feat. Yo Gotti & DeJ Loaf)   \n",
              "638          THICK (feat. Megan Thee Stallion) - Remix   \n",
              "639     If the World Was Ending (feat. Julia Michaels)   \n",
              "640  SAD GIRLZ LUV MONEY Remix (feat. Kali Uchis an...   \n",
              "\n",
              "                                artist  \\\n",
              "7                   Camilo, Pedro Capó   \n",
              "9                   Powfu, beabadoobee   \n",
              "28        Beyoncé, Megan Thee Stallion   \n",
              "29        Megan Thee Stallion, Beyoncé   \n",
              "33        MEDUZA, Becky Hill, Goodboys   \n",
              "..                                 ...   \n",
              "636                    bbno$Rich Brian   \n",
              "637  Mozzy, Iamsu!, Yo Gotti, DeJ Loaf   \n",
              "638      DJ Chose, Megan Thee Stallion   \n",
              "639              JP SaxeJulia Michaels   \n",
              "640           Amaarae;Kali Uchis;Moliy   \n",
              "\n",
              "                                            track_name          artist_name  \\\n",
              "7                                                 Tutu               Camilo   \n",
              "9                     death bed (coffee for your head)                Powfu   \n",
              "28                        Savage Remix (feat. Beyoncé)  Megan Thee Stallion   \n",
              "29                        Savage Remix (feat. Beyoncé)  Megan Thee Stallion   \n",
              "33                                        Lose Control               MEDUZA   \n",
              "..                                                 ...                  ...   \n",
              "636                         edamame (feat. Rich Brian)                bbno$   \n",
              "637   Famous (I'm The One) (feat. Yo Gotti & DeJ Loaf)                Mozzy   \n",
              "638          THICK (feat. Megan Thee Stallion) - Remix             DJ Chose   \n",
              "639     If the World Was Ending (feat. Julia Michaels)              JP Saxe   \n",
              "640  SAD GIRLZ LUV MONEY Remix (feat. Kali Uchis an...              Amaarae   \n",
              "\n",
              "     match  match_2  \n",
              "7    False     True  \n",
              "9    False     True  \n",
              "28   False     True  \n",
              "29   False     True  \n",
              "33   False     True  \n",
              "..     ...      ...  \n",
              "636  False     True  \n",
              "637  False     True  \n",
              "638  False     True  \n",
              "639  False     True  \n",
              "640  False     True  \n",
              "\n",
              "[96 rows x 6 columns]"
            ],
            "text/html": [
              "\n",
              "  <div id=\"df-54e1fa00-bac3-4fdb-8cd8-b9bd5d0d3c9b\">\n",
              "    <div class=\"colab-df-container\">\n",
              "      <div>\n",
              "<style scoped>\n",
              "    .dataframe tbody tr th:only-of-type {\n",
              "        vertical-align: middle;\n",
              "    }\n",
              "\n",
              "    .dataframe tbody tr th {\n",
              "        vertical-align: top;\n",
              "    }\n",
              "\n",
              "    .dataframe thead th {\n",
              "        text-align: right;\n",
              "    }\n",
              "</style>\n",
              "<table border=\"1\" class=\"dataframe\">\n",
              "  <thead>\n",
              "    <tr style=\"text-align: right;\">\n",
              "      <th></th>\n",
              "      <th>title</th>\n",
              "      <th>artist</th>\n",
              "      <th>track_name</th>\n",
              "      <th>artist_name</th>\n",
              "      <th>match</th>\n",
              "      <th>match_2</th>\n",
              "    </tr>\n",
              "  </thead>\n",
              "  <tbody>\n",
              "    <tr>\n",
              "      <th>7</th>\n",
              "      <td>Tutu</td>\n",
              "      <td>Camilo, Pedro Capó</td>\n",
              "      <td>Tutu</td>\n",
              "      <td>Camilo</td>\n",
              "      <td>False</td>\n",
              "      <td>True</td>\n",
              "    </tr>\n",
              "    <tr>\n",
              "      <th>9</th>\n",
              "      <td>death bed (coffee for your head)</td>\n",
              "      <td>Powfu, beabadoobee</td>\n",
              "      <td>death bed (coffee for your head)</td>\n",
              "      <td>Powfu</td>\n",
              "      <td>False</td>\n",
              "      <td>True</td>\n",
              "    </tr>\n",
              "    <tr>\n",
              "      <th>28</th>\n",
              "      <td>Savage Remix (feat. Beyoncé)</td>\n",
              "      <td>Beyoncé, Megan Thee Stallion</td>\n",
              "      <td>Savage Remix (feat. Beyoncé)</td>\n",
              "      <td>Megan Thee Stallion</td>\n",
              "      <td>False</td>\n",
              "      <td>True</td>\n",
              "    </tr>\n",
              "    <tr>\n",
              "      <th>29</th>\n",
              "      <td>Savage Remix (feat. Beyoncé)</td>\n",
              "      <td>Megan Thee Stallion, Beyoncé</td>\n",
              "      <td>Savage Remix (feat. Beyoncé)</td>\n",
              "      <td>Megan Thee Stallion</td>\n",
              "      <td>False</td>\n",
              "      <td>True</td>\n",
              "    </tr>\n",
              "    <tr>\n",
              "      <th>33</th>\n",
              "      <td>Lose Control</td>\n",
              "      <td>MEDUZA, Becky Hill, Goodboys</td>\n",
              "      <td>Lose Control</td>\n",
              "      <td>MEDUZA</td>\n",
              "      <td>False</td>\n",
              "      <td>True</td>\n",
              "    </tr>\n",
              "    <tr>\n",
              "      <th>...</th>\n",
              "      <td>...</td>\n",
              "      <td>...</td>\n",
              "      <td>...</td>\n",
              "      <td>...</td>\n",
              "      <td>...</td>\n",
              "      <td>...</td>\n",
              "    </tr>\n",
              "    <tr>\n",
              "      <th>636</th>\n",
              "      <td>edamame (feat. Rich Brian)</td>\n",
              "      <td>bbno$Rich Brian</td>\n",
              "      <td>edamame (feat. Rich Brian)</td>\n",
              "      <td>bbno$</td>\n",
              "      <td>False</td>\n",
              "      <td>True</td>\n",
              "    </tr>\n",
              "    <tr>\n",
              "      <th>637</th>\n",
              "      <td>Famous (I'm The One) (feat. Yo Gotti &amp; DeJ Loaf)</td>\n",
              "      <td>Mozzy, Iamsu!, Yo Gotti, DeJ Loaf</td>\n",
              "      <td>Famous (I'm The One) (feat. Yo Gotti &amp; DeJ Loaf)</td>\n",
              "      <td>Mozzy</td>\n",
              "      <td>False</td>\n",
              "      <td>True</td>\n",
              "    </tr>\n",
              "    <tr>\n",
              "      <th>638</th>\n",
              "      <td>THICK (feat. Megan Thee Stallion) - Remix</td>\n",
              "      <td>DJ Chose, Megan Thee Stallion</td>\n",
              "      <td>THICK (feat. Megan Thee Stallion) - Remix</td>\n",
              "      <td>DJ Chose</td>\n",
              "      <td>False</td>\n",
              "      <td>True</td>\n",
              "    </tr>\n",
              "    <tr>\n",
              "      <th>639</th>\n",
              "      <td>If the World Was Ending (feat. Julia Michaels)</td>\n",
              "      <td>JP SaxeJulia Michaels</td>\n",
              "      <td>If the World Was Ending (feat. Julia Michaels)</td>\n",
              "      <td>JP Saxe</td>\n",
              "      <td>False</td>\n",
              "      <td>True</td>\n",
              "    </tr>\n",
              "    <tr>\n",
              "      <th>640</th>\n",
              "      <td>SAD GIRLZ LUV MONEY Remix (feat. Kali Uchis an...</td>\n",
              "      <td>Amaarae;Kali Uchis;Moliy</td>\n",
              "      <td>SAD GIRLZ LUV MONEY Remix (feat. Kali Uchis an...</td>\n",
              "      <td>Amaarae</td>\n",
              "      <td>False</td>\n",
              "      <td>True</td>\n",
              "    </tr>\n",
              "  </tbody>\n",
              "</table>\n",
              "<p>96 rows × 6 columns</p>\n",
              "</div>\n",
              "      <button class=\"colab-df-convert\" onclick=\"convertToInteractive('df-54e1fa00-bac3-4fdb-8cd8-b9bd5d0d3c9b')\"\n",
              "              title=\"Convert this dataframe to an interactive table.\"\n",
              "              style=\"display:none;\">\n",
              "        \n",
              "  <svg xmlns=\"http://www.w3.org/2000/svg\" height=\"24px\"viewBox=\"0 0 24 24\"\n",
              "       width=\"24px\">\n",
              "    <path d=\"M0 0h24v24H0V0z\" fill=\"none\"/>\n",
              "    <path d=\"M18.56 5.44l.94 2.06.94-2.06 2.06-.94-2.06-.94-.94-2.06-.94 2.06-2.06.94zm-11 1L8.5 8.5l.94-2.06 2.06-.94-2.06-.94L8.5 2.5l-.94 2.06-2.06.94zm10 10l.94 2.06.94-2.06 2.06-.94-2.06-.94-.94-2.06-.94 2.06-2.06.94z\"/><path d=\"M17.41 7.96l-1.37-1.37c-.4-.4-.92-.59-1.43-.59-.52 0-1.04.2-1.43.59L10.3 9.45l-7.72 7.72c-.78.78-.78 2.05 0 2.83L4 21.41c.39.39.9.59 1.41.59.51 0 1.02-.2 1.41-.59l7.78-7.78 2.81-2.81c.8-.78.8-2.07 0-2.86zM5.41 20L4 18.59l7.72-7.72 1.47 1.35L5.41 20z\"/>\n",
              "  </svg>\n",
              "      </button>\n",
              "      \n",
              "  <style>\n",
              "    .colab-df-container {\n",
              "      display:flex;\n",
              "      flex-wrap:wrap;\n",
              "      gap: 12px;\n",
              "    }\n",
              "\n",
              "    .colab-df-convert {\n",
              "      background-color: #E8F0FE;\n",
              "      border: none;\n",
              "      border-radius: 50%;\n",
              "      cursor: pointer;\n",
              "      display: none;\n",
              "      fill: #1967D2;\n",
              "      height: 32px;\n",
              "      padding: 0 0 0 0;\n",
              "      width: 32px;\n",
              "    }\n",
              "\n",
              "    .colab-df-convert:hover {\n",
              "      background-color: #E2EBFA;\n",
              "      box-shadow: 0px 1px 2px rgba(60, 64, 67, 0.3), 0px 1px 3px 1px rgba(60, 64, 67, 0.15);\n",
              "      fill: #174EA6;\n",
              "    }\n",
              "\n",
              "    [theme=dark] .colab-df-convert {\n",
              "      background-color: #3B4455;\n",
              "      fill: #D2E3FC;\n",
              "    }\n",
              "\n",
              "    [theme=dark] .colab-df-convert:hover {\n",
              "      background-color: #434B5C;\n",
              "      box-shadow: 0px 1px 3px 1px rgba(0, 0, 0, 0.15);\n",
              "      filter: drop-shadow(0px 1px 2px rgba(0, 0, 0, 0.3));\n",
              "      fill: #FFFFFF;\n",
              "    }\n",
              "  </style>\n",
              "\n",
              "      <script>\n",
              "        const buttonEl =\n",
              "          document.querySelector('#df-54e1fa00-bac3-4fdb-8cd8-b9bd5d0d3c9b button.colab-df-convert');\n",
              "        buttonEl.style.display =\n",
              "          google.colab.kernel.accessAllowed ? 'block' : 'none';\n",
              "\n",
              "        async function convertToInteractive(key) {\n",
              "          const element = document.querySelector('#df-54e1fa00-bac3-4fdb-8cd8-b9bd5d0d3c9b');\n",
              "          const dataTable =\n",
              "            await google.colab.kernel.invokeFunction('convertToInteractive',\n",
              "                                                     [key], {});\n",
              "          if (!dataTable) return;\n",
              "\n",
              "          const docLinkHtml = 'Like what you see? Visit the ' +\n",
              "            '<a target=\"_blank\" href=https://colab.research.google.com/notebooks/data_table.ipynb>data table notebook</a>'\n",
              "            + ' to learn more about interactive tables.';\n",
              "          element.innerHTML = '';\n",
              "          dataTable['output_type'] = 'display_data';\n",
              "          await google.colab.output.renderOutput(dataTable, element);\n",
              "          const docLink = document.createElement('div');\n",
              "          docLink.innerHTML = docLinkHtml;\n",
              "          element.appendChild(docLink);\n",
              "        }\n",
              "      </script>\n",
              "    </div>\n",
              "  </div>\n",
              "  "
            ]
          },
          "metadata": {},
          "execution_count": 61
        }
      ],
      "source": [
        "# check the rows where the artists names aren't an exact match - for visual inspection \n",
        "df_tiktok_tracks_only.loc[(df_tiktok_tracks_only['artist'] != df_tiktok_tracks_only['artist_name']) & (df_tiktok_tracks_only['match'] |df_tiktok_tracks_only['match_2'])]"
      ]
    },
    {
      "cell_type": "code",
      "execution_count": 62,
      "metadata": {
        "colab": {
          "base_uri": "https://localhost:8080/"
        },
        "id": "9VbUNXhYjJKW",
        "outputId": "862235f6-35a0-4255-809b-447dea8caacc"
      },
      "outputs": [
        {
          "output_type": "execute_result",
          "data": {
            "text/plain": [
              "462"
            ]
          },
          "metadata": {},
          "execution_count": 62
        }
      ],
      "source": [
        "# Create a dataframe of overlapping songs based on the two matches colums and drop duplicates\n",
        "df_tiktok_matches_final = df_tiktok_tracks_only.loc[(df_tiktok_tracks_only['match'] |df_tiktok_tracks_only['match_2'])]\n",
        "\n",
        "# Check the shape of the df \n",
        "df_tiktok_matches_final.shape[0]"
      ]
    },
    {
      "cell_type": "code",
      "execution_count": 63,
      "metadata": {
        "colab": {
          "base_uri": "https://localhost:8080/",
          "height": 175
        },
        "id": "kbwjCLEOTJzD",
        "outputId": "c673fac4-3921-4ccb-cb0f-0ce34c100c7b"
      },
      "outputs": [
        {
          "output_type": "execute_result",
          "data": {
            "text/plain": [
              "                                      title                   artist  \\\n",
              "81                                     Baby  Justin Bieber, Ludacris   \n",
              "268  Peaches (feat. Daniel Caesar & Giveon)            Justin Bieber   \n",
              "336                                 Hold On            Justin Bieber   \n",
              "350                                   Ghost            Justin Bieber   \n",
              "\n",
              "                                 track_name    artist_name  match  match_2  \n",
              "81                                     Baby  Justin Bieber  False     True  \n",
              "268  Peaches (feat. Daniel Caesar & Giveon)  Justin Bieber   True     True  \n",
              "336                                 Hold On  Justin Bieber   True     True  \n",
              "350                                   Ghost  Justin Bieber   True     True  "
            ],
            "text/html": [
              "\n",
              "  <div id=\"df-05dba211-a684-4e4b-8094-7f38547e4e7e\">\n",
              "    <div class=\"colab-df-container\">\n",
              "      <div>\n",
              "<style scoped>\n",
              "    .dataframe tbody tr th:only-of-type {\n",
              "        vertical-align: middle;\n",
              "    }\n",
              "\n",
              "    .dataframe tbody tr th {\n",
              "        vertical-align: top;\n",
              "    }\n",
              "\n",
              "    .dataframe thead th {\n",
              "        text-align: right;\n",
              "    }\n",
              "</style>\n",
              "<table border=\"1\" class=\"dataframe\">\n",
              "  <thead>\n",
              "    <tr style=\"text-align: right;\">\n",
              "      <th></th>\n",
              "      <th>title</th>\n",
              "      <th>artist</th>\n",
              "      <th>track_name</th>\n",
              "      <th>artist_name</th>\n",
              "      <th>match</th>\n",
              "      <th>match_2</th>\n",
              "    </tr>\n",
              "  </thead>\n",
              "  <tbody>\n",
              "    <tr>\n",
              "      <th>81</th>\n",
              "      <td>Baby</td>\n",
              "      <td>Justin Bieber, Ludacris</td>\n",
              "      <td>Baby</td>\n",
              "      <td>Justin Bieber</td>\n",
              "      <td>False</td>\n",
              "      <td>True</td>\n",
              "    </tr>\n",
              "    <tr>\n",
              "      <th>268</th>\n",
              "      <td>Peaches (feat. Daniel Caesar &amp; Giveon)</td>\n",
              "      <td>Justin Bieber</td>\n",
              "      <td>Peaches (feat. Daniel Caesar &amp; Giveon)</td>\n",
              "      <td>Justin Bieber</td>\n",
              "      <td>True</td>\n",
              "      <td>True</td>\n",
              "    </tr>\n",
              "    <tr>\n",
              "      <th>336</th>\n",
              "      <td>Hold On</td>\n",
              "      <td>Justin Bieber</td>\n",
              "      <td>Hold On</td>\n",
              "      <td>Justin Bieber</td>\n",
              "      <td>True</td>\n",
              "      <td>True</td>\n",
              "    </tr>\n",
              "    <tr>\n",
              "      <th>350</th>\n",
              "      <td>Ghost</td>\n",
              "      <td>Justin Bieber</td>\n",
              "      <td>Ghost</td>\n",
              "      <td>Justin Bieber</td>\n",
              "      <td>True</td>\n",
              "      <td>True</td>\n",
              "    </tr>\n",
              "  </tbody>\n",
              "</table>\n",
              "</div>\n",
              "      <button class=\"colab-df-convert\" onclick=\"convertToInteractive('df-05dba211-a684-4e4b-8094-7f38547e4e7e')\"\n",
              "              title=\"Convert this dataframe to an interactive table.\"\n",
              "              style=\"display:none;\">\n",
              "        \n",
              "  <svg xmlns=\"http://www.w3.org/2000/svg\" height=\"24px\"viewBox=\"0 0 24 24\"\n",
              "       width=\"24px\">\n",
              "    <path d=\"M0 0h24v24H0V0z\" fill=\"none\"/>\n",
              "    <path d=\"M18.56 5.44l.94 2.06.94-2.06 2.06-.94-2.06-.94-.94-2.06-.94 2.06-2.06.94zm-11 1L8.5 8.5l.94-2.06 2.06-.94-2.06-.94L8.5 2.5l-.94 2.06-2.06.94zm10 10l.94 2.06.94-2.06 2.06-.94-2.06-.94-.94-2.06-.94 2.06-2.06.94z\"/><path d=\"M17.41 7.96l-1.37-1.37c-.4-.4-.92-.59-1.43-.59-.52 0-1.04.2-1.43.59L10.3 9.45l-7.72 7.72c-.78.78-.78 2.05 0 2.83L4 21.41c.39.39.9.59 1.41.59.51 0 1.02-.2 1.41-.59l7.78-7.78 2.81-2.81c.8-.78.8-2.07 0-2.86zM5.41 20L4 18.59l7.72-7.72 1.47 1.35L5.41 20z\"/>\n",
              "  </svg>\n",
              "      </button>\n",
              "      \n",
              "  <style>\n",
              "    .colab-df-container {\n",
              "      display:flex;\n",
              "      flex-wrap:wrap;\n",
              "      gap: 12px;\n",
              "    }\n",
              "\n",
              "    .colab-df-convert {\n",
              "      background-color: #E8F0FE;\n",
              "      border: none;\n",
              "      border-radius: 50%;\n",
              "      cursor: pointer;\n",
              "      display: none;\n",
              "      fill: #1967D2;\n",
              "      height: 32px;\n",
              "      padding: 0 0 0 0;\n",
              "      width: 32px;\n",
              "    }\n",
              "\n",
              "    .colab-df-convert:hover {\n",
              "      background-color: #E2EBFA;\n",
              "      box-shadow: 0px 1px 2px rgba(60, 64, 67, 0.3), 0px 1px 3px 1px rgba(60, 64, 67, 0.15);\n",
              "      fill: #174EA6;\n",
              "    }\n",
              "\n",
              "    [theme=dark] .colab-df-convert {\n",
              "      background-color: #3B4455;\n",
              "      fill: #D2E3FC;\n",
              "    }\n",
              "\n",
              "    [theme=dark] .colab-df-convert:hover {\n",
              "      background-color: #434B5C;\n",
              "      box-shadow: 0px 1px 3px 1px rgba(0, 0, 0, 0.15);\n",
              "      filter: drop-shadow(0px 1px 2px rgba(0, 0, 0, 0.3));\n",
              "      fill: #FFFFFF;\n",
              "    }\n",
              "  </style>\n",
              "\n",
              "      <script>\n",
              "        const buttonEl =\n",
              "          document.querySelector('#df-05dba211-a684-4e4b-8094-7f38547e4e7e button.colab-df-convert');\n",
              "        buttonEl.style.display =\n",
              "          google.colab.kernel.accessAllowed ? 'block' : 'none';\n",
              "\n",
              "        async function convertToInteractive(key) {\n",
              "          const element = document.querySelector('#df-05dba211-a684-4e4b-8094-7f38547e4e7e');\n",
              "          const dataTable =\n",
              "            await google.colab.kernel.invokeFunction('convertToInteractive',\n",
              "                                                     [key], {});\n",
              "          if (!dataTable) return;\n",
              "\n",
              "          const docLinkHtml = 'Like what you see? Visit the ' +\n",
              "            '<a target=\"_blank\" href=https://colab.research.google.com/notebooks/data_table.ipynb>data table notebook</a>'\n",
              "            + ' to learn more about interactive tables.';\n",
              "          element.innerHTML = '';\n",
              "          dataTable['output_type'] = 'display_data';\n",
              "          await google.colab.output.renderOutput(dataTable, element);\n",
              "          const docLink = document.createElement('div');\n",
              "          docLink.innerHTML = docLinkHtml;\n",
              "          element.appendChild(docLink);\n",
              "        }\n",
              "      </script>\n",
              "    </div>\n",
              "  </div>\n",
              "  "
            ]
          },
          "metadata": {},
          "execution_count": 63
        }
      ],
      "source": [
        "# spot check an artist to see if the name matching looks appropriate \n",
        "df_tiktok_matches_final.loc[(df_tiktok_matches_final['artist_name'] == \"Justin Bieber\" )|( df_tiktok_matches_final['artist'] == \"Justin Bieber\" )]"
      ]
    },
    {
      "cell_type": "code",
      "execution_count": 64,
      "metadata": {
        "colab": {
          "base_uri": "https://localhost:8080/"
        },
        "id": "XrdLP4IVPxZZ",
        "outputId": "c96fda77-e96e-4e2f-c7a2-ee66f2c4c1e1"
      },
      "outputs": [
        {
          "output_type": "stream",
          "name": "stderr",
          "text": [
            "<ipython-input-64-d43e3dc5fd77>:2: SettingWithCopyWarning: \n",
            "A value is trying to be set on a copy of a slice from a DataFrame\n",
            "\n",
            "See the caveats in the documentation: https://pandas.pydata.org/pandas-docs/stable/user_guide/indexing.html#returning-a-view-versus-a-copy\n",
            "  df_tiktok_matches_final.drop(['match', 'match_2', 'track_name', 'artist_name'], inplace =True, axis =1)\n"
          ]
        }
      ],
      "source": [
        "# drop rows that are no longer needed\n",
        "df_tiktok_matches_final.drop(['match', 'match_2', 'track_name', 'artist_name'], inplace =True, axis =1)\n",
        "\n",
        "# add a column to indicate tiktok popularity \n",
        "df_tiktok_matches_final= df_tiktok_matches_final.assign(tiktok_pop = 1)"
      ]
    },
    {
      "cell_type": "code",
      "execution_count": 65,
      "metadata": {
        "colab": {
          "base_uri": "https://localhost:8080/",
          "height": 206
        },
        "id": "rSScxkw6RHrq",
        "outputId": "cef21949-5fcd-4047-8052-df98f8dd97d3"
      },
      "outputs": [
        {
          "output_type": "execute_result",
          "data": {
            "text/plain": [
              "                   title     artist  tiktok_pop\n",
              "0                Ride It     Regard           1\n",
              "1                  GOOBA    6ix9ine           1\n",
              "2                 Ransom  Lil Tecca           1\n",
              "3        Don't Start Now   Dua Lipa           1\n",
              "4  Roses - Imanbek Remix  SAINt JHN           1"
            ],
            "text/html": [
              "\n",
              "  <div id=\"df-3d3387ef-bc33-4955-ade9-6bc8a762bb3f\">\n",
              "    <div class=\"colab-df-container\">\n",
              "      <div>\n",
              "<style scoped>\n",
              "    .dataframe tbody tr th:only-of-type {\n",
              "        vertical-align: middle;\n",
              "    }\n",
              "\n",
              "    .dataframe tbody tr th {\n",
              "        vertical-align: top;\n",
              "    }\n",
              "\n",
              "    .dataframe thead th {\n",
              "        text-align: right;\n",
              "    }\n",
              "</style>\n",
              "<table border=\"1\" class=\"dataframe\">\n",
              "  <thead>\n",
              "    <tr style=\"text-align: right;\">\n",
              "      <th></th>\n",
              "      <th>title</th>\n",
              "      <th>artist</th>\n",
              "      <th>tiktok_pop</th>\n",
              "    </tr>\n",
              "  </thead>\n",
              "  <tbody>\n",
              "    <tr>\n",
              "      <th>0</th>\n",
              "      <td>Ride It</td>\n",
              "      <td>Regard</td>\n",
              "      <td>1</td>\n",
              "    </tr>\n",
              "    <tr>\n",
              "      <th>1</th>\n",
              "      <td>GOOBA</td>\n",
              "      <td>6ix9ine</td>\n",
              "      <td>1</td>\n",
              "    </tr>\n",
              "    <tr>\n",
              "      <th>2</th>\n",
              "      <td>Ransom</td>\n",
              "      <td>Lil Tecca</td>\n",
              "      <td>1</td>\n",
              "    </tr>\n",
              "    <tr>\n",
              "      <th>3</th>\n",
              "      <td>Don't Start Now</td>\n",
              "      <td>Dua Lipa</td>\n",
              "      <td>1</td>\n",
              "    </tr>\n",
              "    <tr>\n",
              "      <th>4</th>\n",
              "      <td>Roses - Imanbek Remix</td>\n",
              "      <td>SAINt JHN</td>\n",
              "      <td>1</td>\n",
              "    </tr>\n",
              "  </tbody>\n",
              "</table>\n",
              "</div>\n",
              "      <button class=\"colab-df-convert\" onclick=\"convertToInteractive('df-3d3387ef-bc33-4955-ade9-6bc8a762bb3f')\"\n",
              "              title=\"Convert this dataframe to an interactive table.\"\n",
              "              style=\"display:none;\">\n",
              "        \n",
              "  <svg xmlns=\"http://www.w3.org/2000/svg\" height=\"24px\"viewBox=\"0 0 24 24\"\n",
              "       width=\"24px\">\n",
              "    <path d=\"M0 0h24v24H0V0z\" fill=\"none\"/>\n",
              "    <path d=\"M18.56 5.44l.94 2.06.94-2.06 2.06-.94-2.06-.94-.94-2.06-.94 2.06-2.06.94zm-11 1L8.5 8.5l.94-2.06 2.06-.94-2.06-.94L8.5 2.5l-.94 2.06-2.06.94zm10 10l.94 2.06.94-2.06 2.06-.94-2.06-.94-.94-2.06-.94 2.06-2.06.94z\"/><path d=\"M17.41 7.96l-1.37-1.37c-.4-.4-.92-.59-1.43-.59-.52 0-1.04.2-1.43.59L10.3 9.45l-7.72 7.72c-.78.78-.78 2.05 0 2.83L4 21.41c.39.39.9.59 1.41.59.51 0 1.02-.2 1.41-.59l7.78-7.78 2.81-2.81c.8-.78.8-2.07 0-2.86zM5.41 20L4 18.59l7.72-7.72 1.47 1.35L5.41 20z\"/>\n",
              "  </svg>\n",
              "      </button>\n",
              "      \n",
              "  <style>\n",
              "    .colab-df-container {\n",
              "      display:flex;\n",
              "      flex-wrap:wrap;\n",
              "      gap: 12px;\n",
              "    }\n",
              "\n",
              "    .colab-df-convert {\n",
              "      background-color: #E8F0FE;\n",
              "      border: none;\n",
              "      border-radius: 50%;\n",
              "      cursor: pointer;\n",
              "      display: none;\n",
              "      fill: #1967D2;\n",
              "      height: 32px;\n",
              "      padding: 0 0 0 0;\n",
              "      width: 32px;\n",
              "    }\n",
              "\n",
              "    .colab-df-convert:hover {\n",
              "      background-color: #E2EBFA;\n",
              "      box-shadow: 0px 1px 2px rgba(60, 64, 67, 0.3), 0px 1px 3px 1px rgba(60, 64, 67, 0.15);\n",
              "      fill: #174EA6;\n",
              "    }\n",
              "\n",
              "    [theme=dark] .colab-df-convert {\n",
              "      background-color: #3B4455;\n",
              "      fill: #D2E3FC;\n",
              "    }\n",
              "\n",
              "    [theme=dark] .colab-df-convert:hover {\n",
              "      background-color: #434B5C;\n",
              "      box-shadow: 0px 1px 3px 1px rgba(0, 0, 0, 0.15);\n",
              "      filter: drop-shadow(0px 1px 2px rgba(0, 0, 0, 0.3));\n",
              "      fill: #FFFFFF;\n",
              "    }\n",
              "  </style>\n",
              "\n",
              "      <script>\n",
              "        const buttonEl =\n",
              "          document.querySelector('#df-3d3387ef-bc33-4955-ade9-6bc8a762bb3f button.colab-df-convert');\n",
              "        buttonEl.style.display =\n",
              "          google.colab.kernel.accessAllowed ? 'block' : 'none';\n",
              "\n",
              "        async function convertToInteractive(key) {\n",
              "          const element = document.querySelector('#df-3d3387ef-bc33-4955-ade9-6bc8a762bb3f');\n",
              "          const dataTable =\n",
              "            await google.colab.kernel.invokeFunction('convertToInteractive',\n",
              "                                                     [key], {});\n",
              "          if (!dataTable) return;\n",
              "\n",
              "          const docLinkHtml = 'Like what you see? Visit the ' +\n",
              "            '<a target=\"_blank\" href=https://colab.research.google.com/notebooks/data_table.ipynb>data table notebook</a>'\n",
              "            + ' to learn more about interactive tables.';\n",
              "          element.innerHTML = '';\n",
              "          dataTable['output_type'] = 'display_data';\n",
              "          await google.colab.output.renderOutput(dataTable, element);\n",
              "          const docLink = document.createElement('div');\n",
              "          docLink.innerHTML = docLinkHtml;\n",
              "          element.appendChild(docLink);\n",
              "        }\n",
              "      </script>\n",
              "    </div>\n",
              "  </div>\n",
              "  "
            ]
          },
          "metadata": {},
          "execution_count": 65
        }
      ],
      "source": [
        "df_tiktok_matches_final.head()"
      ]
    },
    {
      "cell_type": "code",
      "execution_count": 66,
      "metadata": {
        "colab": {
          "base_uri": "https://localhost:8080/",
          "height": 112
        },
        "id": "W7ZBdyHGRaib",
        "outputId": "344dce4f-00f3-4a5b-94c1-cc6d5ed57511"
      },
      "outputs": [
        {
          "output_type": "execute_result",
          "data": {
            "text/plain": [
              "            title  artist\n",
              "tiktok_pop               \n",
              "1             462     462"
            ],
            "text/html": [
              "\n",
              "  <div id=\"df-8f547c59-7635-48a1-967f-708442389734\">\n",
              "    <div class=\"colab-df-container\">\n",
              "      <div>\n",
              "<style scoped>\n",
              "    .dataframe tbody tr th:only-of-type {\n",
              "        vertical-align: middle;\n",
              "    }\n",
              "\n",
              "    .dataframe tbody tr th {\n",
              "        vertical-align: top;\n",
              "    }\n",
              "\n",
              "    .dataframe thead th {\n",
              "        text-align: right;\n",
              "    }\n",
              "</style>\n",
              "<table border=\"1\" class=\"dataframe\">\n",
              "  <thead>\n",
              "    <tr style=\"text-align: right;\">\n",
              "      <th></th>\n",
              "      <th>title</th>\n",
              "      <th>artist</th>\n",
              "    </tr>\n",
              "    <tr>\n",
              "      <th>tiktok_pop</th>\n",
              "      <th></th>\n",
              "      <th></th>\n",
              "    </tr>\n",
              "  </thead>\n",
              "  <tbody>\n",
              "    <tr>\n",
              "      <th>1</th>\n",
              "      <td>462</td>\n",
              "      <td>462</td>\n",
              "    </tr>\n",
              "  </tbody>\n",
              "</table>\n",
              "</div>\n",
              "      <button class=\"colab-df-convert\" onclick=\"convertToInteractive('df-8f547c59-7635-48a1-967f-708442389734')\"\n",
              "              title=\"Convert this dataframe to an interactive table.\"\n",
              "              style=\"display:none;\">\n",
              "        \n",
              "  <svg xmlns=\"http://www.w3.org/2000/svg\" height=\"24px\"viewBox=\"0 0 24 24\"\n",
              "       width=\"24px\">\n",
              "    <path d=\"M0 0h24v24H0V0z\" fill=\"none\"/>\n",
              "    <path d=\"M18.56 5.44l.94 2.06.94-2.06 2.06-.94-2.06-.94-.94-2.06-.94 2.06-2.06.94zm-11 1L8.5 8.5l.94-2.06 2.06-.94-2.06-.94L8.5 2.5l-.94 2.06-2.06.94zm10 10l.94 2.06.94-2.06 2.06-.94-2.06-.94-.94-2.06-.94 2.06-2.06.94z\"/><path d=\"M17.41 7.96l-1.37-1.37c-.4-.4-.92-.59-1.43-.59-.52 0-1.04.2-1.43.59L10.3 9.45l-7.72 7.72c-.78.78-.78 2.05 0 2.83L4 21.41c.39.39.9.59 1.41.59.51 0 1.02-.2 1.41-.59l7.78-7.78 2.81-2.81c.8-.78.8-2.07 0-2.86zM5.41 20L4 18.59l7.72-7.72 1.47 1.35L5.41 20z\"/>\n",
              "  </svg>\n",
              "      </button>\n",
              "      \n",
              "  <style>\n",
              "    .colab-df-container {\n",
              "      display:flex;\n",
              "      flex-wrap:wrap;\n",
              "      gap: 12px;\n",
              "    }\n",
              "\n",
              "    .colab-df-convert {\n",
              "      background-color: #E8F0FE;\n",
              "      border: none;\n",
              "      border-radius: 50%;\n",
              "      cursor: pointer;\n",
              "      display: none;\n",
              "      fill: #1967D2;\n",
              "      height: 32px;\n",
              "      padding: 0 0 0 0;\n",
              "      width: 32px;\n",
              "    }\n",
              "\n",
              "    .colab-df-convert:hover {\n",
              "      background-color: #E2EBFA;\n",
              "      box-shadow: 0px 1px 2px rgba(60, 64, 67, 0.3), 0px 1px 3px 1px rgba(60, 64, 67, 0.15);\n",
              "      fill: #174EA6;\n",
              "    }\n",
              "\n",
              "    [theme=dark] .colab-df-convert {\n",
              "      background-color: #3B4455;\n",
              "      fill: #D2E3FC;\n",
              "    }\n",
              "\n",
              "    [theme=dark] .colab-df-convert:hover {\n",
              "      background-color: #434B5C;\n",
              "      box-shadow: 0px 1px 3px 1px rgba(0, 0, 0, 0.15);\n",
              "      filter: drop-shadow(0px 1px 2px rgba(0, 0, 0, 0.3));\n",
              "      fill: #FFFFFF;\n",
              "    }\n",
              "  </style>\n",
              "\n",
              "      <script>\n",
              "        const buttonEl =\n",
              "          document.querySelector('#df-8f547c59-7635-48a1-967f-708442389734 button.colab-df-convert');\n",
              "        buttonEl.style.display =\n",
              "          google.colab.kernel.accessAllowed ? 'block' : 'none';\n",
              "\n",
              "        async function convertToInteractive(key) {\n",
              "          const element = document.querySelector('#df-8f547c59-7635-48a1-967f-708442389734');\n",
              "          const dataTable =\n",
              "            await google.colab.kernel.invokeFunction('convertToInteractive',\n",
              "                                                     [key], {});\n",
              "          if (!dataTable) return;\n",
              "\n",
              "          const docLinkHtml = 'Like what you see? Visit the ' +\n",
              "            '<a target=\"_blank\" href=https://colab.research.google.com/notebooks/data_table.ipynb>data table notebook</a>'\n",
              "            + ' to learn more about interactive tables.';\n",
              "          element.innerHTML = '';\n",
              "          dataTable['output_type'] = 'display_data';\n",
              "          await google.colab.output.renderOutput(dataTable, element);\n",
              "          const docLink = document.createElement('div');\n",
              "          docLink.innerHTML = docLinkHtml;\n",
              "          element.appendChild(docLink);\n",
              "        }\n",
              "      </script>\n",
              "    </div>\n",
              "  </div>\n",
              "  "
            ]
          },
          "metadata": {},
          "execution_count": 66
        }
      ],
      "source": [
        "df_tiktok_matches_final.groupby(['tiktok_pop']).count()"
      ]
    },
    {
      "cell_type": "markdown",
      "metadata": {
        "id": "Eekt5MsyjswP"
      },
      "source": [
        "# Genius Lyrics Dataset Creation and EDA"
      ]
    },
    {
      "cell_type": "code",
      "execution_count": 67,
      "metadata": {
        "colab": {
          "base_uri": "https://localhost:8080/"
        },
        "id": "0qEn8QjXbcGi",
        "outputId": "69b6b775-545a-45b2-c000-664b68de277a"
      },
      "outputs": [
        {
          "output_type": "stream",
          "name": "stdout",
          "text": [
            "Looking in indexes: https://pypi.org/simple, https://us-python.pkg.dev/colab-wheels/public/simple/\n",
            "Collecting lyricsgenius\n",
            "  Downloading lyricsgenius-3.0.1-py3-none-any.whl (59 kB)\n",
            "\u001b[?25l     \u001b[90m━━━━━━━━━━━━━━━━━━━━━━━━━━━━━━━━━━━━━━━━\u001b[0m \u001b[32m0.0/59.4 kB\u001b[0m \u001b[31m?\u001b[0m eta \u001b[36m-:--:--\u001b[0m\r\u001b[2K     \u001b[90m━━━━━━━━━━━━━━━━━━━━━━━━━━━━━━━━━━━━━━━━\u001b[0m \u001b[32m59.4/59.4 kB\u001b[0m \u001b[31m5.7 MB/s\u001b[0m eta \u001b[36m0:00:00\u001b[0m\n",
            "\u001b[?25hRequirement already satisfied: beautifulsoup4>=4.6.0 in /usr/local/lib/python3.9/dist-packages (from lyricsgenius) (4.11.2)\n",
            "Requirement already satisfied: requests>=2.20.0 in /usr/local/lib/python3.9/dist-packages (from lyricsgenius) (2.27.1)\n",
            "Requirement already satisfied: soupsieve>1.2 in /usr/local/lib/python3.9/dist-packages (from beautifulsoup4>=4.6.0->lyricsgenius) (2.4)\n",
            "Requirement already satisfied: certifi>=2017.4.17 in /usr/local/lib/python3.9/dist-packages (from requests>=2.20.0->lyricsgenius) (2022.12.7)\n",
            "Requirement already satisfied: urllib3<1.27,>=1.21.1 in /usr/local/lib/python3.9/dist-packages (from requests>=2.20.0->lyricsgenius) (1.26.15)\n",
            "Requirement already satisfied: charset-normalizer~=2.0.0 in /usr/local/lib/python3.9/dist-packages (from requests>=2.20.0->lyricsgenius) (2.0.12)\n",
            "Requirement already satisfied: idna<4,>=2.5 in /usr/local/lib/python3.9/dist-packages (from requests>=2.20.0->lyricsgenius) (3.4)\n",
            "Installing collected packages: lyricsgenius\n",
            "Successfully installed lyricsgenius-3.0.1\n"
          ]
        }
      ],
      "source": [
        "!pip install lyricsgenius"
      ]
    },
    {
      "cell_type": "code",
      "execution_count": 68,
      "metadata": {
        "colab": {
          "base_uri": "https://localhost:8080/",
          "height": 17
        },
        "id": "5Ym966T4Crmo",
        "outputId": "baddb5f3-ea1b-4abc-b394-7b2b8b1de050"
      },
      "outputs": [
        {
          "output_type": "display_data",
          "data": {
            "text/plain": [
              "<IPython.core.display.Javascript object>"
            ],
            "application/javascript": [
              "\n",
              "    async function download(id, filename, size) {\n",
              "      if (!google.colab.kernel.accessAllowed) {\n",
              "        return;\n",
              "      }\n",
              "      const div = document.createElement('div');\n",
              "      const label = document.createElement('label');\n",
              "      label.textContent = `Downloading \"${filename}\": `;\n",
              "      div.appendChild(label);\n",
              "      const progress = document.createElement('progress');\n",
              "      progress.max = size;\n",
              "      div.appendChild(progress);\n",
              "      document.body.appendChild(div);\n",
              "\n",
              "      const buffers = [];\n",
              "      let downloaded = 0;\n",
              "\n",
              "      const channel = await google.colab.kernel.comms.open(id);\n",
              "      // Send a message to notify the kernel that we're ready.\n",
              "      channel.send({})\n",
              "\n",
              "      for await (const message of channel.messages) {\n",
              "        // Send a message to notify the kernel that we're ready.\n",
              "        channel.send({})\n",
              "        if (message.buffers) {\n",
              "          for (const buffer of message.buffers) {\n",
              "            buffers.push(buffer);\n",
              "            downloaded += buffer.byteLength;\n",
              "            progress.value = downloaded;\n",
              "          }\n",
              "        }\n",
              "      }\n",
              "      const blob = new Blob(buffers, {type: 'application/binary'});\n",
              "      const a = document.createElement('a');\n",
              "      a.href = window.URL.createObjectURL(blob);\n",
              "      a.download = filename;\n",
              "      div.appendChild(a);\n",
              "      a.click();\n",
              "      div.remove();\n",
              "    }\n",
              "  "
            ]
          },
          "metadata": {}
        },
        {
          "output_type": "display_data",
          "data": {
            "text/plain": [
              "<IPython.core.display.Javascript object>"
            ],
            "application/javascript": [
              "download(\"download_7a0c7446-73bf-47a9-bec5-c7d04457fb7d\", \"combined_features.csv\", 784075)"
            ]
          },
          "metadata": {}
        }
      ],
      "source": [
        "from google.colab import files\n",
        "feature_matches.to_csv('combined_features.csv') \n",
        "files.download('combined_features.csv')"
      ]
    },
    {
      "cell_type": "code",
      "execution_count": 69,
      "metadata": {
        "id": "HNiMjD2tu5_c"
      },
      "outputs": [],
      "source": [
        "import lyricsgenius\n",
        "import os\n",
        "import spacy\n",
        "import re"
      ]
    },
    {
      "cell_type": "code",
      "execution_count": 70,
      "metadata": {
        "id": "37JKFZI3n8Fu"
      },
      "outputs": [],
      "source": [
        "client_id = 'TS15U5iwbWLGkhfGFVqnOuDA9mVjJhhLlXpJDYai6nm79S9JWFzznlsQN5dCFuZG'\n",
        "client_secret = 'SOhrXQxD9YZ2RxBQwR-wwu5Zbxh6UgkfuIEaUJltx9L9h8aynN5zZ9Jsm1JNlh_5Npu_uev1MKorJV_A6MVYKw'\n",
        "access_token = 'US00oQ6_8lkhwRjHAOudB62bruf1B3JGOGuHR8V8zeawxpoc8fcA9QGXQ3bhYWu-'\n",
        "website_url = 'https://github.com/Joseph-Willem-Ricci/5450-final-project'"
      ]
    },
    {
      "cell_type": "code",
      "execution_count": 71,
      "metadata": {
        "colab": {
          "base_uri": "https://localhost:8080/",
          "height": 35
        },
        "id": "q7-Si0qot9Bp",
        "outputId": "75fa3b16-ec98-4d86-bd57-a85607d7f310"
      },
      "outputs": [
        {
          "output_type": "execute_result",
          "data": {
            "text/plain": [
              "\"genius = lyricsgenius.Genius(access_token)\\nartist = genius.search_artist('Andy Shauf')\\nartist.save_lyrics()\""
            ],
            "application/vnd.google.colaboratory.intrinsic+json": {
              "type": "string"
            }
          },
          "metadata": {},
          "execution_count": 71
        }
      ],
      "source": [
        "\"\"\"genius = lyricsgenius.Genius(access_token)\n",
        "artist = genius.search_artist('Andy Shauf')\n",
        "artist.save_lyrics()\"\"\""
      ]
    },
    {
      "cell_type": "code",
      "execution_count": 72,
      "metadata": {
        "colab": {
          "base_uri": "https://localhost:8080/",
          "height": 35
        },
        "id": "aD1gD1uxuw4n",
        "outputId": "b79143dd-6d66-4d64-ab22-fc8e4b027e88"
      },
      "outputs": [
        {
          "output_type": "execute_result",
          "data": {
            "text/plain": [
              "'api = lyricsgenius.Genius(access_token)\\nartist = api.artist(380491)\\nprint(artist)'"
            ],
            "application/vnd.google.colaboratory.intrinsic+json": {
              "type": "string"
            }
          },
          "metadata": {},
          "execution_count": 72
        }
      ],
      "source": [
        "\"\"\"api = lyricsgenius.Genius(access_token)\n",
        "artist = api.artist(380491)\n",
        "print(artist)\"\"\"\n"
      ]
    },
    {
      "cell_type": "code",
      "execution_count": 73,
      "metadata": {
        "colab": {
          "base_uri": "https://localhost:8080/"
        },
        "id": "FPZfntq-CKy2",
        "outputId": "f8063668-2521-4735-88e7-e63ccaadc99b"
      },
      "outputs": [
        {
          "output_type": "stream",
          "name": "stderr",
          "text": [
            "[nltk_data] Downloading package stopwords to /root/nltk_data...\n",
            "[nltk_data]   Unzipping corpora/stopwords.zip.\n",
            "[nltk_data] Downloading package punkt to /root/nltk_data...\n",
            "[nltk_data]   Unzipping tokenizers/punkt.zip.\n",
            "[nltk_data] Downloading package vader_lexicon to /root/nltk_data...\n"
          ]
        }
      ],
      "source": [
        "import nltk\n",
        "from nltk.corpus import stopwords\n",
        "nltk.download('stopwords')\n",
        "nltk.download('punkt')\n",
        "nltk.download('vader_lexicon')\n",
        "#stopword_en = nltk.corpus.stopwords.words('english')\n",
        "#stopword_es = nltk.corpus.stopwords.words('spanish')\n",
        "#stopword = stopword_en + stopword_es\n",
        "stopwords = set(stopwords.words(['english', 'spanish', 'german','french']))\n"
      ]
    },
    {
      "cell_type": "code",
      "execution_count": 74,
      "metadata": {
        "colab": {
          "base_uri": "https://localhost:8080/"
        },
        "id": "Ywy08Es-DH9D",
        "outputId": "c2a2ac94-20ab-4882-ad23-08a550cae5dd"
      },
      "outputs": [
        {
          "output_type": "stream",
          "name": "stdout",
          "text": [
            "unzip:  cannot find or open /content/spotify-songs-lyrics.zip, /content/spotify-songs-lyrics.zip.zip or /content/spotify-songs-lyrics.zip.ZIP.\n"
          ]
        }
      ],
      "source": [
        "!!kaggle datasets download -d joannecrean/spotify-songs-lyrics  #FIXME: Generalize this to run on anybody's colab\n",
        "!unzip /content/spotify-songs-lyrics.zip\n"
      ]
    },
    {
      "cell_type": "code",
      "execution_count": 75,
      "metadata": {
        "id": "z588WsRN0Sek",
        "colab": {
          "base_uri": "https://localhost:8080/",
          "height": 311
        },
        "outputId": "1e787e5d-32b7-4695-9de4-5b1c9be19b76"
      },
      "outputs": [
        {
          "output_type": "error",
          "ename": "FileNotFoundError",
          "evalue": "ignored",
          "traceback": [
            "\u001b[0;31m---------------------------------------------------------------------------\u001b[0m",
            "\u001b[0;31mFileNotFoundError\u001b[0m                         Traceback (most recent call last)",
            "\u001b[0;32m<ipython-input-75-a4edcdb8edcb>\u001b[0m in \u001b[0;36m<cell line: 1>\u001b[0;34m()\u001b[0m\n\u001b[0;32m----> 1\u001b[0;31m \u001b[0mdf_lyrics\u001b[0m \u001b[0;34m=\u001b[0m \u001b[0mpd\u001b[0m\u001b[0;34m.\u001b[0m\u001b[0mread_csv\u001b[0m\u001b[0;34m(\u001b[0m\u001b[0;34m'all_song_data_complete.csv'\u001b[0m\u001b[0;34m)\u001b[0m\u001b[0;34m\u001b[0m\u001b[0;34m\u001b[0m\u001b[0m\n\u001b[0m",
            "\u001b[0;32m/usr/local/lib/python3.9/dist-packages/pandas/util/_decorators.py\u001b[0m in \u001b[0;36mwrapper\u001b[0;34m(*args, **kwargs)\u001b[0m\n\u001b[1;32m    309\u001b[0m                     \u001b[0mstacklevel\u001b[0m\u001b[0;34m=\u001b[0m\u001b[0mstacklevel\u001b[0m\u001b[0;34m,\u001b[0m\u001b[0;34m\u001b[0m\u001b[0;34m\u001b[0m\u001b[0m\n\u001b[1;32m    310\u001b[0m                 )\n\u001b[0;32m--> 311\u001b[0;31m             \u001b[0;32mreturn\u001b[0m \u001b[0mfunc\u001b[0m\u001b[0;34m(\u001b[0m\u001b[0;34m*\u001b[0m\u001b[0margs\u001b[0m\u001b[0;34m,\u001b[0m \u001b[0;34m**\u001b[0m\u001b[0mkwargs\u001b[0m\u001b[0;34m)\u001b[0m\u001b[0;34m\u001b[0m\u001b[0;34m\u001b[0m\u001b[0m\n\u001b[0m\u001b[1;32m    312\u001b[0m \u001b[0;34m\u001b[0m\u001b[0m\n\u001b[1;32m    313\u001b[0m         \u001b[0;32mreturn\u001b[0m \u001b[0mwrapper\u001b[0m\u001b[0;34m\u001b[0m\u001b[0;34m\u001b[0m\u001b[0m\n",
            "\u001b[0;32m/usr/local/lib/python3.9/dist-packages/pandas/io/parsers/readers.py\u001b[0m in \u001b[0;36mread_csv\u001b[0;34m(filepath_or_buffer, sep, delimiter, header, names, index_col, usecols, squeeze, prefix, mangle_dupe_cols, dtype, engine, converters, true_values, false_values, skipinitialspace, skiprows, skipfooter, nrows, na_values, keep_default_na, na_filter, verbose, skip_blank_lines, parse_dates, infer_datetime_format, keep_date_col, date_parser, dayfirst, cache_dates, iterator, chunksize, compression, thousands, decimal, lineterminator, quotechar, quoting, doublequote, escapechar, comment, encoding, encoding_errors, dialect, error_bad_lines, warn_bad_lines, on_bad_lines, delim_whitespace, low_memory, memory_map, float_precision, storage_options)\u001b[0m\n\u001b[1;32m    676\u001b[0m     \u001b[0mkwds\u001b[0m\u001b[0;34m.\u001b[0m\u001b[0mupdate\u001b[0m\u001b[0;34m(\u001b[0m\u001b[0mkwds_defaults\u001b[0m\u001b[0;34m)\u001b[0m\u001b[0;34m\u001b[0m\u001b[0;34m\u001b[0m\u001b[0m\n\u001b[1;32m    677\u001b[0m \u001b[0;34m\u001b[0m\u001b[0m\n\u001b[0;32m--> 678\u001b[0;31m     \u001b[0;32mreturn\u001b[0m \u001b[0m_read\u001b[0m\u001b[0;34m(\u001b[0m\u001b[0mfilepath_or_buffer\u001b[0m\u001b[0;34m,\u001b[0m \u001b[0mkwds\u001b[0m\u001b[0;34m)\u001b[0m\u001b[0;34m\u001b[0m\u001b[0;34m\u001b[0m\u001b[0m\n\u001b[0m\u001b[1;32m    679\u001b[0m \u001b[0;34m\u001b[0m\u001b[0m\n\u001b[1;32m    680\u001b[0m \u001b[0;34m\u001b[0m\u001b[0m\n",
            "\u001b[0;32m/usr/local/lib/python3.9/dist-packages/pandas/io/parsers/readers.py\u001b[0m in \u001b[0;36m_read\u001b[0;34m(filepath_or_buffer, kwds)\u001b[0m\n\u001b[1;32m    573\u001b[0m \u001b[0;34m\u001b[0m\u001b[0m\n\u001b[1;32m    574\u001b[0m     \u001b[0;31m# Create the parser.\u001b[0m\u001b[0;34m\u001b[0m\u001b[0;34m\u001b[0m\u001b[0m\n\u001b[0;32m--> 575\u001b[0;31m     \u001b[0mparser\u001b[0m \u001b[0;34m=\u001b[0m \u001b[0mTextFileReader\u001b[0m\u001b[0;34m(\u001b[0m\u001b[0mfilepath_or_buffer\u001b[0m\u001b[0;34m,\u001b[0m \u001b[0;34m**\u001b[0m\u001b[0mkwds\u001b[0m\u001b[0;34m)\u001b[0m\u001b[0;34m\u001b[0m\u001b[0;34m\u001b[0m\u001b[0m\n\u001b[0m\u001b[1;32m    576\u001b[0m \u001b[0;34m\u001b[0m\u001b[0m\n\u001b[1;32m    577\u001b[0m     \u001b[0;32mif\u001b[0m \u001b[0mchunksize\u001b[0m \u001b[0;32mor\u001b[0m \u001b[0miterator\u001b[0m\u001b[0;34m:\u001b[0m\u001b[0;34m\u001b[0m\u001b[0;34m\u001b[0m\u001b[0m\n",
            "\u001b[0;32m/usr/local/lib/python3.9/dist-packages/pandas/io/parsers/readers.py\u001b[0m in \u001b[0;36m__init__\u001b[0;34m(self, f, engine, **kwds)\u001b[0m\n\u001b[1;32m    930\u001b[0m \u001b[0;34m\u001b[0m\u001b[0m\n\u001b[1;32m    931\u001b[0m         \u001b[0mself\u001b[0m\u001b[0;34m.\u001b[0m\u001b[0mhandles\u001b[0m\u001b[0;34m:\u001b[0m \u001b[0mIOHandles\u001b[0m \u001b[0;34m|\u001b[0m \u001b[0;32mNone\u001b[0m \u001b[0;34m=\u001b[0m \u001b[0;32mNone\u001b[0m\u001b[0;34m\u001b[0m\u001b[0;34m\u001b[0m\u001b[0m\n\u001b[0;32m--> 932\u001b[0;31m         \u001b[0mself\u001b[0m\u001b[0;34m.\u001b[0m\u001b[0m_engine\u001b[0m \u001b[0;34m=\u001b[0m \u001b[0mself\u001b[0m\u001b[0;34m.\u001b[0m\u001b[0m_make_engine\u001b[0m\u001b[0;34m(\u001b[0m\u001b[0mf\u001b[0m\u001b[0;34m,\u001b[0m \u001b[0mself\u001b[0m\u001b[0;34m.\u001b[0m\u001b[0mengine\u001b[0m\u001b[0;34m)\u001b[0m\u001b[0;34m\u001b[0m\u001b[0;34m\u001b[0m\u001b[0m\n\u001b[0m\u001b[1;32m    933\u001b[0m \u001b[0;34m\u001b[0m\u001b[0m\n\u001b[1;32m    934\u001b[0m     \u001b[0;32mdef\u001b[0m \u001b[0mclose\u001b[0m\u001b[0;34m(\u001b[0m\u001b[0mself\u001b[0m\u001b[0;34m)\u001b[0m\u001b[0;34m:\u001b[0m\u001b[0;34m\u001b[0m\u001b[0;34m\u001b[0m\u001b[0m\n",
            "\u001b[0;32m/usr/local/lib/python3.9/dist-packages/pandas/io/parsers/readers.py\u001b[0m in \u001b[0;36m_make_engine\u001b[0;34m(self, f, engine)\u001b[0m\n\u001b[1;32m   1214\u001b[0m             \u001b[0;31m# \"Union[str, PathLike[str], ReadCsvBuffer[bytes], ReadCsvBuffer[str]]\"\u001b[0m\u001b[0;34m\u001b[0m\u001b[0;34m\u001b[0m\u001b[0m\n\u001b[1;32m   1215\u001b[0m             \u001b[0;31m# , \"str\", \"bool\", \"Any\", \"Any\", \"Any\", \"Any\", \"Any\"\u001b[0m\u001b[0;34m\u001b[0m\u001b[0;34m\u001b[0m\u001b[0m\n\u001b[0;32m-> 1216\u001b[0;31m             self.handles = get_handle(  # type: ignore[call-overload]\n\u001b[0m\u001b[1;32m   1217\u001b[0m                 \u001b[0mf\u001b[0m\u001b[0;34m,\u001b[0m\u001b[0;34m\u001b[0m\u001b[0;34m\u001b[0m\u001b[0m\n\u001b[1;32m   1218\u001b[0m                 \u001b[0mmode\u001b[0m\u001b[0;34m,\u001b[0m\u001b[0;34m\u001b[0m\u001b[0;34m\u001b[0m\u001b[0m\n",
            "\u001b[0;32m/usr/local/lib/python3.9/dist-packages/pandas/io/common.py\u001b[0m in \u001b[0;36mget_handle\u001b[0;34m(path_or_buf, mode, encoding, compression, memory_map, is_text, errors, storage_options)\u001b[0m\n\u001b[1;32m    784\u001b[0m         \u001b[0;32mif\u001b[0m \u001b[0mioargs\u001b[0m\u001b[0;34m.\u001b[0m\u001b[0mencoding\u001b[0m \u001b[0;32mand\u001b[0m \u001b[0;34m\"b\"\u001b[0m \u001b[0;32mnot\u001b[0m \u001b[0;32min\u001b[0m \u001b[0mioargs\u001b[0m\u001b[0;34m.\u001b[0m\u001b[0mmode\u001b[0m\u001b[0;34m:\u001b[0m\u001b[0;34m\u001b[0m\u001b[0;34m\u001b[0m\u001b[0m\n\u001b[1;32m    785\u001b[0m             \u001b[0;31m# Encoding\u001b[0m\u001b[0;34m\u001b[0m\u001b[0;34m\u001b[0m\u001b[0m\n\u001b[0;32m--> 786\u001b[0;31m             handle = open(\n\u001b[0m\u001b[1;32m    787\u001b[0m                 \u001b[0mhandle\u001b[0m\u001b[0;34m,\u001b[0m\u001b[0;34m\u001b[0m\u001b[0;34m\u001b[0m\u001b[0m\n\u001b[1;32m    788\u001b[0m                 \u001b[0mioargs\u001b[0m\u001b[0;34m.\u001b[0m\u001b[0mmode\u001b[0m\u001b[0;34m,\u001b[0m\u001b[0;34m\u001b[0m\u001b[0;34m\u001b[0m\u001b[0m\n",
            "\u001b[0;31mFileNotFoundError\u001b[0m: [Errno 2] No such file or directory: 'all_song_data_complete.csv'"
          ]
        }
      ],
      "source": [
        "df_lyrics = pd.read_csv('all_song_data_complete.csv')"
      ]
    },
    {
      "cell_type": "code",
      "execution_count": null,
      "metadata": {
        "id": "oZ5P__YKtqWf"
      },
      "outputs": [],
      "source": [
        "sensitive_words = pd.read_csv('sensitive_words.csv')\n",
        "sensitive_words =sensitive_words.values.tolist()\n"
      ]
    },
    {
      "cell_type": "code",
      "execution_count": null,
      "metadata": {
        "id": "tFO_EiBGCUsd"
      },
      "outputs": [],
      "source": [
        "def tokenize_content(content):\n",
        "  content = content.lower() #convert to lowercase\n",
        "  content_tokens = nltk.word_tokenize(content) # tokenise\n",
        "  alpha_tokens = [w for w in content_tokens if w.isalpha()] # keep alpha tokens\n",
        "  stop_tokens = [t for t in alpha_tokens if not t in stopwords] #remove if stopword\n",
        "  final_tokens = [s for s in stop_tokens if not s in sensitive_words] #remove if sensitive\n",
        "  #print(final_tokens)\n",
        "  return final_tokens"
      ]
    },
    {
      "cell_type": "code",
      "execution_count": null,
      "metadata": {
        "id": "RxDXD3obDweO"
      },
      "outputs": [],
      "source": [
        "df_lyrics.head(10)"
      ]
    },
    {
      "cell_type": "code",
      "execution_count": null,
      "metadata": {
        "id": "24JvqH8XEJv0"
      },
      "outputs": [],
      "source": [
        "len(df_lyrics)"
      ]
    },
    {
      "cell_type": "code",
      "execution_count": null,
      "metadata": {
        "id": "xqg3iEZMzy-w"
      },
      "outputs": [],
      "source": [
        "df_lyrics.loc[df_lyrics['title'] == 'You Make My Dreams (Come True)']"
      ]
    },
    {
      "cell_type": "code",
      "execution_count": null,
      "metadata": {
        "id": "y0PWn_-EECd_"
      },
      "outputs": [],
      "source": [
        "df_lyrics.dropna(inplace = True)"
      ]
    },
    {
      "cell_type": "code",
      "execution_count": null,
      "metadata": {
        "id": "QAE_iPMk2SH1"
      },
      "outputs": [],
      "source": [
        "df_lyrics.loc[df_lyrics['song URL'] == 'https://genius.com/Gerald-haywood-2018-haywoodindahood-listening-log-annotated']"
      ]
    },
    {
      "cell_type": "code",
      "execution_count": null,
      "metadata": {
        "id": "q9P6l1nK0XqX"
      },
      "outputs": [],
      "source": [
        "# clean up by dropping rows that aren't lyrics\n",
        "df_lyrics = df_lyrics[~df_lyrics['song URL'].str.contains('annotated')]"
      ]
    },
    {
      "cell_type": "code",
      "execution_count": null,
      "metadata": {
        "id": "KblsyvnF9BHy"
      },
      "outputs": [],
      "source": [
        "# remove the intro text before the lyrics \n",
        "df_lyrics['lyrics'] = [re.sub('^.*Lyrics', '', x) for x in df_lyrics['lyrics']]"
      ]
    },
    {
      "cell_type": "code",
      "execution_count": null,
      "metadata": {
        "id": "-26t2NwUv0CY"
      },
      "outputs": [],
      "source": [
        "#remove rows where the URL is not correct so the lyrics are not accurate\n",
        "\n",
        "df_lyrics['clean URL'] = df_lyrics['song URL'].str.replace('-', '').str.lower()\n",
        "df_lyrics['clean artist'] = df_lyrics['artist'].str.replace(' ', '').str.lower()\n",
        "\n",
        "df_lyrics['URL letters'] = df_lyrics['clean URL'].str.extract(r'https://genius\\.com/(\\w{2})')\n",
        "\n",
        "#print(df_lyrics.head(10))\n",
        "\n",
        "df_lyrics = df_lyrics.loc[df_lyrics['URL letters'] == df_lyrics['clean artist'].str[:2]]"
      ]
    },
    {
      "cell_type": "code",
      "execution_count": null,
      "metadata": {
        "id": "MY0h-1Hn9R9o"
      },
      "outputs": [],
      "source": [
        "df_lyrics.head(10)"
      ]
    },
    {
      "cell_type": "code",
      "execution_count": null,
      "metadata": {
        "id": "JJJGsOi-4gYy"
      },
      "outputs": [],
      "source": [
        "len(df_lyrics)"
      ]
    },
    {
      "cell_type": "code",
      "execution_count": null,
      "metadata": {
        "id": "6kXjFyE9apEY"
      },
      "outputs": [],
      "source": [
        "df_lyrics.head(10)"
      ]
    },
    {
      "cell_type": "code",
      "execution_count": null,
      "metadata": {
        "id": "L4chSLK3zAel"
      },
      "outputs": [],
      "source": [
        "#df_lyrics_clean = df_lyrics.apply(lambda x: x['Unnamed: 0'] , axis=1)"
      ]
    },
    {
      "cell_type": "code",
      "execution_count": null,
      "metadata": {
        "id": "9Rx6KfHECiu0"
      },
      "outputs": [],
      "source": [
        "df_lyrics['tokenized'] = df_lyrics.apply(lambda x: tokenize_content(x.lyrics), axis=1)"
      ]
    },
    {
      "cell_type": "code",
      "execution_count": null,
      "metadata": {
        "id": "2amPvUbLEIQg"
      },
      "outputs": [],
      "source": [
        "from nltk.sentiment import SentimentIntensityAnalyzer\n",
        "sia = SentimentIntensityAnalyzer()\n",
        "\n",
        "def retrieve_sentiment(content):\n",
        "  return sia.polarity_scores(content)['compound']\n"
      ]
    },
    {
      "cell_type": "code",
      "execution_count": null,
      "metadata": {
        "id": "TrWOeSiLEiDW"
      },
      "outputs": [],
      "source": [
        "df_lyrics['sentiment'] = df_lyrics.apply(lambda x: retrieve_sentiment(x.lyrics), axis=1)\n",
        "df_lyrics_positive = df_lyrics.sort_values(by = ['sentiment'], ascending = False)\n",
        "df_lyrics_positive.head(50)"
      ]
    },
    {
      "cell_type": "code",
      "execution_count": null,
      "metadata": {
        "id": "xEU9M2g5jswR"
      },
      "outputs": [],
      "source": [
        "df_lyrics_negative = df_lyrics.sort_values(by = ['sentiment'])\n",
        "df_lyrics_negative.head(50)"
      ]
    },
    {
      "cell_type": "code",
      "execution_count": null,
      "metadata": {
        "id": "Dah5lt4YjswS"
      },
      "outputs": [],
      "source": [
        "def add_spacy_data(dataset, feature_column):\n",
        "    '''\n",
        "    Grabs the verb, adverb, noun, and stop word Parts of Speech (POS) \n",
        "    tokens and pushes them into a new dataset. returns an \n",
        "    enriched dataset.\n",
        "    \n",
        "    Parameters:\n",
        "    \n",
        "    dataset (dataframe): the dataframe to parse\n",
        "    feature_column (string): the column to parse in the dataset.\n",
        "    \n",
        "    Returns: \n",
        "    dataframe\n",
        "    '''\n",
        "    \n",
        "    verbs = []\n",
        "    nouns = []\n",
        "    adverbs = []\n",
        "    corpus = []\n",
        "    nlp = spacy.load('en_core_web_sm')\n",
        "    ##\n",
        "    for i in range (0, len(dataset)):\n",
        "        print(\"Extracting verbs and topics from record {} of {}\".format(i+1, len(dataset)), end = \"\\r\")\n",
        "        song = dataset.iloc[i][feature_column]\n",
        "        doc = nlp(song)\n",
        "        spacy_dataframe = pd.DataFrame()\n",
        "        for token in doc:\n",
        "            if token.lemma_ == \"-PRON-\":\n",
        "                    lemma = token.text\n",
        "            else:\n",
        "                lemma = token.lemma_\n",
        "            row = {\n",
        "                \"Word\": token.text,\n",
        "                \"Lemma\": lemma,\n",
        "                \"PoS\": token.pos_,\n",
        "                \"Stop Word\": token.is_stop\n",
        "            }\n",
        "            spacy_dataframe = spacy_dataframe.append(row, ignore_index = True)\n",
        "        verbs.append(\" \".join(spacy_dataframe[\"Lemma\"][spacy_dataframe[\"PoS\"] == \"VERB\"].values))\n",
        "        nouns.append(\" \".join(spacy_dataframe[\"Lemma\"][spacy_dataframe[\"PoS\"] == \"NOUN\"].values))\n",
        "        adverbs.append(\" \".join(spacy_dataframe[\"Lemma\"][spacy_dataframe[\"PoS\"] == \"ADV\"].values))\n",
        "        corpus_clean = \" \".join(spacy_dataframe[\"Lemma\"][spacy_dataframe[\"Stop Word\"] == False].values)\n",
        "        corpus_clean = re.sub(r'[^A-Za-z0-9]+', ' ', corpus_clean)   \n",
        "        corpus.append(corpus_clean)\n",
        "    dataset['verbs'] = verbs\n",
        "    dataset['nouns'] = nouns\n",
        "    dataset['adverbs'] = adverbs\n",
        "    dataset['corpus'] = corpus\n",
        "\n",
        "    return dataset"
      ]
    },
    {
      "cell_type": "code",
      "execution_count": null,
      "metadata": {
        "id": "SJIBdKkGwT3F"
      },
      "outputs": [],
      "source": [
        "# alt spacy dataset\n",
        "\"\"\"\n",
        "nlp = spacy.load('en_core_web_sm')\n",
        "    ##\n",
        "    def extract_spacy_data(song):\n",
        "        doc = nlp(song)\n",
        "        spacy_dataframe = pd.DataFrame([{\n",
        "            \"Word\": token.text,\n",
        "            \"Lemma\": token.lemma_ if token.lemma_ != \"-PRON-\" else token.text,\n",
        "            \"PoS\": token.pos_,\n",
        "            \"Stop Word\": token.is_stop\n",
        "        } for token in doc])\n",
        "        verbs = \" \".join(spacy_dataframe[\"Lemma\"][spacy_dataframe[\"PoS\"] == \"VERB\"].values)\n",
        "        nouns = \" \".join(spacy_dataframe[\"Lemma\"][spacy_dataframe[\"PoS\"] == \"NOUN\"].values)\n",
        "        adverbs = \" \".join(spacy_dataframe[\"Lemma\"][spacy_dataframe[\"PoS\"] == \"ADV\"].values)\n",
        "        corpus_clean = \" \".join([token.lemma_ if token.lemma_ != \"-PRON-\" else token.text\n",
        "                                 for token in doc if not token.is_stop])\n",
        "        corpus_clean = re.sub(r'[^A-Za-z0-9]+', ' ', corpus_clean)\n",
        "        return verbs, nouns, adverbs, corpus_clean\n",
        "    \n",
        "    dataset[['verbs', 'nouns', 'adverbs', 'corpus']] = dataset[feature_column].apply(\n",
        "        lambda x: pd.Series(extract_spacy_data(x)), axis=1)\"\"\""
      ]
    },
    {
      "cell_type": "code",
      "execution_count": null,
      "metadata": {
        "id": "4UAyj1VziQ3r"
      },
      "outputs": [],
      "source": [
        "\"\"\"df_lyrics_words = add_spacy_data(df_lyrics, 'lyrics')\"\"\""
      ]
    },
    {
      "cell_type": "code",
      "execution_count": null,
      "metadata": {
        "id": "GGwz1W7Fu4xl"
      },
      "outputs": [],
      "source": [
        "\"\"\"df_lyrics_words.head(5)\"\"\""
      ]
    },
    {
      "cell_type": "code",
      "execution_count": null,
      "metadata": {
        "id": "qJD9L0s-uM-j"
      },
      "outputs": [],
      "source": [
        "#df_lyrics_words = df_lyrics_words.drop(columns = ['Unnamed: 0'], inplace=True)"
      ]
    },
    {
      "cell_type": "code",
      "execution_count": null,
      "metadata": {
        "id": "jIa3VED9uTHu"
      },
      "outputs": [],
      "source": [
        "\"\"\"word_counts = []\n",
        "unique_word_counts = []\n",
        "for i in range (0, len(df_lyrics_words)):\n",
        "    word_counts.append(len(df_lyrics_words.iloc[i]['lyrics'].split()))\n",
        "    unique_word_counts.append(len(set(df_lyrics_words.iloc[i]['lyrics'].split())))\n",
        "df_lyrics_words['word counts'] = word_counts\n",
        "df_lyrics_words['unique word counts'] = unique_word_counts\"\"\""
      ]
    },
    {
      "cell_type": "code",
      "execution_count": null,
      "metadata": {
        "id": "DfaHuJ1aR0In"
      },
      "outputs": [],
      "source": [
        "\"\"\"df_lyrics_words['common noun']= df_lyrics_words.apply(lambda x: x['nouns'].value_counts().idxmax())\n",
        "df_lyrics_words['common verb']= df_lyrics_words.apply(lambda x: x['verbs'].value_counts().idxmax())\"\"\""
      ]
    },
    {
      "cell_type": "code",
      "execution_count": null,
      "metadata": {
        "id": "-QY-m_yWCXJw"
      },
      "outputs": [],
      "source": [
        "\"\"\"df_lyrics_ready = df_lyrics_words[['title', 'artist', 'sentiment', 'word count', 'unique word count', 'common noun', 'common verb']]\"\"\""
      ]
    },
    {
      "cell_type": "markdown",
      "metadata": {
        "id": "1RZX6lNwo17Q"
      },
      "source": [
        "# Creating Final Dataset and EDA\n",
        "\n"
      ]
    },
    {
      "cell_type": "code",
      "execution_count": null,
      "metadata": {
        "id": "S5BVJcojpIXl"
      },
      "outputs": [],
      "source": [
        "\"\"\"df_features_lyrics =feature_matches.merge(df_lyrics_ready, left_on = ['title'], right_on = ['title'], how = 'inner')\"\"\""
      ]
    },
    {
      "cell_type": "code",
      "execution_count": null,
      "metadata": {
        "id": "eW-aMO5hphew"
      },
      "outputs": [],
      "source": [
        "\"\"\"df_features_lyrics_tiktok = df_features_lyrics.merge(df_tiktok_matches_final, left_on = ['title'], right_on = ['title'], how = 'inner')\"\"\""
      ]
    }
  ],
  "metadata": {
    "colab": {
      "provenance": [],
      "include_colab_link": true
    },
    "kernelspec": {
      "display_name": "Python 3",
      "name": "python3"
    },
    "language_info": {
      "name": "python"
    }
  },
  "nbformat": 4,
  "nbformat_minor": 0
}