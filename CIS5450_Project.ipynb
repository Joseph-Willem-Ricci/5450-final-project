{
  "cells": [
    {
      "cell_type": "markdown",
      "metadata": {
        "id": "view-in-github",
        "colab_type": "text"
      },
      "source": [
        "<a href=\"https://colab.research.google.com/github/Joseph-Willem-Ricci/5450-final-project/blob/joe/CIS5450_Project.ipynb\" target=\"_parent\"><img src=\"https://colab.research.google.com/assets/colab-badge.svg\" alt=\"Open In Colab\"/></a>"
      ]
    },
    {
      "cell_type": "markdown",
      "metadata": {
        "id": "O5RzHfJIP-OW"
      },
      "source": [
        "# CIT 5450 Final Project\n",
        "Joanne Crean, Juan Goleniowski, Joseph Ricci"
      ]
    },
    {
      "cell_type": "markdown",
      "metadata": {
        "id": "CgvinkN7Qm8e"
      },
      "source": [
        "Before running, be sure to create a new Kaggle API token and save it as 'kaggle.json' in your default Google Drive location (/content/drive/MyDrive/)"
      ]
    },
    {
      "cell_type": "code",
      "execution_count": 2,
      "metadata": {
        "id": "lTHg3UfjQbIp",
        "colab": {
          "base_uri": "https://localhost:8080/"
        },
        "outputId": "ea01aa5f-f340-4dce-fc28-7d9b3367673d"
      },
      "outputs": [
        {
          "output_type": "stream",
          "name": "stdout",
          "text": [
            "Looking in indexes: https://pypi.org/simple, https://us-python.pkg.dev/colab-wheels/public/simple/\n",
            "Collecting pandasql\n",
            "  Downloading pandasql-0.7.3.tar.gz (26 kB)\n",
            "  Preparing metadata (setup.py) ... \u001b[?25l\u001b[?25hdone\n",
            "Requirement already satisfied: numpy in /usr/local/lib/python3.9/dist-packages (from pandasql) (1.22.4)\n",
            "Requirement already satisfied: pandas in /usr/local/lib/python3.9/dist-packages (from pandasql) (1.5.3)\n",
            "Requirement already satisfied: sqlalchemy in /usr/local/lib/python3.9/dist-packages (from pandasql) (2.0.9)\n",
            "Requirement already satisfied: pytz>=2020.1 in /usr/local/lib/python3.9/dist-packages (from pandas->pandasql) (2022.7.1)\n",
            "Requirement already satisfied: python-dateutil>=2.8.1 in /usr/local/lib/python3.9/dist-packages (from pandas->pandasql) (2.8.2)\n",
            "Requirement already satisfied: typing-extensions>=4.2.0 in /usr/local/lib/python3.9/dist-packages (from sqlalchemy->pandasql) (4.5.0)\n",
            "Requirement already satisfied: greenlet!=0.4.17 in /usr/local/lib/python3.9/dist-packages (from sqlalchemy->pandasql) (2.0.2)\n",
            "Requirement already satisfied: six>=1.5 in /usr/local/lib/python3.9/dist-packages (from python-dateutil>=2.8.1->pandas->pandasql) (1.16.0)\n",
            "Building wheels for collected packages: pandasql\n",
            "  Building wheel for pandasql (setup.py) ... \u001b[?25l\u001b[?25hdone\n",
            "  Created wheel for pandasql: filename=pandasql-0.7.3-py3-none-any.whl size=26784 sha256=63eab3ff84f28ba49015f6605136a6ae585dc267f18bacae99c761f500d5c238\n",
            "  Stored in directory: /root/.cache/pip/wheels/63/e8/ec/75b1df467ecf57b6ececb32cb16f4e86697cbfe55cb0c51f07\n",
            "Successfully built pandasql\n",
            "Installing collected packages: pandasql\n",
            "Successfully installed pandasql-0.7.3\n",
            "Looking in indexes: https://pypi.org/simple, https://us-python.pkg.dev/colab-wheels/public/simple/\n",
            "Collecting sqlalchemy==1.4.46\n",
            "  Downloading SQLAlchemy-1.4.46-cp39-cp39-manylinux_2_5_x86_64.manylinux1_x86_64.manylinux_2_17_x86_64.manylinux2014_x86_64.whl (1.6 MB)\n",
            "\u001b[2K     \u001b[90m━━━━━━━━━━━━━━━━━━━━━━━━━━━━━━━━━━━━━━━━\u001b[0m \u001b[32m1.6/1.6 MB\u001b[0m \u001b[31m41.4 MB/s\u001b[0m eta \u001b[36m0:00:00\u001b[0m\n",
            "\u001b[?25hRequirement already satisfied: greenlet!=0.4.17 in /usr/local/lib/python3.9/dist-packages (from sqlalchemy==1.4.46) (2.0.2)\n",
            "Installing collected packages: sqlalchemy\n",
            "  Attempting uninstall: sqlalchemy\n",
            "    Found existing installation: SQLAlchemy 2.0.9\n",
            "    Uninstalling SQLAlchemy-2.0.9:\n",
            "      Successfully uninstalled SQLAlchemy-2.0.9\n",
            "Successfully installed sqlalchemy-1.4.46\n"
          ]
        }
      ],
      "source": [
        "# Installs\n",
        "!pip install -q kaggle\n",
        "!pip install pandasql\n",
        "!pip install sqlalchemy==1.4.46"
      ]
    },
    {
      "cell_type": "code",
      "execution_count": 3,
      "metadata": {
        "id": "iwAn5PY1_KU6"
      },
      "outputs": [],
      "source": [
        "# Imports\n",
        "import pandas as pd\n",
        "import pandasql as ps\n",
        "from google.colab import drive\n",
        "import warnings\n",
        "warnings.simplefilter(action='ignore', category=FutureWarning)"
      ]
    },
    {
      "cell_type": "code",
      "execution_count": 4,
      "metadata": {
        "colab": {
          "base_uri": "https://localhost:8080/"
        },
        "id": "8q53w-KnA7wi",
        "outputId": "1888be94-6489-446d-c4b0-76ca074383d5"
      },
      "outputs": [
        {
          "output_type": "stream",
          "name": "stdout",
          "text": [
            "Mounted at /content/drive\n"
          ]
        }
      ],
      "source": [
        "# Setup\n",
        "drive.mount('/content/drive')\n",
        "!mkdir ~/.kaggle\n",
        "!cp /content/drive/MyDrive/kaggle.json ~/.kaggle/"
      ]
    },
    {
      "cell_type": "code",
      "execution_count": 5,
      "metadata": {
        "colab": {
          "base_uri": "https://localhost:8080/"
        },
        "id": "JxzLvzzIB-fi",
        "outputId": "ba0844c4-a5d8-4b6e-dfb0-7ed226d895df"
      },
      "outputs": [
        {
          "output_type": "execute_result",
          "data": {
            "text/plain": [
              "['Downloading tiktok-popular-songs-2021.zip to /content',\n",
              " '',\n",
              " '  0% 0.00/11.0k [00:00<?, ?B/s]',\n",
              " '',\n",
              " '100% 11.0k/11.0k [00:00<00:00, 10.7MB/s]']"
            ]
          },
          "metadata": {},
          "execution_count": 5
        }
      ],
      "source": [
        "# Download Datasets\n",
        "# Spotify Top 200 and Viral 50 Charts for 2017 through 2021 Dataset\n",
        "!!kaggle datasets download -d dhruvildave/spotify-charts\n",
        "\n",
        "# Spotify Audio Features Datasets\n",
        "!!kaggle datasets download -d rodolfofigueroa/spotify-12m-songs\n",
        "!!kaggle datasets download -d muhmores/spotify-top-100-songs-of-20152019\n",
        "!!kaggle datasets download -d sashankpillai/spotify-top-200-charts-20202021\n",
        "!!kaggle datasets download -d maharshipandya/-spotify-tracks-dataset\n",
        "!!kaggle datasets download -d vatsalmavani/spotify-dataset\n",
        "!!kaggle datasets download -d nandhakumarss/spotify-song-tracks\n",
        "!!kaggle datasets download -d elemento/music-albums-popularity-prediction\n",
        "\n",
        "# TikTok Popular Songs Dataset\n",
        "!!kaggle datasets download -d sveta151/tiktok-popular-songs-2019\n",
        "!!kaggle datasets download -d sveta151/tiktok-popular-songs-2020\n",
        "!!kaggle datasets download -d sveta151/tiktok-popular-songs-2021"
      ]
    },
    {
      "cell_type": "code",
      "execution_count": 6,
      "metadata": {
        "colab": {
          "base_uri": "https://localhost:8080/"
        },
        "id": "2WPqLyOGCp8B",
        "outputId": "707315c0-b2ff-4e25-9019-26b206bb52d0"
      },
      "outputs": [
        {
          "output_type": "stream",
          "name": "stdout",
          "text": [
            "Archive:  /content/spotify-charts.zip\n",
            "  inflating: charts.csv              \n",
            "Archive:  /content/spotify-12m-songs.zip\n",
            "  inflating: tracks_features.csv     \n",
            "Archive:  /content/spotify-top-100-songs-of-20152019.zip\n",
            "  inflating: Spotify 2010 - 2019 Top 100 Songs.xlsx  \n",
            "  inflating: Spotify 2010 - 2019 Top 100.csv  \n",
            "Archive:  /content/spotify-top-200-charts-20202021.zip\n",
            "  inflating: spotify_dataset.csv     \n",
            "Archive:  /content/-spotify-tracks-dataset.zip\n",
            "  inflating: dataset.csv             \n",
            "Archive:  /content/spotify-dataset.zip\n",
            "  inflating: data/data.csv           \n",
            "  inflating: data/data_by_artist.csv  \n",
            "  inflating: data/data_by_genres.csv  \n",
            "  inflating: data/data_by_year.csv   \n",
            "  inflating: data/data_w_genres.csv  \n",
            "Archive:  /content/spotify-song-tracks.zip\n",
            "  inflating: SpotifyFeatures.csv     \n",
            "Archive:  /content/music-albums-popularity-prediction.zip\n",
            "  inflating: sample_solution.csv     \n",
            "  inflating: test.csv                \n",
            "  inflating: train.csv               \n",
            "Archive:  /content/tiktok-popular-songs-2019.zip\n",
            "  inflating: TikTok_songs_2019.csv   \n",
            "  inflating: TikTok_songs_2019.xlsx  \n",
            "Archive:  /content/tiktok-popular-songs-2020.zip\n",
            "  inflating: TikTok_songs_2020.csv   \n",
            "Archive:  /content/tiktok-popular-songs-2021.zip\n",
            "  inflating: TikTok_songs_2021.csv   \n"
          ]
        }
      ],
      "source": [
        "# Unzip Datasets\n",
        "!unzip /content/spotify-charts.zip\n",
        "!unzip /content/spotify-12m-songs.zip\n",
        "!unzip /content/spotify-top-100-songs-of-20152019.zip\n",
        "!unzip /content/spotify-top-200-charts-20202021.zip\n",
        "!unzip /content/-spotify-tracks-dataset.zip\n",
        "!unzip /content/spotify-dataset.zip\n",
        "!unzip /content/spotify-song-tracks.zip\n",
        "!unzip /content/music-albums-popularity-prediction.zip\n",
        "!unzip /content/tiktok-popular-songs-2019\n",
        "!unzip /content/tiktok-popular-songs-2020\n",
        "!unzip /content/tiktok-popular-songs-2021"
      ]
    },
    {
      "cell_type": "code",
      "execution_count": 7,
      "metadata": {
        "id": "5AlyHOELYRnS"
      },
      "outputs": [],
      "source": [
        "# Clean up directory to save space\n",
        "!rm sample_data/*\n",
        "!rm -d sample_data\n",
        "!rm ./*.zip\n",
        "!rm sample_solution.csv\n",
        "!rm ./*.xlsx"
      ]
    },
    {
      "cell_type": "code",
      "execution_count": 8,
      "metadata": {
        "id": "dEbMv8CEQMJG"
      },
      "outputs": [],
      "source": [
        "# Read the csv files and save them to pandas dataframes\n",
        "df_charts = pd.read_csv('charts.csv')\n",
        "df_song_features_1 = pd.read_csv('tracks_features.csv')\n",
        "df_song_features_2 = pd.read_csv('Spotify 2010 - 2019 Top 100.csv')\n",
        "df_song_features_3 = pd.read_csv('spotify_dataset.csv')\n",
        "df_song_features_4 = pd.read_csv('dataset.csv')\n",
        "df_song_features_5 = pd.read_csv('data/data.csv')\n",
        "df_song_features_6 = pd.read_csv('SpotifyFeatures.csv')\n",
        "df_song_features_7 = pd.read_csv('train.csv')\n",
        "df_song_features_10 = pd.read_csv('test.csv')\n",
        "df_tiktok_19 = pd.read_csv('TikTok_songs_2019.csv')\n",
        "df_tiktok_20 = pd.read_csv('TikTok_songs_2020.csv')\n",
        "df_tiktok_21 = pd.read_csv('TikTok_songs_2021.csv')"
      ]
    },
    {
      "cell_type": "code",
      "execution_count": 9,
      "metadata": {
        "colab": {
          "base_uri": "https://localhost:8080/"
        },
        "id": "C1epbANjRnzN",
        "outputId": "48f76777-0f29-47d6-ff9e-7a89003e7b3b"
      },
      "outputs": [
        {
          "output_type": "stream",
          "name": "stdout",
          "text": [
            "Drive already mounted at /content/drive; to attempt to forcibly remount, call drive.mount(\"/content/drive\", force_remount=True).\n"
          ]
        }
      ],
      "source": [
        "from google.colab import drive\n",
        "drive.mount('/content/drive')"
      ]
    },
    {
      "cell_type": "code",
      "execution_count": 10,
      "metadata": {
        "id": "NsiSHzoWYAfn"
      },
      "outputs": [],
      "source": [
        "# Clean up remaining files\n",
        "!rm data/*\n",
        "!rm -d data\n",
        "!rm ./*.csv"
      ]
    },
    {
      "cell_type": "markdown",
      "metadata": {
        "id": "5Hmg7zVxaI-6"
      },
      "source": [
        "# Spotify Top 200 and Viral 50 Charts EDA"
      ]
    },
    {
      "cell_type": "code",
      "execution_count": 11,
      "metadata": {
        "id": "Kv90Vf_y_d_M"
      },
      "outputs": [],
      "source": [
        "# Create a separate column for Year\n",
        "df_charts['Year']=df_charts['date'].str.slice(stop=4)\n",
        "\n",
        "# Cast 'Year' as Int\n",
        "df_charts['Year'] = df_charts['Year'].astype(int)\n",
        "\n",
        "# Show datatypes \n",
        "df_charts.dtypes\n",
        "\n",
        "#remove ID, trend and streams columns\n",
        "df_charts.drop(['url', 'trend', 'streams'], axis=1, inplace=True)\n",
        "\n",
        "df_charts.dropna(inplace=True)"
      ]
    },
    {
      "cell_type": "code",
      "execution_count": 12,
      "metadata": {
        "id": "gJnMPf5uE4gp",
        "outputId": "992ac8a7-e130-46d2-bd2e-1bdbb0818036",
        "colab": {
          "base_uri": "https://localhost:8080/",
          "height": 238
        }
      },
      "outputs": [
        {
          "output_type": "execute_result",
          "data": {
            "text/plain": [
              "        title     rank     date   artist   region    chart\n",
              "Year                                                      \n",
              "2017  4401145  4401145  4401145  4401145  4401145  4401145\n",
              "2018  4863016  4863016  4863016  4863016  4863016  4863016\n",
              "2019  5412658  5412658  5412658  5412658  5412658  5412658\n",
              "2020  5793130  5793130  5793130  5793130  5793130  5793130\n",
              "2021  5703536  5703536  5703536  5703536  5703536  5703536"
            ],
            "text/html": [
              "\n",
              "  <div id=\"df-3bd816ce-dc97-4a8c-b8e5-34cab0065d66\">\n",
              "    <div class=\"colab-df-container\">\n",
              "      <div>\n",
              "<style scoped>\n",
              "    .dataframe tbody tr th:only-of-type {\n",
              "        vertical-align: middle;\n",
              "    }\n",
              "\n",
              "    .dataframe tbody tr th {\n",
              "        vertical-align: top;\n",
              "    }\n",
              "\n",
              "    .dataframe thead th {\n",
              "        text-align: right;\n",
              "    }\n",
              "</style>\n",
              "<table border=\"1\" class=\"dataframe\">\n",
              "  <thead>\n",
              "    <tr style=\"text-align: right;\">\n",
              "      <th></th>\n",
              "      <th>title</th>\n",
              "      <th>rank</th>\n",
              "      <th>date</th>\n",
              "      <th>artist</th>\n",
              "      <th>region</th>\n",
              "      <th>chart</th>\n",
              "    </tr>\n",
              "    <tr>\n",
              "      <th>Year</th>\n",
              "      <th></th>\n",
              "      <th></th>\n",
              "      <th></th>\n",
              "      <th></th>\n",
              "      <th></th>\n",
              "      <th></th>\n",
              "    </tr>\n",
              "  </thead>\n",
              "  <tbody>\n",
              "    <tr>\n",
              "      <th>2017</th>\n",
              "      <td>4401145</td>\n",
              "      <td>4401145</td>\n",
              "      <td>4401145</td>\n",
              "      <td>4401145</td>\n",
              "      <td>4401145</td>\n",
              "      <td>4401145</td>\n",
              "    </tr>\n",
              "    <tr>\n",
              "      <th>2018</th>\n",
              "      <td>4863016</td>\n",
              "      <td>4863016</td>\n",
              "      <td>4863016</td>\n",
              "      <td>4863016</td>\n",
              "      <td>4863016</td>\n",
              "      <td>4863016</td>\n",
              "    </tr>\n",
              "    <tr>\n",
              "      <th>2019</th>\n",
              "      <td>5412658</td>\n",
              "      <td>5412658</td>\n",
              "      <td>5412658</td>\n",
              "      <td>5412658</td>\n",
              "      <td>5412658</td>\n",
              "      <td>5412658</td>\n",
              "    </tr>\n",
              "    <tr>\n",
              "      <th>2020</th>\n",
              "      <td>5793130</td>\n",
              "      <td>5793130</td>\n",
              "      <td>5793130</td>\n",
              "      <td>5793130</td>\n",
              "      <td>5793130</td>\n",
              "      <td>5793130</td>\n",
              "    </tr>\n",
              "    <tr>\n",
              "      <th>2021</th>\n",
              "      <td>5703536</td>\n",
              "      <td>5703536</td>\n",
              "      <td>5703536</td>\n",
              "      <td>5703536</td>\n",
              "      <td>5703536</td>\n",
              "      <td>5703536</td>\n",
              "    </tr>\n",
              "  </tbody>\n",
              "</table>\n",
              "</div>\n",
              "      <button class=\"colab-df-convert\" onclick=\"convertToInteractive('df-3bd816ce-dc97-4a8c-b8e5-34cab0065d66')\"\n",
              "              title=\"Convert this dataframe to an interactive table.\"\n",
              "              style=\"display:none;\">\n",
              "        \n",
              "  <svg xmlns=\"http://www.w3.org/2000/svg\" height=\"24px\"viewBox=\"0 0 24 24\"\n",
              "       width=\"24px\">\n",
              "    <path d=\"M0 0h24v24H0V0z\" fill=\"none\"/>\n",
              "    <path d=\"M18.56 5.44l.94 2.06.94-2.06 2.06-.94-2.06-.94-.94-2.06-.94 2.06-2.06.94zm-11 1L8.5 8.5l.94-2.06 2.06-.94-2.06-.94L8.5 2.5l-.94 2.06-2.06.94zm10 10l.94 2.06.94-2.06 2.06-.94-2.06-.94-.94-2.06-.94 2.06-2.06.94z\"/><path d=\"M17.41 7.96l-1.37-1.37c-.4-.4-.92-.59-1.43-.59-.52 0-1.04.2-1.43.59L10.3 9.45l-7.72 7.72c-.78.78-.78 2.05 0 2.83L4 21.41c.39.39.9.59 1.41.59.51 0 1.02-.2 1.41-.59l7.78-7.78 2.81-2.81c.8-.78.8-2.07 0-2.86zM5.41 20L4 18.59l7.72-7.72 1.47 1.35L5.41 20z\"/>\n",
              "  </svg>\n",
              "      </button>\n",
              "      \n",
              "  <style>\n",
              "    .colab-df-container {\n",
              "      display:flex;\n",
              "      flex-wrap:wrap;\n",
              "      gap: 12px;\n",
              "    }\n",
              "\n",
              "    .colab-df-convert {\n",
              "      background-color: #E8F0FE;\n",
              "      border: none;\n",
              "      border-radius: 50%;\n",
              "      cursor: pointer;\n",
              "      display: none;\n",
              "      fill: #1967D2;\n",
              "      height: 32px;\n",
              "      padding: 0 0 0 0;\n",
              "      width: 32px;\n",
              "    }\n",
              "\n",
              "    .colab-df-convert:hover {\n",
              "      background-color: #E2EBFA;\n",
              "      box-shadow: 0px 1px 2px rgba(60, 64, 67, 0.3), 0px 1px 3px 1px rgba(60, 64, 67, 0.15);\n",
              "      fill: #174EA6;\n",
              "    }\n",
              "\n",
              "    [theme=dark] .colab-df-convert {\n",
              "      background-color: #3B4455;\n",
              "      fill: #D2E3FC;\n",
              "    }\n",
              "\n",
              "    [theme=dark] .colab-df-convert:hover {\n",
              "      background-color: #434B5C;\n",
              "      box-shadow: 0px 1px 3px 1px rgba(0, 0, 0, 0.15);\n",
              "      filter: drop-shadow(0px 1px 2px rgba(0, 0, 0, 0.3));\n",
              "      fill: #FFFFFF;\n",
              "    }\n",
              "  </style>\n",
              "\n",
              "      <script>\n",
              "        const buttonEl =\n",
              "          document.querySelector('#df-3bd816ce-dc97-4a8c-b8e5-34cab0065d66 button.colab-df-convert');\n",
              "        buttonEl.style.display =\n",
              "          google.colab.kernel.accessAllowed ? 'block' : 'none';\n",
              "\n",
              "        async function convertToInteractive(key) {\n",
              "          const element = document.querySelector('#df-3bd816ce-dc97-4a8c-b8e5-34cab0065d66');\n",
              "          const dataTable =\n",
              "            await google.colab.kernel.invokeFunction('convertToInteractive',\n",
              "                                                     [key], {});\n",
              "          if (!dataTable) return;\n",
              "\n",
              "          const docLinkHtml = 'Like what you see? Visit the ' +\n",
              "            '<a target=\"_blank\" href=https://colab.research.google.com/notebooks/data_table.ipynb>data table notebook</a>'\n",
              "            + ' to learn more about interactive tables.';\n",
              "          element.innerHTML = '';\n",
              "          dataTable['output_type'] = 'display_data';\n",
              "          await google.colab.output.renderOutput(dataTable, element);\n",
              "          const docLink = document.createElement('div');\n",
              "          docLink.innerHTML = docLinkHtml;\n",
              "          element.appendChild(docLink);\n",
              "        }\n",
              "      </script>\n",
              "    </div>\n",
              "  </div>\n",
              "  "
            ]
          },
          "metadata": {},
          "execution_count": 12
        }
      ],
      "source": [
        "# Number of record per year\n",
        "df_charts.groupby(by='Year').count()"
      ]
    },
    {
      "cell_type": "code",
      "execution_count": 13,
      "metadata": {
        "id": "qPnsptwJI-qg"
      },
      "outputs": [],
      "source": [
        "# Remore records with year 2017 and 2018\n",
        "df_charts=df_charts[df_charts['Year'] > 2018]"
      ]
    },
    {
      "cell_type": "code",
      "execution_count": 14,
      "metadata": {
        "id": "Q9a2ZRHIGQ74"
      },
      "outputs": [],
      "source": [
        "query = \"\"\"SELECT artist, count(date) as 'days as number 1'\n",
        "FROM df_charts\n",
        "WHERE rank == 1\n",
        "GROUP BY artist\n",
        "ORDER BY count(date) DESC\n",
        "LIMIT 50\n",
        "\"\"\"\n",
        "\n",
        "sql_top_50_artists = ps.sqldf(query, locals())"
      ]
    },
    {
      "cell_type": "code",
      "execution_count": 15,
      "metadata": {
        "id": "stIirPTbGUkK"
      },
      "outputs": [],
      "source": [
        "sql_top_50_artists"
      ]
    },
    {
      "cell_type": "code",
      "execution_count": 16,
      "metadata": {
        "id": "R-IYyMNZGZzl"
      },
      "outputs": [],
      "source": [
        "query = \"\"\"SELECT title, count(date) as 'days as number 1'\n",
        "FROM df_charts\n",
        "WHERE rank == 1\n",
        "GROUP BY title\n",
        "ORDER BY count(date) DESC\n",
        "LIMIT 50\n",
        "\"\"\"\n",
        "\n",
        "sql_top_50_songs = ps.sqldf(query, locals())"
      ]
    },
    {
      "cell_type": "code",
      "execution_count": 17,
      "metadata": {
        "id": "iWilb77mGall"
      },
      "outputs": [],
      "source": [
        "sql_top_50_songs"
      ]
    },
    {
      "cell_type": "markdown",
      "metadata": {
        "id": "mfi4tbmeaYPc"
      },
      "source": [
        "# Spotify Audio Feature Dataset EDA\n",
        "\n",
        "Since the Spotify Top 200 and Viral 50 charts dataset does not come with audio features the songs, there is no guarantee that we can find datasets that include audio features for all of the songs in the charts. One relevant question to explore is therefore\n",
        "\n",
        "1. Can we find audio feature data for a suitably \"big\" fraction of the songs in the Charts dataset?\n",
        "\n",
        "Additionally, since we'll be combining multiple audio features datasets, there is no guarantee that those datasets share the same features, so\n",
        "\n",
        "2. What fields do the datasets share?"
      ]
    },
    {
      "cell_type": "code",
      "source": [
        "# First, since we want to find song features for as many of the songs in 'df_charts' as possible, let's start by\n",
        "# projecting df_charts by song title and artist name, which will uniquely identify each song, and then dropping duplicates\n",
        "df_charts_songs_artists = df_charts[['title', 'artist']].drop_duplicates()\n",
        "\n",
        "# Next, let's join the features datasets on song title and artist name and see what percentage of songs in charts_df\n",
        "# each song features dataset can provide features for\n",
        "\n",
        "# Clean extranneous characters from artist columns if necessary\n",
        "df_song_features_1['artists'] = df_song_features_1['artists'].str.replace('[', '').str.replace(']', '').str.replace(\"'\", '')\n",
        "df_song_features_5['artists'] = df_song_features_5['artists'].str.replace('[', '').str.replace(']', '').str.replace(\"'\", '')\n",
        "df_song_features_7['artists'] = df_song_features_7['artists'].str.replace(', ', '')\n",
        "df_song_features_10['artists'] = df_song_features_10['artists'].str.replace(', ', '')"
      ],
      "metadata": {
        "id": "zLjoplKkLYD2"
      },
      "execution_count": 18,
      "outputs": []
    },
    {
      "cell_type": "code",
      "execution_count": 19,
      "metadata": {
        "colab": {
          "base_uri": "https://localhost:8080/"
        },
        "id": "es9cOCyBb6IW",
        "outputId": "bbfb0dec-cb6f-4e12-85be-95510db12a45"
      },
      "outputs": [
        {
          "output_type": "stream",
          "name": "stdout",
          "text": [
            "We are able to provide audio features for 16.48% of songs in df_charts, for a total of 18950 out of 115014 songs\n"
          ]
        }
      ],
      "source": [
        "# Rename song title \"title\" and \"artist\" columns in each dataframe and \n",
        "# create separate dataframes for features_7 and features_10, which each have three columns for each field for three different songs\n",
        "df_song_features_1 = df_song_features_1.rename(columns={'name': 'title', 'artists': 'artist'})\n",
        "# _song_features_2 already has fields 'title' and 'artist'\n",
        "df_song_features_3 = df_song_features_3.rename(columns={'Song Name': 'title', 'Artist': 'artist'})\n",
        "df_song_features_4 = df_song_features_4.rename(columns={'track_name': 'title', 'artists': 'artist'})\n",
        "df_song_features_5 = df_song_features_5.rename(columns={'name': 'title', 'artists': 'artist'})\n",
        "df_song_features_6 = df_song_features_6.rename(columns={'track_name': 'title', 'artist_name': 'artist'})\n",
        "df_song_features_8 = df_song_features_7.rename(columns={'t_name1': 'title', 'artists': 'artist'}).drop(columns=['t_name0', 't_name2', 't_dur0', 't_dur2', 't_dance0', 't_dance2', 't_energy0', 't_energy2', 't_key0', 't_key2', 't_mode0', 't_mode2', 't_speech0', 't_speech2', 't_acous0', 't_acous2', 't_ins0', 't_ins2', 't_live0', 't_live2', 't_val0', 't_val2', 't_tempo0', 't_tempo2', 't_sig0', 't_sig2'])\n",
        "df_song_features_9 = df_song_features_7.rename(columns={'t_name2': 'title', 'artists': 'artist'}).drop(columns=['t_name0', 't_name1', 't_dur0', 't_dur1', 't_dance0', 't_dance1', 't_energy0', 't_energy1', 't_key0', 't_key1', 't_mode0', 't_mode1', 't_speech0', 't_speech1', 't_acous0', 't_acous1', 't_ins0', 't_ins1', 't_live0', 't_live1', 't_val0', 't_val1', 't_tempo0', 't_tempo1', 't_sig0', 't_sig1'])\n",
        "df_song_features_7 = df_song_features_7.rename(columns={'t_name0': 'title', 'artists': 'artist'}).drop(columns=['t_name1', 't_name2', 't_dur1', 't_dur2', 't_dance1', 't_dance2', 't_energy1', 't_energy2', 't_key1', 't_key2', 't_mode1', 't_mode2', 't_speech1', 't_speech2', 't_acous1', 't_acous2', 't_ins1', 't_ins2', 't_live1', 't_live2', 't_val1', 't_val2', 't_tempo1', 't_tempo2', 't_sig1', 't_sig2'])\n",
        "df_song_features_11 = df_song_features_10.rename(columns={'t_name1': 'title', 'artists': 'artist'}).drop(columns=['t_name0', 't_name2', 't_dur0', 't_dur2', 't_dance0', 't_dance2', 't_energy0', 't_energy2', 't_key0', 't_key2', 't_mode0', 't_mode2', 't_speech0', 't_speech2', 't_acous0', 't_acous2', 't_ins0', 't_ins2', 't_live0', 't_live2', 't_val0', 't_val2', 't_tempo0', 't_tempo2', 't_sig0', 't_sig2'])\n",
        "df_song_features_12 = df_song_features_10.rename(columns={'t_name2': 'title', 'artists': 'artist'}).drop(columns=['t_name0', 't_name1', 't_dur0', 't_dur1', 't_dance0', 't_dance1', 't_energy0', 't_energy1', 't_key0', 't_key1', 't_mode0', 't_mode1', 't_speech0', 't_speech1', 't_acous0', 't_acous1', 't_ins0', 't_ins1', 't_live0', 't_live1', 't_val0', 't_val1', 't_tempo0', 't_tempo1', 't_sig0', 't_sig1'])\n",
        "df_song_features_10 = df_song_features_10.rename(columns={'t_name0': 'title', 'artists': 'artist'}).drop(columns=['t_name1', 't_name2', 't_dur1', 't_dur2', 't_dance1', 't_dance2', 't_energy1', 't_energy2', 't_key1', 't_key2', 't_mode1', 't_mode2', 't_speech1', 't_speech2', 't_acous1', 't_acous2', 't_ins1', 't_ins2', 't_live1', 't_live2', 't_val1', 't_val2', 't_tempo1', 't_tempo2', 't_sig1', 't_sig2'])\n",
        "\n",
        "# Project only the necessary columns from each feature dataset and also rename to maintain consistency\n",
        "features_1_projected = df_song_features_1[['title', 'artist']]\n",
        "features_2_projected = df_song_features_2[['title', 'artist']]\n",
        "features_3_projected = df_song_features_3[['title', 'artist']]\n",
        "features_4_projected = df_song_features_4[['title', 'artist']]\n",
        "features_5_projected = df_song_features_5[['title', 'artist']]\n",
        "features_6_projected = df_song_features_6[['title', 'artist']]\n",
        "features_7_projected = df_song_features_7[['title', 'artist']]\n",
        "features_8_projected = df_song_features_8[['title', 'artist']]\n",
        "features_9_projected = df_song_features_9[['title', 'artist']]\n",
        "features_10_projected = df_song_features_10[['title', 'artist']]\n",
        "features_11_projected = df_song_features_11[['title', 'artist']]\n",
        "features_12_projected = df_song_features_12[['title', 'artist']]\n",
        "all_songs_with_features = pd.concat([features_1_projected, features_2_projected, features_3_projected, features_4_projected, \n",
        "                                     features_5_projected, features_6_projected, features_7_projected, features_8_projected, \n",
        "                                     features_9_projected, features_10_projected, features_11_projected, features_12_projected], ignore_index=True).drop_duplicates()\n",
        "\n",
        "# Join on song title and artist name\n",
        "feature_matches = pd.merge(df_charts_songs_artists, all_songs_with_features, on=['title', 'artist'], how='inner')\n",
        "\n",
        "# Calculate the percentage of songs each features dataset was able to provide song features for\n",
        "match_percentage_combined = 100 * feature_matches.shape[0] / df_charts_songs_artists.shape[0]\n",
        "print(\"We are able to provide audio features for \" + str(round(match_percentage_combined,2)) + \"% of songs in df_charts,\"\\\n",
        "      \" for a total of \" + str(feature_matches.shape[0]) + \" out of \" + str(df_charts_songs_artists.shape[0]) + \" songs\")"
      ]
    },
    {
      "cell_type": "markdown",
      "metadata": {
        "id": "VWfoMYNn0xcx"
      },
      "source": [
        "Lets now see whether we can do any additional cleaning to boost our match percentage. Since there are many obscure songs in df_charts that have, say, reached chart position 200 in small countries like Latvia and Ecuador, let us limit our search to songs that charted highly in the United States, and see if any of those songs were unmatched in the features data"
      ]
    },
    {
      "cell_type": "code",
      "execution_count": 20,
      "metadata": {
        "id": "5AAL49Tp0xcx",
        "colab": {
          "base_uri": "https://localhost:8080/",
          "height": 241
        },
        "outputId": "9bfa1d4f-19b3-4fd2-f48c-5604e13e6973"
      },
      "outputs": [
        {
          "output_type": "stream",
          "name": "stderr",
          "text": [
            "<ipython-input-20-b56ed4472038>:1: UserWarning: Boolean Series key will be reindexed to match DataFrame index.\n",
            "  non_matches = pd.merge(df_charts[df_charts['rank'] > 10][df_charts['region'] == 'United States'][['title', 'artist']],\n"
          ]
        },
        {
          "output_type": "execute_result",
          "data": {
            "text/plain": [
              "                                title                     artist     _merge\n",
              "23   Walk Em Down (feat. Roddy Ricch)    Roddy Ricch, NLE Choppa  left_only\n",
              "53                  Social Distancing                   Lil Baby  left_only\n",
              "58                             Coffee  Quinn XCII, Marc E. Bassy  left_only\n",
              "73       Eleven (feat. Summer Walker)                     Khalid  left_only\n",
              "121                          Low Down                   Lil Baby  left_only"
            ],
            "text/html": [
              "\n",
              "  <div id=\"df-e09796de-f164-4496-b2a8-ef3af43f2445\">\n",
              "    <div class=\"colab-df-container\">\n",
              "      <div>\n",
              "<style scoped>\n",
              "    .dataframe tbody tr th:only-of-type {\n",
              "        vertical-align: middle;\n",
              "    }\n",
              "\n",
              "    .dataframe tbody tr th {\n",
              "        vertical-align: top;\n",
              "    }\n",
              "\n",
              "    .dataframe thead th {\n",
              "        text-align: right;\n",
              "    }\n",
              "</style>\n",
              "<table border=\"1\" class=\"dataframe\">\n",
              "  <thead>\n",
              "    <tr style=\"text-align: right;\">\n",
              "      <th></th>\n",
              "      <th>title</th>\n",
              "      <th>artist</th>\n",
              "      <th>_merge</th>\n",
              "    </tr>\n",
              "  </thead>\n",
              "  <tbody>\n",
              "    <tr>\n",
              "      <th>23</th>\n",
              "      <td>Walk Em Down (feat. Roddy Ricch)</td>\n",
              "      <td>Roddy Ricch, NLE Choppa</td>\n",
              "      <td>left_only</td>\n",
              "    </tr>\n",
              "    <tr>\n",
              "      <th>53</th>\n",
              "      <td>Social Distancing</td>\n",
              "      <td>Lil Baby</td>\n",
              "      <td>left_only</td>\n",
              "    </tr>\n",
              "    <tr>\n",
              "      <th>58</th>\n",
              "      <td>Coffee</td>\n",
              "      <td>Quinn XCII, Marc E. Bassy</td>\n",
              "      <td>left_only</td>\n",
              "    </tr>\n",
              "    <tr>\n",
              "      <th>73</th>\n",
              "      <td>Eleven (feat. Summer Walker)</td>\n",
              "      <td>Khalid</td>\n",
              "      <td>left_only</td>\n",
              "    </tr>\n",
              "    <tr>\n",
              "      <th>121</th>\n",
              "      <td>Low Down</td>\n",
              "      <td>Lil Baby</td>\n",
              "      <td>left_only</td>\n",
              "    </tr>\n",
              "  </tbody>\n",
              "</table>\n",
              "</div>\n",
              "      <button class=\"colab-df-convert\" onclick=\"convertToInteractive('df-e09796de-f164-4496-b2a8-ef3af43f2445')\"\n",
              "              title=\"Convert this dataframe to an interactive table.\"\n",
              "              style=\"display:none;\">\n",
              "        \n",
              "  <svg xmlns=\"http://www.w3.org/2000/svg\" height=\"24px\"viewBox=\"0 0 24 24\"\n",
              "       width=\"24px\">\n",
              "    <path d=\"M0 0h24v24H0V0z\" fill=\"none\"/>\n",
              "    <path d=\"M18.56 5.44l.94 2.06.94-2.06 2.06-.94-2.06-.94-.94-2.06-.94 2.06-2.06.94zm-11 1L8.5 8.5l.94-2.06 2.06-.94-2.06-.94L8.5 2.5l-.94 2.06-2.06.94zm10 10l.94 2.06.94-2.06 2.06-.94-2.06-.94-.94-2.06-.94 2.06-2.06.94z\"/><path d=\"M17.41 7.96l-1.37-1.37c-.4-.4-.92-.59-1.43-.59-.52 0-1.04.2-1.43.59L10.3 9.45l-7.72 7.72c-.78.78-.78 2.05 0 2.83L4 21.41c.39.39.9.59 1.41.59.51 0 1.02-.2 1.41-.59l7.78-7.78 2.81-2.81c.8-.78.8-2.07 0-2.86zM5.41 20L4 18.59l7.72-7.72 1.47 1.35L5.41 20z\"/>\n",
              "  </svg>\n",
              "      </button>\n",
              "      \n",
              "  <style>\n",
              "    .colab-df-container {\n",
              "      display:flex;\n",
              "      flex-wrap:wrap;\n",
              "      gap: 12px;\n",
              "    }\n",
              "\n",
              "    .colab-df-convert {\n",
              "      background-color: #E8F0FE;\n",
              "      border: none;\n",
              "      border-radius: 50%;\n",
              "      cursor: pointer;\n",
              "      display: none;\n",
              "      fill: #1967D2;\n",
              "      height: 32px;\n",
              "      padding: 0 0 0 0;\n",
              "      width: 32px;\n",
              "    }\n",
              "\n",
              "    .colab-df-convert:hover {\n",
              "      background-color: #E2EBFA;\n",
              "      box-shadow: 0px 1px 2px rgba(60, 64, 67, 0.3), 0px 1px 3px 1px rgba(60, 64, 67, 0.15);\n",
              "      fill: #174EA6;\n",
              "    }\n",
              "\n",
              "    [theme=dark] .colab-df-convert {\n",
              "      background-color: #3B4455;\n",
              "      fill: #D2E3FC;\n",
              "    }\n",
              "\n",
              "    [theme=dark] .colab-df-convert:hover {\n",
              "      background-color: #434B5C;\n",
              "      box-shadow: 0px 1px 3px 1px rgba(0, 0, 0, 0.15);\n",
              "      filter: drop-shadow(0px 1px 2px rgba(0, 0, 0, 0.3));\n",
              "      fill: #FFFFFF;\n",
              "    }\n",
              "  </style>\n",
              "\n",
              "      <script>\n",
              "        const buttonEl =\n",
              "          document.querySelector('#df-e09796de-f164-4496-b2a8-ef3af43f2445 button.colab-df-convert');\n",
              "        buttonEl.style.display =\n",
              "          google.colab.kernel.accessAllowed ? 'block' : 'none';\n",
              "\n",
              "        async function convertToInteractive(key) {\n",
              "          const element = document.querySelector('#df-e09796de-f164-4496-b2a8-ef3af43f2445');\n",
              "          const dataTable =\n",
              "            await google.colab.kernel.invokeFunction('convertToInteractive',\n",
              "                                                     [key], {});\n",
              "          if (!dataTable) return;\n",
              "\n",
              "          const docLinkHtml = 'Like what you see? Visit the ' +\n",
              "            '<a target=\"_blank\" href=https://colab.research.google.com/notebooks/data_table.ipynb>data table notebook</a>'\n",
              "            + ' to learn more about interactive tables.';\n",
              "          element.innerHTML = '';\n",
              "          dataTable['output_type'] = 'display_data';\n",
              "          await google.colab.output.renderOutput(dataTable, element);\n",
              "          const docLink = document.createElement('div');\n",
              "          docLink.innerHTML = docLinkHtml;\n",
              "          element.appendChild(docLink);\n",
              "        }\n",
              "      </script>\n",
              "    </div>\n",
              "  </div>\n",
              "  "
            ]
          },
          "metadata": {},
          "execution_count": 20
        }
      ],
      "source": [
        "non_matches = pd.merge(df_charts[df_charts['rank'] > 10][df_charts['region'] == 'United States'][['title', 'artist']], \n",
        "                                  all_songs_with_features, on=['title', 'artist'], how='left', indicator=True).drop_duplicates()\n",
        "non_matches = non_matches[non_matches['_merge'] == 'left_only']\n",
        "non_matches.head()"
      ]
    },
    {
      "cell_type": "code",
      "execution_count": 21,
      "metadata": {
        "id": "AAkQD5ey0xcx",
        "colab": {
          "base_uri": "https://localhost:8080/"
        },
        "outputId": "e2890c9c-0245-4996-bfc8-15245d277a02"
      },
      "outputs": [
        {
          "output_type": "stream",
          "name": "stdout",
          "text": [
            "                                   title                   artist\n",
            "991025  Walk Em Down (feat. Roddy Ricch)  NLE Choppa, Roddy Ricch\n"
          ]
        }
      ],
      "source": [
        "# Does all_songs_with_features contain any of these songs but perhaps with a different format for title and artist?\n",
        "print(all_songs_with_features[all_songs_with_features['artist'] == 'NLE Choppa, Roddy Ricch'])"
      ]
    },
    {
      "cell_type": "markdown",
      "metadata": {
        "id": "ixpQ3cAq0xcx"
      },
      "source": [
        "This suggests that when there is a featured artist, the ordering of the artist names in the features datasets may be the opposite of the ordering in the charts dataset. Lets look at the other row with a featured artist."
      ]
    },
    {
      "cell_type": "code",
      "execution_count": 22,
      "metadata": {
        "id": "qdEeJDPN0xcx",
        "colab": {
          "base_uri": "https://localhost:8080/"
        },
        "outputId": "bbb116ae-4abf-4e16-eccf-701b84241bcb"
      },
      "outputs": [
        {
          "output_type": "stream",
          "name": "stdout",
          "text": [
            "                                title                 artist\n",
            "1111433  Eleven (feat. Summer Walker)  Khalid, Summer Walker\n"
          ]
        }
      ],
      "source": [
        "print(all_songs_with_features[all_songs_with_features['artist'] == \"Khalid, Summer Walker\"])"
      ]
    },
    {
      "cell_type": "markdown",
      "metadata": {
        "id": "mYxPCiZ00xcx"
      },
      "source": [
        "In this case, the featured artist is not included in the 'artist' column in the charts dataset, but is in the features datasets. In joins so far, we have been joining on 'artist' and 'title' to be sure to uniquely identify each song. But since these songs with featured artists have varying formats in the 'artist' column, but the same format in the 'title' column, and since they are sure to be uniquely identified just by song title, let us try to filter by songs that have \"(feat. \" in their title, and join the charts and features datasets on 'title'."
      ]
    },
    {
      "cell_type": "code",
      "execution_count": 23,
      "metadata": {
        "id": "kvySHSIt0xcy",
        "colab": {
          "base_uri": "https://localhost:8080/"
        },
        "outputId": "d8528ed0-9e5e-4e94-be3c-200b52fa3dc6"
      },
      "outputs": [
        {
          "output_type": "stream",
          "name": "stdout",
          "text": [
            "We are able to provide audio features for 17.45% of songs in df_charts, for a total of 20075 out of 115014 songs\n"
          ]
        }
      ],
      "source": [
        "charts_featured = df_charts_songs_artists[df_charts_songs_artists['title'].str.contains(\"\\(feat\\. \")][['title', 'artist']]\n",
        "featured_feature_matches = pd.merge(charts_featured, all_songs_with_features, on=['title'], how='inner').drop_duplicates(subset='title')\n",
        "featured_feature_matches = featured_feature_matches.rename(columns={'artist_x': 'artist'})\n",
        "feature_matches = pd.concat([feature_matches, featured_feature_matches], ignore_index=True).drop_duplicates(subset = ['title', 'artist'])\n",
        "match_percentage_combined = 100 * feature_matches.shape[0] / df_charts_songs_artists.shape[0]\n",
        "print(\"We are able to provide audio features for \" + str(round(match_percentage_combined,2)) + \"% of songs in df_charts,\"\\\n",
        "      \" for a total of \" + str(feature_matches.shape[0]) + \" out of \" + str(df_charts_songs_artists.shape[0]) + \" songs\")"
      ]
    },
    {
      "cell_type": "code",
      "source": [
        "feature_matches.head()"
      ],
      "metadata": {
        "colab": {
          "base_uri": "https://localhost:8080/",
          "height": 206
        },
        "id": "9sBWd_2wY9md",
        "outputId": "5eb8f2ff-d5e5-47ac-c87d-eee141a201b2"
      },
      "execution_count": 24,
      "outputs": [
        {
          "output_type": "execute_result",
          "data": {
            "text/plain": [
              "     title     artist artist_y\n",
              "0  Ride It     Regard      NaN\n",
              "1   +Linda      Dalex      NaN\n",
              "2     Woah   Lil Baby      NaN\n",
              "3     25/8  Bad Bunny      NaN\n",
              "4     Keii   Anuel AA      NaN"
            ],
            "text/html": [
              "\n",
              "  <div id=\"df-82523efc-ac74-4e96-a7aa-bab3022ede14\">\n",
              "    <div class=\"colab-df-container\">\n",
              "      <div>\n",
              "<style scoped>\n",
              "    .dataframe tbody tr th:only-of-type {\n",
              "        vertical-align: middle;\n",
              "    }\n",
              "\n",
              "    .dataframe tbody tr th {\n",
              "        vertical-align: top;\n",
              "    }\n",
              "\n",
              "    .dataframe thead th {\n",
              "        text-align: right;\n",
              "    }\n",
              "</style>\n",
              "<table border=\"1\" class=\"dataframe\">\n",
              "  <thead>\n",
              "    <tr style=\"text-align: right;\">\n",
              "      <th></th>\n",
              "      <th>title</th>\n",
              "      <th>artist</th>\n",
              "      <th>artist_y</th>\n",
              "    </tr>\n",
              "  </thead>\n",
              "  <tbody>\n",
              "    <tr>\n",
              "      <th>0</th>\n",
              "      <td>Ride It</td>\n",
              "      <td>Regard</td>\n",
              "      <td>NaN</td>\n",
              "    </tr>\n",
              "    <tr>\n",
              "      <th>1</th>\n",
              "      <td>+Linda</td>\n",
              "      <td>Dalex</td>\n",
              "      <td>NaN</td>\n",
              "    </tr>\n",
              "    <tr>\n",
              "      <th>2</th>\n",
              "      <td>Woah</td>\n",
              "      <td>Lil Baby</td>\n",
              "      <td>NaN</td>\n",
              "    </tr>\n",
              "    <tr>\n",
              "      <th>3</th>\n",
              "      <td>25/8</td>\n",
              "      <td>Bad Bunny</td>\n",
              "      <td>NaN</td>\n",
              "    </tr>\n",
              "    <tr>\n",
              "      <th>4</th>\n",
              "      <td>Keii</td>\n",
              "      <td>Anuel AA</td>\n",
              "      <td>NaN</td>\n",
              "    </tr>\n",
              "  </tbody>\n",
              "</table>\n",
              "</div>\n",
              "      <button class=\"colab-df-convert\" onclick=\"convertToInteractive('df-82523efc-ac74-4e96-a7aa-bab3022ede14')\"\n",
              "              title=\"Convert this dataframe to an interactive table.\"\n",
              "              style=\"display:none;\">\n",
              "        \n",
              "  <svg xmlns=\"http://www.w3.org/2000/svg\" height=\"24px\"viewBox=\"0 0 24 24\"\n",
              "       width=\"24px\">\n",
              "    <path d=\"M0 0h24v24H0V0z\" fill=\"none\"/>\n",
              "    <path d=\"M18.56 5.44l.94 2.06.94-2.06 2.06-.94-2.06-.94-.94-2.06-.94 2.06-2.06.94zm-11 1L8.5 8.5l.94-2.06 2.06-.94-2.06-.94L8.5 2.5l-.94 2.06-2.06.94zm10 10l.94 2.06.94-2.06 2.06-.94-2.06-.94-.94-2.06-.94 2.06-2.06.94z\"/><path d=\"M17.41 7.96l-1.37-1.37c-.4-.4-.92-.59-1.43-.59-.52 0-1.04.2-1.43.59L10.3 9.45l-7.72 7.72c-.78.78-.78 2.05 0 2.83L4 21.41c.39.39.9.59 1.41.59.51 0 1.02-.2 1.41-.59l7.78-7.78 2.81-2.81c.8-.78.8-2.07 0-2.86zM5.41 20L4 18.59l7.72-7.72 1.47 1.35L5.41 20z\"/>\n",
              "  </svg>\n",
              "      </button>\n",
              "      \n",
              "  <style>\n",
              "    .colab-df-container {\n",
              "      display:flex;\n",
              "      flex-wrap:wrap;\n",
              "      gap: 12px;\n",
              "    }\n",
              "\n",
              "    .colab-df-convert {\n",
              "      background-color: #E8F0FE;\n",
              "      border: none;\n",
              "      border-radius: 50%;\n",
              "      cursor: pointer;\n",
              "      display: none;\n",
              "      fill: #1967D2;\n",
              "      height: 32px;\n",
              "      padding: 0 0 0 0;\n",
              "      width: 32px;\n",
              "    }\n",
              "\n",
              "    .colab-df-convert:hover {\n",
              "      background-color: #E2EBFA;\n",
              "      box-shadow: 0px 1px 2px rgba(60, 64, 67, 0.3), 0px 1px 3px 1px rgba(60, 64, 67, 0.15);\n",
              "      fill: #174EA6;\n",
              "    }\n",
              "\n",
              "    [theme=dark] .colab-df-convert {\n",
              "      background-color: #3B4455;\n",
              "      fill: #D2E3FC;\n",
              "    }\n",
              "\n",
              "    [theme=dark] .colab-df-convert:hover {\n",
              "      background-color: #434B5C;\n",
              "      box-shadow: 0px 1px 3px 1px rgba(0, 0, 0, 0.15);\n",
              "      filter: drop-shadow(0px 1px 2px rgba(0, 0, 0, 0.3));\n",
              "      fill: #FFFFFF;\n",
              "    }\n",
              "  </style>\n",
              "\n",
              "      <script>\n",
              "        const buttonEl =\n",
              "          document.querySelector('#df-82523efc-ac74-4e96-a7aa-bab3022ede14 button.colab-df-convert');\n",
              "        buttonEl.style.display =\n",
              "          google.colab.kernel.accessAllowed ? 'block' : 'none';\n",
              "\n",
              "        async function convertToInteractive(key) {\n",
              "          const element = document.querySelector('#df-82523efc-ac74-4e96-a7aa-bab3022ede14');\n",
              "          const dataTable =\n",
              "            await google.colab.kernel.invokeFunction('convertToInteractive',\n",
              "                                                     [key], {});\n",
              "          if (!dataTable) return;\n",
              "\n",
              "          const docLinkHtml = 'Like what you see? Visit the ' +\n",
              "            '<a target=\"_blank\" href=https://colab.research.google.com/notebooks/data_table.ipynb>data table notebook</a>'\n",
              "            + ' to learn more about interactive tables.';\n",
              "          element.innerHTML = '';\n",
              "          dataTable['output_type'] = 'display_data';\n",
              "          await google.colab.output.renderOutput(dataTable, element);\n",
              "          const docLink = document.createElement('div');\n",
              "          docLink.innerHTML = docLinkHtml;\n",
              "          element.appendChild(docLink);\n",
              "        }\n",
              "      </script>\n",
              "    </div>\n",
              "  </div>\n",
              "  "
            ]
          },
          "metadata": {},
          "execution_count": 24
        }
      ]
    },
    {
      "cell_type": "markdown",
      "source": [
        "There is one more case that might result in two rows for the same song in different dataframes not to match. We can see that the song title is always the same for the same song between datasets, but we get into trouble when multiple artists are on the same song. This need not be when there is a \"featured artist\". So let us match on song title and when `all_songs_with_features['artist']` contains one artist that is contained as a substring in the artists in df_charts"
      ],
      "metadata": {
        "id": "fPvnrg5reeu2"
      }
    },
    {
      "cell_type": "code",
      "source": [
        "# match df_charts and all_songs_with_features only on the title to start with. There will be many incorrect matches when two artists have songs by the same name\n",
        "feature_charts_substr_match = pd.merge(df_charts_songs_artists, all_songs_with_features, on=['title'], how='inner')\n",
        "feature_charts_substr_match['actual_match'] = feature_charts_substr_match[['artist_x', 'artist_y']].apply(lambda x: x['artist_y'].split(',')[0] in x['artist_x'] and x['artist_y'] != x['artist_x'], axis=1)\n",
        "feature_charts_substr_match = feature_charts_substr_match[feature_charts_substr_match['actual_match'] == True].rename(columns={'artist_x': 'artist'})\n",
        "feature_charts_substr_match.head()"
      ],
      "metadata": {
        "colab": {
          "base_uri": "https://localhost:8080/",
          "height": 206
        },
        "id": "dL-7GJBxCd6z",
        "outputId": "8a790907-ef8f-445f-aa5a-c854d686cf9c"
      },
      "execution_count": 25,
      "outputs": [
        {
          "output_type": "execute_result",
          "data": {
            "text/plain": [
              "                          title                                    artist  \\\n",
              "93                         Woah                    Calinacho, Ian, Azteca   \n",
              "1563  Elegí (feat. Dímelo Flow)      Rauw Alejandro, Dalex, Lenny Tavárez   \n",
              "1699              Sigues Con El               Arcangel, Sech, Dímelo Flow   \n",
              "2434                  Fantasias  Menor Menor, El Alfa, Lary Over, Rvssian   \n",
              "2477      Roses - Imanbek Remix                                 SAINt JHN   \n",
              "\n",
              "                                               artist_y  actual_match  \n",
              "93                                            Calinacho          True  \n",
              "1563  Rauw Alejandro, Dalex, Lenny Tavárez, Dímelo Flow          True  \n",
              "1699                        Dímelo Flow, Arcangel, Sech          True  \n",
              "2434                                        Menor Menor          True  \n",
              "2477                                 SAINt JHN, Imanbek          True  "
            ],
            "text/html": [
              "\n",
              "  <div id=\"df-39595f6c-5cd4-42ab-93d6-0d2d6aa72804\">\n",
              "    <div class=\"colab-df-container\">\n",
              "      <div>\n",
              "<style scoped>\n",
              "    .dataframe tbody tr th:only-of-type {\n",
              "        vertical-align: middle;\n",
              "    }\n",
              "\n",
              "    .dataframe tbody tr th {\n",
              "        vertical-align: top;\n",
              "    }\n",
              "\n",
              "    .dataframe thead th {\n",
              "        text-align: right;\n",
              "    }\n",
              "</style>\n",
              "<table border=\"1\" class=\"dataframe\">\n",
              "  <thead>\n",
              "    <tr style=\"text-align: right;\">\n",
              "      <th></th>\n",
              "      <th>title</th>\n",
              "      <th>artist</th>\n",
              "      <th>artist_y</th>\n",
              "      <th>actual_match</th>\n",
              "    </tr>\n",
              "  </thead>\n",
              "  <tbody>\n",
              "    <tr>\n",
              "      <th>93</th>\n",
              "      <td>Woah</td>\n",
              "      <td>Calinacho, Ian, Azteca</td>\n",
              "      <td>Calinacho</td>\n",
              "      <td>True</td>\n",
              "    </tr>\n",
              "    <tr>\n",
              "      <th>1563</th>\n",
              "      <td>Elegí (feat. Dímelo Flow)</td>\n",
              "      <td>Rauw Alejandro, Dalex, Lenny Tavárez</td>\n",
              "      <td>Rauw Alejandro, Dalex, Lenny Tavárez, Dímelo Flow</td>\n",
              "      <td>True</td>\n",
              "    </tr>\n",
              "    <tr>\n",
              "      <th>1699</th>\n",
              "      <td>Sigues Con El</td>\n",
              "      <td>Arcangel, Sech, Dímelo Flow</td>\n",
              "      <td>Dímelo Flow, Arcangel, Sech</td>\n",
              "      <td>True</td>\n",
              "    </tr>\n",
              "    <tr>\n",
              "      <th>2434</th>\n",
              "      <td>Fantasias</td>\n",
              "      <td>Menor Menor, El Alfa, Lary Over, Rvssian</td>\n",
              "      <td>Menor Menor</td>\n",
              "      <td>True</td>\n",
              "    </tr>\n",
              "    <tr>\n",
              "      <th>2477</th>\n",
              "      <td>Roses - Imanbek Remix</td>\n",
              "      <td>SAINt JHN</td>\n",
              "      <td>SAINt JHN, Imanbek</td>\n",
              "      <td>True</td>\n",
              "    </tr>\n",
              "  </tbody>\n",
              "</table>\n",
              "</div>\n",
              "      <button class=\"colab-df-convert\" onclick=\"convertToInteractive('df-39595f6c-5cd4-42ab-93d6-0d2d6aa72804')\"\n",
              "              title=\"Convert this dataframe to an interactive table.\"\n",
              "              style=\"display:none;\">\n",
              "        \n",
              "  <svg xmlns=\"http://www.w3.org/2000/svg\" height=\"24px\"viewBox=\"0 0 24 24\"\n",
              "       width=\"24px\">\n",
              "    <path d=\"M0 0h24v24H0V0z\" fill=\"none\"/>\n",
              "    <path d=\"M18.56 5.44l.94 2.06.94-2.06 2.06-.94-2.06-.94-.94-2.06-.94 2.06-2.06.94zm-11 1L8.5 8.5l.94-2.06 2.06-.94-2.06-.94L8.5 2.5l-.94 2.06-2.06.94zm10 10l.94 2.06.94-2.06 2.06-.94-2.06-.94-.94-2.06-.94 2.06-2.06.94z\"/><path d=\"M17.41 7.96l-1.37-1.37c-.4-.4-.92-.59-1.43-.59-.52 0-1.04.2-1.43.59L10.3 9.45l-7.72 7.72c-.78.78-.78 2.05 0 2.83L4 21.41c.39.39.9.59 1.41.59.51 0 1.02-.2 1.41-.59l7.78-7.78 2.81-2.81c.8-.78.8-2.07 0-2.86zM5.41 20L4 18.59l7.72-7.72 1.47 1.35L5.41 20z\"/>\n",
              "  </svg>\n",
              "      </button>\n",
              "      \n",
              "  <style>\n",
              "    .colab-df-container {\n",
              "      display:flex;\n",
              "      flex-wrap:wrap;\n",
              "      gap: 12px;\n",
              "    }\n",
              "\n",
              "    .colab-df-convert {\n",
              "      background-color: #E8F0FE;\n",
              "      border: none;\n",
              "      border-radius: 50%;\n",
              "      cursor: pointer;\n",
              "      display: none;\n",
              "      fill: #1967D2;\n",
              "      height: 32px;\n",
              "      padding: 0 0 0 0;\n",
              "      width: 32px;\n",
              "    }\n",
              "\n",
              "    .colab-df-convert:hover {\n",
              "      background-color: #E2EBFA;\n",
              "      box-shadow: 0px 1px 2px rgba(60, 64, 67, 0.3), 0px 1px 3px 1px rgba(60, 64, 67, 0.15);\n",
              "      fill: #174EA6;\n",
              "    }\n",
              "\n",
              "    [theme=dark] .colab-df-convert {\n",
              "      background-color: #3B4455;\n",
              "      fill: #D2E3FC;\n",
              "    }\n",
              "\n",
              "    [theme=dark] .colab-df-convert:hover {\n",
              "      background-color: #434B5C;\n",
              "      box-shadow: 0px 1px 3px 1px rgba(0, 0, 0, 0.15);\n",
              "      filter: drop-shadow(0px 1px 2px rgba(0, 0, 0, 0.3));\n",
              "      fill: #FFFFFF;\n",
              "    }\n",
              "  </style>\n",
              "\n",
              "      <script>\n",
              "        const buttonEl =\n",
              "          document.querySelector('#df-39595f6c-5cd4-42ab-93d6-0d2d6aa72804 button.colab-df-convert');\n",
              "        buttonEl.style.display =\n",
              "          google.colab.kernel.accessAllowed ? 'block' : 'none';\n",
              "\n",
              "        async function convertToInteractive(key) {\n",
              "          const element = document.querySelector('#df-39595f6c-5cd4-42ab-93d6-0d2d6aa72804');\n",
              "          const dataTable =\n",
              "            await google.colab.kernel.invokeFunction('convertToInteractive',\n",
              "                                                     [key], {});\n",
              "          if (!dataTable) return;\n",
              "\n",
              "          const docLinkHtml = 'Like what you see? Visit the ' +\n",
              "            '<a target=\"_blank\" href=https://colab.research.google.com/notebooks/data_table.ipynb>data table notebook</a>'\n",
              "            + ' to learn more about interactive tables.';\n",
              "          element.innerHTML = '';\n",
              "          dataTable['output_type'] = 'display_data';\n",
              "          await google.colab.output.renderOutput(dataTable, element);\n",
              "          const docLink = document.createElement('div');\n",
              "          docLink.innerHTML = docLinkHtml;\n",
              "          element.appendChild(docLink);\n",
              "        }\n",
              "      </script>\n",
              "    </div>\n",
              "  </div>\n",
              "  "
            ]
          },
          "metadata": {},
          "execution_count": 25
        }
      ]
    },
    {
      "cell_type": "markdown",
      "source": [
        "We can see here many songs that aren't necessarily \"featured artist\" songs, that have different formats in the artist column."
      ],
      "metadata": {
        "id": "8D2xWBXqIDZI"
      }
    },
    {
      "cell_type": "code",
      "source": [
        "feature_charts_substr_match = feature_charts_substr_match.drop_duplicates(subset=['title', 'artist'])\n",
        "feature_matches = pd.concat([feature_matches, feature_charts_substr_match], ignore_index=True).drop_duplicates()\n",
        "feature_matches.drop(columns=['actual_match'], inplace=True)\n",
        "match_percentage_combined = 100 * feature_matches.shape[0] / df_charts_songs_artists.shape[0]\n",
        "print(\"We are able to provide audio features for \" + str(round(match_percentage_combined,2)) + \"% of songs in df_charts,\"\\\n",
        "      \" for a total of \" + str(feature_matches.shape[0]) + \" out of \" + str(df_charts_songs_artists.shape[0]) + \" songs\")"
      ],
      "metadata": {
        "colab": {
          "base_uri": "https://localhost:8080/"
        },
        "id": "zNLb9q4XITUR",
        "outputId": "b43f6c44-5175-4f41-8890-baafce91f8a2"
      },
      "execution_count": 26,
      "outputs": [
        {
          "output_type": "stream",
          "name": "stdout",
          "text": [
            "We are able to provide audio features for 20.7% of songs in df_charts, for a total of 23804 out of 115014 songs\n"
          ]
        }
      ]
    },
    {
      "cell_type": "code",
      "source": [
        "feature_matches.head()"
      ],
      "metadata": {
        "colab": {
          "base_uri": "https://localhost:8080/",
          "height": 206
        },
        "id": "fQvm2JBidEkk",
        "outputId": "3117b272-2f29-4e4b-ce46-603f95820988"
      },
      "execution_count": 27,
      "outputs": [
        {
          "output_type": "execute_result",
          "data": {
            "text/plain": [
              "     title     artist artist_y\n",
              "0  Ride It     Regard      NaN\n",
              "1   +Linda      Dalex      NaN\n",
              "2     Woah   Lil Baby      NaN\n",
              "3     25/8  Bad Bunny      NaN\n",
              "4     Keii   Anuel AA      NaN"
            ],
            "text/html": [
              "\n",
              "  <div id=\"df-f2e226ac-5223-4e11-8846-54e2c8fa0f05\">\n",
              "    <div class=\"colab-df-container\">\n",
              "      <div>\n",
              "<style scoped>\n",
              "    .dataframe tbody tr th:only-of-type {\n",
              "        vertical-align: middle;\n",
              "    }\n",
              "\n",
              "    .dataframe tbody tr th {\n",
              "        vertical-align: top;\n",
              "    }\n",
              "\n",
              "    .dataframe thead th {\n",
              "        text-align: right;\n",
              "    }\n",
              "</style>\n",
              "<table border=\"1\" class=\"dataframe\">\n",
              "  <thead>\n",
              "    <tr style=\"text-align: right;\">\n",
              "      <th></th>\n",
              "      <th>title</th>\n",
              "      <th>artist</th>\n",
              "      <th>artist_y</th>\n",
              "    </tr>\n",
              "  </thead>\n",
              "  <tbody>\n",
              "    <tr>\n",
              "      <th>0</th>\n",
              "      <td>Ride It</td>\n",
              "      <td>Regard</td>\n",
              "      <td>NaN</td>\n",
              "    </tr>\n",
              "    <tr>\n",
              "      <th>1</th>\n",
              "      <td>+Linda</td>\n",
              "      <td>Dalex</td>\n",
              "      <td>NaN</td>\n",
              "    </tr>\n",
              "    <tr>\n",
              "      <th>2</th>\n",
              "      <td>Woah</td>\n",
              "      <td>Lil Baby</td>\n",
              "      <td>NaN</td>\n",
              "    </tr>\n",
              "    <tr>\n",
              "      <th>3</th>\n",
              "      <td>25/8</td>\n",
              "      <td>Bad Bunny</td>\n",
              "      <td>NaN</td>\n",
              "    </tr>\n",
              "    <tr>\n",
              "      <th>4</th>\n",
              "      <td>Keii</td>\n",
              "      <td>Anuel AA</td>\n",
              "      <td>NaN</td>\n",
              "    </tr>\n",
              "  </tbody>\n",
              "</table>\n",
              "</div>\n",
              "      <button class=\"colab-df-convert\" onclick=\"convertToInteractive('df-f2e226ac-5223-4e11-8846-54e2c8fa0f05')\"\n",
              "              title=\"Convert this dataframe to an interactive table.\"\n",
              "              style=\"display:none;\">\n",
              "        \n",
              "  <svg xmlns=\"http://www.w3.org/2000/svg\" height=\"24px\"viewBox=\"0 0 24 24\"\n",
              "       width=\"24px\">\n",
              "    <path d=\"M0 0h24v24H0V0z\" fill=\"none\"/>\n",
              "    <path d=\"M18.56 5.44l.94 2.06.94-2.06 2.06-.94-2.06-.94-.94-2.06-.94 2.06-2.06.94zm-11 1L8.5 8.5l.94-2.06 2.06-.94-2.06-.94L8.5 2.5l-.94 2.06-2.06.94zm10 10l.94 2.06.94-2.06 2.06-.94-2.06-.94-.94-2.06-.94 2.06-2.06.94z\"/><path d=\"M17.41 7.96l-1.37-1.37c-.4-.4-.92-.59-1.43-.59-.52 0-1.04.2-1.43.59L10.3 9.45l-7.72 7.72c-.78.78-.78 2.05 0 2.83L4 21.41c.39.39.9.59 1.41.59.51 0 1.02-.2 1.41-.59l7.78-7.78 2.81-2.81c.8-.78.8-2.07 0-2.86zM5.41 20L4 18.59l7.72-7.72 1.47 1.35L5.41 20z\"/>\n",
              "  </svg>\n",
              "      </button>\n",
              "      \n",
              "  <style>\n",
              "    .colab-df-container {\n",
              "      display:flex;\n",
              "      flex-wrap:wrap;\n",
              "      gap: 12px;\n",
              "    }\n",
              "\n",
              "    .colab-df-convert {\n",
              "      background-color: #E8F0FE;\n",
              "      border: none;\n",
              "      border-radius: 50%;\n",
              "      cursor: pointer;\n",
              "      display: none;\n",
              "      fill: #1967D2;\n",
              "      height: 32px;\n",
              "      padding: 0 0 0 0;\n",
              "      width: 32px;\n",
              "    }\n",
              "\n",
              "    .colab-df-convert:hover {\n",
              "      background-color: #E2EBFA;\n",
              "      box-shadow: 0px 1px 2px rgba(60, 64, 67, 0.3), 0px 1px 3px 1px rgba(60, 64, 67, 0.15);\n",
              "      fill: #174EA6;\n",
              "    }\n",
              "\n",
              "    [theme=dark] .colab-df-convert {\n",
              "      background-color: #3B4455;\n",
              "      fill: #D2E3FC;\n",
              "    }\n",
              "\n",
              "    [theme=dark] .colab-df-convert:hover {\n",
              "      background-color: #434B5C;\n",
              "      box-shadow: 0px 1px 3px 1px rgba(0, 0, 0, 0.15);\n",
              "      filter: drop-shadow(0px 1px 2px rgba(0, 0, 0, 0.3));\n",
              "      fill: #FFFFFF;\n",
              "    }\n",
              "  </style>\n",
              "\n",
              "      <script>\n",
              "        const buttonEl =\n",
              "          document.querySelector('#df-f2e226ac-5223-4e11-8846-54e2c8fa0f05 button.colab-df-convert');\n",
              "        buttonEl.style.display =\n",
              "          google.colab.kernel.accessAllowed ? 'block' : 'none';\n",
              "\n",
              "        async function convertToInteractive(key) {\n",
              "          const element = document.querySelector('#df-f2e226ac-5223-4e11-8846-54e2c8fa0f05');\n",
              "          const dataTable =\n",
              "            await google.colab.kernel.invokeFunction('convertToInteractive',\n",
              "                                                     [key], {});\n",
              "          if (!dataTable) return;\n",
              "\n",
              "          const docLinkHtml = 'Like what you see? Visit the ' +\n",
              "            '<a target=\"_blank\" href=https://colab.research.google.com/notebooks/data_table.ipynb>data table notebook</a>'\n",
              "            + ' to learn more about interactive tables.';\n",
              "          element.innerHTML = '';\n",
              "          dataTable['output_type'] = 'display_data';\n",
              "          await google.colab.output.renderOutput(dataTable, element);\n",
              "          const docLink = document.createElement('div');\n",
              "          docLink.innerHTML = docLinkHtml;\n",
              "          element.appendChild(docLink);\n",
              "        }\n",
              "      </script>\n",
              "    </div>\n",
              "  </div>\n",
              "  "
            ]
          },
          "metadata": {},
          "execution_count": 27
        }
      ]
    },
    {
      "cell_type": "markdown",
      "metadata": {
        "id": "j-MiLcop0xcy"
      },
      "source": [
        "Next, lets see what columns each of the features datasets share, and create one unified features dataset."
      ]
    },
    {
      "cell_type": "code",
      "source": [
        "print([col for col in df_song_features_1.columns])\n",
        "print([col for col in df_song_features_2.columns])\n",
        "print([col for col in df_song_features_3.columns])\n",
        "print([col for col in df_song_features_4.columns])\n",
        "print([col for col in df_song_features_5.columns])\n",
        "print([col for col in df_song_features_6.columns])\n",
        "print([col for col in df_song_features_7.columns])\n",
        "print([col for col in df_song_features_8.columns])\n",
        "print([col for col in df_song_features_9.columns])\n",
        "print([col for col in df_song_features_10.columns])\n",
        "print([col for col in df_song_features_11.columns])\n",
        "print([col for col in df_song_features_12.columns])"
      ],
      "metadata": {
        "colab": {
          "base_uri": "https://localhost:8080/"
        },
        "id": "lMiBMVWZD4xt",
        "outputId": "a5a7e2fd-3ea1-4ec7-eae8-58afd3e1c373"
      },
      "execution_count": 28,
      "outputs": [
        {
          "output_type": "stream",
          "name": "stdout",
          "text": [
            "['id', 'title', 'album', 'album_id', 'artist', 'artist_ids', 'track_number', 'disc_number', 'explicit', 'danceability', 'energy', 'key', 'loudness', 'mode', 'speechiness', 'acousticness', 'instrumentalness', 'liveness', 'valence', 'tempo', 'duration_ms', 'time_signature', 'year', 'release_date']\n",
            "['title', 'artist', 'top genre', 'year released', 'added', 'bpm', 'nrgy', 'dnce', 'dB', 'live', 'val', 'dur', 'acous', 'spch', 'pop', 'top year', 'artist type']\n",
            "['Index', 'Highest Charting Position', 'Number of Times Charted', 'Week of Highest Charting', 'title', 'Streams', 'artist', 'Artist Followers', 'Song ID', 'Genre', 'Release Date', 'Weeks Charted', 'Popularity', 'Danceability', 'Energy', 'Loudness', 'Speechiness', 'Acousticness', 'Liveness', 'Tempo', 'Duration (ms)', 'Valence', 'Chord']\n",
            "['Unnamed: 0', 'track_id', 'artist', 'album_name', 'title', 'popularity', 'duration_ms', 'explicit', 'danceability', 'energy', 'key', 'loudness', 'mode', 'speechiness', 'acousticness', 'instrumentalness', 'liveness', 'valence', 'tempo', 'time_signature', 'track_genre']\n",
            "['valence', 'year', 'acousticness', 'artist', 'danceability', 'duration_ms', 'energy', 'explicit', 'id', 'instrumentalness', 'key', 'liveness', 'loudness', 'mode', 'title', 'popularity', 'release_date', 'speechiness', 'tempo']\n",
            "['genre', 'artist', 'title', 'track_id', 'popularity', 'acousticness', 'danceability', 'duration_ms', 'energy', 'instrumentalness', 'key', 'liveness', 'loudness', 'mode', 'speechiness', 'tempo', 'time_signature', 'valence']\n",
            "['id', 'name', 'release_date', 'artist', 'total_tracks', 'title', 't_dur0', 't_dance0', 't_energy0', 't_key0', 't_mode0', 't_speech0', 't_acous0', 't_ins0', 't_live0', 't_val0', 't_tempo0', 't_sig0', 'popularity']\n",
            "['id', 'name', 'release_date', 'artist', 'total_tracks', 'title', 't_dur1', 't_dance1', 't_energy1', 't_key1', 't_mode1', 't_speech1', 't_acous1', 't_ins1', 't_live1', 't_val1', 't_tempo1', 't_sig1', 'popularity']\n",
            "['id', 'name', 'release_date', 'artist', 'total_tracks', 'title', 't_dur2', 't_dance2', 't_energy2', 't_key2', 't_mode2', 't_speech2', 't_acous2', 't_ins2', 't_live2', 't_val2', 't_tempo2', 't_sig2', 'popularity']\n",
            "['id', 'name', 'release_date', 'artist', 'total_tracks', 'title', 't_dur0', 't_dance0', 't_energy0', 't_key0', 't_mode0', 't_speech0', 't_acous0', 't_ins0', 't_live0', 't_val0', 't_tempo0', 't_sig0']\n",
            "['id', 'name', 'release_date', 'artist', 'total_tracks', 'title', 't_dur1', 't_dance1', 't_energy1', 't_key1', 't_mode1', 't_speech1', 't_acous1', 't_ins1', 't_live1', 't_val1', 't_tempo1', 't_sig1']\n",
            "['id', 'name', 'release_date', 'artist', 'total_tracks', 'title', 't_dur2', 't_dance2', 't_energy2', 't_key2', 't_mode2', 't_speech2', 't_acous2', 't_ins2', 't_live2', 't_val2', 't_tempo2', 't_sig2']\n"
          ]
        }
      ]
    },
    {
      "cell_type": "markdown",
      "source": [
        "Common columns:\n",
        "\n",
        "title, artist, tempo, energy, danceability, liveness, valence, duration, acousticness, speechiness"
      ],
      "metadata": {
        "id": "e3RIRHuiRq0E"
      }
    },
    {
      "cell_type": "code",
      "source": [
        "features_1_drop_cols = ['loudness', 'album', 'id', 'album_id', 'artist_ids', 'track_number', 'disc_number', 'explicit', 'key', 'mode', 'instrumentalness', 'time_signature', 'year', 'release_date']\n",
        "features_2_drop_cols = ['dB', 'year released', 'added', 'pop', 'top year', 'artist type', 'top genre']\n",
        "features_3_drop_cols = ['Chord', 'Loudness', 'Index', 'Highest Charting Position', 'Number of Times Charted', 'Week of Highest Charting', 'Streams', 'Artist Followers', 'Song ID', 'Genre', 'Release Date', 'Weeks Charted', 'Popularity']\n",
        "features_4_drop_cols = ['loudness', 'Unnamed: 0', 'track_id', 'album_name', 'popularity', 'explicit', 'key', 'mode', 'instrumentalness', 'time_signature', 'track_genre']\n",
        "features_5_drop_cols = ['loudness', 'year', 'explicit', 'id', 'instrumentalness', 'key', 'mode', 'popularity', 'release_date']\n",
        "features_6_drop_cols = ['loudness', 'genre', 'track_id', 'popularity', 'instrumentalness', 'key', 'mode', 'time_signature']\n",
        "features_7_drop_cols = ['id', 'name', 'release_date', 'total_tracks', 't_key0', 't_mode0', 't_ins0', 't_sig0', 'popularity']\n",
        "features_8_drop_cols = ['id', 'name', 'release_date', 'total_tracks', 't_key1', 't_mode1', 't_ins1', 't_sig1', 'popularity']\n",
        "features_9_drop_cols = ['id', 'name', 'release_date', 'total_tracks', 't_key2', 't_mode2', 't_ins2', 't_sig2', 'popularity']\n",
        "features_10_drop_cols = ['id', 'name', 'release_date', 'total_tracks', 't_key0', 't_mode0', 't_ins0', 't_sig0']\n",
        "features_11_drop_cols = ['id', 'name', 'release_date', 'total_tracks', 't_key1', 't_mode1', 't_ins1', 't_sig1']\n",
        "features_12_drop_cols = ['id', 'name', 'release_date', 'total_tracks', 't_key2', 't_mode2', 't_ins2', 't_sig2']\n",
        "\n",
        "features_2_rename_map = {'bpm': 'tempo', 'nrgy': 'energy', 'dnce': 'danceability', 'live': 'liveness', 'val': 'valence', 'dur': 'duration_ms', 'acous': 'acousticness', 'spch': 'speechiness'}\n",
        "features_3_rename_map = {'Danceability': 'danceability', 'Energy': 'energy', 'Speechiness': 'speechiness', 'Acousticness': 'acousticness', 'Liveness': 'liveness', 'Tempo': 'tempo', 'Duration (ms)': 'duration_ms', 'Valence': 'valence'}\n",
        "features_7_rename_map = {'t_dance0': 'danceability', 't_energy0': 'energy', 't_speech0': 'speechiness', 't_acous0': 'acousticness', 't_live0': 'liveness', 't_tempo0': 'tempo', 't_dur0': 'duration_ms', 't_val0': 'valence'}\n",
        "features_8_rename_map = {'t_dance1': 'danceability', 't_energy1': 'energy', 't_speech1': 'speechiness', 't_acous1': 'acousticness', 't_live1': 'liveness', 't_tempo1': 'tempo', 't_dur1': 'duration_ms', 't_val1': 'valence'}\n",
        "features_9_rename_map = {'t_dance2': 'danceability', 't_energy2': 'energy', 't_speech2': 'speechiness', 't_acous2': 'acousticness', 't_live2': 'liveness', 't_tempo2': 'tempo', 't_dur2': 'duration_ms', 't_val2': 'valence'}\n",
        "features_10_rename_map = {'t_dance0': 'danceability', 't_energy0': 'energy', 't_speech0': 'speechiness', 't_acous0': 'acousticness', 't_live0': 'liveness', 't_tempo0': 'tempo', 't_dur0': 'duration_ms', 't_val0': 'valence'}\n",
        "features_11_rename_map = {'t_dance1': 'danceability', 't_energy1': 'energy', 't_speech1': 'speechiness', 't_acous1': 'acousticness', 't_live1': 'liveness', 't_tempo1': 'tempo', 't_dur1': 'duration_ms', 't_val1': 'valence'}\n",
        "features_12_rename_map = {'t_dance2': 'danceability', 't_energy2': 'energy', 't_speech2': 'speechiness', 't_acous2': 'acousticness', 't_live2': 'liveness', 't_tempo2': 'tempo', 't_dur2': 'duration_ms', 't_val2': 'valence'}\n",
        "\n",
        "df_song_features_1 = df_song_features_1.drop(columns=features_1_drop_cols)\n",
        "df_song_features_2 = df_song_features_2.drop(columns=features_2_drop_cols).rename(columns=features_2_rename_map)\n",
        "df_song_features_3 = df_song_features_3.drop(columns=features_3_drop_cols).rename(columns=features_3_rename_map)\n",
        "df_song_features_4 = df_song_features_4.drop(columns=features_4_drop_cols)\n",
        "df_song_features_5 = df_song_features_5.drop(columns=features_5_drop_cols)\n",
        "df_song_features_6 = df_song_features_6.drop(columns=features_6_drop_cols)\n",
        "df_song_features_7 = df_song_features_7.drop(columns=features_7_drop_cols).rename(columns=features_7_rename_map)\n",
        "df_song_features_8 = df_song_features_8.drop(columns=features_8_drop_cols).rename(columns=features_8_rename_map)    \n",
        "df_song_features_9 = df_song_features_9.drop(columns=features_9_drop_cols).rename(columns=features_9_rename_map)\n",
        "df_song_features_10 = df_song_features_10.drop(columns=features_10_drop_cols).rename(columns=features_10_rename_map)\n",
        "df_song_features_11 = df_song_features_11.drop(columns=features_11_drop_cols).rename(columns=features_11_rename_map)\n",
        "df_song_features_12 = df_song_features_12.drop(columns=features_12_drop_cols).rename(columns=features_12_rename_map)"
      ],
      "metadata": {
        "id": "nbIKYoFzPD4e"
      },
      "execution_count": 29,
      "outputs": []
    },
    {
      "cell_type": "markdown",
      "source": [
        "Check that all features dataframes have the same columns now:"
      ],
      "metadata": {
        "id": "9UIbeQP8YLb7"
      }
    },
    {
      "cell_type": "code",
      "source": [
        "print(([col for col in df_song_features_1.columns.sort_values()]))\n",
        "print(([col for col in df_song_features_2.columns.sort_values()]))\n",
        "print(([col for col in df_song_features_3.columns.sort_values()]))\n",
        "print(([col for col in df_song_features_4.columns.sort_values()]))\n",
        "print(([col for col in df_song_features_5.columns.sort_values()]))\n",
        "print(([col for col in df_song_features_6.columns.sort_values()]))\n",
        "print(([col for col in df_song_features_7.columns.sort_values()]))\n",
        "print(([col for col in df_song_features_8.columns.sort_values()])) \n",
        "print(([col for col in df_song_features_9.columns.sort_values()]))\n",
        "print(([col for col in df_song_features_10.columns.sort_values()]))\n",
        "print(([col for col in df_song_features_11.columns.sort_values()]))\n",
        "print(([col for col in df_song_features_12.columns.sort_values()]))"
      ],
      "metadata": {
        "id": "cZnIVmsiX0nH",
        "outputId": "9b29fbf7-d597-4a65-925a-5f245cd8663f",
        "colab": {
          "base_uri": "https://localhost:8080/"
        }
      },
      "execution_count": 30,
      "outputs": [
        {
          "output_type": "stream",
          "name": "stdout",
          "text": [
            "['acousticness', 'artist', 'danceability', 'duration_ms', 'energy', 'liveness', 'speechiness', 'tempo', 'title', 'valence']\n",
            "['acousticness', 'artist', 'danceability', 'duration_ms', 'energy', 'liveness', 'speechiness', 'tempo', 'title', 'valence']\n",
            "['acousticness', 'artist', 'danceability', 'duration_ms', 'energy', 'liveness', 'speechiness', 'tempo', 'title', 'valence']\n",
            "['acousticness', 'artist', 'danceability', 'duration_ms', 'energy', 'liveness', 'speechiness', 'tempo', 'title', 'valence']\n",
            "['acousticness', 'artist', 'danceability', 'duration_ms', 'energy', 'liveness', 'speechiness', 'tempo', 'title', 'valence']\n",
            "['acousticness', 'artist', 'danceability', 'duration_ms', 'energy', 'liveness', 'speechiness', 'tempo', 'title', 'valence']\n",
            "['acousticness', 'artist', 'danceability', 'duration_ms', 'energy', 'liveness', 'speechiness', 'tempo', 'title', 'valence']\n",
            "['acousticness', 'artist', 'danceability', 'duration_ms', 'energy', 'liveness', 'speechiness', 'tempo', 'title', 'valence']\n",
            "['acousticness', 'artist', 'danceability', 'duration_ms', 'energy', 'liveness', 'speechiness', 'tempo', 'title', 'valence']\n",
            "['acousticness', 'artist', 'danceability', 'duration_ms', 'energy', 'liveness', 'speechiness', 'tempo', 'title', 'valence']\n",
            "['acousticness', 'artist', 'danceability', 'duration_ms', 'energy', 'liveness', 'speechiness', 'tempo', 'title', 'valence']\n",
            "['acousticness', 'artist', 'danceability', 'duration_ms', 'energy', 'liveness', 'speechiness', 'tempo', 'title', 'valence']\n"
          ]
        }
      ]
    },
    {
      "cell_type": "markdown",
      "source": [
        "Now lets concatenate all of these features dataframes into one and do an inner join with `feature_matches`, the songs with features that are in `df_charts` to get the final, combined features dataset"
      ],
      "metadata": {
        "id": "JxDepA63aIyk"
      }
    },
    {
      "cell_type": "code",
      "source": [
        "df_features = pd.concat([df_song_features_1, df_song_features_2, df_song_features_3, df_song_features_4, df_song_features_5, df_song_features_6, df_song_features_7, df_song_features_8, df_song_features_9, df_song_features_10, df_song_features_11, df_song_features_12], axis=0, ignore_index=True)\n",
        "df_features = df_features.dropna()\n",
        "df_features_artist_format_1 = pd.merge(df_features, feature_matches, left_on=['title', 'artist'], right_on=['title', 'artist_y'], how='inner', suffixes=(\"\", \"_x\"))  # 'artist' in the format of df_charts\n",
        "df_features_artist_format_2 = pd.merge(df_features, feature_matches, on=['title', 'artist'], how='inner')  # 'artist' in the format of features dfs"
      ],
      "metadata": {
        "id": "yeAbE3bc3Csd"
      },
      "execution_count": 83,
      "outputs": []
    },
    {
      "cell_type": "code",
      "source": [
        "df_features_artist_format_1.drop_duplicates(subset=['title', 'artist_y'], inplace=True)\n",
        "df_features_artist_format_1.drop(columns=['artist', 'artist_y'], inplace=True)\n",
        "df_features_artist_format_1.rename(columns={'artist_x': 'artist'}, inplace=True)\n",
        "df_features_artist_format_2.drop_duplicates(subset=['title', 'artist'], inplace=True)\n",
        "df_features_artist_format_2.drop(columns=['artist_y'], inplace=True)"
      ],
      "metadata": {
        "id": "dGdMFMeo3G07"
      },
      "execution_count": 84,
      "outputs": []
    },
    {
      "cell_type": "code",
      "source": [
        "df_features_artist_format_1.head()"
      ],
      "metadata": {
        "colab": {
          "base_uri": "https://localhost:8080/",
          "height": 206
        },
        "id": "LJpTdjHdHE7u",
        "outputId": "28d454f4-81be-4042-ff5d-c2b1680a4082"
      },
      "execution_count": 85,
      "outputs": [
        {
          "output_type": "execute_result",
          "data": {
            "text/plain": [
              "                                                title danceability energy  \\\n",
              "0                             Cry Baby (feat. DaBaby)        0.955  0.436   \n",
              "2   Do It On The Tip (feat. City Girls & Hot Girl ...        0.944  0.526   \n",
              "6                              Movie (feat. Lil Durk)        0.896  0.728   \n",
              "10                           Freaky Girls (feat. SZA)        0.816  0.666   \n",
              "14              Intercourse (feat. Popcaan & Mustard)          0.8  0.596   \n",
              "\n",
              "   speechiness acousticness liveness valence    tempo duration_ms  \\\n",
              "0         0.38      0.00527    0.169   0.559  130.041      137984   \n",
              "2        0.289      0.00281   0.0862   0.619   97.543      167370   \n",
              "6        0.287      0.00245    0.128   0.877  152.062      227375   \n",
              "10       0.176     0.000707    0.156    0.25   93.952      166906   \n",
              "14       0.239       0.0775    0.201   0.424   98.037      197023   \n",
              "\n",
              "                 artist  \n",
              "0   Megan Thee Stallion  \n",
              "2   Megan Thee Stallion  \n",
              "6   Megan Thee Stallion  \n",
              "10  Megan Thee Stallion  \n",
              "14  Megan Thee Stallion  "
            ],
            "text/html": [
              "\n",
              "  <div id=\"df-fdccdec2-b4e7-41bd-8736-ba29feecb68e\">\n",
              "    <div class=\"colab-df-container\">\n",
              "      <div>\n",
              "<style scoped>\n",
              "    .dataframe tbody tr th:only-of-type {\n",
              "        vertical-align: middle;\n",
              "    }\n",
              "\n",
              "    .dataframe tbody tr th {\n",
              "        vertical-align: top;\n",
              "    }\n",
              "\n",
              "    .dataframe thead th {\n",
              "        text-align: right;\n",
              "    }\n",
              "</style>\n",
              "<table border=\"1\" class=\"dataframe\">\n",
              "  <thead>\n",
              "    <tr style=\"text-align: right;\">\n",
              "      <th></th>\n",
              "      <th>title</th>\n",
              "      <th>danceability</th>\n",
              "      <th>energy</th>\n",
              "      <th>speechiness</th>\n",
              "      <th>acousticness</th>\n",
              "      <th>liveness</th>\n",
              "      <th>valence</th>\n",
              "      <th>tempo</th>\n",
              "      <th>duration_ms</th>\n",
              "      <th>artist</th>\n",
              "    </tr>\n",
              "  </thead>\n",
              "  <tbody>\n",
              "    <tr>\n",
              "      <th>0</th>\n",
              "      <td>Cry Baby (feat. DaBaby)</td>\n",
              "      <td>0.955</td>\n",
              "      <td>0.436</td>\n",
              "      <td>0.38</td>\n",
              "      <td>0.00527</td>\n",
              "      <td>0.169</td>\n",
              "      <td>0.559</td>\n",
              "      <td>130.041</td>\n",
              "      <td>137984</td>\n",
              "      <td>Megan Thee Stallion</td>\n",
              "    </tr>\n",
              "    <tr>\n",
              "      <th>2</th>\n",
              "      <td>Do It On The Tip (feat. City Girls &amp; Hot Girl ...</td>\n",
              "      <td>0.944</td>\n",
              "      <td>0.526</td>\n",
              "      <td>0.289</td>\n",
              "      <td>0.00281</td>\n",
              "      <td>0.0862</td>\n",
              "      <td>0.619</td>\n",
              "      <td>97.543</td>\n",
              "      <td>167370</td>\n",
              "      <td>Megan Thee Stallion</td>\n",
              "    </tr>\n",
              "    <tr>\n",
              "      <th>6</th>\n",
              "      <td>Movie (feat. Lil Durk)</td>\n",
              "      <td>0.896</td>\n",
              "      <td>0.728</td>\n",
              "      <td>0.287</td>\n",
              "      <td>0.00245</td>\n",
              "      <td>0.128</td>\n",
              "      <td>0.877</td>\n",
              "      <td>152.062</td>\n",
              "      <td>227375</td>\n",
              "      <td>Megan Thee Stallion</td>\n",
              "    </tr>\n",
              "    <tr>\n",
              "      <th>10</th>\n",
              "      <td>Freaky Girls (feat. SZA)</td>\n",
              "      <td>0.816</td>\n",
              "      <td>0.666</td>\n",
              "      <td>0.176</td>\n",
              "      <td>0.000707</td>\n",
              "      <td>0.156</td>\n",
              "      <td>0.25</td>\n",
              "      <td>93.952</td>\n",
              "      <td>166906</td>\n",
              "      <td>Megan Thee Stallion</td>\n",
              "    </tr>\n",
              "    <tr>\n",
              "      <th>14</th>\n",
              "      <td>Intercourse (feat. Popcaan &amp; Mustard)</td>\n",
              "      <td>0.8</td>\n",
              "      <td>0.596</td>\n",
              "      <td>0.239</td>\n",
              "      <td>0.0775</td>\n",
              "      <td>0.201</td>\n",
              "      <td>0.424</td>\n",
              "      <td>98.037</td>\n",
              "      <td>197023</td>\n",
              "      <td>Megan Thee Stallion</td>\n",
              "    </tr>\n",
              "  </tbody>\n",
              "</table>\n",
              "</div>\n",
              "      <button class=\"colab-df-convert\" onclick=\"convertToInteractive('df-fdccdec2-b4e7-41bd-8736-ba29feecb68e')\"\n",
              "              title=\"Convert this dataframe to an interactive table.\"\n",
              "              style=\"display:none;\">\n",
              "        \n",
              "  <svg xmlns=\"http://www.w3.org/2000/svg\" height=\"24px\"viewBox=\"0 0 24 24\"\n",
              "       width=\"24px\">\n",
              "    <path d=\"M0 0h24v24H0V0z\" fill=\"none\"/>\n",
              "    <path d=\"M18.56 5.44l.94 2.06.94-2.06 2.06-.94-2.06-.94-.94-2.06-.94 2.06-2.06.94zm-11 1L8.5 8.5l.94-2.06 2.06-.94-2.06-.94L8.5 2.5l-.94 2.06-2.06.94zm10 10l.94 2.06.94-2.06 2.06-.94-2.06-.94-.94-2.06-.94 2.06-2.06.94z\"/><path d=\"M17.41 7.96l-1.37-1.37c-.4-.4-.92-.59-1.43-.59-.52 0-1.04.2-1.43.59L10.3 9.45l-7.72 7.72c-.78.78-.78 2.05 0 2.83L4 21.41c.39.39.9.59 1.41.59.51 0 1.02-.2 1.41-.59l7.78-7.78 2.81-2.81c.8-.78.8-2.07 0-2.86zM5.41 20L4 18.59l7.72-7.72 1.47 1.35L5.41 20z\"/>\n",
              "  </svg>\n",
              "      </button>\n",
              "      \n",
              "  <style>\n",
              "    .colab-df-container {\n",
              "      display:flex;\n",
              "      flex-wrap:wrap;\n",
              "      gap: 12px;\n",
              "    }\n",
              "\n",
              "    .colab-df-convert {\n",
              "      background-color: #E8F0FE;\n",
              "      border: none;\n",
              "      border-radius: 50%;\n",
              "      cursor: pointer;\n",
              "      display: none;\n",
              "      fill: #1967D2;\n",
              "      height: 32px;\n",
              "      padding: 0 0 0 0;\n",
              "      width: 32px;\n",
              "    }\n",
              "\n",
              "    .colab-df-convert:hover {\n",
              "      background-color: #E2EBFA;\n",
              "      box-shadow: 0px 1px 2px rgba(60, 64, 67, 0.3), 0px 1px 3px 1px rgba(60, 64, 67, 0.15);\n",
              "      fill: #174EA6;\n",
              "    }\n",
              "\n",
              "    [theme=dark] .colab-df-convert {\n",
              "      background-color: #3B4455;\n",
              "      fill: #D2E3FC;\n",
              "    }\n",
              "\n",
              "    [theme=dark] .colab-df-convert:hover {\n",
              "      background-color: #434B5C;\n",
              "      box-shadow: 0px 1px 3px 1px rgba(0, 0, 0, 0.15);\n",
              "      filter: drop-shadow(0px 1px 2px rgba(0, 0, 0, 0.3));\n",
              "      fill: #FFFFFF;\n",
              "    }\n",
              "  </style>\n",
              "\n",
              "      <script>\n",
              "        const buttonEl =\n",
              "          document.querySelector('#df-fdccdec2-b4e7-41bd-8736-ba29feecb68e button.colab-df-convert');\n",
              "        buttonEl.style.display =\n",
              "          google.colab.kernel.accessAllowed ? 'block' : 'none';\n",
              "\n",
              "        async function convertToInteractive(key) {\n",
              "          const element = document.querySelector('#df-fdccdec2-b4e7-41bd-8736-ba29feecb68e');\n",
              "          const dataTable =\n",
              "            await google.colab.kernel.invokeFunction('convertToInteractive',\n",
              "                                                     [key], {});\n",
              "          if (!dataTable) return;\n",
              "\n",
              "          const docLinkHtml = 'Like what you see? Visit the ' +\n",
              "            '<a target=\"_blank\" href=https://colab.research.google.com/notebooks/data_table.ipynb>data table notebook</a>'\n",
              "            + ' to learn more about interactive tables.';\n",
              "          element.innerHTML = '';\n",
              "          dataTable['output_type'] = 'display_data';\n",
              "          await google.colab.output.renderOutput(dataTable, element);\n",
              "          const docLink = document.createElement('div');\n",
              "          docLink.innerHTML = docLinkHtml;\n",
              "          element.appendChild(docLink);\n",
              "        }\n",
              "      </script>\n",
              "    </div>\n",
              "  </div>\n",
              "  "
            ]
          },
          "metadata": {},
          "execution_count": 85
        }
      ]
    },
    {
      "cell_type": "code",
      "source": [
        "df_features_artist_format_2.head()"
      ],
      "metadata": {
        "colab": {
          "base_uri": "https://localhost:8080/",
          "height": 206
        },
        "id": "HBjP9e3mG9jj",
        "outputId": "4b98347e-f083-45bb-a2bb-627fc2ba4b64"
      },
      "execution_count": 86,
      "outputs": [
        {
          "output_type": "execute_result",
          "data": {
            "text/plain": [
              "                           title                    artist danceability  \\\n",
              "0          Sleep Now In the Fire  Rage Against The Machine        0.426   \n",
              "7    Swear It Again - Radio Edit                  Westlife        0.626   \n",
              "10  If I Let You Go - Radio Edit                  Westlife        0.571   \n",
              "13          Flying Without Wings                  Westlife        0.443   \n",
              "16                    Fool Again                  Westlife        0.532   \n",
              "\n",
              "   energy speechiness acousticness liveness valence    tempo duration_ms  \n",
              "0   0.929      0.0701      0.00162   0.0789   0.539  127.059      205600  \n",
              "7   0.532      0.0276        0.296    0.123    0.33  130.076      247933  \n",
              "10  0.697      0.0294      0.00574   0.0775   0.636  181.987      221533  \n",
              "13  0.493      0.0318        0.323     0.21   0.283   72.742      215307  \n",
              "16  0.526      0.0292       0.0468    0.053   0.536   75.996      235067  "
            ],
            "text/html": [
              "\n",
              "  <div id=\"df-b138445e-0b3d-4cff-921d-99dcda726775\">\n",
              "    <div class=\"colab-df-container\">\n",
              "      <div>\n",
              "<style scoped>\n",
              "    .dataframe tbody tr th:only-of-type {\n",
              "        vertical-align: middle;\n",
              "    }\n",
              "\n",
              "    .dataframe tbody tr th {\n",
              "        vertical-align: top;\n",
              "    }\n",
              "\n",
              "    .dataframe thead th {\n",
              "        text-align: right;\n",
              "    }\n",
              "</style>\n",
              "<table border=\"1\" class=\"dataframe\">\n",
              "  <thead>\n",
              "    <tr style=\"text-align: right;\">\n",
              "      <th></th>\n",
              "      <th>title</th>\n",
              "      <th>artist</th>\n",
              "      <th>danceability</th>\n",
              "      <th>energy</th>\n",
              "      <th>speechiness</th>\n",
              "      <th>acousticness</th>\n",
              "      <th>liveness</th>\n",
              "      <th>valence</th>\n",
              "      <th>tempo</th>\n",
              "      <th>duration_ms</th>\n",
              "    </tr>\n",
              "  </thead>\n",
              "  <tbody>\n",
              "    <tr>\n",
              "      <th>0</th>\n",
              "      <td>Sleep Now In the Fire</td>\n",
              "      <td>Rage Against The Machine</td>\n",
              "      <td>0.426</td>\n",
              "      <td>0.929</td>\n",
              "      <td>0.0701</td>\n",
              "      <td>0.00162</td>\n",
              "      <td>0.0789</td>\n",
              "      <td>0.539</td>\n",
              "      <td>127.059</td>\n",
              "      <td>205600</td>\n",
              "    </tr>\n",
              "    <tr>\n",
              "      <th>7</th>\n",
              "      <td>Swear It Again - Radio Edit</td>\n",
              "      <td>Westlife</td>\n",
              "      <td>0.626</td>\n",
              "      <td>0.532</td>\n",
              "      <td>0.0276</td>\n",
              "      <td>0.296</td>\n",
              "      <td>0.123</td>\n",
              "      <td>0.33</td>\n",
              "      <td>130.076</td>\n",
              "      <td>247933</td>\n",
              "    </tr>\n",
              "    <tr>\n",
              "      <th>10</th>\n",
              "      <td>If I Let You Go - Radio Edit</td>\n",
              "      <td>Westlife</td>\n",
              "      <td>0.571</td>\n",
              "      <td>0.697</td>\n",
              "      <td>0.0294</td>\n",
              "      <td>0.00574</td>\n",
              "      <td>0.0775</td>\n",
              "      <td>0.636</td>\n",
              "      <td>181.987</td>\n",
              "      <td>221533</td>\n",
              "    </tr>\n",
              "    <tr>\n",
              "      <th>13</th>\n",
              "      <td>Flying Without Wings</td>\n",
              "      <td>Westlife</td>\n",
              "      <td>0.443</td>\n",
              "      <td>0.493</td>\n",
              "      <td>0.0318</td>\n",
              "      <td>0.323</td>\n",
              "      <td>0.21</td>\n",
              "      <td>0.283</td>\n",
              "      <td>72.742</td>\n",
              "      <td>215307</td>\n",
              "    </tr>\n",
              "    <tr>\n",
              "      <th>16</th>\n",
              "      <td>Fool Again</td>\n",
              "      <td>Westlife</td>\n",
              "      <td>0.532</td>\n",
              "      <td>0.526</td>\n",
              "      <td>0.0292</td>\n",
              "      <td>0.0468</td>\n",
              "      <td>0.053</td>\n",
              "      <td>0.536</td>\n",
              "      <td>75.996</td>\n",
              "      <td>235067</td>\n",
              "    </tr>\n",
              "  </tbody>\n",
              "</table>\n",
              "</div>\n",
              "      <button class=\"colab-df-convert\" onclick=\"convertToInteractive('df-b138445e-0b3d-4cff-921d-99dcda726775')\"\n",
              "              title=\"Convert this dataframe to an interactive table.\"\n",
              "              style=\"display:none;\">\n",
              "        \n",
              "  <svg xmlns=\"http://www.w3.org/2000/svg\" height=\"24px\"viewBox=\"0 0 24 24\"\n",
              "       width=\"24px\">\n",
              "    <path d=\"M0 0h24v24H0V0z\" fill=\"none\"/>\n",
              "    <path d=\"M18.56 5.44l.94 2.06.94-2.06 2.06-.94-2.06-.94-.94-2.06-.94 2.06-2.06.94zm-11 1L8.5 8.5l.94-2.06 2.06-.94-2.06-.94L8.5 2.5l-.94 2.06-2.06.94zm10 10l.94 2.06.94-2.06 2.06-.94-2.06-.94-.94-2.06-.94 2.06-2.06.94z\"/><path d=\"M17.41 7.96l-1.37-1.37c-.4-.4-.92-.59-1.43-.59-.52 0-1.04.2-1.43.59L10.3 9.45l-7.72 7.72c-.78.78-.78 2.05 0 2.83L4 21.41c.39.39.9.59 1.41.59.51 0 1.02-.2 1.41-.59l7.78-7.78 2.81-2.81c.8-.78.8-2.07 0-2.86zM5.41 20L4 18.59l7.72-7.72 1.47 1.35L5.41 20z\"/>\n",
              "  </svg>\n",
              "      </button>\n",
              "      \n",
              "  <style>\n",
              "    .colab-df-container {\n",
              "      display:flex;\n",
              "      flex-wrap:wrap;\n",
              "      gap: 12px;\n",
              "    }\n",
              "\n",
              "    .colab-df-convert {\n",
              "      background-color: #E8F0FE;\n",
              "      border: none;\n",
              "      border-radius: 50%;\n",
              "      cursor: pointer;\n",
              "      display: none;\n",
              "      fill: #1967D2;\n",
              "      height: 32px;\n",
              "      padding: 0 0 0 0;\n",
              "      width: 32px;\n",
              "    }\n",
              "\n",
              "    .colab-df-convert:hover {\n",
              "      background-color: #E2EBFA;\n",
              "      box-shadow: 0px 1px 2px rgba(60, 64, 67, 0.3), 0px 1px 3px 1px rgba(60, 64, 67, 0.15);\n",
              "      fill: #174EA6;\n",
              "    }\n",
              "\n",
              "    [theme=dark] .colab-df-convert {\n",
              "      background-color: #3B4455;\n",
              "      fill: #D2E3FC;\n",
              "    }\n",
              "\n",
              "    [theme=dark] .colab-df-convert:hover {\n",
              "      background-color: #434B5C;\n",
              "      box-shadow: 0px 1px 3px 1px rgba(0, 0, 0, 0.15);\n",
              "      filter: drop-shadow(0px 1px 2px rgba(0, 0, 0, 0.3));\n",
              "      fill: #FFFFFF;\n",
              "    }\n",
              "  </style>\n",
              "\n",
              "      <script>\n",
              "        const buttonEl =\n",
              "          document.querySelector('#df-b138445e-0b3d-4cff-921d-99dcda726775 button.colab-df-convert');\n",
              "        buttonEl.style.display =\n",
              "          google.colab.kernel.accessAllowed ? 'block' : 'none';\n",
              "\n",
              "        async function convertToInteractive(key) {\n",
              "          const element = document.querySelector('#df-b138445e-0b3d-4cff-921d-99dcda726775');\n",
              "          const dataTable =\n",
              "            await google.colab.kernel.invokeFunction('convertToInteractive',\n",
              "                                                     [key], {});\n",
              "          if (!dataTable) return;\n",
              "\n",
              "          const docLinkHtml = 'Like what you see? Visit the ' +\n",
              "            '<a target=\"_blank\" href=https://colab.research.google.com/notebooks/data_table.ipynb>data table notebook</a>'\n",
              "            + ' to learn more about interactive tables.';\n",
              "          element.innerHTML = '';\n",
              "          dataTable['output_type'] = 'display_data';\n",
              "          await google.colab.output.renderOutput(dataTable, element);\n",
              "          const docLink = document.createElement('div');\n",
              "          docLink.innerHTML = docLinkHtml;\n",
              "          element.appendChild(docLink);\n",
              "        }\n",
              "      </script>\n",
              "    </div>\n",
              "  </div>\n",
              "  "
            ]
          },
          "metadata": {},
          "execution_count": 86
        }
      ]
    },
    {
      "cell_type": "code",
      "source": [
        "df_features = pd.concat([df_features_artist_format_2, df_features_artist_format_1]).drop_duplicates()\n",
        "df_features.reset_index(drop=True, inplace=True)\n",
        "df_features.shape[0]"
      ],
      "metadata": {
        "colab": {
          "base_uri": "https://localhost:8080/"
        },
        "id": "A7Za_gGmJIgo",
        "outputId": "14c1271d-a40c-4872-8a42-bbd675f48ae0"
      },
      "execution_count": 90,
      "outputs": [
        {
          "output_type": "execute_result",
          "data": {
            "text/plain": [
              "22758"
            ]
          },
          "metadata": {},
          "execution_count": 90
        }
      ]
    },
    {
      "cell_type": "code",
      "source": [
        "df_features.head()"
      ],
      "metadata": {
        "colab": {
          "base_uri": "https://localhost:8080/",
          "height": 206
        },
        "id": "nKkKazjVJuzF",
        "outputId": "e4d93e07-e38c-40cd-9348-749650640f53"
      },
      "execution_count": 91,
      "outputs": [
        {
          "output_type": "execute_result",
          "data": {
            "text/plain": [
              "                          title                    artist danceability energy  \\\n",
              "0         Sleep Now In the Fire  Rage Against The Machine        0.426  0.929   \n",
              "1   Swear It Again - Radio Edit                  Westlife        0.626  0.532   \n",
              "2  If I Let You Go - Radio Edit                  Westlife        0.571  0.697   \n",
              "3          Flying Without Wings                  Westlife        0.443  0.493   \n",
              "4                    Fool Again                  Westlife        0.532  0.526   \n",
              "\n",
              "  speechiness acousticness liveness valence    tempo duration_ms  \n",
              "0      0.0701      0.00162   0.0789   0.539  127.059      205600  \n",
              "1      0.0276        0.296    0.123    0.33  130.076      247933  \n",
              "2      0.0294      0.00574   0.0775   0.636  181.987      221533  \n",
              "3      0.0318        0.323     0.21   0.283   72.742      215307  \n",
              "4      0.0292       0.0468    0.053   0.536   75.996      235067  "
            ],
            "text/html": [
              "\n",
              "  <div id=\"df-540446c7-6ce4-4400-b360-91abf224a3b1\">\n",
              "    <div class=\"colab-df-container\">\n",
              "      <div>\n",
              "<style scoped>\n",
              "    .dataframe tbody tr th:only-of-type {\n",
              "        vertical-align: middle;\n",
              "    }\n",
              "\n",
              "    .dataframe tbody tr th {\n",
              "        vertical-align: top;\n",
              "    }\n",
              "\n",
              "    .dataframe thead th {\n",
              "        text-align: right;\n",
              "    }\n",
              "</style>\n",
              "<table border=\"1\" class=\"dataframe\">\n",
              "  <thead>\n",
              "    <tr style=\"text-align: right;\">\n",
              "      <th></th>\n",
              "      <th>title</th>\n",
              "      <th>artist</th>\n",
              "      <th>danceability</th>\n",
              "      <th>energy</th>\n",
              "      <th>speechiness</th>\n",
              "      <th>acousticness</th>\n",
              "      <th>liveness</th>\n",
              "      <th>valence</th>\n",
              "      <th>tempo</th>\n",
              "      <th>duration_ms</th>\n",
              "    </tr>\n",
              "  </thead>\n",
              "  <tbody>\n",
              "    <tr>\n",
              "      <th>0</th>\n",
              "      <td>Sleep Now In the Fire</td>\n",
              "      <td>Rage Against The Machine</td>\n",
              "      <td>0.426</td>\n",
              "      <td>0.929</td>\n",
              "      <td>0.0701</td>\n",
              "      <td>0.00162</td>\n",
              "      <td>0.0789</td>\n",
              "      <td>0.539</td>\n",
              "      <td>127.059</td>\n",
              "      <td>205600</td>\n",
              "    </tr>\n",
              "    <tr>\n",
              "      <th>1</th>\n",
              "      <td>Swear It Again - Radio Edit</td>\n",
              "      <td>Westlife</td>\n",
              "      <td>0.626</td>\n",
              "      <td>0.532</td>\n",
              "      <td>0.0276</td>\n",
              "      <td>0.296</td>\n",
              "      <td>0.123</td>\n",
              "      <td>0.33</td>\n",
              "      <td>130.076</td>\n",
              "      <td>247933</td>\n",
              "    </tr>\n",
              "    <tr>\n",
              "      <th>2</th>\n",
              "      <td>If I Let You Go - Radio Edit</td>\n",
              "      <td>Westlife</td>\n",
              "      <td>0.571</td>\n",
              "      <td>0.697</td>\n",
              "      <td>0.0294</td>\n",
              "      <td>0.00574</td>\n",
              "      <td>0.0775</td>\n",
              "      <td>0.636</td>\n",
              "      <td>181.987</td>\n",
              "      <td>221533</td>\n",
              "    </tr>\n",
              "    <tr>\n",
              "      <th>3</th>\n",
              "      <td>Flying Without Wings</td>\n",
              "      <td>Westlife</td>\n",
              "      <td>0.443</td>\n",
              "      <td>0.493</td>\n",
              "      <td>0.0318</td>\n",
              "      <td>0.323</td>\n",
              "      <td>0.21</td>\n",
              "      <td>0.283</td>\n",
              "      <td>72.742</td>\n",
              "      <td>215307</td>\n",
              "    </tr>\n",
              "    <tr>\n",
              "      <th>4</th>\n",
              "      <td>Fool Again</td>\n",
              "      <td>Westlife</td>\n",
              "      <td>0.532</td>\n",
              "      <td>0.526</td>\n",
              "      <td>0.0292</td>\n",
              "      <td>0.0468</td>\n",
              "      <td>0.053</td>\n",
              "      <td>0.536</td>\n",
              "      <td>75.996</td>\n",
              "      <td>235067</td>\n",
              "    </tr>\n",
              "  </tbody>\n",
              "</table>\n",
              "</div>\n",
              "      <button class=\"colab-df-convert\" onclick=\"convertToInteractive('df-540446c7-6ce4-4400-b360-91abf224a3b1')\"\n",
              "              title=\"Convert this dataframe to an interactive table.\"\n",
              "              style=\"display:none;\">\n",
              "        \n",
              "  <svg xmlns=\"http://www.w3.org/2000/svg\" height=\"24px\"viewBox=\"0 0 24 24\"\n",
              "       width=\"24px\">\n",
              "    <path d=\"M0 0h24v24H0V0z\" fill=\"none\"/>\n",
              "    <path d=\"M18.56 5.44l.94 2.06.94-2.06 2.06-.94-2.06-.94-.94-2.06-.94 2.06-2.06.94zm-11 1L8.5 8.5l.94-2.06 2.06-.94-2.06-.94L8.5 2.5l-.94 2.06-2.06.94zm10 10l.94 2.06.94-2.06 2.06-.94-2.06-.94-.94-2.06-.94 2.06-2.06.94z\"/><path d=\"M17.41 7.96l-1.37-1.37c-.4-.4-.92-.59-1.43-.59-.52 0-1.04.2-1.43.59L10.3 9.45l-7.72 7.72c-.78.78-.78 2.05 0 2.83L4 21.41c.39.39.9.59 1.41.59.51 0 1.02-.2 1.41-.59l7.78-7.78 2.81-2.81c.8-.78.8-2.07 0-2.86zM5.41 20L4 18.59l7.72-7.72 1.47 1.35L5.41 20z\"/>\n",
              "  </svg>\n",
              "      </button>\n",
              "      \n",
              "  <style>\n",
              "    .colab-df-container {\n",
              "      display:flex;\n",
              "      flex-wrap:wrap;\n",
              "      gap: 12px;\n",
              "    }\n",
              "\n",
              "    .colab-df-convert {\n",
              "      background-color: #E8F0FE;\n",
              "      border: none;\n",
              "      border-radius: 50%;\n",
              "      cursor: pointer;\n",
              "      display: none;\n",
              "      fill: #1967D2;\n",
              "      height: 32px;\n",
              "      padding: 0 0 0 0;\n",
              "      width: 32px;\n",
              "    }\n",
              "\n",
              "    .colab-df-convert:hover {\n",
              "      background-color: #E2EBFA;\n",
              "      box-shadow: 0px 1px 2px rgba(60, 64, 67, 0.3), 0px 1px 3px 1px rgba(60, 64, 67, 0.15);\n",
              "      fill: #174EA6;\n",
              "    }\n",
              "\n",
              "    [theme=dark] .colab-df-convert {\n",
              "      background-color: #3B4455;\n",
              "      fill: #D2E3FC;\n",
              "    }\n",
              "\n",
              "    [theme=dark] .colab-df-convert:hover {\n",
              "      background-color: #434B5C;\n",
              "      box-shadow: 0px 1px 3px 1px rgba(0, 0, 0, 0.15);\n",
              "      filter: drop-shadow(0px 1px 2px rgba(0, 0, 0, 0.3));\n",
              "      fill: #FFFFFF;\n",
              "    }\n",
              "  </style>\n",
              "\n",
              "      <script>\n",
              "        const buttonEl =\n",
              "          document.querySelector('#df-540446c7-6ce4-4400-b360-91abf224a3b1 button.colab-df-convert');\n",
              "        buttonEl.style.display =\n",
              "          google.colab.kernel.accessAllowed ? 'block' : 'none';\n",
              "\n",
              "        async function convertToInteractive(key) {\n",
              "          const element = document.querySelector('#df-540446c7-6ce4-4400-b360-91abf224a3b1');\n",
              "          const dataTable =\n",
              "            await google.colab.kernel.invokeFunction('convertToInteractive',\n",
              "                                                     [key], {});\n",
              "          if (!dataTable) return;\n",
              "\n",
              "          const docLinkHtml = 'Like what you see? Visit the ' +\n",
              "            '<a target=\"_blank\" href=https://colab.research.google.com/notebooks/data_table.ipynb>data table notebook</a>'\n",
              "            + ' to learn more about interactive tables.';\n",
              "          element.innerHTML = '';\n",
              "          dataTable['output_type'] = 'display_data';\n",
              "          await google.colab.output.renderOutput(dataTable, element);\n",
              "          const docLink = document.createElement('div');\n",
              "          docLink.innerHTML = docLinkHtml;\n",
              "          element.appendChild(docLink);\n",
              "        }\n",
              "      </script>\n",
              "    </div>\n",
              "  </div>\n",
              "  "
            ]
          },
          "metadata": {},
          "execution_count": 91
        }
      ]
    },
    {
      "cell_type": "markdown",
      "source": [
        "Join with `df_charts` to get a unified dataframe with chart and feature columns"
      ],
      "metadata": {
        "id": "VwxDVqRDW2Sn"
      }
    },
    {
      "cell_type": "code",
      "source": [
        "df_charts_features = pd.merge(df_charts.drop_duplicates(subset=['title', 'artist']), df_features, on=['title', 'artist'], how='inner')\n",
        "df_charts_features.describe"
      ],
      "metadata": {
        "colab": {
          "base_uri": "https://localhost:8080/"
        },
        "id": "CGSvegiaW-aj",
        "outputId": "69b732f3-0fa3-4bfc-ca9a-52042e70d57d"
      },
      "execution_count": 92,
      "outputs": [
        {
          "output_type": "execute_result",
          "data": {
            "text/plain": [
              "<bound method NDFrame.describe of                                             title  rank        date  \\\n",
              "0                                         Ride It   146  2020-05-01   \n",
              "1                                          +Linda   147  2020-05-01   \n",
              "2                                            Woah   148  2020-05-01   \n",
              "3                                            25/8   105  2020-05-01   \n",
              "4                                            Keii    65  2020-05-01   \n",
              "...                                           ...   ...         ...   \n",
              "22753                                   Optimista    49  2021-07-24   \n",
              "22754                               Forget Me Not    42  2021-07-26   \n",
              "22755                                      めちゃくちゃ    50  2021-07-27   \n",
              "22756  Still Holy (feat. Ryan Ofei & Naomi Raine)    47  2021-07-28   \n",
              "22757                                     Believe    50  2021-07-31   \n",
              "\n",
              "                           artist        region    chart  Year danceability  \\\n",
              "0                          Regard       Bolivia   top200  2020         0.88   \n",
              "1                           Dalex       Bolivia   top200  2020                \n",
              "2                        Lil Baby        Canada   top200  2020        0.882   \n",
              "3                       Bad Bunny         Chile   top200  2020        0.761   \n",
              "4                        Anuel AA      Colombia   top200  2020        0.708   \n",
              "...                           ...           ...      ...   ...          ...   \n",
              "22753                    Caloncho        Mexico  viral50  2021        0.885   \n",
              "22754                     ENHYPEN   Philippines  viral50  2021        0.569   \n",
              "22755                    vvpskvd.       Ukraine  viral50  2021        0.665   \n",
              "22756  Tribl, Maverick City Music  South Africa  viral50  2021        0.165   \n",
              "22757           Anna of the North       Ireland  viral50  2021        0.395   \n",
              "\n",
              "      energy speechiness acousticness liveness valence    tempo duration_ms  \n",
              "0      0.751      0.0874        0.177    0.106   0.884  117.948      157606  \n",
              "1                                                                            \n",
              "2      0.602       0.245       0.0177    0.178    0.43  142.959      183011  \n",
              "3      0.732      0.0549        0.092   0.0716   0.542  151.982      243276  \n",
              "4      0.797      0.0391          0.4    0.096    0.51   88.015      210000  \n",
              "...      ...         ...          ...      ...     ...      ...         ...  \n",
              "22753  0.479       0.069       0.0385    0.319   0.869  122.955      212653  \n",
              "22754  0.877       0.117       0.0134    0.342   0.782  161.133      203893  \n",
              "22755   0.85      0.0425     0.000044    0.164   0.245  120.029      144005  \n",
              "22756  0.619      0.0402        0.104    0.095   0.299   83.447    507068.0  \n",
              "22757  0.332      0.0262        0.852    0.104  0.0493   95.089      252716  \n",
              "\n",
              "[22758 rows x 15 columns]>"
            ]
          },
          "metadata": {},
          "execution_count": 92
        }
      ]
    },
    {
      "cell_type": "markdown",
      "metadata": {
        "id": "N9uFxr2sQGxY"
      },
      "source": [
        "# TikTok Popular Songs Dataset EDA"
      ]
    },
    {
      "cell_type": "code",
      "execution_count": null,
      "metadata": {
        "id": "J-JdIrzO08GS"
      },
      "outputs": [],
      "source": [
        "df_tiktok_19.head()"
      ]
    },
    {
      "cell_type": "code",
      "execution_count": null,
      "metadata": {
        "id": "9txjEQY71b4g"
      },
      "outputs": [],
      "source": [
        "df_tiktok_20.head()"
      ]
    },
    {
      "cell_type": "code",
      "execution_count": null,
      "metadata": {
        "id": "IhbEd8of1cI5"
      },
      "outputs": [],
      "source": [
        "df_tiktok_21.head()"
      ]
    },
    {
      "cell_type": "code",
      "execution_count": null,
      "metadata": {
        "id": "KKJBDGC21cZF"
      },
      "outputs": [],
      "source": [
        "# Combine the tiktok datasets\n",
        "data_tiktok = [df_tiktok_19, df_tiktok_20, df_tiktok_21]\n",
        "df_tiktok_full = pd.concat(data_tiktok)"
      ]
    },
    {
      "cell_type": "code",
      "execution_count": null,
      "metadata": {
        "id": "5AXhyqlrMnYp"
      },
      "outputs": [],
      "source": [
        "# Extract the track name and artist to check for the overlap\n",
        "df_tiktok_tracks = df_tiktok_full[['track_name', 'artist_name']]\n",
        "\n",
        "# Check number of rows\n",
        "df_tiktok_tracks.shape[0]"
      ]
    },
    {
      "cell_type": "code",
      "execution_count": null,
      "metadata": {
        "id": "qBAyfruiUPD1"
      },
      "outputs": [],
      "source": [
        "# Merge with spotify features on track names only to check overlap\n",
        "df_tiktok_tracks_only = feature_matches.merge(df_tiktok_tracks.drop_duplicates(), left_on = ['title'], right_on=['track_name'], how='inner')\n",
        "\n",
        "# Check overlap\n",
        "df_tiktok_tracks_only.shape[0]"
      ]
    },
    {
      "cell_type": "code",
      "execution_count": null,
      "metadata": {
        "id": "2C0fFJATUy4M"
      },
      "outputs": [],
      "source": [
        "# Review rows that didn't match to see if there's more clean-up that can be done \n",
        "df_tiktok_full_merge = feature_matches.merge(df_tiktok_tracks.drop_duplicates(), left_on = ['title'], right_on=['track_name'], how='outer', indicator = True)"
      ]
    },
    {
      "cell_type": "code",
      "execution_count": null,
      "metadata": {
        "id": "tnSpyq4oV8bu"
      },
      "outputs": [],
      "source": [
        "df_tiktok_full_merge.head()"
      ]
    },
    {
      "cell_type": "code",
      "execution_count": null,
      "metadata": {
        "id": "7BUzsCr2VuXv"
      },
      "outputs": [],
      "source": [
        "# Review rows that didn't match to see if there's more clean-up that can be done \n",
        "print(df_tiktok_full_merge[df_tiktok_full_merge['_merge'] != 'both'])"
      ]
    },
    {
      "cell_type": "code",
      "execution_count": null,
      "metadata": {
        "id": "Wxuu_bf2WYfF"
      },
      "outputs": [],
      "source": [
        "# do a check to see if I convert the track names to lower case, could I get more matches \n",
        "df_tiktok_full_merge.dropna(inplace = True)\n",
        "df_tiktok_full_merge['title_l'] = df_tiktok_full_merge.apply(lambda x : x['title'].lower(), axis =1)\n",
        "df_tiktok_full_merge['track_name_l'] = df_tiktok_full_merge.apply(lambda x : x['track_name'].lower(), axis =1)\n",
        "\n",
        "print(df_tiktok_full_merge[(df_tiktok_full_merge['title_l'] == df_tiktok_full_merge['track_name_l']) & (df_tiktok_full_merge['_merge'] != 'both')])\n",
        "\n",
        "# prints an empty dataframe so the conclusion is that no I can't"
      ]
    },
    {
      "cell_type": "code",
      "execution_count": null,
      "metadata": {
        "id": "evjfggiCWtcD"
      },
      "outputs": [],
      "source": [
        "# Create a match column to indicate cases where the tiktok artist name can be found as a substring in the spotify artist column \n",
        "df_tiktok_tracks_only['match'] = df_tiktok_tracks_only.apply(lambda x: x['artist_name'].lower().find(x['artist'].lower()), axis=1).ge(0)\n",
        "\n",
        "# Create a match column to indicate cases where the spotify artist column can be found as a substring in the tiktok artist name \n",
        "df_tiktok_tracks_only['match_2'] = df_tiktok_tracks_only.apply(lambda x: x['artist'].lower().find(x['artist_name'].lower()), axis=1).ge(0)"
      ]
    },
    {
      "cell_type": "code",
      "execution_count": null,
      "metadata": {
        "id": "Ef71rA5qiRYD"
      },
      "outputs": [],
      "source": [
        "# review data to see which rows have matched\n",
        "print(df_tiktok_tracks_only[df_tiktok_tracks_only['match'] |df_tiktok_tracks_only['match_2']])"
      ]
    },
    {
      "cell_type": "code",
      "execution_count": null,
      "metadata": {
        "id": "Y9khMP9ZTkFg"
      },
      "outputs": [],
      "source": [
        "# review data to see which rows have not matched\n",
        "print(df_tiktok_tracks_only[(df_tiktok_tracks_only['match'] == False) & (df_tiktok_tracks_only['match_2'] == False)])"
      ]
    },
    {
      "cell_type": "code",
      "execution_count": null,
      "metadata": {
        "id": "WMJjLZcVijGK"
      },
      "outputs": [],
      "source": [
        "# check the rows where the artists names aren't an exact match - for visual inspection \n",
        "df_tiktok_tracks_only.loc[(df_tiktok_tracks_only['artist'] != df_tiktok_tracks_only['artist_name']) & (df_tiktok_tracks_only['match'] |df_tiktok_tracks_only['match_2'])]"
      ]
    },
    {
      "cell_type": "code",
      "execution_count": null,
      "metadata": {
        "id": "9VbUNXhYjJKW"
      },
      "outputs": [],
      "source": [
        "# Create a dataframe of overlapping songs based on the two matches colums and drop duplicates\n",
        "df_tiktok_matches_final = df_tiktok_tracks_only.loc[(df_tiktok_tracks_only['match'] |df_tiktok_tracks_only['match_2'])]\n",
        "\n",
        "# Check the shape of the df \n",
        "df_tiktok_matches_final.shape[0]"
      ]
    },
    {
      "cell_type": "code",
      "execution_count": null,
      "metadata": {
        "id": "kbwjCLEOTJzD"
      },
      "outputs": [],
      "source": [
        "# spot check an artist to see if the name matching looks appropriate \n",
        "df_tiktok_matches_final.loc[(df_tiktok_matches_final['artist_name'] == \"Justin Bieber\" )|( df_tiktok_matches_final['artist'] == \"Justin Bieber\" )]"
      ]
    },
    {
      "cell_type": "code",
      "execution_count": null,
      "metadata": {
        "id": "XrdLP4IVPxZZ"
      },
      "outputs": [],
      "source": [
        "# drop rows that are no longer needed\n",
        "df_tiktok_matches_final.drop(['match', 'match_2', 'track_name', 'artist_name'], inplace =True, axis =1)\n",
        "\n",
        "# add a column to indicate tiktok popularity \n",
        "df_tiktok_matches_final= df_tiktok_matches_final.assign(tiktok_pop = 1)"
      ]
    },
    {
      "cell_type": "code",
      "execution_count": null,
      "metadata": {
        "id": "rSScxkw6RHrq"
      },
      "outputs": [],
      "source": [
        "df_tiktok_matches_final.head()"
      ]
    },
    {
      "cell_type": "code",
      "execution_count": null,
      "metadata": {
        "id": "W7ZBdyHGRaib"
      },
      "outputs": [],
      "source": [
        "df_tiktok_matches_final.groupby(['tiktok_pop']).count()"
      ]
    },
    {
      "cell_type": "markdown",
      "metadata": {
        "id": "Eekt5MsyjswP"
      },
      "source": [
        "# Genius Lyrics Dataset Creation and EDA"
      ]
    },
    {
      "cell_type": "code",
      "execution_count": null,
      "metadata": {
        "id": "0qEn8QjXbcGi"
      },
      "outputs": [],
      "source": [
        "!pip install lyricsgenius"
      ]
    },
    {
      "cell_type": "code",
      "execution_count": null,
      "metadata": {
        "id": "5Ym966T4Crmo"
      },
      "outputs": [],
      "source": [
        "\"\"\"from google.colab import files\n",
        "feature_matches.to_csv('combined_features.csv') \n",
        "files.download('combined_features.csv')\"\"\""
      ]
    },
    {
      "cell_type": "code",
      "execution_count": null,
      "metadata": {
        "id": "HNiMjD2tu5_c"
      },
      "outputs": [],
      "source": [
        "import lyricsgenius\n",
        "import os\n",
        "import spacy\n",
        "import re"
      ]
    },
    {
      "cell_type": "code",
      "execution_count": null,
      "metadata": {
        "id": "37JKFZI3n8Fu"
      },
      "outputs": [],
      "source": [
        "client_id = 'TS15U5iwbWLGkhfGFVqnOuDA9mVjJhhLlXpJDYai6nm79S9JWFzznlsQN5dCFuZG'\n",
        "client_secret = 'SOhrXQxD9YZ2RxBQwR-wwu5Zbxh6UgkfuIEaUJltx9L9h8aynN5zZ9Jsm1JNlh_5Npu_uev1MKorJV_A6MVYKw'\n",
        "access_token = 'US00oQ6_8lkhwRjHAOudB62bruf1B3JGOGuHR8V8zeawxpoc8fcA9QGXQ3bhYWu-'\n",
        "website_url = 'https://github.com/Joseph-Willem-Ricci/5450-final-project'"
      ]
    },
    {
      "cell_type": "code",
      "execution_count": null,
      "metadata": {
        "id": "q7-Si0qot9Bp"
      },
      "outputs": [],
      "source": [
        "\"\"\"genius = lyricsgenius.Genius(access_token)\n",
        "artist = genius.search_artist('Andy Shauf')\n",
        "artist.save_lyrics()\"\"\""
      ]
    },
    {
      "cell_type": "code",
      "execution_count": null,
      "metadata": {
        "id": "aD1gD1uxuw4n"
      },
      "outputs": [],
      "source": [
        "\"\"\"api = lyricsgenius.Genius(access_token)\n",
        "artist = api.artist(380491)\n",
        "print(artist)\"\"\"\n"
      ]
    },
    {
      "cell_type": "code",
      "execution_count": null,
      "metadata": {
        "id": "FPZfntq-CKy2"
      },
      "outputs": [],
      "source": [
        "import nltk\n",
        "from nltk.corpus import stopwords\n",
        "nltk.download('stopwords')\n",
        "nltk.download('punkt')\n",
        "nltk.download('vader_lexicon')\n",
        "#stopword_en = nltk.corpus.stopwords.words('english')\n",
        "#stopword_es = nltk.corpus.stopwords.words('spanish')\n",
        "#stopword = stopword_en + stopword_es\n",
        "stopwords = set(stopwords.words(['english', 'spanish', 'german','french']))\n"
      ]
    },
    {
      "cell_type": "code",
      "execution_count": null,
      "metadata": {
        "id": "Ywy08Es-DH9D"
      },
      "outputs": [],
      "source": [
        "!!kaggle datasets download -d joannecrean/spotify-songs-lyrics  #FIXME: Generalize this to run on anybody's colab\n",
        "!unzip /content/spotify-songs-lyrics.zip\n"
      ]
    },
    {
      "cell_type": "code",
      "execution_count": null,
      "metadata": {
        "id": "z588WsRN0Sek"
      },
      "outputs": [],
      "source": [
        "df_lyrics = pd.read_csv('all_song_data_complete.csv')"
      ]
    },
    {
      "cell_type": "code",
      "execution_count": null,
      "metadata": {
        "id": "oZ5P__YKtqWf"
      },
      "outputs": [],
      "source": [
        "sensitive_words = pd.read_csv('sensitive_words.csv')\n",
        "sensitive_words =sensitive_words.values.tolist()\n"
      ]
    },
    {
      "cell_type": "code",
      "execution_count": null,
      "metadata": {
        "id": "tFO_EiBGCUsd"
      },
      "outputs": [],
      "source": [
        "def tokenize_content(content):\n",
        "  content = content.lower() #convert to lowercase\n",
        "  content_tokens = nltk.word_tokenize(content) # tokenise\n",
        "  alpha_tokens = [w for w in content_tokens if w.isalpha()] # keep alpha tokens\n",
        "  stop_tokens = [t for t in alpha_tokens if not t in stopwords] #remove if stopword\n",
        "  final_tokens = [s for s in stop_tokens if not s in sensitive_words] #remove if sensitive\n",
        "  #print(final_tokens)\n",
        "  return final_tokens"
      ]
    },
    {
      "cell_type": "code",
      "execution_count": null,
      "metadata": {
        "id": "RxDXD3obDweO"
      },
      "outputs": [],
      "source": [
        "df_lyrics.head(10)"
      ]
    },
    {
      "cell_type": "code",
      "execution_count": null,
      "metadata": {
        "id": "24JvqH8XEJv0"
      },
      "outputs": [],
      "source": [
        "len(df_lyrics)"
      ]
    },
    {
      "cell_type": "code",
      "execution_count": null,
      "metadata": {
        "id": "xqg3iEZMzy-w"
      },
      "outputs": [],
      "source": [
        "df_lyrics.loc[df_lyrics['title'] == 'You Make My Dreams (Come True)']"
      ]
    },
    {
      "cell_type": "code",
      "execution_count": null,
      "metadata": {
        "id": "y0PWn_-EECd_"
      },
      "outputs": [],
      "source": [
        "df_lyrics.dropna(inplace = True)"
      ]
    },
    {
      "cell_type": "code",
      "execution_count": null,
      "metadata": {
        "id": "QAE_iPMk2SH1"
      },
      "outputs": [],
      "source": [
        "df_lyrics.loc[df_lyrics['song URL'] == 'https://genius.com/Gerald-haywood-2018-haywoodindahood-listening-log-annotated']"
      ]
    },
    {
      "cell_type": "code",
      "execution_count": null,
      "metadata": {
        "id": "q9P6l1nK0XqX"
      },
      "outputs": [],
      "source": [
        "# clean up by dropping rows that aren't lyrics\n",
        "df_lyrics = df_lyrics[~df_lyrics['song URL'].str.contains('annotated')]"
      ]
    },
    {
      "cell_type": "code",
      "execution_count": null,
      "metadata": {
        "id": "KblsyvnF9BHy"
      },
      "outputs": [],
      "source": [
        "# remove the intro text before the lyrics \n",
        "df_lyrics['lyrics'] = [re.sub('^.*Lyrics', '', x) for x in df_lyrics['lyrics']]"
      ]
    },
    {
      "cell_type": "code",
      "execution_count": null,
      "metadata": {
        "id": "-26t2NwUv0CY"
      },
      "outputs": [],
      "source": [
        "#remove rows where the URL is not correct so the lyrics are not accurate\n",
        "\n",
        "df_lyrics['clean URL'] = df_lyrics['song URL'].str.replace('-', '').str.lower()\n",
        "df_lyrics['clean artist'] = df_lyrics['artist'].str.replace(' ', '').str.lower()\n",
        "\n",
        "df_lyrics['URL letters'] = df_lyrics['clean URL'].str.extract(r'https://genius\\.com/(\\w{2})')\n",
        "\n",
        "#print(df_lyrics.head(10))\n",
        "\n",
        "df_lyrics = df_lyrics.loc[df_lyrics['URL letters'] == df_lyrics['clean artist'].str[:2]]"
      ]
    },
    {
      "cell_type": "code",
      "execution_count": null,
      "metadata": {
        "id": "JJJGsOi-4gYy"
      },
      "outputs": [],
      "source": [
        "len(df_lyrics)"
      ]
    },
    {
      "cell_type": "code",
      "execution_count": null,
      "metadata": {
        "id": "6kXjFyE9apEY"
      },
      "outputs": [],
      "source": [
        "df_lyrics.head(10)"
      ]
    },
    {
      "cell_type": "code",
      "execution_count": null,
      "metadata": {
        "id": "L4chSLK3zAel"
      },
      "outputs": [],
      "source": [
        "#df_lyrics_clean = df_lyrics.apply(lambda x: x['Unnamed: 0'] , axis=1)"
      ]
    },
    {
      "cell_type": "code",
      "execution_count": null,
      "metadata": {
        "id": "9Rx6KfHECiu0"
      },
      "outputs": [],
      "source": [
        "df_lyrics['tokenized'] = df_lyrics.apply(lambda x: tokenize_content(x.lyrics), axis=1)"
      ]
    },
    {
      "cell_type": "code",
      "execution_count": null,
      "metadata": {
        "id": "2amPvUbLEIQg"
      },
      "outputs": [],
      "source": [
        "from nltk.sentiment import SentimentIntensityAnalyzer\n",
        "sia = SentimentIntensityAnalyzer()\n",
        "\n",
        "def retrieve_sentiment(content):\n",
        "  return sia.polarity_scores(content)['compound']\n"
      ]
    },
    {
      "cell_type": "code",
      "execution_count": null,
      "metadata": {
        "id": "TrWOeSiLEiDW"
      },
      "outputs": [],
      "source": [
        "df_lyrics['sentiment'] = df_lyrics.apply(lambda x: retrieve_sentiment(x.lyrics), axis=1)\n",
        "df_lyrics_positive = df_lyrics.sort_values(by = ['sentiment'], ascending = False)\n",
        "df_lyrics_positive.head(10)"
      ]
    },
    {
      "cell_type": "code",
      "execution_count": null,
      "metadata": {
        "id": "xEU9M2g5jswR"
      },
      "outputs": [],
      "source": [
        "df_lyrics_negative = df_lyrics.sort_values(by = ['sentiment'])\n",
        "df_lyrics_negative.head(10)"
      ]
    },
    {
      "cell_type": "code",
      "source": [
        "!python3 -m spacy download en_core_web_sm"
      ],
      "metadata": {
        "id": "JHjFSRoDgVOY"
      },
      "execution_count": null,
      "outputs": []
    },
    {
      "cell_type": "code",
      "execution_count": null,
      "metadata": {
        "id": "Dah5lt4YjswS"
      },
      "outputs": [],
      "source": [
        "\"\"\"def add_spacy_data(dataset, feature_column):\n",
        "    '''\n",
        "    Grabs the verb, adverb, noun, and stop word Parts of Speech (POS) \n",
        "    tokens and pushes them into a new dataset. returns an \n",
        "    enriched dataset.\n",
        "    \n",
        "    Parameters:\n",
        "    \n",
        "    dataset (dataframe): the dataframe to parse\n",
        "    feature_column (string): the column to parse in the dataset.\n",
        "    \n",
        "    Returns: \n",
        "    dataframe\n",
        "    '''\n",
        "    \n",
        "    verbs = []\n",
        "    nouns = []\n",
        "    adverbs = []\n",
        "    corpus = []\n",
        "    nlp = spacy.load('en_core_web_sm')\n",
        "    ##\n",
        "    for i in range (0, len(dataset)):\n",
        "        print(\"Extracting verbs and topics from record {} of {}\".format(i+1, len(dataset)), end = \"\\r\")\n",
        "        song = dataset.iloc[i][feature_column]\n",
        "        doc = nlp(song)\n",
        "        spacy_dataframe = pd.DataFrame()\n",
        "        for token in doc:\n",
        "            if token.lemma_ == \"-PRON-\":\n",
        "                    lemma = token.text\n",
        "            else:\n",
        "                lemma = token.lemma_\n",
        "            row = {\n",
        "                \"Word\": token.text,\n",
        "                \"Lemma\": lemma,\n",
        "                \"PoS\": token.pos_,\n",
        "                \"Stop Word\": token.is_stop\n",
        "            }\n",
        "            spacy_dataframe = spacy_dataframe.append(row, ignore_index = True)\n",
        "        verbs.append(\" \".join(spacy_dataframe[\"Lemma\"][spacy_dataframe[\"PoS\"] == \"VERB\"].values))\n",
        "        nouns.append(\" \".join(spacy_dataframe[\"Lemma\"][spacy_dataframe[\"PoS\"] == \"NOUN\"].values))\n",
        "        adverbs.append(\" \".join(spacy_dataframe[\"Lemma\"][spacy_dataframe[\"PoS\"] == \"ADV\"].values))\n",
        "        corpus_clean = \" \".join(spacy_dataframe[\"Lemma\"][spacy_dataframe[\"Stop Word\"] == False].values)\n",
        "        corpus_clean = re.sub(r'[^A-Za-z0-9]+', ' ', corpus_clean)   \n",
        "        corpus.append(corpus_clean)\n",
        "    dataset['verbs'] = verbs\n",
        "    dataset['nouns'] = nouns\n",
        "    dataset['adverbs'] = adverbs\n",
        "    dataset['corpus'] = corpus\n",
        "\n",
        "    return dataset\"\"\""
      ]
    },
    {
      "cell_type": "code",
      "execution_count": null,
      "metadata": {
        "id": "SJIBdKkGwT3F"
      },
      "outputs": [],
      "source": [
        "# alt spacy dataset\n",
        "# alt spacy dataset\n",
        "\n",
        "def extract_spacy_data(song):\n",
        "    doc = nlp(song)\n",
        "    spacy_dataframe = pd.DataFrame([{\n",
        "        \"Word\": token.text,\n",
        "        \"Lemma\": token.lemma_ if token.lemma_ != \"-PRON-\" else token.text,\n",
        "        \"PoS\": token.pos_,\n",
        "        \"Stop Word\": token.is_stop\n",
        "    } for token in doc])\n",
        "    verbs = \" \".join(spacy_dataframe[\"Lemma\"][spacy_dataframe[\"PoS\"] == \"VERB\"].values)\n",
        "    nouns = \" \".join(spacy_dataframe[\"Lemma\"][spacy_dataframe[\"PoS\"] == \"NOUN\"].values)\n",
        "    adverbs = \" \".join(spacy_dataframe[\"Lemma\"][spacy_dataframe[\"PoS\"] == \"ADV\"].values)\n",
        "    corpus_clean = \" \".join([token.lemma_ if token.lemma_ != \"-PRON-\" else token.text\n",
        "                              for token in doc if not token.is_stop])\n",
        "    corpus_clean = re.sub(r'[^A-Za-z0-9]+', ' ', corpus_clean)\n",
        "    return verbs, nouns, adverbs, corpus_clean"
      ]
    },
    {
      "cell_type": "code",
      "source": [
        "from datetime import datetime\n",
        "start_time = datetime.now()\n",
        "print(\"Started at {}\".format(start_time))\n",
        "nlp = spacy.load('en_core_web_sm')\n",
        "df_lyrics[['verbs', 'nouns', 'adverbs', 'corpus']] = df_lyrics['lyrics'].apply(lambda x: pd.Series(extract_spacy_data(x)))\n",
        "print(\"\\nCompleted at {}\".format(start_time))\n",
        "end_time = datetime.now()\n",
        "print(\"Total time to collect method 2: {}\".format(end_time - start_time))"
      ],
      "metadata": {
        "id": "DopkXgFHgadx"
      },
      "execution_count": null,
      "outputs": []
    },
    {
      "cell_type": "code",
      "execution_count": null,
      "metadata": {
        "id": "4UAyj1VziQ3r"
      },
      "outputs": [],
      "source": [
        "\"\"\"df_lyrics_words = add_spacy_data(df_lyrics, 'lyrics')\"\"\""
      ]
    },
    {
      "cell_type": "code",
      "execution_count": null,
      "metadata": {
        "id": "GGwz1W7Fu4xl"
      },
      "outputs": [],
      "source": [
        "df_lyrics.head(5)"
      ]
    },
    {
      "cell_type": "code",
      "execution_count": null,
      "metadata": {
        "id": "qJD9L0s-uM-j"
      },
      "outputs": [],
      "source": [
        "df_lyrics.drop(columns = ['Unnamed: 0'], inplace=True)"
      ]
    },
    {
      "cell_type": "code",
      "execution_count": null,
      "metadata": {
        "id": "jIa3VED9uTHu"
      },
      "outputs": [],
      "source": [
        "word_counts = []\n",
        "unique_word_counts = []\n",
        "for i in range (0, len(df_lyrics)):\n",
        "    word_counts.append(len(df_lyrics.iloc[i]['lyrics'].split()))\n",
        "    unique_word_counts.append(len(set(df_lyrics.iloc[i]['lyrics'].split())))\n",
        "df_lyrics['word counts'] = word_counts\n",
        "df_lyrics['unique word counts'] = unique_word_counts"
      ]
    },
    {
      "cell_type": "code",
      "execution_count": null,
      "metadata": {
        "id": "DfaHuJ1aR0In"
      },
      "outputs": [],
      "source": [
        "\"\"\"df_lyrics['common noun']= df_lyrics.apply(lambda x: x['nouns'].value_counts().idxmax(), axis=1)\n",
        "df_lyrics['common verb']= df_lyrics.apply(lambda x: x['verbs'].value_counts().idxmax(), axis=1)\"\"\""
      ]
    },
    {
      "cell_type": "code",
      "execution_count": null,
      "metadata": {
        "id": "-QY-m_yWCXJw"
      },
      "outputs": [],
      "source": [
        "\"\"\"df_lyrics_ready = df_lyrics_words[['title', 'artist', 'sentiment', 'word count', 'unique word count', 'common noun', 'common verb']]\"\"\""
      ]
    },
    {
      "cell_type": "markdown",
      "metadata": {
        "id": "1RZX6lNwo17Q"
      },
      "source": [
        "# Creating Final Dataset and EDA\n",
        "\n"
      ]
    },
    {
      "cell_type": "code",
      "execution_count": null,
      "metadata": {
        "id": "S5BVJcojpIXl"
      },
      "outputs": [],
      "source": [
        "\"\"\"df_features_lyrics =feature_matches.merge(df_lyrics_ready, left_on = ['title'], right_on = ['title'], how = 'inner')\"\"\""
      ]
    },
    {
      "cell_type": "code",
      "execution_count": null,
      "metadata": {
        "id": "eW-aMO5hphew"
      },
      "outputs": [],
      "source": [
        "\"\"\"df_features_lyrics_tiktok = df_features_lyrics.merge(df_tiktok_matches_final, left_on = ['title'], right_on = ['title'], how = 'inner')\"\"\""
      ]
    }
  ],
  "metadata": {
    "colab": {
      "provenance": [],
      "include_colab_link": true
    },
    "kernelspec": {
      "display_name": "Python 3",
      "name": "python3"
    },
    "language_info": {
      "name": "python"
    },
    "accelerator": "GPU",
    "gpuClass": "standard"
  },
  "nbformat": 4,
  "nbformat_minor": 0
}