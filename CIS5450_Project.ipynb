{
  "cells": [
    {
      "cell_type": "markdown",
      "metadata": {
        "id": "view-in-github",
        "colab_type": "text"
      },
      "source": [
        "<a href=\"https://colab.research.google.com/github/Joseph-Willem-Ricci/5450-final-project/blob/joe/CIS5450_Project.ipynb\" target=\"_parent\"><img src=\"https://colab.research.google.com/assets/colab-badge.svg\" alt=\"Open In Colab\"/></a>"
      ]
    },
    {
      "cell_type": "markdown",
      "metadata": {
        "id": "O5RzHfJIP-OW"
      },
      "source": [
        "# CIT 5450 Final Project\n",
        "Joanne Crean, Juan Goleniowski, Joseph Ricci"
      ]
    },
    {
      "cell_type": "markdown",
      "metadata": {
        "id": "CgvinkN7Qm8e"
      },
      "source": [
        "Before running, be sure to create a new Kaggle API token and save it as 'kaggle.json' in your default Google Drive location (/content/drive/MyDrive/)"
      ]
    },
    {
      "cell_type": "code",
      "execution_count": 1,
      "metadata": {
        "id": "lTHg3UfjQbIp",
        "colab": {
          "base_uri": "https://localhost:8080/"
        },
        "outputId": "f93c4b7b-0896-4845-962e-e9a446383bc3"
      },
      "outputs": [
        {
          "output_type": "stream",
          "name": "stdout",
          "text": [
            "Looking in indexes: https://pypi.org/simple, https://us-python.pkg.dev/colab-wheels/public/simple/\n",
            "Requirement already satisfied: pandasql in /usr/local/lib/python3.9/dist-packages (0.7.3)\n",
            "Requirement already satisfied: pandas in /usr/local/lib/python3.9/dist-packages (from pandasql) (1.5.3)\n",
            "Requirement already satisfied: sqlalchemy in /usr/local/lib/python3.9/dist-packages (from pandasql) (1.4.46)\n",
            "Requirement already satisfied: numpy in /usr/local/lib/python3.9/dist-packages (from pandasql) (1.22.4)\n",
            "Requirement already satisfied: pytz>=2020.1 in /usr/local/lib/python3.9/dist-packages (from pandas->pandasql) (2022.7.1)\n",
            "Requirement already satisfied: python-dateutil>=2.8.1 in /usr/local/lib/python3.9/dist-packages (from pandas->pandasql) (2.8.2)\n",
            "Requirement already satisfied: greenlet!=0.4.17 in /usr/local/lib/python3.9/dist-packages (from sqlalchemy->pandasql) (2.0.2)\n",
            "Requirement already satisfied: six>=1.5 in /usr/local/lib/python3.9/dist-packages (from python-dateutil>=2.8.1->pandas->pandasql) (1.16.0)\n",
            "Looking in indexes: https://pypi.org/simple, https://us-python.pkg.dev/colab-wheels/public/simple/\n",
            "Requirement already satisfied: sqlalchemy==1.4.46 in /usr/local/lib/python3.9/dist-packages (1.4.46)\n",
            "Requirement already satisfied: greenlet!=0.4.17 in /usr/local/lib/python3.9/dist-packages (from sqlalchemy==1.4.46) (2.0.2)\n"
          ]
        }
      ],
      "source": [
        "# Installs\n",
        "!pip install -q kaggle\n",
        "!pip install pandasql\n",
        "!pip install sqlalchemy==1.4.46"
      ]
    },
    {
      "cell_type": "code",
      "execution_count": 2,
      "metadata": {
        "id": "iwAn5PY1_KU6"
      },
      "outputs": [],
      "source": [
        "# Imports\n",
        "import pandas as pd\n",
        "import pandasql as ps\n",
        "from google.colab import drive\n",
        "import warnings\n",
        "warnings.simplefilter(action='ignore', category=FutureWarning)"
      ]
    },
    {
      "cell_type": "code",
      "execution_count": 3,
      "metadata": {
        "colab": {
          "base_uri": "https://localhost:8080/"
        },
        "id": "8q53w-KnA7wi",
        "outputId": "7edd7caa-e350-4305-e916-219afe0037d3"
      },
      "outputs": [
        {
          "output_type": "stream",
          "name": "stdout",
          "text": [
            "Drive already mounted at /content/drive; to attempt to forcibly remount, call drive.mount(\"/content/drive\", force_remount=True).\n",
            "mkdir: cannot create directory ‘/root/.kaggle’: File exists\n"
          ]
        }
      ],
      "source": [
        "# Setup\n",
        "drive.mount('/content/drive')\n",
        "!mkdir ~/.kaggle\n",
        "!cp /content/drive/MyDrive/kaggle.json ~/.kaggle/"
      ]
    },
    {
      "cell_type": "code",
      "execution_count": 4,
      "metadata": {
        "colab": {
          "base_uri": "https://localhost:8080/"
        },
        "id": "JxzLvzzIB-fi",
        "outputId": "2fa1b4f3-01b8-4f2b-c888-ba1ea309f54c"
      },
      "outputs": [
        {
          "output_type": "execute_result",
          "data": {
            "text/plain": [
              "['Downloading tiktok-popular-songs-2021.zip to /content',\n",
              " '',\n",
              " '  0% 0.00/11.0k [00:00<?, ?B/s]',\n",
              " '',\n",
              " '100% 11.0k/11.0k [00:00<00:00, 11.8MB/s]']"
            ]
          },
          "metadata": {},
          "execution_count": 4
        }
      ],
      "source": [
        "# Download Datasets\n",
        "# Spotify Top 200 and Viral 50 Charts for 2017 through 2021 Dataset\n",
        "!!kaggle datasets download -d dhruvildave/spotify-charts\n",
        "\n",
        "# Spotify Audio Features Datasets\n",
        "!!kaggle datasets download -d rodolfofigueroa/spotify-12m-songs\n",
        "!!kaggle datasets download -d muhmores/spotify-top-100-songs-of-20152019\n",
        "!!kaggle datasets download -d sashankpillai/spotify-top-200-charts-20202021\n",
        "!!kaggle datasets download -d maharshipandya/-spotify-tracks-dataset\n",
        "!!kaggle datasets download -d vatsalmavani/spotify-dataset\n",
        "!!kaggle datasets download -d nandhakumarss/spotify-song-tracks\n",
        "!!kaggle datasets download -d elemento/music-albums-popularity-prediction\n",
        "\n",
        "# TikTok Popular Songs Dataset\n",
        "!!kaggle datasets download -d sveta151/tiktok-popular-songs-2019\n",
        "!!kaggle datasets download -d sveta151/tiktok-popular-songs-2020\n",
        "!!kaggle datasets download -d sveta151/tiktok-popular-songs-2021"
      ]
    },
    {
      "cell_type": "code",
      "execution_count": 5,
      "metadata": {
        "colab": {
          "base_uri": "https://localhost:8080/"
        },
        "id": "2WPqLyOGCp8B",
        "outputId": "15c8e8bb-1380-4dc7-c936-1e572a29332b"
      },
      "outputs": [
        {
          "output_type": "stream",
          "name": "stdout",
          "text": [
            "Archive:  /content/spotify-charts.zip\n",
            "  inflating: charts.csv              \n",
            "Archive:  /content/spotify-12m-songs.zip\n",
            "  inflating: tracks_features.csv     \n",
            "Archive:  /content/spotify-top-100-songs-of-20152019.zip\n",
            "  inflating: Spotify 2010 - 2019 Top 100 Songs.xlsx  \n",
            "  inflating: Spotify 2010 - 2019 Top 100.csv  \n",
            "Archive:  /content/spotify-top-200-charts-20202021.zip\n",
            "  inflating: spotify_dataset.csv     \n",
            "Archive:  /content/-spotify-tracks-dataset.zip\n",
            "  inflating: dataset.csv             \n",
            "Archive:  /content/spotify-dataset.zip\n",
            "  inflating: data/data.csv           \n",
            "  inflating: data/data_by_artist.csv  \n",
            "  inflating: data/data_by_genres.csv  \n",
            "  inflating: data/data_by_year.csv   \n",
            "  inflating: data/data_w_genres.csv  \n",
            "Archive:  /content/spotify-song-tracks.zip\n",
            "  inflating: SpotifyFeatures.csv     \n",
            "Archive:  /content/music-albums-popularity-prediction.zip\n",
            "  inflating: sample_solution.csv     \n",
            "  inflating: test.csv                \n",
            "  inflating: train.csv               \n",
            "Archive:  /content/tiktok-popular-songs-2019.zip\n",
            "  inflating: TikTok_songs_2019.csv   \n",
            "  inflating: TikTok_songs_2019.xlsx  \n",
            "Archive:  /content/tiktok-popular-songs-2020.zip\n",
            "  inflating: TikTok_songs_2020.csv   \n",
            "Archive:  /content/tiktok-popular-songs-2021.zip\n",
            "  inflating: TikTok_songs_2021.csv   \n"
          ]
        }
      ],
      "source": [
        "# Unzip Datasets\n",
        "!unzip /content/spotify-charts.zip\n",
        "!unzip /content/spotify-12m-songs.zip\n",
        "!unzip /content/spotify-top-100-songs-of-20152019.zip\n",
        "!unzip /content/spotify-top-200-charts-20202021.zip\n",
        "!unzip /content/-spotify-tracks-dataset.zip\n",
        "!unzip /content/spotify-dataset.zip\n",
        "!unzip /content/spotify-song-tracks.zip\n",
        "!unzip /content/music-albums-popularity-prediction.zip\n",
        "!unzip /content/tiktok-popular-songs-2019\n",
        "!unzip /content/tiktok-popular-songs-2020\n",
        "!unzip /content/tiktok-popular-songs-2021"
      ]
    },
    {
      "cell_type": "code",
      "execution_count": 6,
      "metadata": {
        "id": "5AlyHOELYRnS",
        "outputId": "b2d6e957-9bf8-4a60-dec9-1180c346ecc1",
        "colab": {
          "base_uri": "https://localhost:8080/"
        }
      },
      "outputs": [
        {
          "output_type": "stream",
          "name": "stdout",
          "text": [
            "rm: cannot remove 'sample_data/*': No such file or directory\n",
            "rm: cannot remove 'sample_data': No such file or directory\n"
          ]
        }
      ],
      "source": [
        "# Clean up directory to save space\n",
        "!rm sample_data/*\n",
        "!rm -d sample_data\n",
        "!rm ./*.zip\n",
        "!rm sample_solution.csv\n",
        "!rm ./*.xlsx"
      ]
    },
    {
      "cell_type": "code",
      "execution_count": 7,
      "metadata": {
        "id": "dEbMv8CEQMJG"
      },
      "outputs": [],
      "source": [
        "# Read the csv files and save them to pandas dataframes\n",
        "df_charts = pd.read_csv('charts.csv')\n",
        "df_song_features_1 = pd.read_csv('tracks_features.csv')\n",
        "df_song_features_2 = pd.read_csv('Spotify 2010 - 2019 Top 100.csv')\n",
        "df_song_features_3 = pd.read_csv('spotify_dataset.csv')\n",
        "df_song_features_4 = pd.read_csv('dataset.csv')\n",
        "df_song_features_5 = pd.read_csv('data/data.csv')\n",
        "df_song_features_6 = pd.read_csv('SpotifyFeatures.csv')\n",
        "df_song_features_7 = pd.read_csv('train.csv')\n",
        "df_song_features_10 = pd.read_csv('test.csv')\n",
        "df_tiktok_19 = pd.read_csv('TikTok_songs_2019.csv')\n",
        "df_tiktok_20 = pd.read_csv('TikTok_songs_2020.csv')\n",
        "df_tiktok_21 = pd.read_csv('TikTok_songs_2021.csv')"
      ]
    },
    {
      "cell_type": "code",
      "execution_count": 8,
      "metadata": {
        "colab": {
          "base_uri": "https://localhost:8080/"
        },
        "id": "C1epbANjRnzN",
        "outputId": "f5e70170-249d-4c54-ea51-fcc2c0ea2ad5"
      },
      "outputs": [
        {
          "output_type": "stream",
          "name": "stdout",
          "text": [
            "Drive already mounted at /content/drive; to attempt to forcibly remount, call drive.mount(\"/content/drive\", force_remount=True).\n"
          ]
        }
      ],
      "source": [
        "from google.colab import drive\n",
        "drive.mount('/content/drive')"
      ]
    },
    {
      "cell_type": "code",
      "execution_count": 9,
      "metadata": {
        "id": "NsiSHzoWYAfn"
      },
      "outputs": [],
      "source": [
        "# Clean up remaining files\n",
        "!rm data/*\n",
        "!rm -d data\n",
        "!rm ./*.csv"
      ]
    },
    {
      "cell_type": "markdown",
      "metadata": {
        "id": "5Hmg7zVxaI-6"
      },
      "source": [
        "# Spotify Top 200 and Viral 50 Charts EDA"
      ]
    },
    {
      "cell_type": "code",
      "execution_count": 10,
      "metadata": {
        "id": "Kv90Vf_y_d_M"
      },
      "outputs": [],
      "source": [
        "# Create a separate column for Year\n",
        "df_charts['Year']=df_charts['date'].str.slice(stop=4)\n",
        "\n",
        "# Cast 'Year' as Int\n",
        "df_charts['Year'] = df_charts['Year'].astype(int)\n",
        "\n",
        "# Show datatypes \n",
        "df_charts.dtypes\n",
        "\n",
        "#remove ID, trend and streams columns\n",
        "df_charts.drop(['url', 'trend', 'streams'], axis=1, inplace=True)\n",
        "\n",
        "df_charts.dropna(inplace=True)"
      ]
    },
    {
      "cell_type": "code",
      "execution_count": 11,
      "metadata": {
        "id": "gJnMPf5uE4gp",
        "outputId": "790d07ed-7545-493b-b21b-4081dfdd1837",
        "colab": {
          "base_uri": "https://localhost:8080/",
          "height": 238
        }
      },
      "outputs": [
        {
          "output_type": "execute_result",
          "data": {
            "text/plain": [
              "        title     rank     date   artist   region    chart\n",
              "Year                                                      \n",
              "2017  4401145  4401145  4401145  4401145  4401145  4401145\n",
              "2018  4863016  4863016  4863016  4863016  4863016  4863016\n",
              "2019  5412658  5412658  5412658  5412658  5412658  5412658\n",
              "2020  5793130  5793130  5793130  5793130  5793130  5793130\n",
              "2021  5703536  5703536  5703536  5703536  5703536  5703536"
            ],
            "text/html": [
              "\n",
              "  <div id=\"df-777894ce-c062-4d8a-946d-2a659a2118b0\">\n",
              "    <div class=\"colab-df-container\">\n",
              "      <div>\n",
              "<style scoped>\n",
              "    .dataframe tbody tr th:only-of-type {\n",
              "        vertical-align: middle;\n",
              "    }\n",
              "\n",
              "    .dataframe tbody tr th {\n",
              "        vertical-align: top;\n",
              "    }\n",
              "\n",
              "    .dataframe thead th {\n",
              "        text-align: right;\n",
              "    }\n",
              "</style>\n",
              "<table border=\"1\" class=\"dataframe\">\n",
              "  <thead>\n",
              "    <tr style=\"text-align: right;\">\n",
              "      <th></th>\n",
              "      <th>title</th>\n",
              "      <th>rank</th>\n",
              "      <th>date</th>\n",
              "      <th>artist</th>\n",
              "      <th>region</th>\n",
              "      <th>chart</th>\n",
              "    </tr>\n",
              "    <tr>\n",
              "      <th>Year</th>\n",
              "      <th></th>\n",
              "      <th></th>\n",
              "      <th></th>\n",
              "      <th></th>\n",
              "      <th></th>\n",
              "      <th></th>\n",
              "    </tr>\n",
              "  </thead>\n",
              "  <tbody>\n",
              "    <tr>\n",
              "      <th>2017</th>\n",
              "      <td>4401145</td>\n",
              "      <td>4401145</td>\n",
              "      <td>4401145</td>\n",
              "      <td>4401145</td>\n",
              "      <td>4401145</td>\n",
              "      <td>4401145</td>\n",
              "    </tr>\n",
              "    <tr>\n",
              "      <th>2018</th>\n",
              "      <td>4863016</td>\n",
              "      <td>4863016</td>\n",
              "      <td>4863016</td>\n",
              "      <td>4863016</td>\n",
              "      <td>4863016</td>\n",
              "      <td>4863016</td>\n",
              "    </tr>\n",
              "    <tr>\n",
              "      <th>2019</th>\n",
              "      <td>5412658</td>\n",
              "      <td>5412658</td>\n",
              "      <td>5412658</td>\n",
              "      <td>5412658</td>\n",
              "      <td>5412658</td>\n",
              "      <td>5412658</td>\n",
              "    </tr>\n",
              "    <tr>\n",
              "      <th>2020</th>\n",
              "      <td>5793130</td>\n",
              "      <td>5793130</td>\n",
              "      <td>5793130</td>\n",
              "      <td>5793130</td>\n",
              "      <td>5793130</td>\n",
              "      <td>5793130</td>\n",
              "    </tr>\n",
              "    <tr>\n",
              "      <th>2021</th>\n",
              "      <td>5703536</td>\n",
              "      <td>5703536</td>\n",
              "      <td>5703536</td>\n",
              "      <td>5703536</td>\n",
              "      <td>5703536</td>\n",
              "      <td>5703536</td>\n",
              "    </tr>\n",
              "  </tbody>\n",
              "</table>\n",
              "</div>\n",
              "      <button class=\"colab-df-convert\" onclick=\"convertToInteractive('df-777894ce-c062-4d8a-946d-2a659a2118b0')\"\n",
              "              title=\"Convert this dataframe to an interactive table.\"\n",
              "              style=\"display:none;\">\n",
              "        \n",
              "  <svg xmlns=\"http://www.w3.org/2000/svg\" height=\"24px\"viewBox=\"0 0 24 24\"\n",
              "       width=\"24px\">\n",
              "    <path d=\"M0 0h24v24H0V0z\" fill=\"none\"/>\n",
              "    <path d=\"M18.56 5.44l.94 2.06.94-2.06 2.06-.94-2.06-.94-.94-2.06-.94 2.06-2.06.94zm-11 1L8.5 8.5l.94-2.06 2.06-.94-2.06-.94L8.5 2.5l-.94 2.06-2.06.94zm10 10l.94 2.06.94-2.06 2.06-.94-2.06-.94-.94-2.06-.94 2.06-2.06.94z\"/><path d=\"M17.41 7.96l-1.37-1.37c-.4-.4-.92-.59-1.43-.59-.52 0-1.04.2-1.43.59L10.3 9.45l-7.72 7.72c-.78.78-.78 2.05 0 2.83L4 21.41c.39.39.9.59 1.41.59.51 0 1.02-.2 1.41-.59l7.78-7.78 2.81-2.81c.8-.78.8-2.07 0-2.86zM5.41 20L4 18.59l7.72-7.72 1.47 1.35L5.41 20z\"/>\n",
              "  </svg>\n",
              "      </button>\n",
              "      \n",
              "  <style>\n",
              "    .colab-df-container {\n",
              "      display:flex;\n",
              "      flex-wrap:wrap;\n",
              "      gap: 12px;\n",
              "    }\n",
              "\n",
              "    .colab-df-convert {\n",
              "      background-color: #E8F0FE;\n",
              "      border: none;\n",
              "      border-radius: 50%;\n",
              "      cursor: pointer;\n",
              "      display: none;\n",
              "      fill: #1967D2;\n",
              "      height: 32px;\n",
              "      padding: 0 0 0 0;\n",
              "      width: 32px;\n",
              "    }\n",
              "\n",
              "    .colab-df-convert:hover {\n",
              "      background-color: #E2EBFA;\n",
              "      box-shadow: 0px 1px 2px rgba(60, 64, 67, 0.3), 0px 1px 3px 1px rgba(60, 64, 67, 0.15);\n",
              "      fill: #174EA6;\n",
              "    }\n",
              "\n",
              "    [theme=dark] .colab-df-convert {\n",
              "      background-color: #3B4455;\n",
              "      fill: #D2E3FC;\n",
              "    }\n",
              "\n",
              "    [theme=dark] .colab-df-convert:hover {\n",
              "      background-color: #434B5C;\n",
              "      box-shadow: 0px 1px 3px 1px rgba(0, 0, 0, 0.15);\n",
              "      filter: drop-shadow(0px 1px 2px rgba(0, 0, 0, 0.3));\n",
              "      fill: #FFFFFF;\n",
              "    }\n",
              "  </style>\n",
              "\n",
              "      <script>\n",
              "        const buttonEl =\n",
              "          document.querySelector('#df-777894ce-c062-4d8a-946d-2a659a2118b0 button.colab-df-convert');\n",
              "        buttonEl.style.display =\n",
              "          google.colab.kernel.accessAllowed ? 'block' : 'none';\n",
              "\n",
              "        async function convertToInteractive(key) {\n",
              "          const element = document.querySelector('#df-777894ce-c062-4d8a-946d-2a659a2118b0');\n",
              "          const dataTable =\n",
              "            await google.colab.kernel.invokeFunction('convertToInteractive',\n",
              "                                                     [key], {});\n",
              "          if (!dataTable) return;\n",
              "\n",
              "          const docLinkHtml = 'Like what you see? Visit the ' +\n",
              "            '<a target=\"_blank\" href=https://colab.research.google.com/notebooks/data_table.ipynb>data table notebook</a>'\n",
              "            + ' to learn more about interactive tables.';\n",
              "          element.innerHTML = '';\n",
              "          dataTable['output_type'] = 'display_data';\n",
              "          await google.colab.output.renderOutput(dataTable, element);\n",
              "          const docLink = document.createElement('div');\n",
              "          docLink.innerHTML = docLinkHtml;\n",
              "          element.appendChild(docLink);\n",
              "        }\n",
              "      </script>\n",
              "    </div>\n",
              "  </div>\n",
              "  "
            ]
          },
          "metadata": {},
          "execution_count": 11
        }
      ],
      "source": [
        "# Number of record per year\n",
        "df_charts.groupby(by='Year').count()"
      ]
    },
    {
      "cell_type": "code",
      "execution_count": 12,
      "metadata": {
        "id": "qPnsptwJI-qg"
      },
      "outputs": [],
      "source": [
        "# Remore records with year 2017 and 2018\n",
        "df_charts=df_charts[df_charts['Year'] > 2018]"
      ]
    },
    {
      "cell_type": "code",
      "execution_count": 13,
      "metadata": {
        "id": "Q9a2ZRHIGQ74"
      },
      "outputs": [],
      "source": [
        "# query = \"\"\"SELECT artist, count(date) as 'days as number 1'\n",
        "# FROM df_charts\n",
        "# WHERE rank == 1\n",
        "# GROUP BY artist\n",
        "# ORDER BY count(date) DESC\n",
        "# LIMIT 50\n",
        "# \"\"\"\n",
        "\n",
        "# sql_top_50_artists = ps.sqldf(query, locals())"
      ]
    },
    {
      "cell_type": "code",
      "execution_count": 14,
      "metadata": {
        "id": "stIirPTbGUkK"
      },
      "outputs": [],
      "source": [
        "# sql_top_50_artists"
      ]
    },
    {
      "cell_type": "code",
      "execution_count": 15,
      "metadata": {
        "id": "R-IYyMNZGZzl"
      },
      "outputs": [],
      "source": [
        "# query = \"\"\"SELECT title, count(date) as 'days as number 1'\n",
        "# FROM df_charts\n",
        "# WHERE rank == 1\n",
        "# GROUP BY title\n",
        "# ORDER BY count(date) DESC\n",
        "# LIMIT 50\n",
        "# \"\"\"\n",
        "\n",
        "# sql_top_50_songs = ps.sqldf(query, locals())"
      ]
    },
    {
      "cell_type": "code",
      "execution_count": 16,
      "metadata": {
        "id": "iWilb77mGall"
      },
      "outputs": [],
      "source": [
        "# sql_top_50_songs"
      ]
    },
    {
      "cell_type": "markdown",
      "metadata": {
        "id": "mfi4tbmeaYPc"
      },
      "source": [
        "# Spotify Audio Feature Dataset EDA\n",
        "\n",
        "Since the Spotify Top 200 and Viral 50 charts dataset does not come with audio features the songs, there is no guarantee that we can find datasets that include audio features for all of the songs in the charts. One relevant question to explore is therefore\n",
        "\n",
        "1. Can we find audio feature data for a suitably \"big\" fraction of the songs in the Charts dataset?\n",
        "\n",
        "Additionally, since we'll be combining multiple audio features datasets, there is no guarantee that those datasets share the same features, so\n",
        "\n",
        "2. What fields do the datasets share?"
      ]
    },
    {
      "cell_type": "code",
      "source": [
        "# First, since we want to find song features for as many of the songs in 'df_charts' as possible, let's start by\n",
        "# projecting df_charts by song title and artist name, which will uniquely identify each song, and then dropping duplicates\n",
        "df_charts_songs_artists = df_charts[['title', 'artist']].drop_duplicates()\n",
        "\n",
        "# Next, let's join the features datasets on song title and artist name and see what percentage of songs in charts_df\n",
        "# each song features dataset can provide features for\n",
        "\n",
        "# Clean extranneous characters from artist columns if necessary\n",
        "df_song_features_1['artists'] = df_song_features_1['artists'].str.replace('[', '').str.replace(']', '').str.replace(\"'\", '')\n",
        "df_song_features_5['artists'] = df_song_features_5['artists'].str.replace('[', '').str.replace(']', '').str.replace(\"'\", '')\n",
        "df_song_features_7['artists'] = df_song_features_7['artists'].str.replace(', ', '')\n",
        "df_song_features_10['artists'] = df_song_features_10['artists'].str.replace(', ', '')"
      ],
      "metadata": {
        "id": "zLjoplKkLYD2"
      },
      "execution_count": 17,
      "outputs": []
    },
    {
      "cell_type": "code",
      "execution_count": 18,
      "metadata": {
        "colab": {
          "base_uri": "https://localhost:8080/"
        },
        "id": "es9cOCyBb6IW",
        "outputId": "3786dbf2-6bc4-4183-a48c-41b68deb25d6"
      },
      "outputs": [
        {
          "output_type": "stream",
          "name": "stdout",
          "text": [
            "We are able to provide audio features for 16.48% of songs in df_charts, for a total of 18950 out of 115014 songs\n"
          ]
        }
      ],
      "source": [
        "# Rename song title \"title\" and \"artist\" columns in each dataframe and \n",
        "# create separate dataframes for features_7 and features_10, which each have three columns for each field for three different songs\n",
        "df_song_features_1 = df_song_features_1.rename(columns={'name': 'title', 'artists': 'artist'})\n",
        "# _song_features_2 already has fields 'title' and 'artist'\n",
        "df_song_features_3 = df_song_features_3.rename(columns={'Song Name': 'title', 'Artist': 'artist'})\n",
        "df_song_features_4 = df_song_features_4.rename(columns={'track_name': 'title', 'artists': 'artist'})\n",
        "df_song_features_5 = df_song_features_5.rename(columns={'name': 'title', 'artists': 'artist'})\n",
        "df_song_features_6 = df_song_features_6.rename(columns={'track_name': 'title', 'artist_name': 'artist'})\n",
        "df_song_features_8 = df_song_features_7.rename(columns={'t_name1': 'title', 'artists': 'artist'}).drop(columns=['t_name0', 't_name2', 't_dur0', 't_dur2', 't_dance0', 't_dance2', 't_energy0', 't_energy2', 't_key0', 't_key2', 't_mode0', 't_mode2', 't_speech0', 't_speech2', 't_acous0', 't_acous2', 't_ins0', 't_ins2', 't_live0', 't_live2', 't_val0', 't_val2', 't_tempo0', 't_tempo2', 't_sig0', 't_sig2'])\n",
        "df_song_features_9 = df_song_features_7.rename(columns={'t_name2': 'title', 'artists': 'artist'}).drop(columns=['t_name0', 't_name1', 't_dur0', 't_dur1', 't_dance0', 't_dance1', 't_energy0', 't_energy1', 't_key0', 't_key1', 't_mode0', 't_mode1', 't_speech0', 't_speech1', 't_acous0', 't_acous1', 't_ins0', 't_ins1', 't_live0', 't_live1', 't_val0', 't_val1', 't_tempo0', 't_tempo1', 't_sig0', 't_sig1'])\n",
        "df_song_features_7 = df_song_features_7.rename(columns={'t_name0': 'title', 'artists': 'artist'}).drop(columns=['t_name1', 't_name2', 't_dur1', 't_dur2', 't_dance1', 't_dance2', 't_energy1', 't_energy2', 't_key1', 't_key2', 't_mode1', 't_mode2', 't_speech1', 't_speech2', 't_acous1', 't_acous2', 't_ins1', 't_ins2', 't_live1', 't_live2', 't_val1', 't_val2', 't_tempo1', 't_tempo2', 't_sig1', 't_sig2'])\n",
        "df_song_features_11 = df_song_features_10.rename(columns={'t_name1': 'title', 'artists': 'artist'}).drop(columns=['t_name0', 't_name2', 't_dur0', 't_dur2', 't_dance0', 't_dance2', 't_energy0', 't_energy2', 't_key0', 't_key2', 't_mode0', 't_mode2', 't_speech0', 't_speech2', 't_acous0', 't_acous2', 't_ins0', 't_ins2', 't_live0', 't_live2', 't_val0', 't_val2', 't_tempo0', 't_tempo2', 't_sig0', 't_sig2'])\n",
        "df_song_features_12 = df_song_features_10.rename(columns={'t_name2': 'title', 'artists': 'artist'}).drop(columns=['t_name0', 't_name1', 't_dur0', 't_dur1', 't_dance0', 't_dance1', 't_energy0', 't_energy1', 't_key0', 't_key1', 't_mode0', 't_mode1', 't_speech0', 't_speech1', 't_acous0', 't_acous1', 't_ins0', 't_ins1', 't_live0', 't_live1', 't_val0', 't_val1', 't_tempo0', 't_tempo1', 't_sig0', 't_sig1'])\n",
        "df_song_features_10 = df_song_features_10.rename(columns={'t_name0': 'title', 'artists': 'artist'}).drop(columns=['t_name1', 't_name2', 't_dur1', 't_dur2', 't_dance1', 't_dance2', 't_energy1', 't_energy2', 't_key1', 't_key2', 't_mode1', 't_mode2', 't_speech1', 't_speech2', 't_acous1', 't_acous2', 't_ins1', 't_ins2', 't_live1', 't_live2', 't_val1', 't_val2', 't_tempo1', 't_tempo2', 't_sig1', 't_sig2'])\n",
        "\n",
        "# Project only the necessary columns from each feature dataset and also rename to maintain consistency\n",
        "features_1_projected = df_song_features_1[['title', 'artist']]\n",
        "features_2_projected = df_song_features_2[['title', 'artist']]\n",
        "features_3_projected = df_song_features_3[['title', 'artist']]\n",
        "features_4_projected = df_song_features_4[['title', 'artist']]\n",
        "features_5_projected = df_song_features_5[['title', 'artist']]\n",
        "features_6_projected = df_song_features_6[['title', 'artist']]\n",
        "features_7_projected = df_song_features_7[['title', 'artist']]\n",
        "features_8_projected = df_song_features_8[['title', 'artist']]\n",
        "features_9_projected = df_song_features_9[['title', 'artist']]\n",
        "features_10_projected = df_song_features_10[['title', 'artist']]\n",
        "features_11_projected = df_song_features_11[['title', 'artist']]\n",
        "features_12_projected = df_song_features_12[['title', 'artist']]\n",
        "all_songs_with_features = pd.concat([features_1_projected, features_2_projected, features_3_projected, features_4_projected, \n",
        "                                     features_5_projected, features_6_projected, features_7_projected, features_8_projected, \n",
        "                                     features_9_projected, features_10_projected, features_11_projected, features_12_projected], ignore_index=True).drop_duplicates()\n",
        "\n",
        "# Join on song title and artist name\n",
        "feature_matches = pd.merge(df_charts_songs_artists, all_songs_with_features, on=['title', 'artist'], how='inner')\n",
        "\n",
        "# Calculate the percentage of songs each features dataset was able to provide song features for\n",
        "match_percentage_combined = 100 * feature_matches.shape[0] / df_charts_songs_artists.shape[0]\n",
        "print(\"We are able to provide audio features for \" + str(round(match_percentage_combined,2)) + \"% of songs in df_charts,\"\\\n",
        "      \" for a total of \" + str(feature_matches.shape[0]) + \" out of \" + str(df_charts_songs_artists.shape[0]) + \" songs\")"
      ]
    },
    {
      "cell_type": "markdown",
      "metadata": {
        "id": "VWfoMYNn0xcx"
      },
      "source": [
        "Lets now see whether we can do any additional cleaning to boost our match percentage. Since there are many obscure songs in df_charts that have, say, reached chart position 200 in small countries like Latvia and Ecuador, let us limit our search to songs that charted highly in the United States, and see if any of those songs were unmatched in the features data"
      ]
    },
    {
      "cell_type": "code",
      "execution_count": 19,
      "metadata": {
        "id": "5AAL49Tp0xcx",
        "colab": {
          "base_uri": "https://localhost:8080/",
          "height": 241
        },
        "outputId": "1ee6ce53-12ab-4b5d-d236-6a7284c298d7"
      },
      "outputs": [
        {
          "output_type": "stream",
          "name": "stderr",
          "text": [
            "<ipython-input-19-b56ed4472038>:1: UserWarning: Boolean Series key will be reindexed to match DataFrame index.\n",
            "  non_matches = pd.merge(df_charts[df_charts['rank'] > 10][df_charts['region'] == 'United States'][['title', 'artist']],\n"
          ]
        },
        {
          "output_type": "execute_result",
          "data": {
            "text/plain": [
              "                                title                     artist     _merge\n",
              "23   Walk Em Down (feat. Roddy Ricch)    Roddy Ricch, NLE Choppa  left_only\n",
              "53                  Social Distancing                   Lil Baby  left_only\n",
              "58                             Coffee  Quinn XCII, Marc E. Bassy  left_only\n",
              "73       Eleven (feat. Summer Walker)                     Khalid  left_only\n",
              "121                          Low Down                   Lil Baby  left_only"
            ],
            "text/html": [
              "\n",
              "  <div id=\"df-fdd3dda9-dae8-42aa-b9fe-6cd7df229c42\">\n",
              "    <div class=\"colab-df-container\">\n",
              "      <div>\n",
              "<style scoped>\n",
              "    .dataframe tbody tr th:only-of-type {\n",
              "        vertical-align: middle;\n",
              "    }\n",
              "\n",
              "    .dataframe tbody tr th {\n",
              "        vertical-align: top;\n",
              "    }\n",
              "\n",
              "    .dataframe thead th {\n",
              "        text-align: right;\n",
              "    }\n",
              "</style>\n",
              "<table border=\"1\" class=\"dataframe\">\n",
              "  <thead>\n",
              "    <tr style=\"text-align: right;\">\n",
              "      <th></th>\n",
              "      <th>title</th>\n",
              "      <th>artist</th>\n",
              "      <th>_merge</th>\n",
              "    </tr>\n",
              "  </thead>\n",
              "  <tbody>\n",
              "    <tr>\n",
              "      <th>23</th>\n",
              "      <td>Walk Em Down (feat. Roddy Ricch)</td>\n",
              "      <td>Roddy Ricch, NLE Choppa</td>\n",
              "      <td>left_only</td>\n",
              "    </tr>\n",
              "    <tr>\n",
              "      <th>53</th>\n",
              "      <td>Social Distancing</td>\n",
              "      <td>Lil Baby</td>\n",
              "      <td>left_only</td>\n",
              "    </tr>\n",
              "    <tr>\n",
              "      <th>58</th>\n",
              "      <td>Coffee</td>\n",
              "      <td>Quinn XCII, Marc E. Bassy</td>\n",
              "      <td>left_only</td>\n",
              "    </tr>\n",
              "    <tr>\n",
              "      <th>73</th>\n",
              "      <td>Eleven (feat. Summer Walker)</td>\n",
              "      <td>Khalid</td>\n",
              "      <td>left_only</td>\n",
              "    </tr>\n",
              "    <tr>\n",
              "      <th>121</th>\n",
              "      <td>Low Down</td>\n",
              "      <td>Lil Baby</td>\n",
              "      <td>left_only</td>\n",
              "    </tr>\n",
              "  </tbody>\n",
              "</table>\n",
              "</div>\n",
              "      <button class=\"colab-df-convert\" onclick=\"convertToInteractive('df-fdd3dda9-dae8-42aa-b9fe-6cd7df229c42')\"\n",
              "              title=\"Convert this dataframe to an interactive table.\"\n",
              "              style=\"display:none;\">\n",
              "        \n",
              "  <svg xmlns=\"http://www.w3.org/2000/svg\" height=\"24px\"viewBox=\"0 0 24 24\"\n",
              "       width=\"24px\">\n",
              "    <path d=\"M0 0h24v24H0V0z\" fill=\"none\"/>\n",
              "    <path d=\"M18.56 5.44l.94 2.06.94-2.06 2.06-.94-2.06-.94-.94-2.06-.94 2.06-2.06.94zm-11 1L8.5 8.5l.94-2.06 2.06-.94-2.06-.94L8.5 2.5l-.94 2.06-2.06.94zm10 10l.94 2.06.94-2.06 2.06-.94-2.06-.94-.94-2.06-.94 2.06-2.06.94z\"/><path d=\"M17.41 7.96l-1.37-1.37c-.4-.4-.92-.59-1.43-.59-.52 0-1.04.2-1.43.59L10.3 9.45l-7.72 7.72c-.78.78-.78 2.05 0 2.83L4 21.41c.39.39.9.59 1.41.59.51 0 1.02-.2 1.41-.59l7.78-7.78 2.81-2.81c.8-.78.8-2.07 0-2.86zM5.41 20L4 18.59l7.72-7.72 1.47 1.35L5.41 20z\"/>\n",
              "  </svg>\n",
              "      </button>\n",
              "      \n",
              "  <style>\n",
              "    .colab-df-container {\n",
              "      display:flex;\n",
              "      flex-wrap:wrap;\n",
              "      gap: 12px;\n",
              "    }\n",
              "\n",
              "    .colab-df-convert {\n",
              "      background-color: #E8F0FE;\n",
              "      border: none;\n",
              "      border-radius: 50%;\n",
              "      cursor: pointer;\n",
              "      display: none;\n",
              "      fill: #1967D2;\n",
              "      height: 32px;\n",
              "      padding: 0 0 0 0;\n",
              "      width: 32px;\n",
              "    }\n",
              "\n",
              "    .colab-df-convert:hover {\n",
              "      background-color: #E2EBFA;\n",
              "      box-shadow: 0px 1px 2px rgba(60, 64, 67, 0.3), 0px 1px 3px 1px rgba(60, 64, 67, 0.15);\n",
              "      fill: #174EA6;\n",
              "    }\n",
              "\n",
              "    [theme=dark] .colab-df-convert {\n",
              "      background-color: #3B4455;\n",
              "      fill: #D2E3FC;\n",
              "    }\n",
              "\n",
              "    [theme=dark] .colab-df-convert:hover {\n",
              "      background-color: #434B5C;\n",
              "      box-shadow: 0px 1px 3px 1px rgba(0, 0, 0, 0.15);\n",
              "      filter: drop-shadow(0px 1px 2px rgba(0, 0, 0, 0.3));\n",
              "      fill: #FFFFFF;\n",
              "    }\n",
              "  </style>\n",
              "\n",
              "      <script>\n",
              "        const buttonEl =\n",
              "          document.querySelector('#df-fdd3dda9-dae8-42aa-b9fe-6cd7df229c42 button.colab-df-convert');\n",
              "        buttonEl.style.display =\n",
              "          google.colab.kernel.accessAllowed ? 'block' : 'none';\n",
              "\n",
              "        async function convertToInteractive(key) {\n",
              "          const element = document.querySelector('#df-fdd3dda9-dae8-42aa-b9fe-6cd7df229c42');\n",
              "          const dataTable =\n",
              "            await google.colab.kernel.invokeFunction('convertToInteractive',\n",
              "                                                     [key], {});\n",
              "          if (!dataTable) return;\n",
              "\n",
              "          const docLinkHtml = 'Like what you see? Visit the ' +\n",
              "            '<a target=\"_blank\" href=https://colab.research.google.com/notebooks/data_table.ipynb>data table notebook</a>'\n",
              "            + ' to learn more about interactive tables.';\n",
              "          element.innerHTML = '';\n",
              "          dataTable['output_type'] = 'display_data';\n",
              "          await google.colab.output.renderOutput(dataTable, element);\n",
              "          const docLink = document.createElement('div');\n",
              "          docLink.innerHTML = docLinkHtml;\n",
              "          element.appendChild(docLink);\n",
              "        }\n",
              "      </script>\n",
              "    </div>\n",
              "  </div>\n",
              "  "
            ]
          },
          "metadata": {},
          "execution_count": 19
        }
      ],
      "source": [
        "non_matches = pd.merge(df_charts[df_charts['rank'] > 10][df_charts['region'] == 'United States'][['title', 'artist']], \n",
        "                                  all_songs_with_features, on=['title', 'artist'], how='left', indicator=True).drop_duplicates()\n",
        "non_matches = non_matches[non_matches['_merge'] == 'left_only']\n",
        "non_matches.head()"
      ]
    },
    {
      "cell_type": "code",
      "execution_count": 20,
      "metadata": {
        "id": "AAkQD5ey0xcx",
        "colab": {
          "base_uri": "https://localhost:8080/"
        },
        "outputId": "3b5614cb-7f7c-4e50-bc39-1544fd3044c0"
      },
      "outputs": [
        {
          "output_type": "stream",
          "name": "stdout",
          "text": [
            "                                   title                   artist\n",
            "991025  Walk Em Down (feat. Roddy Ricch)  NLE Choppa, Roddy Ricch\n"
          ]
        }
      ],
      "source": [
        "# Does all_songs_with_features contain any of these songs but perhaps with a different format for title and artist?\n",
        "print(all_songs_with_features[all_songs_with_features['artist'] == 'NLE Choppa, Roddy Ricch'])"
      ]
    },
    {
      "cell_type": "markdown",
      "metadata": {
        "id": "ixpQ3cAq0xcx"
      },
      "source": [
        "This suggests that when there is a featured artist, the ordering of the artist names in the features datasets may be the opposite of the ordering in the charts dataset. Lets look at the other row with a featured artist."
      ]
    },
    {
      "cell_type": "code",
      "execution_count": 21,
      "metadata": {
        "id": "qdEeJDPN0xcx",
        "colab": {
          "base_uri": "https://localhost:8080/"
        },
        "outputId": "cec259f7-0292-4271-e288-a4f11a1efb31"
      },
      "outputs": [
        {
          "output_type": "stream",
          "name": "stdout",
          "text": [
            "                                title                 artist\n",
            "1111433  Eleven (feat. Summer Walker)  Khalid, Summer Walker\n"
          ]
        }
      ],
      "source": [
        "print(all_songs_with_features[all_songs_with_features['artist'] == \"Khalid, Summer Walker\"])"
      ]
    },
    {
      "cell_type": "markdown",
      "metadata": {
        "id": "mYxPCiZ00xcx"
      },
      "source": [
        "In this case, the featured artist is not included in the 'artist' column in the charts dataset, but is in the features datasets. In joins so far, we have been joining on 'artist' and 'title' to be sure to uniquely identify each song. But since these songs with featured artists have varying formats in the 'artist' column, but the same format in the 'title' column, and since they are sure to be uniquely identified just by song title, let us try to filter by songs that have \"(feat. \" in their title, and join the charts and features datasets on 'title'."
      ]
    },
    {
      "cell_type": "code",
      "execution_count": 22,
      "metadata": {
        "id": "kvySHSIt0xcy",
        "colab": {
          "base_uri": "https://localhost:8080/"
        },
        "outputId": "e555db95-cc1b-43d4-b20a-6603d7f46bea"
      },
      "outputs": [
        {
          "output_type": "stream",
          "name": "stdout",
          "text": [
            "We are able to provide audio features for 17.45% of songs in df_charts, for a total of 20075 out of 115014 songs\n"
          ]
        }
      ],
      "source": [
        "charts_featured = df_charts_songs_artists[df_charts_songs_artists['title'].str.contains(\"\\(feat\\. \")][['title', 'artist']]\n",
        "featured_feature_matches = pd.merge(charts_featured, all_songs_with_features, on=['title'], how='inner').drop_duplicates(subset='title')\n",
        "featured_feature_matches = featured_feature_matches.rename(columns={'artist_x': 'artist'})\n",
        "feature_matches = pd.concat([feature_matches, featured_feature_matches], ignore_index=True).drop_duplicates(subset = ['title', 'artist'])\n",
        "match_percentage_combined = 100 * feature_matches.shape[0] / df_charts_songs_artists.shape[0]\n",
        "print(\"We are able to provide audio features for \" + str(round(match_percentage_combined,2)) + \"% of songs in df_charts,\"\\\n",
        "      \" for a total of \" + str(feature_matches.shape[0]) + \" out of \" + str(df_charts_songs_artists.shape[0]) + \" songs\")"
      ]
    },
    {
      "cell_type": "code",
      "source": [
        "feature_matches.head()"
      ],
      "metadata": {
        "colab": {
          "base_uri": "https://localhost:8080/",
          "height": 206
        },
        "id": "9sBWd_2wY9md",
        "outputId": "952491f3-3ffb-431c-875c-5916aa9845b5"
      },
      "execution_count": 23,
      "outputs": [
        {
          "output_type": "execute_result",
          "data": {
            "text/plain": [
              "     title     artist artist_y\n",
              "0  Ride It     Regard      NaN\n",
              "1   +Linda      Dalex      NaN\n",
              "2     Woah   Lil Baby      NaN\n",
              "3     25/8  Bad Bunny      NaN\n",
              "4     Keii   Anuel AA      NaN"
            ],
            "text/html": [
              "\n",
              "  <div id=\"df-62b499a9-f756-47c9-ac94-9fd8cfe8245e\">\n",
              "    <div class=\"colab-df-container\">\n",
              "      <div>\n",
              "<style scoped>\n",
              "    .dataframe tbody tr th:only-of-type {\n",
              "        vertical-align: middle;\n",
              "    }\n",
              "\n",
              "    .dataframe tbody tr th {\n",
              "        vertical-align: top;\n",
              "    }\n",
              "\n",
              "    .dataframe thead th {\n",
              "        text-align: right;\n",
              "    }\n",
              "</style>\n",
              "<table border=\"1\" class=\"dataframe\">\n",
              "  <thead>\n",
              "    <tr style=\"text-align: right;\">\n",
              "      <th></th>\n",
              "      <th>title</th>\n",
              "      <th>artist</th>\n",
              "      <th>artist_y</th>\n",
              "    </tr>\n",
              "  </thead>\n",
              "  <tbody>\n",
              "    <tr>\n",
              "      <th>0</th>\n",
              "      <td>Ride It</td>\n",
              "      <td>Regard</td>\n",
              "      <td>NaN</td>\n",
              "    </tr>\n",
              "    <tr>\n",
              "      <th>1</th>\n",
              "      <td>+Linda</td>\n",
              "      <td>Dalex</td>\n",
              "      <td>NaN</td>\n",
              "    </tr>\n",
              "    <tr>\n",
              "      <th>2</th>\n",
              "      <td>Woah</td>\n",
              "      <td>Lil Baby</td>\n",
              "      <td>NaN</td>\n",
              "    </tr>\n",
              "    <tr>\n",
              "      <th>3</th>\n",
              "      <td>25/8</td>\n",
              "      <td>Bad Bunny</td>\n",
              "      <td>NaN</td>\n",
              "    </tr>\n",
              "    <tr>\n",
              "      <th>4</th>\n",
              "      <td>Keii</td>\n",
              "      <td>Anuel AA</td>\n",
              "      <td>NaN</td>\n",
              "    </tr>\n",
              "  </tbody>\n",
              "</table>\n",
              "</div>\n",
              "      <button class=\"colab-df-convert\" onclick=\"convertToInteractive('df-62b499a9-f756-47c9-ac94-9fd8cfe8245e')\"\n",
              "              title=\"Convert this dataframe to an interactive table.\"\n",
              "              style=\"display:none;\">\n",
              "        \n",
              "  <svg xmlns=\"http://www.w3.org/2000/svg\" height=\"24px\"viewBox=\"0 0 24 24\"\n",
              "       width=\"24px\">\n",
              "    <path d=\"M0 0h24v24H0V0z\" fill=\"none\"/>\n",
              "    <path d=\"M18.56 5.44l.94 2.06.94-2.06 2.06-.94-2.06-.94-.94-2.06-.94 2.06-2.06.94zm-11 1L8.5 8.5l.94-2.06 2.06-.94-2.06-.94L8.5 2.5l-.94 2.06-2.06.94zm10 10l.94 2.06.94-2.06 2.06-.94-2.06-.94-.94-2.06-.94 2.06-2.06.94z\"/><path d=\"M17.41 7.96l-1.37-1.37c-.4-.4-.92-.59-1.43-.59-.52 0-1.04.2-1.43.59L10.3 9.45l-7.72 7.72c-.78.78-.78 2.05 0 2.83L4 21.41c.39.39.9.59 1.41.59.51 0 1.02-.2 1.41-.59l7.78-7.78 2.81-2.81c.8-.78.8-2.07 0-2.86zM5.41 20L4 18.59l7.72-7.72 1.47 1.35L5.41 20z\"/>\n",
              "  </svg>\n",
              "      </button>\n",
              "      \n",
              "  <style>\n",
              "    .colab-df-container {\n",
              "      display:flex;\n",
              "      flex-wrap:wrap;\n",
              "      gap: 12px;\n",
              "    }\n",
              "\n",
              "    .colab-df-convert {\n",
              "      background-color: #E8F0FE;\n",
              "      border: none;\n",
              "      border-radius: 50%;\n",
              "      cursor: pointer;\n",
              "      display: none;\n",
              "      fill: #1967D2;\n",
              "      height: 32px;\n",
              "      padding: 0 0 0 0;\n",
              "      width: 32px;\n",
              "    }\n",
              "\n",
              "    .colab-df-convert:hover {\n",
              "      background-color: #E2EBFA;\n",
              "      box-shadow: 0px 1px 2px rgba(60, 64, 67, 0.3), 0px 1px 3px 1px rgba(60, 64, 67, 0.15);\n",
              "      fill: #174EA6;\n",
              "    }\n",
              "\n",
              "    [theme=dark] .colab-df-convert {\n",
              "      background-color: #3B4455;\n",
              "      fill: #D2E3FC;\n",
              "    }\n",
              "\n",
              "    [theme=dark] .colab-df-convert:hover {\n",
              "      background-color: #434B5C;\n",
              "      box-shadow: 0px 1px 3px 1px rgba(0, 0, 0, 0.15);\n",
              "      filter: drop-shadow(0px 1px 2px rgba(0, 0, 0, 0.3));\n",
              "      fill: #FFFFFF;\n",
              "    }\n",
              "  </style>\n",
              "\n",
              "      <script>\n",
              "        const buttonEl =\n",
              "          document.querySelector('#df-62b499a9-f756-47c9-ac94-9fd8cfe8245e button.colab-df-convert');\n",
              "        buttonEl.style.display =\n",
              "          google.colab.kernel.accessAllowed ? 'block' : 'none';\n",
              "\n",
              "        async function convertToInteractive(key) {\n",
              "          const element = document.querySelector('#df-62b499a9-f756-47c9-ac94-9fd8cfe8245e');\n",
              "          const dataTable =\n",
              "            await google.colab.kernel.invokeFunction('convertToInteractive',\n",
              "                                                     [key], {});\n",
              "          if (!dataTable) return;\n",
              "\n",
              "          const docLinkHtml = 'Like what you see? Visit the ' +\n",
              "            '<a target=\"_blank\" href=https://colab.research.google.com/notebooks/data_table.ipynb>data table notebook</a>'\n",
              "            + ' to learn more about interactive tables.';\n",
              "          element.innerHTML = '';\n",
              "          dataTable['output_type'] = 'display_data';\n",
              "          await google.colab.output.renderOutput(dataTable, element);\n",
              "          const docLink = document.createElement('div');\n",
              "          docLink.innerHTML = docLinkHtml;\n",
              "          element.appendChild(docLink);\n",
              "        }\n",
              "      </script>\n",
              "    </div>\n",
              "  </div>\n",
              "  "
            ]
          },
          "metadata": {},
          "execution_count": 23
        }
      ]
    },
    {
      "cell_type": "markdown",
      "source": [
        "There is one more case that might result in two rows for the same song in different dataframes not to match. We can see that the song title is always the same for the same song between datasets, but we get into trouble when multiple artists are on the same song. This need not be when there is a \"featured artist\". So let us match on song title and when `all_songs_with_features['artist']` contains one artist that is contained as a substring in the artists in df_charts"
      ],
      "metadata": {
        "id": "fPvnrg5reeu2"
      }
    },
    {
      "cell_type": "code",
      "source": [
        "# match df_charts and all_songs_with_features only on the title to start with. There will be many incorrect matches when two artists have songs by the same name\n",
        "feature_charts_substr_match = pd.merge(df_charts_songs_artists, all_songs_with_features, on=['title'], how='inner')\n",
        "feature_charts_substr_match['actual_match'] = feature_charts_substr_match[['artist_x', 'artist_y']].apply(lambda x: x['artist_y'].split(',')[0] in x['artist_x'] and x['artist_y'] != x['artist_x'], axis=1)\n",
        "feature_charts_substr_match = feature_charts_substr_match[feature_charts_substr_match['actual_match'] == True].rename(columns={'artist_x': 'artist'})\n",
        "feature_charts_substr_match.head()"
      ],
      "metadata": {
        "colab": {
          "base_uri": "https://localhost:8080/",
          "height": 206
        },
        "id": "dL-7GJBxCd6z",
        "outputId": "799aa5a2-86ee-41c7-ce28-a0de0a26b363"
      },
      "execution_count": 24,
      "outputs": [
        {
          "output_type": "execute_result",
          "data": {
            "text/plain": [
              "                          title                                    artist  \\\n",
              "93                         Woah                    Calinacho, Ian, Azteca   \n",
              "1563  Elegí (feat. Dímelo Flow)      Rauw Alejandro, Dalex, Lenny Tavárez   \n",
              "1699              Sigues Con El               Arcangel, Sech, Dímelo Flow   \n",
              "2434                  Fantasias  Menor Menor, El Alfa, Lary Over, Rvssian   \n",
              "2477      Roses - Imanbek Remix                                 SAINt JHN   \n",
              "\n",
              "                                               artist_y  actual_match  \n",
              "93                                            Calinacho          True  \n",
              "1563  Rauw Alejandro, Dalex, Lenny Tavárez, Dímelo Flow          True  \n",
              "1699                        Dímelo Flow, Arcangel, Sech          True  \n",
              "2434                                        Menor Menor          True  \n",
              "2477                                 SAINt JHN, Imanbek          True  "
            ],
            "text/html": [
              "\n",
              "  <div id=\"df-051dda6d-986c-428f-88a4-fadd1fefd391\">\n",
              "    <div class=\"colab-df-container\">\n",
              "      <div>\n",
              "<style scoped>\n",
              "    .dataframe tbody tr th:only-of-type {\n",
              "        vertical-align: middle;\n",
              "    }\n",
              "\n",
              "    .dataframe tbody tr th {\n",
              "        vertical-align: top;\n",
              "    }\n",
              "\n",
              "    .dataframe thead th {\n",
              "        text-align: right;\n",
              "    }\n",
              "</style>\n",
              "<table border=\"1\" class=\"dataframe\">\n",
              "  <thead>\n",
              "    <tr style=\"text-align: right;\">\n",
              "      <th></th>\n",
              "      <th>title</th>\n",
              "      <th>artist</th>\n",
              "      <th>artist_y</th>\n",
              "      <th>actual_match</th>\n",
              "    </tr>\n",
              "  </thead>\n",
              "  <tbody>\n",
              "    <tr>\n",
              "      <th>93</th>\n",
              "      <td>Woah</td>\n",
              "      <td>Calinacho, Ian, Azteca</td>\n",
              "      <td>Calinacho</td>\n",
              "      <td>True</td>\n",
              "    </tr>\n",
              "    <tr>\n",
              "      <th>1563</th>\n",
              "      <td>Elegí (feat. Dímelo Flow)</td>\n",
              "      <td>Rauw Alejandro, Dalex, Lenny Tavárez</td>\n",
              "      <td>Rauw Alejandro, Dalex, Lenny Tavárez, Dímelo Flow</td>\n",
              "      <td>True</td>\n",
              "    </tr>\n",
              "    <tr>\n",
              "      <th>1699</th>\n",
              "      <td>Sigues Con El</td>\n",
              "      <td>Arcangel, Sech, Dímelo Flow</td>\n",
              "      <td>Dímelo Flow, Arcangel, Sech</td>\n",
              "      <td>True</td>\n",
              "    </tr>\n",
              "    <tr>\n",
              "      <th>2434</th>\n",
              "      <td>Fantasias</td>\n",
              "      <td>Menor Menor, El Alfa, Lary Over, Rvssian</td>\n",
              "      <td>Menor Menor</td>\n",
              "      <td>True</td>\n",
              "    </tr>\n",
              "    <tr>\n",
              "      <th>2477</th>\n",
              "      <td>Roses - Imanbek Remix</td>\n",
              "      <td>SAINt JHN</td>\n",
              "      <td>SAINt JHN, Imanbek</td>\n",
              "      <td>True</td>\n",
              "    </tr>\n",
              "  </tbody>\n",
              "</table>\n",
              "</div>\n",
              "      <button class=\"colab-df-convert\" onclick=\"convertToInteractive('df-051dda6d-986c-428f-88a4-fadd1fefd391')\"\n",
              "              title=\"Convert this dataframe to an interactive table.\"\n",
              "              style=\"display:none;\">\n",
              "        \n",
              "  <svg xmlns=\"http://www.w3.org/2000/svg\" height=\"24px\"viewBox=\"0 0 24 24\"\n",
              "       width=\"24px\">\n",
              "    <path d=\"M0 0h24v24H0V0z\" fill=\"none\"/>\n",
              "    <path d=\"M18.56 5.44l.94 2.06.94-2.06 2.06-.94-2.06-.94-.94-2.06-.94 2.06-2.06.94zm-11 1L8.5 8.5l.94-2.06 2.06-.94-2.06-.94L8.5 2.5l-.94 2.06-2.06.94zm10 10l.94 2.06.94-2.06 2.06-.94-2.06-.94-.94-2.06-.94 2.06-2.06.94z\"/><path d=\"M17.41 7.96l-1.37-1.37c-.4-.4-.92-.59-1.43-.59-.52 0-1.04.2-1.43.59L10.3 9.45l-7.72 7.72c-.78.78-.78 2.05 0 2.83L4 21.41c.39.39.9.59 1.41.59.51 0 1.02-.2 1.41-.59l7.78-7.78 2.81-2.81c.8-.78.8-2.07 0-2.86zM5.41 20L4 18.59l7.72-7.72 1.47 1.35L5.41 20z\"/>\n",
              "  </svg>\n",
              "      </button>\n",
              "      \n",
              "  <style>\n",
              "    .colab-df-container {\n",
              "      display:flex;\n",
              "      flex-wrap:wrap;\n",
              "      gap: 12px;\n",
              "    }\n",
              "\n",
              "    .colab-df-convert {\n",
              "      background-color: #E8F0FE;\n",
              "      border: none;\n",
              "      border-radius: 50%;\n",
              "      cursor: pointer;\n",
              "      display: none;\n",
              "      fill: #1967D2;\n",
              "      height: 32px;\n",
              "      padding: 0 0 0 0;\n",
              "      width: 32px;\n",
              "    }\n",
              "\n",
              "    .colab-df-convert:hover {\n",
              "      background-color: #E2EBFA;\n",
              "      box-shadow: 0px 1px 2px rgba(60, 64, 67, 0.3), 0px 1px 3px 1px rgba(60, 64, 67, 0.15);\n",
              "      fill: #174EA6;\n",
              "    }\n",
              "\n",
              "    [theme=dark] .colab-df-convert {\n",
              "      background-color: #3B4455;\n",
              "      fill: #D2E3FC;\n",
              "    }\n",
              "\n",
              "    [theme=dark] .colab-df-convert:hover {\n",
              "      background-color: #434B5C;\n",
              "      box-shadow: 0px 1px 3px 1px rgba(0, 0, 0, 0.15);\n",
              "      filter: drop-shadow(0px 1px 2px rgba(0, 0, 0, 0.3));\n",
              "      fill: #FFFFFF;\n",
              "    }\n",
              "  </style>\n",
              "\n",
              "      <script>\n",
              "        const buttonEl =\n",
              "          document.querySelector('#df-051dda6d-986c-428f-88a4-fadd1fefd391 button.colab-df-convert');\n",
              "        buttonEl.style.display =\n",
              "          google.colab.kernel.accessAllowed ? 'block' : 'none';\n",
              "\n",
              "        async function convertToInteractive(key) {\n",
              "          const element = document.querySelector('#df-051dda6d-986c-428f-88a4-fadd1fefd391');\n",
              "          const dataTable =\n",
              "            await google.colab.kernel.invokeFunction('convertToInteractive',\n",
              "                                                     [key], {});\n",
              "          if (!dataTable) return;\n",
              "\n",
              "          const docLinkHtml = 'Like what you see? Visit the ' +\n",
              "            '<a target=\"_blank\" href=https://colab.research.google.com/notebooks/data_table.ipynb>data table notebook</a>'\n",
              "            + ' to learn more about interactive tables.';\n",
              "          element.innerHTML = '';\n",
              "          dataTable['output_type'] = 'display_data';\n",
              "          await google.colab.output.renderOutput(dataTable, element);\n",
              "          const docLink = document.createElement('div');\n",
              "          docLink.innerHTML = docLinkHtml;\n",
              "          element.appendChild(docLink);\n",
              "        }\n",
              "      </script>\n",
              "    </div>\n",
              "  </div>\n",
              "  "
            ]
          },
          "metadata": {},
          "execution_count": 24
        }
      ]
    },
    {
      "cell_type": "markdown",
      "source": [
        "We can see here many songs that aren't necessarily \"featured artist\" songs, that have different formats in the artist column."
      ],
      "metadata": {
        "id": "8D2xWBXqIDZI"
      }
    },
    {
      "cell_type": "code",
      "source": [
        "feature_charts_substr_match = feature_charts_substr_match.drop_duplicates(subset=['title', 'artist'])\n",
        "feature_matches = pd.concat([feature_matches, feature_charts_substr_match], ignore_index=True).drop_duplicates()\n",
        "feature_matches.drop(columns=['actual_match'], inplace=True)\n",
        "match_percentage_combined = 100 * feature_matches.shape[0] / df_charts_songs_artists.shape[0]\n",
        "print(\"We are able to provide audio features for \" + str(round(match_percentage_combined,2)) + \"% of songs in df_charts,\"\\\n",
        "      \" for a total of \" + str(feature_matches.shape[0]) + \" out of \" + str(df_charts_songs_artists.shape[0]) + \" songs\")"
      ],
      "metadata": {
        "colab": {
          "base_uri": "https://localhost:8080/"
        },
        "id": "zNLb9q4XITUR",
        "outputId": "e0576828-6827-403f-b4ae-08dd0cb0f2bb"
      },
      "execution_count": 25,
      "outputs": [
        {
          "output_type": "stream",
          "name": "stdout",
          "text": [
            "We are able to provide audio features for 20.7% of songs in df_charts, for a total of 23804 out of 115014 songs\n"
          ]
        }
      ]
    },
    {
      "cell_type": "code",
      "source": [
        "feature_matches.head()"
      ],
      "metadata": {
        "colab": {
          "base_uri": "https://localhost:8080/",
          "height": 206
        },
        "id": "fQvm2JBidEkk",
        "outputId": "5b4bda4f-f620-42af-b752-49fcd473e32c"
      },
      "execution_count": 26,
      "outputs": [
        {
          "output_type": "execute_result",
          "data": {
            "text/plain": [
              "     title     artist artist_y\n",
              "0  Ride It     Regard      NaN\n",
              "1   +Linda      Dalex      NaN\n",
              "2     Woah   Lil Baby      NaN\n",
              "3     25/8  Bad Bunny      NaN\n",
              "4     Keii   Anuel AA      NaN"
            ],
            "text/html": [
              "\n",
              "  <div id=\"df-44c4eb40-dc6e-40ca-9ba0-f2054c209ff9\">\n",
              "    <div class=\"colab-df-container\">\n",
              "      <div>\n",
              "<style scoped>\n",
              "    .dataframe tbody tr th:only-of-type {\n",
              "        vertical-align: middle;\n",
              "    }\n",
              "\n",
              "    .dataframe tbody tr th {\n",
              "        vertical-align: top;\n",
              "    }\n",
              "\n",
              "    .dataframe thead th {\n",
              "        text-align: right;\n",
              "    }\n",
              "</style>\n",
              "<table border=\"1\" class=\"dataframe\">\n",
              "  <thead>\n",
              "    <tr style=\"text-align: right;\">\n",
              "      <th></th>\n",
              "      <th>title</th>\n",
              "      <th>artist</th>\n",
              "      <th>artist_y</th>\n",
              "    </tr>\n",
              "  </thead>\n",
              "  <tbody>\n",
              "    <tr>\n",
              "      <th>0</th>\n",
              "      <td>Ride It</td>\n",
              "      <td>Regard</td>\n",
              "      <td>NaN</td>\n",
              "    </tr>\n",
              "    <tr>\n",
              "      <th>1</th>\n",
              "      <td>+Linda</td>\n",
              "      <td>Dalex</td>\n",
              "      <td>NaN</td>\n",
              "    </tr>\n",
              "    <tr>\n",
              "      <th>2</th>\n",
              "      <td>Woah</td>\n",
              "      <td>Lil Baby</td>\n",
              "      <td>NaN</td>\n",
              "    </tr>\n",
              "    <tr>\n",
              "      <th>3</th>\n",
              "      <td>25/8</td>\n",
              "      <td>Bad Bunny</td>\n",
              "      <td>NaN</td>\n",
              "    </tr>\n",
              "    <tr>\n",
              "      <th>4</th>\n",
              "      <td>Keii</td>\n",
              "      <td>Anuel AA</td>\n",
              "      <td>NaN</td>\n",
              "    </tr>\n",
              "  </tbody>\n",
              "</table>\n",
              "</div>\n",
              "      <button class=\"colab-df-convert\" onclick=\"convertToInteractive('df-44c4eb40-dc6e-40ca-9ba0-f2054c209ff9')\"\n",
              "              title=\"Convert this dataframe to an interactive table.\"\n",
              "              style=\"display:none;\">\n",
              "        \n",
              "  <svg xmlns=\"http://www.w3.org/2000/svg\" height=\"24px\"viewBox=\"0 0 24 24\"\n",
              "       width=\"24px\">\n",
              "    <path d=\"M0 0h24v24H0V0z\" fill=\"none\"/>\n",
              "    <path d=\"M18.56 5.44l.94 2.06.94-2.06 2.06-.94-2.06-.94-.94-2.06-.94 2.06-2.06.94zm-11 1L8.5 8.5l.94-2.06 2.06-.94-2.06-.94L8.5 2.5l-.94 2.06-2.06.94zm10 10l.94 2.06.94-2.06 2.06-.94-2.06-.94-.94-2.06-.94 2.06-2.06.94z\"/><path d=\"M17.41 7.96l-1.37-1.37c-.4-.4-.92-.59-1.43-.59-.52 0-1.04.2-1.43.59L10.3 9.45l-7.72 7.72c-.78.78-.78 2.05 0 2.83L4 21.41c.39.39.9.59 1.41.59.51 0 1.02-.2 1.41-.59l7.78-7.78 2.81-2.81c.8-.78.8-2.07 0-2.86zM5.41 20L4 18.59l7.72-7.72 1.47 1.35L5.41 20z\"/>\n",
              "  </svg>\n",
              "      </button>\n",
              "      \n",
              "  <style>\n",
              "    .colab-df-container {\n",
              "      display:flex;\n",
              "      flex-wrap:wrap;\n",
              "      gap: 12px;\n",
              "    }\n",
              "\n",
              "    .colab-df-convert {\n",
              "      background-color: #E8F0FE;\n",
              "      border: none;\n",
              "      border-radius: 50%;\n",
              "      cursor: pointer;\n",
              "      display: none;\n",
              "      fill: #1967D2;\n",
              "      height: 32px;\n",
              "      padding: 0 0 0 0;\n",
              "      width: 32px;\n",
              "    }\n",
              "\n",
              "    .colab-df-convert:hover {\n",
              "      background-color: #E2EBFA;\n",
              "      box-shadow: 0px 1px 2px rgba(60, 64, 67, 0.3), 0px 1px 3px 1px rgba(60, 64, 67, 0.15);\n",
              "      fill: #174EA6;\n",
              "    }\n",
              "\n",
              "    [theme=dark] .colab-df-convert {\n",
              "      background-color: #3B4455;\n",
              "      fill: #D2E3FC;\n",
              "    }\n",
              "\n",
              "    [theme=dark] .colab-df-convert:hover {\n",
              "      background-color: #434B5C;\n",
              "      box-shadow: 0px 1px 3px 1px rgba(0, 0, 0, 0.15);\n",
              "      filter: drop-shadow(0px 1px 2px rgba(0, 0, 0, 0.3));\n",
              "      fill: #FFFFFF;\n",
              "    }\n",
              "  </style>\n",
              "\n",
              "      <script>\n",
              "        const buttonEl =\n",
              "          document.querySelector('#df-44c4eb40-dc6e-40ca-9ba0-f2054c209ff9 button.colab-df-convert');\n",
              "        buttonEl.style.display =\n",
              "          google.colab.kernel.accessAllowed ? 'block' : 'none';\n",
              "\n",
              "        async function convertToInteractive(key) {\n",
              "          const element = document.querySelector('#df-44c4eb40-dc6e-40ca-9ba0-f2054c209ff9');\n",
              "          const dataTable =\n",
              "            await google.colab.kernel.invokeFunction('convertToInteractive',\n",
              "                                                     [key], {});\n",
              "          if (!dataTable) return;\n",
              "\n",
              "          const docLinkHtml = 'Like what you see? Visit the ' +\n",
              "            '<a target=\"_blank\" href=https://colab.research.google.com/notebooks/data_table.ipynb>data table notebook</a>'\n",
              "            + ' to learn more about interactive tables.';\n",
              "          element.innerHTML = '';\n",
              "          dataTable['output_type'] = 'display_data';\n",
              "          await google.colab.output.renderOutput(dataTable, element);\n",
              "          const docLink = document.createElement('div');\n",
              "          docLink.innerHTML = docLinkHtml;\n",
              "          element.appendChild(docLink);\n",
              "        }\n",
              "      </script>\n",
              "    </div>\n",
              "  </div>\n",
              "  "
            ]
          },
          "metadata": {},
          "execution_count": 26
        }
      ]
    },
    {
      "cell_type": "markdown",
      "metadata": {
        "id": "j-MiLcop0xcy"
      },
      "source": [
        "Next, lets see what columns each of the features datasets share, and create one unified features dataset."
      ]
    },
    {
      "cell_type": "code",
      "source": [
        "print([col for col in df_song_features_1.columns])\n",
        "print([col for col in df_song_features_2.columns])\n",
        "print([col for col in df_song_features_3.columns])\n",
        "print([col for col in df_song_features_4.columns])\n",
        "print([col for col in df_song_features_5.columns])\n",
        "print([col for col in df_song_features_6.columns])\n",
        "print([col for col in df_song_features_7.columns])\n",
        "print([col for col in df_song_features_8.columns])\n",
        "print([col for col in df_song_features_9.columns])\n",
        "print([col for col in df_song_features_10.columns])\n",
        "print([col for col in df_song_features_11.columns])\n",
        "print([col for col in df_song_features_12.columns])"
      ],
      "metadata": {
        "colab": {
          "base_uri": "https://localhost:8080/"
        },
        "id": "lMiBMVWZD4xt",
        "outputId": "681b338c-3963-490d-a9a7-9a2edd1b19fa"
      },
      "execution_count": 27,
      "outputs": [
        {
          "output_type": "stream",
          "name": "stdout",
          "text": [
            "['id', 'title', 'album', 'album_id', 'artist', 'artist_ids', 'track_number', 'disc_number', 'explicit', 'danceability', 'energy', 'key', 'loudness', 'mode', 'speechiness', 'acousticness', 'instrumentalness', 'liveness', 'valence', 'tempo', 'duration_ms', 'time_signature', 'year', 'release_date']\n",
            "['title', 'artist', 'top genre', 'year released', 'added', 'bpm', 'nrgy', 'dnce', 'dB', 'live', 'val', 'dur', 'acous', 'spch', 'pop', 'top year', 'artist type']\n",
            "['Index', 'Highest Charting Position', 'Number of Times Charted', 'Week of Highest Charting', 'title', 'Streams', 'artist', 'Artist Followers', 'Song ID', 'Genre', 'Release Date', 'Weeks Charted', 'Popularity', 'Danceability', 'Energy', 'Loudness', 'Speechiness', 'Acousticness', 'Liveness', 'Tempo', 'Duration (ms)', 'Valence', 'Chord']\n",
            "['Unnamed: 0', 'track_id', 'artist', 'album_name', 'title', 'popularity', 'duration_ms', 'explicit', 'danceability', 'energy', 'key', 'loudness', 'mode', 'speechiness', 'acousticness', 'instrumentalness', 'liveness', 'valence', 'tempo', 'time_signature', 'track_genre']\n",
            "['valence', 'year', 'acousticness', 'artist', 'danceability', 'duration_ms', 'energy', 'explicit', 'id', 'instrumentalness', 'key', 'liveness', 'loudness', 'mode', 'title', 'popularity', 'release_date', 'speechiness', 'tempo']\n",
            "['genre', 'artist', 'title', 'track_id', 'popularity', 'acousticness', 'danceability', 'duration_ms', 'energy', 'instrumentalness', 'key', 'liveness', 'loudness', 'mode', 'speechiness', 'tempo', 'time_signature', 'valence']\n",
            "['id', 'name', 'release_date', 'artist', 'total_tracks', 'title', 't_dur0', 't_dance0', 't_energy0', 't_key0', 't_mode0', 't_speech0', 't_acous0', 't_ins0', 't_live0', 't_val0', 't_tempo0', 't_sig0', 'popularity']\n",
            "['id', 'name', 'release_date', 'artist', 'total_tracks', 'title', 't_dur1', 't_dance1', 't_energy1', 't_key1', 't_mode1', 't_speech1', 't_acous1', 't_ins1', 't_live1', 't_val1', 't_tempo1', 't_sig1', 'popularity']\n",
            "['id', 'name', 'release_date', 'artist', 'total_tracks', 'title', 't_dur2', 't_dance2', 't_energy2', 't_key2', 't_mode2', 't_speech2', 't_acous2', 't_ins2', 't_live2', 't_val2', 't_tempo2', 't_sig2', 'popularity']\n",
            "['id', 'name', 'release_date', 'artist', 'total_tracks', 'title', 't_dur0', 't_dance0', 't_energy0', 't_key0', 't_mode0', 't_speech0', 't_acous0', 't_ins0', 't_live0', 't_val0', 't_tempo0', 't_sig0']\n",
            "['id', 'name', 'release_date', 'artist', 'total_tracks', 'title', 't_dur1', 't_dance1', 't_energy1', 't_key1', 't_mode1', 't_speech1', 't_acous1', 't_ins1', 't_live1', 't_val1', 't_tempo1', 't_sig1']\n",
            "['id', 'name', 'release_date', 'artist', 'total_tracks', 'title', 't_dur2', 't_dance2', 't_energy2', 't_key2', 't_mode2', 't_speech2', 't_acous2', 't_ins2', 't_live2', 't_val2', 't_tempo2', 't_sig2']\n"
          ]
        }
      ]
    },
    {
      "cell_type": "markdown",
      "source": [
        "Common columns:\n",
        "\n",
        "title, artist, tempo, energy, danceability, liveness, valence, duration, acousticness, speechiness"
      ],
      "metadata": {
        "id": "e3RIRHuiRq0E"
      }
    },
    {
      "cell_type": "code",
      "source": [
        "features_1_drop_cols = ['loudness', 'album', 'id', 'album_id', 'artist_ids', 'track_number', 'disc_number', 'explicit', 'key', 'mode', 'instrumentalness', 'time_signature', 'year', 'release_date']\n",
        "features_2_drop_cols = ['dB', 'year released', 'added', 'pop', 'top year', 'artist type', 'top genre']\n",
        "features_3_drop_cols = ['Chord', 'Loudness', 'Index', 'Highest Charting Position', 'Number of Times Charted', 'Week of Highest Charting', 'Streams', 'Artist Followers', 'Song ID', 'Genre', 'Release Date', 'Weeks Charted', 'Popularity']\n",
        "features_4_drop_cols = ['loudness', 'Unnamed: 0', 'track_id', 'album_name', 'popularity', 'explicit', 'key', 'mode', 'instrumentalness', 'time_signature', 'track_genre']\n",
        "features_5_drop_cols = ['loudness', 'year', 'explicit', 'id', 'instrumentalness', 'key', 'mode', 'popularity', 'release_date']\n",
        "features_6_drop_cols = ['loudness', 'genre', 'track_id', 'popularity', 'instrumentalness', 'key', 'mode', 'time_signature']\n",
        "features_7_drop_cols = ['id', 'name', 'release_date', 'total_tracks', 't_key0', 't_mode0', 't_ins0', 't_sig0', 'popularity']\n",
        "features_8_drop_cols = ['id', 'name', 'release_date', 'total_tracks', 't_key1', 't_mode1', 't_ins1', 't_sig1', 'popularity']\n",
        "features_9_drop_cols = ['id', 'name', 'release_date', 'total_tracks', 't_key2', 't_mode2', 't_ins2', 't_sig2', 'popularity']\n",
        "features_10_drop_cols = ['id', 'name', 'release_date', 'total_tracks', 't_key0', 't_mode0', 't_ins0', 't_sig0']\n",
        "features_11_drop_cols = ['id', 'name', 'release_date', 'total_tracks', 't_key1', 't_mode1', 't_ins1', 't_sig1']\n",
        "features_12_drop_cols = ['id', 'name', 'release_date', 'total_tracks', 't_key2', 't_mode2', 't_ins2', 't_sig2']\n",
        "\n",
        "features_2_rename_map = {'bpm': 'tempo', 'nrgy': 'energy', 'dnce': 'danceability', 'live': 'liveness', 'val': 'valence', 'dur': 'duration_ms', 'acous': 'acousticness', 'spch': 'speechiness'}\n",
        "features_3_rename_map = {'Danceability': 'danceability', 'Energy': 'energy', 'Speechiness': 'speechiness', 'Acousticness': 'acousticness', 'Liveness': 'liveness', 'Tempo': 'tempo', 'Duration (ms)': 'duration_ms', 'Valence': 'valence'}\n",
        "features_7_rename_map = {'t_dance0': 'danceability', 't_energy0': 'energy', 't_speech0': 'speechiness', 't_acous0': 'acousticness', 't_live0': 'liveness', 't_tempo0': 'tempo', 't_dur0': 'duration_ms', 't_val0': 'valence'}\n",
        "features_8_rename_map = {'t_dance1': 'danceability', 't_energy1': 'energy', 't_speech1': 'speechiness', 't_acous1': 'acousticness', 't_live1': 'liveness', 't_tempo1': 'tempo', 't_dur1': 'duration_ms', 't_val1': 'valence'}\n",
        "features_9_rename_map = {'t_dance2': 'danceability', 't_energy2': 'energy', 't_speech2': 'speechiness', 't_acous2': 'acousticness', 't_live2': 'liveness', 't_tempo2': 'tempo', 't_dur2': 'duration_ms', 't_val2': 'valence'}\n",
        "features_10_rename_map = {'t_dance0': 'danceability', 't_energy0': 'energy', 't_speech0': 'speechiness', 't_acous0': 'acousticness', 't_live0': 'liveness', 't_tempo0': 'tempo', 't_dur0': 'duration_ms', 't_val0': 'valence'}\n",
        "features_11_rename_map = {'t_dance1': 'danceability', 't_energy1': 'energy', 't_speech1': 'speechiness', 't_acous1': 'acousticness', 't_live1': 'liveness', 't_tempo1': 'tempo', 't_dur1': 'duration_ms', 't_val1': 'valence'}\n",
        "features_12_rename_map = {'t_dance2': 'danceability', 't_energy2': 'energy', 't_speech2': 'speechiness', 't_acous2': 'acousticness', 't_live2': 'liveness', 't_tempo2': 'tempo', 't_dur2': 'duration_ms', 't_val2': 'valence'}\n",
        "\n",
        "df_song_features_1 = df_song_features_1.drop(columns=features_1_drop_cols)\n",
        "df_song_features_2 = df_song_features_2.drop(columns=features_2_drop_cols).rename(columns=features_2_rename_map)\n",
        "df_song_features_3 = df_song_features_3.drop(columns=features_3_drop_cols).rename(columns=features_3_rename_map)\n",
        "df_song_features_4 = df_song_features_4.drop(columns=features_4_drop_cols)\n",
        "df_song_features_5 = df_song_features_5.drop(columns=features_5_drop_cols)\n",
        "df_song_features_6 = df_song_features_6.drop(columns=features_6_drop_cols)\n",
        "df_song_features_7 = df_song_features_7.drop(columns=features_7_drop_cols).rename(columns=features_7_rename_map)\n",
        "df_song_features_8 = df_song_features_8.drop(columns=features_8_drop_cols).rename(columns=features_8_rename_map)    \n",
        "df_song_features_9 = df_song_features_9.drop(columns=features_9_drop_cols).rename(columns=features_9_rename_map)\n",
        "df_song_features_10 = df_song_features_10.drop(columns=features_10_drop_cols).rename(columns=features_10_rename_map)\n",
        "df_song_features_11 = df_song_features_11.drop(columns=features_11_drop_cols).rename(columns=features_11_rename_map)\n",
        "df_song_features_12 = df_song_features_12.drop(columns=features_12_drop_cols).rename(columns=features_12_rename_map)"
      ],
      "metadata": {
        "id": "nbIKYoFzPD4e"
      },
      "execution_count": 28,
      "outputs": []
    },
    {
      "cell_type": "markdown",
      "source": [
        "Check that all features dataframes have the same columns now:"
      ],
      "metadata": {
        "id": "9UIbeQP8YLb7"
      }
    },
    {
      "cell_type": "code",
      "source": [
        "print(([col for col in df_song_features_1.columns.sort_values()]))\n",
        "print(([col for col in df_song_features_2.columns.sort_values()]))\n",
        "print(([col for col in df_song_features_3.columns.sort_values()]))\n",
        "print(([col for col in df_song_features_4.columns.sort_values()]))\n",
        "print(([col for col in df_song_features_5.columns.sort_values()]))\n",
        "print(([col for col in df_song_features_6.columns.sort_values()]))\n",
        "print(([col for col in df_song_features_7.columns.sort_values()]))\n",
        "print(([col for col in df_song_features_8.columns.sort_values()])) \n",
        "print(([col for col in df_song_features_9.columns.sort_values()]))\n",
        "print(([col for col in df_song_features_10.columns.sort_values()]))\n",
        "print(([col for col in df_song_features_11.columns.sort_values()]))\n",
        "print(([col for col in df_song_features_12.columns.sort_values()]))"
      ],
      "metadata": {
        "id": "cZnIVmsiX0nH",
        "outputId": "51f24980-8c44-4c56-85a7-ecaa347df8e8",
        "colab": {
          "base_uri": "https://localhost:8080/"
        }
      },
      "execution_count": 29,
      "outputs": [
        {
          "output_type": "stream",
          "name": "stdout",
          "text": [
            "['acousticness', 'artist', 'danceability', 'duration_ms', 'energy', 'liveness', 'speechiness', 'tempo', 'title', 'valence']\n",
            "['acousticness', 'artist', 'danceability', 'duration_ms', 'energy', 'liveness', 'speechiness', 'tempo', 'title', 'valence']\n",
            "['acousticness', 'artist', 'danceability', 'duration_ms', 'energy', 'liveness', 'speechiness', 'tempo', 'title', 'valence']\n",
            "['acousticness', 'artist', 'danceability', 'duration_ms', 'energy', 'liveness', 'speechiness', 'tempo', 'title', 'valence']\n",
            "['acousticness', 'artist', 'danceability', 'duration_ms', 'energy', 'liveness', 'speechiness', 'tempo', 'title', 'valence']\n",
            "['acousticness', 'artist', 'danceability', 'duration_ms', 'energy', 'liveness', 'speechiness', 'tempo', 'title', 'valence']\n",
            "['acousticness', 'artist', 'danceability', 'duration_ms', 'energy', 'liveness', 'speechiness', 'tempo', 'title', 'valence']\n",
            "['acousticness', 'artist', 'danceability', 'duration_ms', 'energy', 'liveness', 'speechiness', 'tempo', 'title', 'valence']\n",
            "['acousticness', 'artist', 'danceability', 'duration_ms', 'energy', 'liveness', 'speechiness', 'tempo', 'title', 'valence']\n",
            "['acousticness', 'artist', 'danceability', 'duration_ms', 'energy', 'liveness', 'speechiness', 'tempo', 'title', 'valence']\n",
            "['acousticness', 'artist', 'danceability', 'duration_ms', 'energy', 'liveness', 'speechiness', 'tempo', 'title', 'valence']\n",
            "['acousticness', 'artist', 'danceability', 'duration_ms', 'energy', 'liveness', 'speechiness', 'tempo', 'title', 'valence']\n"
          ]
        }
      ]
    },
    {
      "cell_type": "markdown",
      "source": [
        "Now lets concatenate all of these features dataframes into one and do an inner join with `feature_matches`, the songs with features that are in `df_charts` to get the final, combined features dataset"
      ],
      "metadata": {
        "id": "JxDepA63aIyk"
      }
    },
    {
      "cell_type": "code",
      "source": [
        "df_features = pd.concat([df_song_features_1, df_song_features_2, df_song_features_3, df_song_features_4, df_song_features_5, df_song_features_6, df_song_features_7, df_song_features_8, df_song_features_9, df_song_features_10, df_song_features_11, df_song_features_12], axis=0, ignore_index=True)\n",
        "df_features = df_features.dropna()\n",
        "df_features_artist_format_1 = pd.merge(df_features, feature_matches, left_on=['title', 'artist'], right_on=['title', 'artist_y'], how='inner', suffixes=(\"\", \"_x\"))  # 'artist' in the format of df_charts\n",
        "df_features_artist_format_2 = pd.merge(df_features, feature_matches, on=['title', 'artist'], how='inner')  # 'artist' in the format of features dfs"
      ],
      "metadata": {
        "id": "yeAbE3bc3Csd"
      },
      "execution_count": 30,
      "outputs": []
    },
    {
      "cell_type": "code",
      "source": [
        "df_features_artist_format_1.drop_duplicates(subset=['title', 'artist_y'], inplace=True)\n",
        "df_features_artist_format_1.drop(columns=['artist', 'artist_y'], inplace=True)\n",
        "df_features_artist_format_1.rename(columns={'artist_x': 'artist'}, inplace=True)\n",
        "df_features_artist_format_2.drop_duplicates(subset=['title', 'artist'], inplace=True)\n",
        "df_features_artist_format_2.drop(columns=['artist_y'], inplace=True)"
      ],
      "metadata": {
        "id": "dGdMFMeo3G07"
      },
      "execution_count": 31,
      "outputs": []
    },
    {
      "cell_type": "code",
      "source": [
        "df_features_artist_format_1.head()"
      ],
      "metadata": {
        "colab": {
          "base_uri": "https://localhost:8080/",
          "height": 206
        },
        "id": "LJpTdjHdHE7u",
        "outputId": "aea1a08d-0d87-4bf6-9c19-c4d5727b20fc"
      },
      "execution_count": 32,
      "outputs": [
        {
          "output_type": "execute_result",
          "data": {
            "text/plain": [
              "                                                title danceability energy  \\\n",
              "0                             Cry Baby (feat. DaBaby)        0.955  0.436   \n",
              "2   Do It On The Tip (feat. City Girls & Hot Girl ...        0.944  0.526   \n",
              "6                              Movie (feat. Lil Durk)        0.896  0.728   \n",
              "10                           Freaky Girls (feat. SZA)        0.816  0.666   \n",
              "14              Intercourse (feat. Popcaan & Mustard)          0.8  0.596   \n",
              "\n",
              "   speechiness acousticness liveness valence    tempo duration_ms  \\\n",
              "0         0.38      0.00527    0.169   0.559  130.041      137984   \n",
              "2        0.289      0.00281   0.0862   0.619   97.543      167370   \n",
              "6        0.287      0.00245    0.128   0.877  152.062      227375   \n",
              "10       0.176     0.000707    0.156    0.25   93.952      166906   \n",
              "14       0.239       0.0775    0.201   0.424   98.037      197023   \n",
              "\n",
              "                 artist  \n",
              "0   Megan Thee Stallion  \n",
              "2   Megan Thee Stallion  \n",
              "6   Megan Thee Stallion  \n",
              "10  Megan Thee Stallion  \n",
              "14  Megan Thee Stallion  "
            ],
            "text/html": [
              "\n",
              "  <div id=\"df-83be05ce-42bd-43dd-9b58-27f8dc3741da\">\n",
              "    <div class=\"colab-df-container\">\n",
              "      <div>\n",
              "<style scoped>\n",
              "    .dataframe tbody tr th:only-of-type {\n",
              "        vertical-align: middle;\n",
              "    }\n",
              "\n",
              "    .dataframe tbody tr th {\n",
              "        vertical-align: top;\n",
              "    }\n",
              "\n",
              "    .dataframe thead th {\n",
              "        text-align: right;\n",
              "    }\n",
              "</style>\n",
              "<table border=\"1\" class=\"dataframe\">\n",
              "  <thead>\n",
              "    <tr style=\"text-align: right;\">\n",
              "      <th></th>\n",
              "      <th>title</th>\n",
              "      <th>danceability</th>\n",
              "      <th>energy</th>\n",
              "      <th>speechiness</th>\n",
              "      <th>acousticness</th>\n",
              "      <th>liveness</th>\n",
              "      <th>valence</th>\n",
              "      <th>tempo</th>\n",
              "      <th>duration_ms</th>\n",
              "      <th>artist</th>\n",
              "    </tr>\n",
              "  </thead>\n",
              "  <tbody>\n",
              "    <tr>\n",
              "      <th>0</th>\n",
              "      <td>Cry Baby (feat. DaBaby)</td>\n",
              "      <td>0.955</td>\n",
              "      <td>0.436</td>\n",
              "      <td>0.38</td>\n",
              "      <td>0.00527</td>\n",
              "      <td>0.169</td>\n",
              "      <td>0.559</td>\n",
              "      <td>130.041</td>\n",
              "      <td>137984</td>\n",
              "      <td>Megan Thee Stallion</td>\n",
              "    </tr>\n",
              "    <tr>\n",
              "      <th>2</th>\n",
              "      <td>Do It On The Tip (feat. City Girls &amp; Hot Girl ...</td>\n",
              "      <td>0.944</td>\n",
              "      <td>0.526</td>\n",
              "      <td>0.289</td>\n",
              "      <td>0.00281</td>\n",
              "      <td>0.0862</td>\n",
              "      <td>0.619</td>\n",
              "      <td>97.543</td>\n",
              "      <td>167370</td>\n",
              "      <td>Megan Thee Stallion</td>\n",
              "    </tr>\n",
              "    <tr>\n",
              "      <th>6</th>\n",
              "      <td>Movie (feat. Lil Durk)</td>\n",
              "      <td>0.896</td>\n",
              "      <td>0.728</td>\n",
              "      <td>0.287</td>\n",
              "      <td>0.00245</td>\n",
              "      <td>0.128</td>\n",
              "      <td>0.877</td>\n",
              "      <td>152.062</td>\n",
              "      <td>227375</td>\n",
              "      <td>Megan Thee Stallion</td>\n",
              "    </tr>\n",
              "    <tr>\n",
              "      <th>10</th>\n",
              "      <td>Freaky Girls (feat. SZA)</td>\n",
              "      <td>0.816</td>\n",
              "      <td>0.666</td>\n",
              "      <td>0.176</td>\n",
              "      <td>0.000707</td>\n",
              "      <td>0.156</td>\n",
              "      <td>0.25</td>\n",
              "      <td>93.952</td>\n",
              "      <td>166906</td>\n",
              "      <td>Megan Thee Stallion</td>\n",
              "    </tr>\n",
              "    <tr>\n",
              "      <th>14</th>\n",
              "      <td>Intercourse (feat. Popcaan &amp; Mustard)</td>\n",
              "      <td>0.8</td>\n",
              "      <td>0.596</td>\n",
              "      <td>0.239</td>\n",
              "      <td>0.0775</td>\n",
              "      <td>0.201</td>\n",
              "      <td>0.424</td>\n",
              "      <td>98.037</td>\n",
              "      <td>197023</td>\n",
              "      <td>Megan Thee Stallion</td>\n",
              "    </tr>\n",
              "  </tbody>\n",
              "</table>\n",
              "</div>\n",
              "      <button class=\"colab-df-convert\" onclick=\"convertToInteractive('df-83be05ce-42bd-43dd-9b58-27f8dc3741da')\"\n",
              "              title=\"Convert this dataframe to an interactive table.\"\n",
              "              style=\"display:none;\">\n",
              "        \n",
              "  <svg xmlns=\"http://www.w3.org/2000/svg\" height=\"24px\"viewBox=\"0 0 24 24\"\n",
              "       width=\"24px\">\n",
              "    <path d=\"M0 0h24v24H0V0z\" fill=\"none\"/>\n",
              "    <path d=\"M18.56 5.44l.94 2.06.94-2.06 2.06-.94-2.06-.94-.94-2.06-.94 2.06-2.06.94zm-11 1L8.5 8.5l.94-2.06 2.06-.94-2.06-.94L8.5 2.5l-.94 2.06-2.06.94zm10 10l.94 2.06.94-2.06 2.06-.94-2.06-.94-.94-2.06-.94 2.06-2.06.94z\"/><path d=\"M17.41 7.96l-1.37-1.37c-.4-.4-.92-.59-1.43-.59-.52 0-1.04.2-1.43.59L10.3 9.45l-7.72 7.72c-.78.78-.78 2.05 0 2.83L4 21.41c.39.39.9.59 1.41.59.51 0 1.02-.2 1.41-.59l7.78-7.78 2.81-2.81c.8-.78.8-2.07 0-2.86zM5.41 20L4 18.59l7.72-7.72 1.47 1.35L5.41 20z\"/>\n",
              "  </svg>\n",
              "      </button>\n",
              "      \n",
              "  <style>\n",
              "    .colab-df-container {\n",
              "      display:flex;\n",
              "      flex-wrap:wrap;\n",
              "      gap: 12px;\n",
              "    }\n",
              "\n",
              "    .colab-df-convert {\n",
              "      background-color: #E8F0FE;\n",
              "      border: none;\n",
              "      border-radius: 50%;\n",
              "      cursor: pointer;\n",
              "      display: none;\n",
              "      fill: #1967D2;\n",
              "      height: 32px;\n",
              "      padding: 0 0 0 0;\n",
              "      width: 32px;\n",
              "    }\n",
              "\n",
              "    .colab-df-convert:hover {\n",
              "      background-color: #E2EBFA;\n",
              "      box-shadow: 0px 1px 2px rgba(60, 64, 67, 0.3), 0px 1px 3px 1px rgba(60, 64, 67, 0.15);\n",
              "      fill: #174EA6;\n",
              "    }\n",
              "\n",
              "    [theme=dark] .colab-df-convert {\n",
              "      background-color: #3B4455;\n",
              "      fill: #D2E3FC;\n",
              "    }\n",
              "\n",
              "    [theme=dark] .colab-df-convert:hover {\n",
              "      background-color: #434B5C;\n",
              "      box-shadow: 0px 1px 3px 1px rgba(0, 0, 0, 0.15);\n",
              "      filter: drop-shadow(0px 1px 2px rgba(0, 0, 0, 0.3));\n",
              "      fill: #FFFFFF;\n",
              "    }\n",
              "  </style>\n",
              "\n",
              "      <script>\n",
              "        const buttonEl =\n",
              "          document.querySelector('#df-83be05ce-42bd-43dd-9b58-27f8dc3741da button.colab-df-convert');\n",
              "        buttonEl.style.display =\n",
              "          google.colab.kernel.accessAllowed ? 'block' : 'none';\n",
              "\n",
              "        async function convertToInteractive(key) {\n",
              "          const element = document.querySelector('#df-83be05ce-42bd-43dd-9b58-27f8dc3741da');\n",
              "          const dataTable =\n",
              "            await google.colab.kernel.invokeFunction('convertToInteractive',\n",
              "                                                     [key], {});\n",
              "          if (!dataTable) return;\n",
              "\n",
              "          const docLinkHtml = 'Like what you see? Visit the ' +\n",
              "            '<a target=\"_blank\" href=https://colab.research.google.com/notebooks/data_table.ipynb>data table notebook</a>'\n",
              "            + ' to learn more about interactive tables.';\n",
              "          element.innerHTML = '';\n",
              "          dataTable['output_type'] = 'display_data';\n",
              "          await google.colab.output.renderOutput(dataTable, element);\n",
              "          const docLink = document.createElement('div');\n",
              "          docLink.innerHTML = docLinkHtml;\n",
              "          element.appendChild(docLink);\n",
              "        }\n",
              "      </script>\n",
              "    </div>\n",
              "  </div>\n",
              "  "
            ]
          },
          "metadata": {},
          "execution_count": 32
        }
      ]
    },
    {
      "cell_type": "code",
      "source": [
        "df_features_artist_format_2.head()"
      ],
      "metadata": {
        "colab": {
          "base_uri": "https://localhost:8080/",
          "height": 206
        },
        "id": "HBjP9e3mG9jj",
        "outputId": "61bdd9e5-d76a-4e0c-c620-b2809dc368fd"
      },
      "execution_count": 33,
      "outputs": [
        {
          "output_type": "execute_result",
          "data": {
            "text/plain": [
              "                           title                    artist danceability  \\\n",
              "0          Sleep Now In the Fire  Rage Against The Machine        0.426   \n",
              "7    Swear It Again - Radio Edit                  Westlife        0.626   \n",
              "10  If I Let You Go - Radio Edit                  Westlife        0.571   \n",
              "13          Flying Without Wings                  Westlife        0.443   \n",
              "16                    Fool Again                  Westlife        0.532   \n",
              "\n",
              "   energy speechiness acousticness liveness valence    tempo duration_ms  \n",
              "0   0.929      0.0701      0.00162   0.0789   0.539  127.059      205600  \n",
              "7   0.532      0.0276        0.296    0.123    0.33  130.076      247933  \n",
              "10  0.697      0.0294      0.00574   0.0775   0.636  181.987      221533  \n",
              "13  0.493      0.0318        0.323     0.21   0.283   72.742      215307  \n",
              "16  0.526      0.0292       0.0468    0.053   0.536   75.996      235067  "
            ],
            "text/html": [
              "\n",
              "  <div id=\"df-d73f531e-9f3a-4f26-ae85-09e75afc196b\">\n",
              "    <div class=\"colab-df-container\">\n",
              "      <div>\n",
              "<style scoped>\n",
              "    .dataframe tbody tr th:only-of-type {\n",
              "        vertical-align: middle;\n",
              "    }\n",
              "\n",
              "    .dataframe tbody tr th {\n",
              "        vertical-align: top;\n",
              "    }\n",
              "\n",
              "    .dataframe thead th {\n",
              "        text-align: right;\n",
              "    }\n",
              "</style>\n",
              "<table border=\"1\" class=\"dataframe\">\n",
              "  <thead>\n",
              "    <tr style=\"text-align: right;\">\n",
              "      <th></th>\n",
              "      <th>title</th>\n",
              "      <th>artist</th>\n",
              "      <th>danceability</th>\n",
              "      <th>energy</th>\n",
              "      <th>speechiness</th>\n",
              "      <th>acousticness</th>\n",
              "      <th>liveness</th>\n",
              "      <th>valence</th>\n",
              "      <th>tempo</th>\n",
              "      <th>duration_ms</th>\n",
              "    </tr>\n",
              "  </thead>\n",
              "  <tbody>\n",
              "    <tr>\n",
              "      <th>0</th>\n",
              "      <td>Sleep Now In the Fire</td>\n",
              "      <td>Rage Against The Machine</td>\n",
              "      <td>0.426</td>\n",
              "      <td>0.929</td>\n",
              "      <td>0.0701</td>\n",
              "      <td>0.00162</td>\n",
              "      <td>0.0789</td>\n",
              "      <td>0.539</td>\n",
              "      <td>127.059</td>\n",
              "      <td>205600</td>\n",
              "    </tr>\n",
              "    <tr>\n",
              "      <th>7</th>\n",
              "      <td>Swear It Again - Radio Edit</td>\n",
              "      <td>Westlife</td>\n",
              "      <td>0.626</td>\n",
              "      <td>0.532</td>\n",
              "      <td>0.0276</td>\n",
              "      <td>0.296</td>\n",
              "      <td>0.123</td>\n",
              "      <td>0.33</td>\n",
              "      <td>130.076</td>\n",
              "      <td>247933</td>\n",
              "    </tr>\n",
              "    <tr>\n",
              "      <th>10</th>\n",
              "      <td>If I Let You Go - Radio Edit</td>\n",
              "      <td>Westlife</td>\n",
              "      <td>0.571</td>\n",
              "      <td>0.697</td>\n",
              "      <td>0.0294</td>\n",
              "      <td>0.00574</td>\n",
              "      <td>0.0775</td>\n",
              "      <td>0.636</td>\n",
              "      <td>181.987</td>\n",
              "      <td>221533</td>\n",
              "    </tr>\n",
              "    <tr>\n",
              "      <th>13</th>\n",
              "      <td>Flying Without Wings</td>\n",
              "      <td>Westlife</td>\n",
              "      <td>0.443</td>\n",
              "      <td>0.493</td>\n",
              "      <td>0.0318</td>\n",
              "      <td>0.323</td>\n",
              "      <td>0.21</td>\n",
              "      <td>0.283</td>\n",
              "      <td>72.742</td>\n",
              "      <td>215307</td>\n",
              "    </tr>\n",
              "    <tr>\n",
              "      <th>16</th>\n",
              "      <td>Fool Again</td>\n",
              "      <td>Westlife</td>\n",
              "      <td>0.532</td>\n",
              "      <td>0.526</td>\n",
              "      <td>0.0292</td>\n",
              "      <td>0.0468</td>\n",
              "      <td>0.053</td>\n",
              "      <td>0.536</td>\n",
              "      <td>75.996</td>\n",
              "      <td>235067</td>\n",
              "    </tr>\n",
              "  </tbody>\n",
              "</table>\n",
              "</div>\n",
              "      <button class=\"colab-df-convert\" onclick=\"convertToInteractive('df-d73f531e-9f3a-4f26-ae85-09e75afc196b')\"\n",
              "              title=\"Convert this dataframe to an interactive table.\"\n",
              "              style=\"display:none;\">\n",
              "        \n",
              "  <svg xmlns=\"http://www.w3.org/2000/svg\" height=\"24px\"viewBox=\"0 0 24 24\"\n",
              "       width=\"24px\">\n",
              "    <path d=\"M0 0h24v24H0V0z\" fill=\"none\"/>\n",
              "    <path d=\"M18.56 5.44l.94 2.06.94-2.06 2.06-.94-2.06-.94-.94-2.06-.94 2.06-2.06.94zm-11 1L8.5 8.5l.94-2.06 2.06-.94-2.06-.94L8.5 2.5l-.94 2.06-2.06.94zm10 10l.94 2.06.94-2.06 2.06-.94-2.06-.94-.94-2.06-.94 2.06-2.06.94z\"/><path d=\"M17.41 7.96l-1.37-1.37c-.4-.4-.92-.59-1.43-.59-.52 0-1.04.2-1.43.59L10.3 9.45l-7.72 7.72c-.78.78-.78 2.05 0 2.83L4 21.41c.39.39.9.59 1.41.59.51 0 1.02-.2 1.41-.59l7.78-7.78 2.81-2.81c.8-.78.8-2.07 0-2.86zM5.41 20L4 18.59l7.72-7.72 1.47 1.35L5.41 20z\"/>\n",
              "  </svg>\n",
              "      </button>\n",
              "      \n",
              "  <style>\n",
              "    .colab-df-container {\n",
              "      display:flex;\n",
              "      flex-wrap:wrap;\n",
              "      gap: 12px;\n",
              "    }\n",
              "\n",
              "    .colab-df-convert {\n",
              "      background-color: #E8F0FE;\n",
              "      border: none;\n",
              "      border-radius: 50%;\n",
              "      cursor: pointer;\n",
              "      display: none;\n",
              "      fill: #1967D2;\n",
              "      height: 32px;\n",
              "      padding: 0 0 0 0;\n",
              "      width: 32px;\n",
              "    }\n",
              "\n",
              "    .colab-df-convert:hover {\n",
              "      background-color: #E2EBFA;\n",
              "      box-shadow: 0px 1px 2px rgba(60, 64, 67, 0.3), 0px 1px 3px 1px rgba(60, 64, 67, 0.15);\n",
              "      fill: #174EA6;\n",
              "    }\n",
              "\n",
              "    [theme=dark] .colab-df-convert {\n",
              "      background-color: #3B4455;\n",
              "      fill: #D2E3FC;\n",
              "    }\n",
              "\n",
              "    [theme=dark] .colab-df-convert:hover {\n",
              "      background-color: #434B5C;\n",
              "      box-shadow: 0px 1px 3px 1px rgba(0, 0, 0, 0.15);\n",
              "      filter: drop-shadow(0px 1px 2px rgba(0, 0, 0, 0.3));\n",
              "      fill: #FFFFFF;\n",
              "    }\n",
              "  </style>\n",
              "\n",
              "      <script>\n",
              "        const buttonEl =\n",
              "          document.querySelector('#df-d73f531e-9f3a-4f26-ae85-09e75afc196b button.colab-df-convert');\n",
              "        buttonEl.style.display =\n",
              "          google.colab.kernel.accessAllowed ? 'block' : 'none';\n",
              "\n",
              "        async function convertToInteractive(key) {\n",
              "          const element = document.querySelector('#df-d73f531e-9f3a-4f26-ae85-09e75afc196b');\n",
              "          const dataTable =\n",
              "            await google.colab.kernel.invokeFunction('convertToInteractive',\n",
              "                                                     [key], {});\n",
              "          if (!dataTable) return;\n",
              "\n",
              "          const docLinkHtml = 'Like what you see? Visit the ' +\n",
              "            '<a target=\"_blank\" href=https://colab.research.google.com/notebooks/data_table.ipynb>data table notebook</a>'\n",
              "            + ' to learn more about interactive tables.';\n",
              "          element.innerHTML = '';\n",
              "          dataTable['output_type'] = 'display_data';\n",
              "          await google.colab.output.renderOutput(dataTable, element);\n",
              "          const docLink = document.createElement('div');\n",
              "          docLink.innerHTML = docLinkHtml;\n",
              "          element.appendChild(docLink);\n",
              "        }\n",
              "      </script>\n",
              "    </div>\n",
              "  </div>\n",
              "  "
            ]
          },
          "metadata": {},
          "execution_count": 33
        }
      ]
    },
    {
      "cell_type": "code",
      "source": [
        "df_features = pd.concat([df_features_artist_format_2, df_features_artist_format_1]).drop_duplicates()\n",
        "df_features.reset_index(drop=True, inplace=True)\n",
        "df_features.shape[0]"
      ],
      "metadata": {
        "colab": {
          "base_uri": "https://localhost:8080/"
        },
        "id": "A7Za_gGmJIgo",
        "outputId": "7361f6c0-c53c-4f3d-a909-20d4a46a3620"
      },
      "execution_count": 34,
      "outputs": [
        {
          "output_type": "execute_result",
          "data": {
            "text/plain": [
              "22758"
            ]
          },
          "metadata": {},
          "execution_count": 34
        }
      ]
    },
    {
      "cell_type": "code",
      "source": [
        "df_features.head()"
      ],
      "metadata": {
        "colab": {
          "base_uri": "https://localhost:8080/",
          "height": 206
        },
        "id": "nKkKazjVJuzF",
        "outputId": "0f70f08d-572f-41a8-ff93-6256157277f7"
      },
      "execution_count": 35,
      "outputs": [
        {
          "output_type": "execute_result",
          "data": {
            "text/plain": [
              "                          title                    artist danceability energy  \\\n",
              "0         Sleep Now In the Fire  Rage Against The Machine        0.426  0.929   \n",
              "1   Swear It Again - Radio Edit                  Westlife        0.626  0.532   \n",
              "2  If I Let You Go - Radio Edit                  Westlife        0.571  0.697   \n",
              "3          Flying Without Wings                  Westlife        0.443  0.493   \n",
              "4                    Fool Again                  Westlife        0.532  0.526   \n",
              "\n",
              "  speechiness acousticness liveness valence    tempo duration_ms  \n",
              "0      0.0701      0.00162   0.0789   0.539  127.059      205600  \n",
              "1      0.0276        0.296    0.123    0.33  130.076      247933  \n",
              "2      0.0294      0.00574   0.0775   0.636  181.987      221533  \n",
              "3      0.0318        0.323     0.21   0.283   72.742      215307  \n",
              "4      0.0292       0.0468    0.053   0.536   75.996      235067  "
            ],
            "text/html": [
              "\n",
              "  <div id=\"df-239b6656-0846-406d-a3f0-1d4f86ce1646\">\n",
              "    <div class=\"colab-df-container\">\n",
              "      <div>\n",
              "<style scoped>\n",
              "    .dataframe tbody tr th:only-of-type {\n",
              "        vertical-align: middle;\n",
              "    }\n",
              "\n",
              "    .dataframe tbody tr th {\n",
              "        vertical-align: top;\n",
              "    }\n",
              "\n",
              "    .dataframe thead th {\n",
              "        text-align: right;\n",
              "    }\n",
              "</style>\n",
              "<table border=\"1\" class=\"dataframe\">\n",
              "  <thead>\n",
              "    <tr style=\"text-align: right;\">\n",
              "      <th></th>\n",
              "      <th>title</th>\n",
              "      <th>artist</th>\n",
              "      <th>danceability</th>\n",
              "      <th>energy</th>\n",
              "      <th>speechiness</th>\n",
              "      <th>acousticness</th>\n",
              "      <th>liveness</th>\n",
              "      <th>valence</th>\n",
              "      <th>tempo</th>\n",
              "      <th>duration_ms</th>\n",
              "    </tr>\n",
              "  </thead>\n",
              "  <tbody>\n",
              "    <tr>\n",
              "      <th>0</th>\n",
              "      <td>Sleep Now In the Fire</td>\n",
              "      <td>Rage Against The Machine</td>\n",
              "      <td>0.426</td>\n",
              "      <td>0.929</td>\n",
              "      <td>0.0701</td>\n",
              "      <td>0.00162</td>\n",
              "      <td>0.0789</td>\n",
              "      <td>0.539</td>\n",
              "      <td>127.059</td>\n",
              "      <td>205600</td>\n",
              "    </tr>\n",
              "    <tr>\n",
              "      <th>1</th>\n",
              "      <td>Swear It Again - Radio Edit</td>\n",
              "      <td>Westlife</td>\n",
              "      <td>0.626</td>\n",
              "      <td>0.532</td>\n",
              "      <td>0.0276</td>\n",
              "      <td>0.296</td>\n",
              "      <td>0.123</td>\n",
              "      <td>0.33</td>\n",
              "      <td>130.076</td>\n",
              "      <td>247933</td>\n",
              "    </tr>\n",
              "    <tr>\n",
              "      <th>2</th>\n",
              "      <td>If I Let You Go - Radio Edit</td>\n",
              "      <td>Westlife</td>\n",
              "      <td>0.571</td>\n",
              "      <td>0.697</td>\n",
              "      <td>0.0294</td>\n",
              "      <td>0.00574</td>\n",
              "      <td>0.0775</td>\n",
              "      <td>0.636</td>\n",
              "      <td>181.987</td>\n",
              "      <td>221533</td>\n",
              "    </tr>\n",
              "    <tr>\n",
              "      <th>3</th>\n",
              "      <td>Flying Without Wings</td>\n",
              "      <td>Westlife</td>\n",
              "      <td>0.443</td>\n",
              "      <td>0.493</td>\n",
              "      <td>0.0318</td>\n",
              "      <td>0.323</td>\n",
              "      <td>0.21</td>\n",
              "      <td>0.283</td>\n",
              "      <td>72.742</td>\n",
              "      <td>215307</td>\n",
              "    </tr>\n",
              "    <tr>\n",
              "      <th>4</th>\n",
              "      <td>Fool Again</td>\n",
              "      <td>Westlife</td>\n",
              "      <td>0.532</td>\n",
              "      <td>0.526</td>\n",
              "      <td>0.0292</td>\n",
              "      <td>0.0468</td>\n",
              "      <td>0.053</td>\n",
              "      <td>0.536</td>\n",
              "      <td>75.996</td>\n",
              "      <td>235067</td>\n",
              "    </tr>\n",
              "  </tbody>\n",
              "</table>\n",
              "</div>\n",
              "      <button class=\"colab-df-convert\" onclick=\"convertToInteractive('df-239b6656-0846-406d-a3f0-1d4f86ce1646')\"\n",
              "              title=\"Convert this dataframe to an interactive table.\"\n",
              "              style=\"display:none;\">\n",
              "        \n",
              "  <svg xmlns=\"http://www.w3.org/2000/svg\" height=\"24px\"viewBox=\"0 0 24 24\"\n",
              "       width=\"24px\">\n",
              "    <path d=\"M0 0h24v24H0V0z\" fill=\"none\"/>\n",
              "    <path d=\"M18.56 5.44l.94 2.06.94-2.06 2.06-.94-2.06-.94-.94-2.06-.94 2.06-2.06.94zm-11 1L8.5 8.5l.94-2.06 2.06-.94-2.06-.94L8.5 2.5l-.94 2.06-2.06.94zm10 10l.94 2.06.94-2.06 2.06-.94-2.06-.94-.94-2.06-.94 2.06-2.06.94z\"/><path d=\"M17.41 7.96l-1.37-1.37c-.4-.4-.92-.59-1.43-.59-.52 0-1.04.2-1.43.59L10.3 9.45l-7.72 7.72c-.78.78-.78 2.05 0 2.83L4 21.41c.39.39.9.59 1.41.59.51 0 1.02-.2 1.41-.59l7.78-7.78 2.81-2.81c.8-.78.8-2.07 0-2.86zM5.41 20L4 18.59l7.72-7.72 1.47 1.35L5.41 20z\"/>\n",
              "  </svg>\n",
              "      </button>\n",
              "      \n",
              "  <style>\n",
              "    .colab-df-container {\n",
              "      display:flex;\n",
              "      flex-wrap:wrap;\n",
              "      gap: 12px;\n",
              "    }\n",
              "\n",
              "    .colab-df-convert {\n",
              "      background-color: #E8F0FE;\n",
              "      border: none;\n",
              "      border-radius: 50%;\n",
              "      cursor: pointer;\n",
              "      display: none;\n",
              "      fill: #1967D2;\n",
              "      height: 32px;\n",
              "      padding: 0 0 0 0;\n",
              "      width: 32px;\n",
              "    }\n",
              "\n",
              "    .colab-df-convert:hover {\n",
              "      background-color: #E2EBFA;\n",
              "      box-shadow: 0px 1px 2px rgba(60, 64, 67, 0.3), 0px 1px 3px 1px rgba(60, 64, 67, 0.15);\n",
              "      fill: #174EA6;\n",
              "    }\n",
              "\n",
              "    [theme=dark] .colab-df-convert {\n",
              "      background-color: #3B4455;\n",
              "      fill: #D2E3FC;\n",
              "    }\n",
              "\n",
              "    [theme=dark] .colab-df-convert:hover {\n",
              "      background-color: #434B5C;\n",
              "      box-shadow: 0px 1px 3px 1px rgba(0, 0, 0, 0.15);\n",
              "      filter: drop-shadow(0px 1px 2px rgba(0, 0, 0, 0.3));\n",
              "      fill: #FFFFFF;\n",
              "    }\n",
              "  </style>\n",
              "\n",
              "      <script>\n",
              "        const buttonEl =\n",
              "          document.querySelector('#df-239b6656-0846-406d-a3f0-1d4f86ce1646 button.colab-df-convert');\n",
              "        buttonEl.style.display =\n",
              "          google.colab.kernel.accessAllowed ? 'block' : 'none';\n",
              "\n",
              "        async function convertToInteractive(key) {\n",
              "          const element = document.querySelector('#df-239b6656-0846-406d-a3f0-1d4f86ce1646');\n",
              "          const dataTable =\n",
              "            await google.colab.kernel.invokeFunction('convertToInteractive',\n",
              "                                                     [key], {});\n",
              "          if (!dataTable) return;\n",
              "\n",
              "          const docLinkHtml = 'Like what you see? Visit the ' +\n",
              "            '<a target=\"_blank\" href=https://colab.research.google.com/notebooks/data_table.ipynb>data table notebook</a>'\n",
              "            + ' to learn more about interactive tables.';\n",
              "          element.innerHTML = '';\n",
              "          dataTable['output_type'] = 'display_data';\n",
              "          await google.colab.output.renderOutput(dataTable, element);\n",
              "          const docLink = document.createElement('div');\n",
              "          docLink.innerHTML = docLinkHtml;\n",
              "          element.appendChild(docLink);\n",
              "        }\n",
              "      </script>\n",
              "    </div>\n",
              "  </div>\n",
              "  "
            ]
          },
          "metadata": {},
          "execution_count": 35
        }
      ]
    },
    {
      "cell_type": "markdown",
      "source": [
        "Join with `df_charts` to get a unified dataframe with chart and feature columns"
      ],
      "metadata": {
        "id": "VwxDVqRDW2Sn"
      }
    },
    {
      "cell_type": "code",
      "source": [
        "df_charts_features = pd.merge(df_charts.drop_duplicates(subset=['title', 'artist']), df_features, on=['title', 'artist'], how='inner')\n",
        "df_charts_features.describe"
      ],
      "metadata": {
        "colab": {
          "base_uri": "https://localhost:8080/"
        },
        "id": "CGSvegiaW-aj",
        "outputId": "5d3f69a4-28fc-46b3-e6d9-ecea5fe68f6f"
      },
      "execution_count": 109,
      "outputs": [
        {
          "output_type": "execute_result",
          "data": {
            "text/plain": [
              "<bound method NDFrame.describe of                                             title  rank        date  \\\n",
              "0                                         Ride It   146  2020-05-01   \n",
              "1                                          +Linda   147  2020-05-01   \n",
              "2                                            Woah   148  2020-05-01   \n",
              "3                                            25/8   105  2020-05-01   \n",
              "4                                            Keii    65  2020-05-01   \n",
              "...                                           ...   ...         ...   \n",
              "22753                                   Optimista    49  2021-07-24   \n",
              "22754                               Forget Me Not    42  2021-07-26   \n",
              "22755                                      めちゃくちゃ    50  2021-07-27   \n",
              "22756  Still Holy (feat. Ryan Ofei & Naomi Raine)    47  2021-07-28   \n",
              "22757                                     Believe    50  2021-07-31   \n",
              "\n",
              "                           artist        region    chart  Year danceability  \\\n",
              "0                          Regard       Bolivia   top200  2020         0.88   \n",
              "1                           Dalex       Bolivia   top200  2020                \n",
              "2                        Lil Baby        Canada   top200  2020        0.882   \n",
              "3                       Bad Bunny         Chile   top200  2020        0.761   \n",
              "4                        Anuel AA      Colombia   top200  2020        0.708   \n",
              "...                           ...           ...      ...   ...          ...   \n",
              "22753                    Caloncho        Mexico  viral50  2021        0.885   \n",
              "22754                     ENHYPEN   Philippines  viral50  2021        0.569   \n",
              "22755                    vvpskvd.       Ukraine  viral50  2021        0.665   \n",
              "22756  Tribl, Maverick City Music  South Africa  viral50  2021        0.165   \n",
              "22757           Anna of the North       Ireland  viral50  2021        0.395   \n",
              "\n",
              "      energy speechiness acousticness liveness valence    tempo duration_ms  \n",
              "0      0.751      0.0874        0.177    0.106   0.884  117.948      157606  \n",
              "1                                                                            \n",
              "2      0.602       0.245       0.0177    0.178    0.43  142.959      183011  \n",
              "3      0.732      0.0549        0.092   0.0716   0.542  151.982      243276  \n",
              "4      0.797      0.0391          0.4    0.096    0.51   88.015      210000  \n",
              "...      ...         ...          ...      ...     ...      ...         ...  \n",
              "22753  0.479       0.069       0.0385    0.319   0.869  122.955      212653  \n",
              "22754  0.877       0.117       0.0134    0.342   0.782  161.133      203893  \n",
              "22755   0.85      0.0425     0.000044    0.164   0.245  120.029      144005  \n",
              "22756  0.619      0.0402        0.104    0.095   0.299   83.447    507068.0  \n",
              "22757  0.332      0.0262        0.852    0.104  0.0493   95.089      252716  \n",
              "\n",
              "[22758 rows x 15 columns]>"
            ]
          },
          "metadata": {},
          "execution_count": 109
        }
      ]
    },
    {
      "cell_type": "markdown",
      "metadata": {
        "id": "N9uFxr2sQGxY"
      },
      "source": [
        "# TikTok Popular Songs Dataset EDA"
      ]
    },
    {
      "cell_type": "code",
      "execution_count": 37,
      "metadata": {
        "id": "J-JdIrzO08GS",
        "outputId": "ac959d34-da59-4e52-cdbd-cd80f321e816",
        "colab": {
          "base_uri": "https://localhost:8080/",
          "height": 206
        }
      },
      "outputs": [
        {
          "output_type": "execute_result",
          "data": {
            "text/plain": [
              "             track_name                 artist_name  artist_pop  \\\n",
              "0              Shake It               Metro Station          53   \n",
              "1      Chinese New Year                       SALES          61   \n",
              "2        Baby I'm Yours                    Breakbot          57   \n",
              "3            The Git Up                Blanco Brown          60   \n",
              "4  Say Hey (I Love You)  Michael Franti & Spearhead          58   \n",
              "\n",
              "               album  track_pop  danceability  energy  loudness  mode  key  \\\n",
              "0      Metro Station         68         0.618   0.955    -3.836     1    4   \n",
              "1         SALES - EP         53         0.744   0.845    -7.422     0    4   \n",
              "2       By Your Side         69         0.829   0.792    -3.755     0    2   \n",
              "3         The Git Up          2         0.847   0.678    -8.635     1    9   \n",
              "4  All Rebel Rockers          0         0.738   0.983    -4.374     0    5   \n",
              "\n",
              "   speechiness  acousticness  instrumentalness  liveness  valence    tempo  \\\n",
              "0       0.0798       0.00221          0.000003     0.486    0.790  150.034   \n",
              "1       0.2530       0.75900          0.232000     0.100    0.749   75.221   \n",
              "2       0.0668       0.72600          0.000006     0.122    0.758  118.050   \n",
              "3       0.1090       0.06690          0.000000     0.274    0.811   97.984   \n",
              "4       0.0855       0.03800          0.000006     0.183    0.957   92.998   \n",
              "\n",
              "   time_signature  duration_ms  \n",
              "0               4       179947  \n",
              "1               4       160000  \n",
              "2               4       215507  \n",
              "3               4       200594  \n",
              "4               4       235760  "
            ],
            "text/html": [
              "\n",
              "  <div id=\"df-6ce11b7a-2b4c-4267-863d-8b5e17fc865f\">\n",
              "    <div class=\"colab-df-container\">\n",
              "      <div>\n",
              "<style scoped>\n",
              "    .dataframe tbody tr th:only-of-type {\n",
              "        vertical-align: middle;\n",
              "    }\n",
              "\n",
              "    .dataframe tbody tr th {\n",
              "        vertical-align: top;\n",
              "    }\n",
              "\n",
              "    .dataframe thead th {\n",
              "        text-align: right;\n",
              "    }\n",
              "</style>\n",
              "<table border=\"1\" class=\"dataframe\">\n",
              "  <thead>\n",
              "    <tr style=\"text-align: right;\">\n",
              "      <th></th>\n",
              "      <th>track_name</th>\n",
              "      <th>artist_name</th>\n",
              "      <th>artist_pop</th>\n",
              "      <th>album</th>\n",
              "      <th>track_pop</th>\n",
              "      <th>danceability</th>\n",
              "      <th>energy</th>\n",
              "      <th>loudness</th>\n",
              "      <th>mode</th>\n",
              "      <th>key</th>\n",
              "      <th>speechiness</th>\n",
              "      <th>acousticness</th>\n",
              "      <th>instrumentalness</th>\n",
              "      <th>liveness</th>\n",
              "      <th>valence</th>\n",
              "      <th>tempo</th>\n",
              "      <th>time_signature</th>\n",
              "      <th>duration_ms</th>\n",
              "    </tr>\n",
              "  </thead>\n",
              "  <tbody>\n",
              "    <tr>\n",
              "      <th>0</th>\n",
              "      <td>Shake It</td>\n",
              "      <td>Metro Station</td>\n",
              "      <td>53</td>\n",
              "      <td>Metro Station</td>\n",
              "      <td>68</td>\n",
              "      <td>0.618</td>\n",
              "      <td>0.955</td>\n",
              "      <td>-3.836</td>\n",
              "      <td>1</td>\n",
              "      <td>4</td>\n",
              "      <td>0.0798</td>\n",
              "      <td>0.00221</td>\n",
              "      <td>0.000003</td>\n",
              "      <td>0.486</td>\n",
              "      <td>0.790</td>\n",
              "      <td>150.034</td>\n",
              "      <td>4</td>\n",
              "      <td>179947</td>\n",
              "    </tr>\n",
              "    <tr>\n",
              "      <th>1</th>\n",
              "      <td>Chinese New Year</td>\n",
              "      <td>SALES</td>\n",
              "      <td>61</td>\n",
              "      <td>SALES - EP</td>\n",
              "      <td>53</td>\n",
              "      <td>0.744</td>\n",
              "      <td>0.845</td>\n",
              "      <td>-7.422</td>\n",
              "      <td>0</td>\n",
              "      <td>4</td>\n",
              "      <td>0.2530</td>\n",
              "      <td>0.75900</td>\n",
              "      <td>0.232000</td>\n",
              "      <td>0.100</td>\n",
              "      <td>0.749</td>\n",
              "      <td>75.221</td>\n",
              "      <td>4</td>\n",
              "      <td>160000</td>\n",
              "    </tr>\n",
              "    <tr>\n",
              "      <th>2</th>\n",
              "      <td>Baby I'm Yours</td>\n",
              "      <td>Breakbot</td>\n",
              "      <td>57</td>\n",
              "      <td>By Your Side</td>\n",
              "      <td>69</td>\n",
              "      <td>0.829</td>\n",
              "      <td>0.792</td>\n",
              "      <td>-3.755</td>\n",
              "      <td>0</td>\n",
              "      <td>2</td>\n",
              "      <td>0.0668</td>\n",
              "      <td>0.72600</td>\n",
              "      <td>0.000006</td>\n",
              "      <td>0.122</td>\n",
              "      <td>0.758</td>\n",
              "      <td>118.050</td>\n",
              "      <td>4</td>\n",
              "      <td>215507</td>\n",
              "    </tr>\n",
              "    <tr>\n",
              "      <th>3</th>\n",
              "      <td>The Git Up</td>\n",
              "      <td>Blanco Brown</td>\n",
              "      <td>60</td>\n",
              "      <td>The Git Up</td>\n",
              "      <td>2</td>\n",
              "      <td>0.847</td>\n",
              "      <td>0.678</td>\n",
              "      <td>-8.635</td>\n",
              "      <td>1</td>\n",
              "      <td>9</td>\n",
              "      <td>0.1090</td>\n",
              "      <td>0.06690</td>\n",
              "      <td>0.000000</td>\n",
              "      <td>0.274</td>\n",
              "      <td>0.811</td>\n",
              "      <td>97.984</td>\n",
              "      <td>4</td>\n",
              "      <td>200594</td>\n",
              "    </tr>\n",
              "    <tr>\n",
              "      <th>4</th>\n",
              "      <td>Say Hey (I Love You)</td>\n",
              "      <td>Michael Franti &amp; Spearhead</td>\n",
              "      <td>58</td>\n",
              "      <td>All Rebel Rockers</td>\n",
              "      <td>0</td>\n",
              "      <td>0.738</td>\n",
              "      <td>0.983</td>\n",
              "      <td>-4.374</td>\n",
              "      <td>0</td>\n",
              "      <td>5</td>\n",
              "      <td>0.0855</td>\n",
              "      <td>0.03800</td>\n",
              "      <td>0.000006</td>\n",
              "      <td>0.183</td>\n",
              "      <td>0.957</td>\n",
              "      <td>92.998</td>\n",
              "      <td>4</td>\n",
              "      <td>235760</td>\n",
              "    </tr>\n",
              "  </tbody>\n",
              "</table>\n",
              "</div>\n",
              "      <button class=\"colab-df-convert\" onclick=\"convertToInteractive('df-6ce11b7a-2b4c-4267-863d-8b5e17fc865f')\"\n",
              "              title=\"Convert this dataframe to an interactive table.\"\n",
              "              style=\"display:none;\">\n",
              "        \n",
              "  <svg xmlns=\"http://www.w3.org/2000/svg\" height=\"24px\"viewBox=\"0 0 24 24\"\n",
              "       width=\"24px\">\n",
              "    <path d=\"M0 0h24v24H0V0z\" fill=\"none\"/>\n",
              "    <path d=\"M18.56 5.44l.94 2.06.94-2.06 2.06-.94-2.06-.94-.94-2.06-.94 2.06-2.06.94zm-11 1L8.5 8.5l.94-2.06 2.06-.94-2.06-.94L8.5 2.5l-.94 2.06-2.06.94zm10 10l.94 2.06.94-2.06 2.06-.94-2.06-.94-.94-2.06-.94 2.06-2.06.94z\"/><path d=\"M17.41 7.96l-1.37-1.37c-.4-.4-.92-.59-1.43-.59-.52 0-1.04.2-1.43.59L10.3 9.45l-7.72 7.72c-.78.78-.78 2.05 0 2.83L4 21.41c.39.39.9.59 1.41.59.51 0 1.02-.2 1.41-.59l7.78-7.78 2.81-2.81c.8-.78.8-2.07 0-2.86zM5.41 20L4 18.59l7.72-7.72 1.47 1.35L5.41 20z\"/>\n",
              "  </svg>\n",
              "      </button>\n",
              "      \n",
              "  <style>\n",
              "    .colab-df-container {\n",
              "      display:flex;\n",
              "      flex-wrap:wrap;\n",
              "      gap: 12px;\n",
              "    }\n",
              "\n",
              "    .colab-df-convert {\n",
              "      background-color: #E8F0FE;\n",
              "      border: none;\n",
              "      border-radius: 50%;\n",
              "      cursor: pointer;\n",
              "      display: none;\n",
              "      fill: #1967D2;\n",
              "      height: 32px;\n",
              "      padding: 0 0 0 0;\n",
              "      width: 32px;\n",
              "    }\n",
              "\n",
              "    .colab-df-convert:hover {\n",
              "      background-color: #E2EBFA;\n",
              "      box-shadow: 0px 1px 2px rgba(60, 64, 67, 0.3), 0px 1px 3px 1px rgba(60, 64, 67, 0.15);\n",
              "      fill: #174EA6;\n",
              "    }\n",
              "\n",
              "    [theme=dark] .colab-df-convert {\n",
              "      background-color: #3B4455;\n",
              "      fill: #D2E3FC;\n",
              "    }\n",
              "\n",
              "    [theme=dark] .colab-df-convert:hover {\n",
              "      background-color: #434B5C;\n",
              "      box-shadow: 0px 1px 3px 1px rgba(0, 0, 0, 0.15);\n",
              "      filter: drop-shadow(0px 1px 2px rgba(0, 0, 0, 0.3));\n",
              "      fill: #FFFFFF;\n",
              "    }\n",
              "  </style>\n",
              "\n",
              "      <script>\n",
              "        const buttonEl =\n",
              "          document.querySelector('#df-6ce11b7a-2b4c-4267-863d-8b5e17fc865f button.colab-df-convert');\n",
              "        buttonEl.style.display =\n",
              "          google.colab.kernel.accessAllowed ? 'block' : 'none';\n",
              "\n",
              "        async function convertToInteractive(key) {\n",
              "          const element = document.querySelector('#df-6ce11b7a-2b4c-4267-863d-8b5e17fc865f');\n",
              "          const dataTable =\n",
              "            await google.colab.kernel.invokeFunction('convertToInteractive',\n",
              "                                                     [key], {});\n",
              "          if (!dataTable) return;\n",
              "\n",
              "          const docLinkHtml = 'Like what you see? Visit the ' +\n",
              "            '<a target=\"_blank\" href=https://colab.research.google.com/notebooks/data_table.ipynb>data table notebook</a>'\n",
              "            + ' to learn more about interactive tables.';\n",
              "          element.innerHTML = '';\n",
              "          dataTable['output_type'] = 'display_data';\n",
              "          await google.colab.output.renderOutput(dataTable, element);\n",
              "          const docLink = document.createElement('div');\n",
              "          docLink.innerHTML = docLinkHtml;\n",
              "          element.appendChild(docLink);\n",
              "        }\n",
              "      </script>\n",
              "    </div>\n",
              "  </div>\n",
              "  "
            ]
          },
          "metadata": {},
          "execution_count": 37
        }
      ],
      "source": [
        "df_tiktok_19.head()"
      ]
    },
    {
      "cell_type": "code",
      "execution_count": 38,
      "metadata": {
        "id": "9txjEQY71b4g",
        "outputId": "f087f7ac-978c-4674-e6d3-47aa9d0d1ce5",
        "colab": {
          "base_uri": "https://localhost:8080/",
          "height": 250
        }
      },
      "outputs": [
        {
          "output_type": "execute_result",
          "data": {
            "text/plain": [
              "                         track_name          artist_name  artist_pop  \\\n",
              "0                            Say So             Doja Cat          88   \n",
              "1                   Blinding Lights           The Weeknd          93   \n",
              "2  Supalonely (feat. Gus Dapperton)                BENEE          67   \n",
              "3                            Savage  Megan Thee Stallion          82   \n",
              "4                Moral of the Story                 Ashe          68   \n",
              "\n",
              "                album  track_pop  danceability  energy  loudness  mode  key  \\\n",
              "0            Hot Pink         80         0.787   0.673    -4.583     0   11   \n",
              "1         After Hours         90         0.514   0.730    -5.934     1    1   \n",
              "2             Hey u x         63         0.862   0.631    -4.746     1    7   \n",
              "3                Suga         70         0.843   0.741    -5.609     1   11   \n",
              "4  Moral of the Story         76         0.572   0.406    -8.624     1   10   \n",
              "\n",
              "   speechiness  acousticness  instrumentalness  liveness  valence    tempo  \\\n",
              "0       0.1590       0.26400          0.000003    0.0904    0.779  110.962   \n",
              "1       0.0598       0.00146          0.000095    0.0897    0.334  171.005   \n",
              "2       0.0515       0.29100          0.000209    0.1230    0.841  128.978   \n",
              "3       0.3340       0.02520          0.000000    0.0960    0.680  168.983   \n",
              "4       0.0427       0.58700          0.000004    0.1020    0.265  119.812   \n",
              "\n",
              "   time_signature  duration_ms  \n",
              "0               4       237893  \n",
              "1               4       200040  \n",
              "2               4       223488  \n",
              "3               4       155497  \n",
              "4               4       201084  "
            ],
            "text/html": [
              "\n",
              "  <div id=\"df-41ccb005-5c6b-43c2-addb-0085e1cdce2f\">\n",
              "    <div class=\"colab-df-container\">\n",
              "      <div>\n",
              "<style scoped>\n",
              "    .dataframe tbody tr th:only-of-type {\n",
              "        vertical-align: middle;\n",
              "    }\n",
              "\n",
              "    .dataframe tbody tr th {\n",
              "        vertical-align: top;\n",
              "    }\n",
              "\n",
              "    .dataframe thead th {\n",
              "        text-align: right;\n",
              "    }\n",
              "</style>\n",
              "<table border=\"1\" class=\"dataframe\">\n",
              "  <thead>\n",
              "    <tr style=\"text-align: right;\">\n",
              "      <th></th>\n",
              "      <th>track_name</th>\n",
              "      <th>artist_name</th>\n",
              "      <th>artist_pop</th>\n",
              "      <th>album</th>\n",
              "      <th>track_pop</th>\n",
              "      <th>danceability</th>\n",
              "      <th>energy</th>\n",
              "      <th>loudness</th>\n",
              "      <th>mode</th>\n",
              "      <th>key</th>\n",
              "      <th>speechiness</th>\n",
              "      <th>acousticness</th>\n",
              "      <th>instrumentalness</th>\n",
              "      <th>liveness</th>\n",
              "      <th>valence</th>\n",
              "      <th>tempo</th>\n",
              "      <th>time_signature</th>\n",
              "      <th>duration_ms</th>\n",
              "    </tr>\n",
              "  </thead>\n",
              "  <tbody>\n",
              "    <tr>\n",
              "      <th>0</th>\n",
              "      <td>Say So</td>\n",
              "      <td>Doja Cat</td>\n",
              "      <td>88</td>\n",
              "      <td>Hot Pink</td>\n",
              "      <td>80</td>\n",
              "      <td>0.787</td>\n",
              "      <td>0.673</td>\n",
              "      <td>-4.583</td>\n",
              "      <td>0</td>\n",
              "      <td>11</td>\n",
              "      <td>0.1590</td>\n",
              "      <td>0.26400</td>\n",
              "      <td>0.000003</td>\n",
              "      <td>0.0904</td>\n",
              "      <td>0.779</td>\n",
              "      <td>110.962</td>\n",
              "      <td>4</td>\n",
              "      <td>237893</td>\n",
              "    </tr>\n",
              "    <tr>\n",
              "      <th>1</th>\n",
              "      <td>Blinding Lights</td>\n",
              "      <td>The Weeknd</td>\n",
              "      <td>93</td>\n",
              "      <td>After Hours</td>\n",
              "      <td>90</td>\n",
              "      <td>0.514</td>\n",
              "      <td>0.730</td>\n",
              "      <td>-5.934</td>\n",
              "      <td>1</td>\n",
              "      <td>1</td>\n",
              "      <td>0.0598</td>\n",
              "      <td>0.00146</td>\n",
              "      <td>0.000095</td>\n",
              "      <td>0.0897</td>\n",
              "      <td>0.334</td>\n",
              "      <td>171.005</td>\n",
              "      <td>4</td>\n",
              "      <td>200040</td>\n",
              "    </tr>\n",
              "    <tr>\n",
              "      <th>2</th>\n",
              "      <td>Supalonely (feat. Gus Dapperton)</td>\n",
              "      <td>BENEE</td>\n",
              "      <td>67</td>\n",
              "      <td>Hey u x</td>\n",
              "      <td>63</td>\n",
              "      <td>0.862</td>\n",
              "      <td>0.631</td>\n",
              "      <td>-4.746</td>\n",
              "      <td>1</td>\n",
              "      <td>7</td>\n",
              "      <td>0.0515</td>\n",
              "      <td>0.29100</td>\n",
              "      <td>0.000209</td>\n",
              "      <td>0.1230</td>\n",
              "      <td>0.841</td>\n",
              "      <td>128.978</td>\n",
              "      <td>4</td>\n",
              "      <td>223488</td>\n",
              "    </tr>\n",
              "    <tr>\n",
              "      <th>3</th>\n",
              "      <td>Savage</td>\n",
              "      <td>Megan Thee Stallion</td>\n",
              "      <td>82</td>\n",
              "      <td>Suga</td>\n",
              "      <td>70</td>\n",
              "      <td>0.843</td>\n",
              "      <td>0.741</td>\n",
              "      <td>-5.609</td>\n",
              "      <td>1</td>\n",
              "      <td>11</td>\n",
              "      <td>0.3340</td>\n",
              "      <td>0.02520</td>\n",
              "      <td>0.000000</td>\n",
              "      <td>0.0960</td>\n",
              "      <td>0.680</td>\n",
              "      <td>168.983</td>\n",
              "      <td>4</td>\n",
              "      <td>155497</td>\n",
              "    </tr>\n",
              "    <tr>\n",
              "      <th>4</th>\n",
              "      <td>Moral of the Story</td>\n",
              "      <td>Ashe</td>\n",
              "      <td>68</td>\n",
              "      <td>Moral of the Story</td>\n",
              "      <td>76</td>\n",
              "      <td>0.572</td>\n",
              "      <td>0.406</td>\n",
              "      <td>-8.624</td>\n",
              "      <td>1</td>\n",
              "      <td>10</td>\n",
              "      <td>0.0427</td>\n",
              "      <td>0.58700</td>\n",
              "      <td>0.000004</td>\n",
              "      <td>0.1020</td>\n",
              "      <td>0.265</td>\n",
              "      <td>119.812</td>\n",
              "      <td>4</td>\n",
              "      <td>201084</td>\n",
              "    </tr>\n",
              "  </tbody>\n",
              "</table>\n",
              "</div>\n",
              "      <button class=\"colab-df-convert\" onclick=\"convertToInteractive('df-41ccb005-5c6b-43c2-addb-0085e1cdce2f')\"\n",
              "              title=\"Convert this dataframe to an interactive table.\"\n",
              "              style=\"display:none;\">\n",
              "        \n",
              "  <svg xmlns=\"http://www.w3.org/2000/svg\" height=\"24px\"viewBox=\"0 0 24 24\"\n",
              "       width=\"24px\">\n",
              "    <path d=\"M0 0h24v24H0V0z\" fill=\"none\"/>\n",
              "    <path d=\"M18.56 5.44l.94 2.06.94-2.06 2.06-.94-2.06-.94-.94-2.06-.94 2.06-2.06.94zm-11 1L8.5 8.5l.94-2.06 2.06-.94-2.06-.94L8.5 2.5l-.94 2.06-2.06.94zm10 10l.94 2.06.94-2.06 2.06-.94-2.06-.94-.94-2.06-.94 2.06-2.06.94z\"/><path d=\"M17.41 7.96l-1.37-1.37c-.4-.4-.92-.59-1.43-.59-.52 0-1.04.2-1.43.59L10.3 9.45l-7.72 7.72c-.78.78-.78 2.05 0 2.83L4 21.41c.39.39.9.59 1.41.59.51 0 1.02-.2 1.41-.59l7.78-7.78 2.81-2.81c.8-.78.8-2.07 0-2.86zM5.41 20L4 18.59l7.72-7.72 1.47 1.35L5.41 20z\"/>\n",
              "  </svg>\n",
              "      </button>\n",
              "      \n",
              "  <style>\n",
              "    .colab-df-container {\n",
              "      display:flex;\n",
              "      flex-wrap:wrap;\n",
              "      gap: 12px;\n",
              "    }\n",
              "\n",
              "    .colab-df-convert {\n",
              "      background-color: #E8F0FE;\n",
              "      border: none;\n",
              "      border-radius: 50%;\n",
              "      cursor: pointer;\n",
              "      display: none;\n",
              "      fill: #1967D2;\n",
              "      height: 32px;\n",
              "      padding: 0 0 0 0;\n",
              "      width: 32px;\n",
              "    }\n",
              "\n",
              "    .colab-df-convert:hover {\n",
              "      background-color: #E2EBFA;\n",
              "      box-shadow: 0px 1px 2px rgba(60, 64, 67, 0.3), 0px 1px 3px 1px rgba(60, 64, 67, 0.15);\n",
              "      fill: #174EA6;\n",
              "    }\n",
              "\n",
              "    [theme=dark] .colab-df-convert {\n",
              "      background-color: #3B4455;\n",
              "      fill: #D2E3FC;\n",
              "    }\n",
              "\n",
              "    [theme=dark] .colab-df-convert:hover {\n",
              "      background-color: #434B5C;\n",
              "      box-shadow: 0px 1px 3px 1px rgba(0, 0, 0, 0.15);\n",
              "      filter: drop-shadow(0px 1px 2px rgba(0, 0, 0, 0.3));\n",
              "      fill: #FFFFFF;\n",
              "    }\n",
              "  </style>\n",
              "\n",
              "      <script>\n",
              "        const buttonEl =\n",
              "          document.querySelector('#df-41ccb005-5c6b-43c2-addb-0085e1cdce2f button.colab-df-convert');\n",
              "        buttonEl.style.display =\n",
              "          google.colab.kernel.accessAllowed ? 'block' : 'none';\n",
              "\n",
              "        async function convertToInteractive(key) {\n",
              "          const element = document.querySelector('#df-41ccb005-5c6b-43c2-addb-0085e1cdce2f');\n",
              "          const dataTable =\n",
              "            await google.colab.kernel.invokeFunction('convertToInteractive',\n",
              "                                                     [key], {});\n",
              "          if (!dataTable) return;\n",
              "\n",
              "          const docLinkHtml = 'Like what you see? Visit the ' +\n",
              "            '<a target=\"_blank\" href=https://colab.research.google.com/notebooks/data_table.ipynb>data table notebook</a>'\n",
              "            + ' to learn more about interactive tables.';\n",
              "          element.innerHTML = '';\n",
              "          dataTable['output_type'] = 'display_data';\n",
              "          await google.colab.output.renderOutput(dataTable, element);\n",
              "          const docLink = document.createElement('div');\n",
              "          docLink.innerHTML = docLinkHtml;\n",
              "          element.appendChild(docLink);\n",
              "        }\n",
              "      </script>\n",
              "    </div>\n",
              "  </div>\n",
              "  "
            ]
          },
          "metadata": {},
          "execution_count": 38
        }
      ],
      "source": [
        "df_tiktok_20.head()"
      ]
    },
    {
      "cell_type": "code",
      "execution_count": 39,
      "metadata": {
        "id": "IhbEd8of1cI5",
        "outputId": "8cccb82e-7c1d-43ec-a14d-877590c9a9fd",
        "colab": {
          "base_uri": "https://localhost:8080/",
          "height": 302
        }
      },
      "outputs": [
        {
          "output_type": "execute_result",
          "data": {
            "text/plain": [
              "                               track_name    artist_name  artist_pop  \\\n",
              "0               STAY (with Justin Bieber)  The Kid LAROI          83   \n",
              "1  Peaches (feat. Daniel Caesar & Giveon)  Justin Bieber          90   \n",
              "2              edamame (feat. Rich Brian)          bbno$          72   \n",
              "3                     Here's Your Perfect   Jamie Miller          65   \n",
              "4                                It's You        Sezairi          57   \n",
              "\n",
              "                        album  track_pop  danceability  energy  loudness  \\\n",
              "0   STAY (with Justin Bieber)         89         0.591   0.764    -5.484   \n",
              "1                     Justice         86         0.677   0.696    -6.181   \n",
              "2  edamame (feat. Rich Brian)         77         0.815   0.848    -4.704   \n",
              "3         Here's Your Perfect         77         0.558   0.454    -5.335   \n",
              "4                    It's You         73         0.630   0.456    -8.285   \n",
              "\n",
              "   mode  key  speechiness  acousticness  instrumentalness  liveness  valence  \\\n",
              "0     1    1       0.0483        0.0383          0.000000    0.1030    0.478   \n",
              "1     1    0       0.1190        0.3210          0.000000    0.4200    0.464   \n",
              "2     0    4       0.1150        0.0230          0.000162    0.0265    0.684   \n",
              "3     1    6       0.0551        0.4990          0.000000    0.1460    0.424   \n",
              "4     1    8       0.0317        0.5450          0.000000    0.1140    0.166   \n",
              "\n",
              "     tempo  time_signature  duration_ms  \n",
              "0  169.928               4       141806  \n",
              "1   90.030               4       198082  \n",
              "2  106.032               4       133707  \n",
              "3  113.120               4       158594  \n",
              "4  137.915               3       251440  "
            ],
            "text/html": [
              "\n",
              "  <div id=\"df-7d1f466d-fe8e-4b9c-a079-454652e5e02c\">\n",
              "    <div class=\"colab-df-container\">\n",
              "      <div>\n",
              "<style scoped>\n",
              "    .dataframe tbody tr th:only-of-type {\n",
              "        vertical-align: middle;\n",
              "    }\n",
              "\n",
              "    .dataframe tbody tr th {\n",
              "        vertical-align: top;\n",
              "    }\n",
              "\n",
              "    .dataframe thead th {\n",
              "        text-align: right;\n",
              "    }\n",
              "</style>\n",
              "<table border=\"1\" class=\"dataframe\">\n",
              "  <thead>\n",
              "    <tr style=\"text-align: right;\">\n",
              "      <th></th>\n",
              "      <th>track_name</th>\n",
              "      <th>artist_name</th>\n",
              "      <th>artist_pop</th>\n",
              "      <th>album</th>\n",
              "      <th>track_pop</th>\n",
              "      <th>danceability</th>\n",
              "      <th>energy</th>\n",
              "      <th>loudness</th>\n",
              "      <th>mode</th>\n",
              "      <th>key</th>\n",
              "      <th>speechiness</th>\n",
              "      <th>acousticness</th>\n",
              "      <th>instrumentalness</th>\n",
              "      <th>liveness</th>\n",
              "      <th>valence</th>\n",
              "      <th>tempo</th>\n",
              "      <th>time_signature</th>\n",
              "      <th>duration_ms</th>\n",
              "    </tr>\n",
              "  </thead>\n",
              "  <tbody>\n",
              "    <tr>\n",
              "      <th>0</th>\n",
              "      <td>STAY (with Justin Bieber)</td>\n",
              "      <td>The Kid LAROI</td>\n",
              "      <td>83</td>\n",
              "      <td>STAY (with Justin Bieber)</td>\n",
              "      <td>89</td>\n",
              "      <td>0.591</td>\n",
              "      <td>0.764</td>\n",
              "      <td>-5.484</td>\n",
              "      <td>1</td>\n",
              "      <td>1</td>\n",
              "      <td>0.0483</td>\n",
              "      <td>0.0383</td>\n",
              "      <td>0.000000</td>\n",
              "      <td>0.1030</td>\n",
              "      <td>0.478</td>\n",
              "      <td>169.928</td>\n",
              "      <td>4</td>\n",
              "      <td>141806</td>\n",
              "    </tr>\n",
              "    <tr>\n",
              "      <th>1</th>\n",
              "      <td>Peaches (feat. Daniel Caesar &amp; Giveon)</td>\n",
              "      <td>Justin Bieber</td>\n",
              "      <td>90</td>\n",
              "      <td>Justice</td>\n",
              "      <td>86</td>\n",
              "      <td>0.677</td>\n",
              "      <td>0.696</td>\n",
              "      <td>-6.181</td>\n",
              "      <td>1</td>\n",
              "      <td>0</td>\n",
              "      <td>0.1190</td>\n",
              "      <td>0.3210</td>\n",
              "      <td>0.000000</td>\n",
              "      <td>0.4200</td>\n",
              "      <td>0.464</td>\n",
              "      <td>90.030</td>\n",
              "      <td>4</td>\n",
              "      <td>198082</td>\n",
              "    </tr>\n",
              "    <tr>\n",
              "      <th>2</th>\n",
              "      <td>edamame (feat. Rich Brian)</td>\n",
              "      <td>bbno$</td>\n",
              "      <td>72</td>\n",
              "      <td>edamame (feat. Rich Brian)</td>\n",
              "      <td>77</td>\n",
              "      <td>0.815</td>\n",
              "      <td>0.848</td>\n",
              "      <td>-4.704</td>\n",
              "      <td>0</td>\n",
              "      <td>4</td>\n",
              "      <td>0.1150</td>\n",
              "      <td>0.0230</td>\n",
              "      <td>0.000162</td>\n",
              "      <td>0.0265</td>\n",
              "      <td>0.684</td>\n",
              "      <td>106.032</td>\n",
              "      <td>4</td>\n",
              "      <td>133707</td>\n",
              "    </tr>\n",
              "    <tr>\n",
              "      <th>3</th>\n",
              "      <td>Here's Your Perfect</td>\n",
              "      <td>Jamie Miller</td>\n",
              "      <td>65</td>\n",
              "      <td>Here's Your Perfect</td>\n",
              "      <td>77</td>\n",
              "      <td>0.558</td>\n",
              "      <td>0.454</td>\n",
              "      <td>-5.335</td>\n",
              "      <td>1</td>\n",
              "      <td>6</td>\n",
              "      <td>0.0551</td>\n",
              "      <td>0.4990</td>\n",
              "      <td>0.000000</td>\n",
              "      <td>0.1460</td>\n",
              "      <td>0.424</td>\n",
              "      <td>113.120</td>\n",
              "      <td>4</td>\n",
              "      <td>158594</td>\n",
              "    </tr>\n",
              "    <tr>\n",
              "      <th>4</th>\n",
              "      <td>It's You</td>\n",
              "      <td>Sezairi</td>\n",
              "      <td>57</td>\n",
              "      <td>It's You</td>\n",
              "      <td>73</td>\n",
              "      <td>0.630</td>\n",
              "      <td>0.456</td>\n",
              "      <td>-8.285</td>\n",
              "      <td>1</td>\n",
              "      <td>8</td>\n",
              "      <td>0.0317</td>\n",
              "      <td>0.5450</td>\n",
              "      <td>0.000000</td>\n",
              "      <td>0.1140</td>\n",
              "      <td>0.166</td>\n",
              "      <td>137.915</td>\n",
              "      <td>3</td>\n",
              "      <td>251440</td>\n",
              "    </tr>\n",
              "  </tbody>\n",
              "</table>\n",
              "</div>\n",
              "      <button class=\"colab-df-convert\" onclick=\"convertToInteractive('df-7d1f466d-fe8e-4b9c-a079-454652e5e02c')\"\n",
              "              title=\"Convert this dataframe to an interactive table.\"\n",
              "              style=\"display:none;\">\n",
              "        \n",
              "  <svg xmlns=\"http://www.w3.org/2000/svg\" height=\"24px\"viewBox=\"0 0 24 24\"\n",
              "       width=\"24px\">\n",
              "    <path d=\"M0 0h24v24H0V0z\" fill=\"none\"/>\n",
              "    <path d=\"M18.56 5.44l.94 2.06.94-2.06 2.06-.94-2.06-.94-.94-2.06-.94 2.06-2.06.94zm-11 1L8.5 8.5l.94-2.06 2.06-.94-2.06-.94L8.5 2.5l-.94 2.06-2.06.94zm10 10l.94 2.06.94-2.06 2.06-.94-2.06-.94-.94-2.06-.94 2.06-2.06.94z\"/><path d=\"M17.41 7.96l-1.37-1.37c-.4-.4-.92-.59-1.43-.59-.52 0-1.04.2-1.43.59L10.3 9.45l-7.72 7.72c-.78.78-.78 2.05 0 2.83L4 21.41c.39.39.9.59 1.41.59.51 0 1.02-.2 1.41-.59l7.78-7.78 2.81-2.81c.8-.78.8-2.07 0-2.86zM5.41 20L4 18.59l7.72-7.72 1.47 1.35L5.41 20z\"/>\n",
              "  </svg>\n",
              "      </button>\n",
              "      \n",
              "  <style>\n",
              "    .colab-df-container {\n",
              "      display:flex;\n",
              "      flex-wrap:wrap;\n",
              "      gap: 12px;\n",
              "    }\n",
              "\n",
              "    .colab-df-convert {\n",
              "      background-color: #E8F0FE;\n",
              "      border: none;\n",
              "      border-radius: 50%;\n",
              "      cursor: pointer;\n",
              "      display: none;\n",
              "      fill: #1967D2;\n",
              "      height: 32px;\n",
              "      padding: 0 0 0 0;\n",
              "      width: 32px;\n",
              "    }\n",
              "\n",
              "    .colab-df-convert:hover {\n",
              "      background-color: #E2EBFA;\n",
              "      box-shadow: 0px 1px 2px rgba(60, 64, 67, 0.3), 0px 1px 3px 1px rgba(60, 64, 67, 0.15);\n",
              "      fill: #174EA6;\n",
              "    }\n",
              "\n",
              "    [theme=dark] .colab-df-convert {\n",
              "      background-color: #3B4455;\n",
              "      fill: #D2E3FC;\n",
              "    }\n",
              "\n",
              "    [theme=dark] .colab-df-convert:hover {\n",
              "      background-color: #434B5C;\n",
              "      box-shadow: 0px 1px 3px 1px rgba(0, 0, 0, 0.15);\n",
              "      filter: drop-shadow(0px 1px 2px rgba(0, 0, 0, 0.3));\n",
              "      fill: #FFFFFF;\n",
              "    }\n",
              "  </style>\n",
              "\n",
              "      <script>\n",
              "        const buttonEl =\n",
              "          document.querySelector('#df-7d1f466d-fe8e-4b9c-a079-454652e5e02c button.colab-df-convert');\n",
              "        buttonEl.style.display =\n",
              "          google.colab.kernel.accessAllowed ? 'block' : 'none';\n",
              "\n",
              "        async function convertToInteractive(key) {\n",
              "          const element = document.querySelector('#df-7d1f466d-fe8e-4b9c-a079-454652e5e02c');\n",
              "          const dataTable =\n",
              "            await google.colab.kernel.invokeFunction('convertToInteractive',\n",
              "                                                     [key], {});\n",
              "          if (!dataTable) return;\n",
              "\n",
              "          const docLinkHtml = 'Like what you see? Visit the ' +\n",
              "            '<a target=\"_blank\" href=https://colab.research.google.com/notebooks/data_table.ipynb>data table notebook</a>'\n",
              "            + ' to learn more about interactive tables.';\n",
              "          element.innerHTML = '';\n",
              "          dataTable['output_type'] = 'display_data';\n",
              "          await google.colab.output.renderOutput(dataTable, element);\n",
              "          const docLink = document.createElement('div');\n",
              "          docLink.innerHTML = docLinkHtml;\n",
              "          element.appendChild(docLink);\n",
              "        }\n",
              "      </script>\n",
              "    </div>\n",
              "  </div>\n",
              "  "
            ]
          },
          "metadata": {},
          "execution_count": 39
        }
      ],
      "source": [
        "df_tiktok_21.head()"
      ]
    },
    {
      "cell_type": "code",
      "execution_count": 40,
      "metadata": {
        "id": "KKJBDGC21cZF"
      },
      "outputs": [],
      "source": [
        "# Combine the tiktok datasets\n",
        "data_tiktok = [df_tiktok_19, df_tiktok_20, df_tiktok_21]\n",
        "df_tiktok_full = pd.concat(data_tiktok)"
      ]
    },
    {
      "cell_type": "code",
      "execution_count": 41,
      "metadata": {
        "id": "5AXhyqlrMnYp",
        "outputId": "a8d01375-656a-4bc1-8744-2217c950b560",
        "colab": {
          "base_uri": "https://localhost:8080/"
        }
      },
      "outputs": [
        {
          "output_type": "execute_result",
          "data": {
            "text/plain": [
              "705"
            ]
          },
          "metadata": {},
          "execution_count": 41
        }
      ],
      "source": [
        "# Extract the track name and artist to check for the overlap\n",
        "df_tiktok_tracks = df_tiktok_full[['track_name', 'artist_name']]\n",
        "\n",
        "# Check number of rows\n",
        "df_tiktok_tracks.shape[0]"
      ]
    },
    {
      "cell_type": "code",
      "execution_count": 42,
      "metadata": {
        "id": "qBAyfruiUPD1",
        "outputId": "c6318104-fbc1-4d3d-be0d-b735a2b9a739",
        "colab": {
          "base_uri": "https://localhost:8080/"
        }
      },
      "outputs": [
        {
          "output_type": "execute_result",
          "data": {
            "text/plain": [
              "716"
            ]
          },
          "metadata": {},
          "execution_count": 42
        }
      ],
      "source": [
        "# Merge with spotify features on track names only to check overlap\n",
        "df_tiktok_tracks_only = feature_matches.merge(df_tiktok_tracks.drop_duplicates(), left_on = ['title'], right_on=['track_name'], how='inner')\n",
        "\n",
        "# Check overlap\n",
        "df_tiktok_tracks_only.shape[0]"
      ]
    },
    {
      "cell_type": "code",
      "execution_count": 43,
      "metadata": {
        "id": "2C0fFJATUy4M"
      },
      "outputs": [],
      "source": [
        "# Review rows that didn't match to see if there's more clean-up that can be done \n",
        "df_tiktok_full_merge = feature_matches.merge(df_tiktok_tracks.drop_duplicates(), left_on = ['title'], right_on=['track_name'], how='outer', indicator = True)"
      ]
    },
    {
      "cell_type": "code",
      "execution_count": 44,
      "metadata": {
        "id": "tnSpyq4oV8bu",
        "outputId": "f3c369d4-0101-4f4f-d23d-c6dc2014b53a",
        "colab": {
          "base_uri": "https://localhost:8080/",
          "height": 206
        }
      },
      "outputs": [
        {
          "output_type": "execute_result",
          "data": {
            "text/plain": [
              "     title                  artist   artist_y track_name artist_name  \\\n",
              "0  Ride It                  Regard        NaN    Ride It      Regard   \n",
              "1   +Linda                   Dalex        NaN        NaN         NaN   \n",
              "2     Woah                Lil Baby        NaN        NaN         NaN   \n",
              "3     Woah  Calinacho, Ian, Azteca  Calinacho        NaN         NaN   \n",
              "4     25/8               Bad Bunny        NaN        NaN         NaN   \n",
              "\n",
              "      _merge  \n",
              "0       both  \n",
              "1  left_only  \n",
              "2  left_only  \n",
              "3  left_only  \n",
              "4  left_only  "
            ],
            "text/html": [
              "\n",
              "  <div id=\"df-2f9ab985-d4b2-442e-a29b-f04255e9e6b2\">\n",
              "    <div class=\"colab-df-container\">\n",
              "      <div>\n",
              "<style scoped>\n",
              "    .dataframe tbody tr th:only-of-type {\n",
              "        vertical-align: middle;\n",
              "    }\n",
              "\n",
              "    .dataframe tbody tr th {\n",
              "        vertical-align: top;\n",
              "    }\n",
              "\n",
              "    .dataframe thead th {\n",
              "        text-align: right;\n",
              "    }\n",
              "</style>\n",
              "<table border=\"1\" class=\"dataframe\">\n",
              "  <thead>\n",
              "    <tr style=\"text-align: right;\">\n",
              "      <th></th>\n",
              "      <th>title</th>\n",
              "      <th>artist</th>\n",
              "      <th>artist_y</th>\n",
              "      <th>track_name</th>\n",
              "      <th>artist_name</th>\n",
              "      <th>_merge</th>\n",
              "    </tr>\n",
              "  </thead>\n",
              "  <tbody>\n",
              "    <tr>\n",
              "      <th>0</th>\n",
              "      <td>Ride It</td>\n",
              "      <td>Regard</td>\n",
              "      <td>NaN</td>\n",
              "      <td>Ride It</td>\n",
              "      <td>Regard</td>\n",
              "      <td>both</td>\n",
              "    </tr>\n",
              "    <tr>\n",
              "      <th>1</th>\n",
              "      <td>+Linda</td>\n",
              "      <td>Dalex</td>\n",
              "      <td>NaN</td>\n",
              "      <td>NaN</td>\n",
              "      <td>NaN</td>\n",
              "      <td>left_only</td>\n",
              "    </tr>\n",
              "    <tr>\n",
              "      <th>2</th>\n",
              "      <td>Woah</td>\n",
              "      <td>Lil Baby</td>\n",
              "      <td>NaN</td>\n",
              "      <td>NaN</td>\n",
              "      <td>NaN</td>\n",
              "      <td>left_only</td>\n",
              "    </tr>\n",
              "    <tr>\n",
              "      <th>3</th>\n",
              "      <td>Woah</td>\n",
              "      <td>Calinacho, Ian, Azteca</td>\n",
              "      <td>Calinacho</td>\n",
              "      <td>NaN</td>\n",
              "      <td>NaN</td>\n",
              "      <td>left_only</td>\n",
              "    </tr>\n",
              "    <tr>\n",
              "      <th>4</th>\n",
              "      <td>25/8</td>\n",
              "      <td>Bad Bunny</td>\n",
              "      <td>NaN</td>\n",
              "      <td>NaN</td>\n",
              "      <td>NaN</td>\n",
              "      <td>left_only</td>\n",
              "    </tr>\n",
              "  </tbody>\n",
              "</table>\n",
              "</div>\n",
              "      <button class=\"colab-df-convert\" onclick=\"convertToInteractive('df-2f9ab985-d4b2-442e-a29b-f04255e9e6b2')\"\n",
              "              title=\"Convert this dataframe to an interactive table.\"\n",
              "              style=\"display:none;\">\n",
              "        \n",
              "  <svg xmlns=\"http://www.w3.org/2000/svg\" height=\"24px\"viewBox=\"0 0 24 24\"\n",
              "       width=\"24px\">\n",
              "    <path d=\"M0 0h24v24H0V0z\" fill=\"none\"/>\n",
              "    <path d=\"M18.56 5.44l.94 2.06.94-2.06 2.06-.94-2.06-.94-.94-2.06-.94 2.06-2.06.94zm-11 1L8.5 8.5l.94-2.06 2.06-.94-2.06-.94L8.5 2.5l-.94 2.06-2.06.94zm10 10l.94 2.06.94-2.06 2.06-.94-2.06-.94-.94-2.06-.94 2.06-2.06.94z\"/><path d=\"M17.41 7.96l-1.37-1.37c-.4-.4-.92-.59-1.43-.59-.52 0-1.04.2-1.43.59L10.3 9.45l-7.72 7.72c-.78.78-.78 2.05 0 2.83L4 21.41c.39.39.9.59 1.41.59.51 0 1.02-.2 1.41-.59l7.78-7.78 2.81-2.81c.8-.78.8-2.07 0-2.86zM5.41 20L4 18.59l7.72-7.72 1.47 1.35L5.41 20z\"/>\n",
              "  </svg>\n",
              "      </button>\n",
              "      \n",
              "  <style>\n",
              "    .colab-df-container {\n",
              "      display:flex;\n",
              "      flex-wrap:wrap;\n",
              "      gap: 12px;\n",
              "    }\n",
              "\n",
              "    .colab-df-convert {\n",
              "      background-color: #E8F0FE;\n",
              "      border: none;\n",
              "      border-radius: 50%;\n",
              "      cursor: pointer;\n",
              "      display: none;\n",
              "      fill: #1967D2;\n",
              "      height: 32px;\n",
              "      padding: 0 0 0 0;\n",
              "      width: 32px;\n",
              "    }\n",
              "\n",
              "    .colab-df-convert:hover {\n",
              "      background-color: #E2EBFA;\n",
              "      box-shadow: 0px 1px 2px rgba(60, 64, 67, 0.3), 0px 1px 3px 1px rgba(60, 64, 67, 0.15);\n",
              "      fill: #174EA6;\n",
              "    }\n",
              "\n",
              "    [theme=dark] .colab-df-convert {\n",
              "      background-color: #3B4455;\n",
              "      fill: #D2E3FC;\n",
              "    }\n",
              "\n",
              "    [theme=dark] .colab-df-convert:hover {\n",
              "      background-color: #434B5C;\n",
              "      box-shadow: 0px 1px 3px 1px rgba(0, 0, 0, 0.15);\n",
              "      filter: drop-shadow(0px 1px 2px rgba(0, 0, 0, 0.3));\n",
              "      fill: #FFFFFF;\n",
              "    }\n",
              "  </style>\n",
              "\n",
              "      <script>\n",
              "        const buttonEl =\n",
              "          document.querySelector('#df-2f9ab985-d4b2-442e-a29b-f04255e9e6b2 button.colab-df-convert');\n",
              "        buttonEl.style.display =\n",
              "          google.colab.kernel.accessAllowed ? 'block' : 'none';\n",
              "\n",
              "        async function convertToInteractive(key) {\n",
              "          const element = document.querySelector('#df-2f9ab985-d4b2-442e-a29b-f04255e9e6b2');\n",
              "          const dataTable =\n",
              "            await google.colab.kernel.invokeFunction('convertToInteractive',\n",
              "                                                     [key], {});\n",
              "          if (!dataTable) return;\n",
              "\n",
              "          const docLinkHtml = 'Like what you see? Visit the ' +\n",
              "            '<a target=\"_blank\" href=https://colab.research.google.com/notebooks/data_table.ipynb>data table notebook</a>'\n",
              "            + ' to learn more about interactive tables.';\n",
              "          element.innerHTML = '';\n",
              "          dataTable['output_type'] = 'display_data';\n",
              "          await google.colab.output.renderOutput(dataTable, element);\n",
              "          const docLink = document.createElement('div');\n",
              "          docLink.innerHTML = docLinkHtml;\n",
              "          element.appendChild(docLink);\n",
              "        }\n",
              "      </script>\n",
              "    </div>\n",
              "  </div>\n",
              "  "
            ]
          },
          "metadata": {},
          "execution_count": 44
        }
      ],
      "source": [
        "df_tiktok_full_merge.head()"
      ]
    },
    {
      "cell_type": "code",
      "execution_count": 45,
      "metadata": {
        "id": "7BUzsCr2VuXv",
        "outputId": "5f4f24a5-5f1c-44d2-9192-fd71cafb892a",
        "colab": {
          "base_uri": "https://localhost:8080/"
        }
      },
      "outputs": [
        {
          "output_type": "stream",
          "name": "stdout",
          "text": [
            "        title                  artist   artist_y  \\\n",
            "1      +Linda                   Dalex        NaN   \n",
            "2        Woah                Lil Baby        NaN   \n",
            "3        Woah  Calinacho, Ian, Azteca  Calinacho   \n",
            "4        25/8               Bad Bunny        NaN   \n",
            "5        Keii                Anuel AA        NaN   \n",
            "...       ...                     ...        ...   \n",
            "24000     NaN                     NaN        NaN   \n",
            "24001     NaN                     NaN        NaN   \n",
            "24002     NaN                     NaN        NaN   \n",
            "24003     NaN                     NaN        NaN   \n",
            "24004     NaN                     NaN        NaN   \n",
            "\n",
            "                                   track_name    artist_name      _merge  \n",
            "1                                         NaN            NaN   left_only  \n",
            "2                                         NaN            NaN   left_only  \n",
            "3                                         NaN            NaN   left_only  \n",
            "4                                         NaN            NaN   left_only  \n",
            "5                                         NaN            NaN   left_only  \n",
            "...                                       ...            ...         ...  \n",
            "24000                           Favorite Girl  Justin Bieber  right_only  \n",
            "24001  Love Tonight - David Guetta Remix Edit         Shouse  right_only  \n",
            "24002                           Polaroid Love        ENHYPEN  right_only  \n",
            "24003                                   Panda      Desiigner  right_only  \n",
            "24004                             TO THE MOON       Jnr Choi  right_only  \n",
            "\n",
            "[23289 rows x 6 columns]\n"
          ]
        }
      ],
      "source": [
        "# Review rows that didn't match to see if there's more clean-up that can be done \n",
        "print(df_tiktok_full_merge[df_tiktok_full_merge['_merge'] != 'both'])"
      ]
    },
    {
      "cell_type": "code",
      "execution_count": 46,
      "metadata": {
        "id": "Wxuu_bf2WYfF",
        "outputId": "79095bf1-91dd-41be-9ac8-86adc67778d9",
        "colab": {
          "base_uri": "https://localhost:8080/"
        }
      },
      "outputs": [
        {
          "output_type": "stream",
          "name": "stdout",
          "text": [
            "Empty DataFrame\n",
            "Columns: [title, artist, artist_y, track_name, artist_name, _merge, title_l, track_name_l]\n",
            "Index: []\n"
          ]
        }
      ],
      "source": [
        "# do a check to see if I convert the track names to lower case, could I get more matches \n",
        "df_tiktok_full_merge.dropna(inplace = True)\n",
        "df_tiktok_full_merge['title_l'] = df_tiktok_full_merge.apply(lambda x : x['title'].lower(), axis =1)\n",
        "df_tiktok_full_merge['track_name_l'] = df_tiktok_full_merge.apply(lambda x : x['track_name'].lower(), axis =1)\n",
        "\n",
        "print(df_tiktok_full_merge[(df_tiktok_full_merge['title_l'] == df_tiktok_full_merge['track_name_l']) & (df_tiktok_full_merge['_merge'] != 'both')])\n",
        "\n",
        "# prints an empty dataframe so the conclusion is that no I can't"
      ]
    },
    {
      "cell_type": "code",
      "execution_count": 47,
      "metadata": {
        "id": "evjfggiCWtcD"
      },
      "outputs": [],
      "source": [
        "# Create a match column to indicate cases where the tiktok artist name can be found as a substring in the spotify artist column \n",
        "df_tiktok_tracks_only['match'] = df_tiktok_tracks_only.apply(lambda x: x['artist_name'].lower().find(x['artist'].lower()), axis=1).ge(0)\n",
        "\n",
        "# Create a match column to indicate cases where the spotify artist column can be found as a substring in the tiktok artist name \n",
        "df_tiktok_tracks_only['match_2'] = df_tiktok_tracks_only.apply(lambda x: x['artist'].lower().find(x['artist_name'].lower()), axis=1).ge(0)"
      ]
    },
    {
      "cell_type": "code",
      "execution_count": 48,
      "metadata": {
        "id": "Ef71rA5qiRYD",
        "outputId": "f04fa5a4-113c-4cf9-fce3-7bc86b17e257",
        "colab": {
          "base_uri": "https://localhost:8080/"
        }
      },
      "outputs": [
        {
          "output_type": "stream",
          "name": "stdout",
          "text": [
            "                            title                          artist  \\\n",
            "0                         Ride It                          Regard   \n",
            "1                           GOOBA                         6ix9ine   \n",
            "2                          Ransom                       Lil Tecca   \n",
            "3                 Don't Start Now                        Dua Lipa   \n",
            "4           Roses - Imanbek Remix                       SAINt JHN   \n",
            "..                            ...                             ...   \n",
            "711                           WTF              Young Spool, JAKOB   \n",
            "712  The Weekend - Funk Wav Remix              SZA, Calvin Harris   \n",
            "713                     Crimewave         Crystal Castles, HEALTH   \n",
            "714                  Eenie Meenie    Sean Kingston, Justin Bieber   \n",
            "715                     Give Love  AKMU, 서기, 신승익, 이찬혁, LEE SUHYUN   \n",
            "\n",
            "                         artist_y                    track_name  \\\n",
            "0                             NaN                       Ride It   \n",
            "1                             NaN                         GOOBA   \n",
            "2                             NaN                        Ransom   \n",
            "3                             NaN               Don't Start Now   \n",
            "4                             NaN         Roses - Imanbek Remix   \n",
            "..                            ...                           ...   \n",
            "711                   Young Spool                           WTF   \n",
            "712  SZA, Calvin Harris, Funk Wav  The Weekend - Funk Wav Remix   \n",
            "713               Crystal Castles                     Crimewave   \n",
            "714                 Sean Kingston                  Eenie Meenie   \n",
            "715                          AKMU                     Give Love   \n",
            "\n",
            "         artist_name  match  match_2  \n",
            "0             Regard   True     True  \n",
            "1            6ix9ine   True     True  \n",
            "2          Lil Tecca   True     True  \n",
            "3           Dua Lipa   True     True  \n",
            "4          SAINt JHN   True     True  \n",
            "..               ...    ...      ...  \n",
            "711      Young Spool  False     True  \n",
            "712              SZA  False     True  \n",
            "713  Crystal Castles  False     True  \n",
            "714    Sean Kingston  False     True  \n",
            "715             AKMU  False     True  \n",
            "\n",
            "[525 rows x 7 columns]\n"
          ]
        }
      ],
      "source": [
        "# review data to see which rows have matched\n",
        "print(df_tiktok_tracks_only[df_tiktok_tracks_only['match'] |df_tiktok_tracks_only['match_2']])"
      ]
    },
    {
      "cell_type": "code",
      "execution_count": 49,
      "metadata": {
        "id": "Y9khMP9ZTkFg",
        "outputId": "eeb021b2-cf0f-41c3-aab2-eba115e38521",
        "colab": {
          "base_uri": "https://localhost:8080/"
        }
      },
      "outputs": [
        {
          "output_type": "stream",
          "name": "stdout",
          "text": [
            "                   title                                   artist artist_y  \\\n",
            "8        Blinding Lights                                  Ouvindo      NaN   \n",
            "10                  Tutu                              Grupo Sigma      NaN   \n",
            "15                Say So  Poorchoice, Cam Sanders, Veronica Bravo      NaN   \n",
            "16                Say So                              Masked Wolf      NaN   \n",
            "20               Falling                             Harry Styles      NaN   \n",
            "..                   ...                                      ...      ...   \n",
            "628          Baby Powder                                Jenevieve      NaN   \n",
            "641  MIDDLE OF THE NIGHT                                 Monsta X      NaN   \n",
            "661             Sunshine                              Young Dolph      NaN   \n",
            "662             Sunshine                              OneRepublic      NaN   \n",
            "679                Yours                                      JIN      NaN   \n",
            "\n",
            "              track_name    artist_name  match  match_2  \n",
            "8        Blinding Lights     The Weeknd  False    False  \n",
            "10                  Tutu         Camilo  False    False  \n",
            "15                Say So       Doja Cat  False    False  \n",
            "16                Say So       Doja Cat  False    False  \n",
            "20               Falling  Trevor Daniel  False    False  \n",
            "..                   ...            ...    ...      ...  \n",
            "628          Baby Powder  Bandingo YGNE  False    False  \n",
            "641  MIDDLE OF THE NIGHT     Elley Duhé  False    False  \n",
            "661             Sunshine      Ant Beale  False    False  \n",
            "662             Sunshine      Ant Beale  False    False  \n",
            "679                Yours         Raiden  False    False  \n",
            "\n",
            "[191 rows x 7 columns]\n"
          ]
        }
      ],
      "source": [
        "# review data to see which rows have not matched\n",
        "print(df_tiktok_tracks_only[(df_tiktok_tracks_only['match'] == False) & (df_tiktok_tracks_only['match_2'] == False)])"
      ]
    },
    {
      "cell_type": "code",
      "execution_count": 50,
      "metadata": {
        "id": "WMJjLZcVijGK",
        "outputId": "dcdcdefe-e471-45c9-9b21-e12d0e61e5d9",
        "colab": {
          "base_uri": "https://localhost:8080/",
          "height": 424
        }
      },
      "outputs": [
        {
          "output_type": "execute_result",
          "data": {
            "text/plain": [
              "                                title                            artist  \\\n",
              "6               Roses - Imanbek Remix  SAINt JHN, Fedez, Dargen D'Amico   \n",
              "9                                Tutu                Camilo, Pedro Capó   \n",
              "11   death bed (coffee for your head)                Powfu, beabadoobee   \n",
              "12   death bed (coffee for your head)                Powfu, beabadoobee   \n",
              "31       Savage Remix (feat. Beyoncé)      Beyoncé, Megan Thee Stallion   \n",
              "..                                ...                               ...   \n",
              "711                               WTF                Young Spool, JAKOB   \n",
              "712      The Weekend - Funk Wav Remix                SZA, Calvin Harris   \n",
              "713                         Crimewave           Crystal Castles, HEALTH   \n",
              "714                      Eenie Meenie      Sean Kingston, Justin Bieber   \n",
              "715                         Give Love    AKMU, 서기, 신승익, 이찬혁, LEE SUHYUN   \n",
              "\n",
              "                         artist_y                        track_name  \\\n",
              "6                       SAINt JHN             Roses - Imanbek Remix   \n",
              "9                             NaN                              Tutu   \n",
              "11                            NaN  death bed (coffee for your head)   \n",
              "12                          Powfu  death bed (coffee for your head)   \n",
              "31                            NaN      Savage Remix (feat. Beyoncé)   \n",
              "..                            ...                               ...   \n",
              "711                   Young Spool                               WTF   \n",
              "712  SZA, Calvin Harris, Funk Wav      The Weekend - Funk Wav Remix   \n",
              "713               Crystal Castles                         Crimewave   \n",
              "714                 Sean Kingston                      Eenie Meenie   \n",
              "715                          AKMU                         Give Love   \n",
              "\n",
              "             artist_name  match  match_2  \n",
              "6              SAINt JHN  False     True  \n",
              "9                 Camilo  False     True  \n",
              "11                 Powfu  False     True  \n",
              "12                 Powfu  False     True  \n",
              "31   Megan Thee Stallion  False     True  \n",
              "..                   ...    ...      ...  \n",
              "711          Young Spool  False     True  \n",
              "712                  SZA  False     True  \n",
              "713      Crystal Castles  False     True  \n",
              "714        Sean Kingston  False     True  \n",
              "715                 AKMU  False     True  \n",
              "\n",
              "[99 rows x 7 columns]"
            ],
            "text/html": [
              "\n",
              "  <div id=\"df-a671d337-71da-4680-87b7-1daa40fe8870\">\n",
              "    <div class=\"colab-df-container\">\n",
              "      <div>\n",
              "<style scoped>\n",
              "    .dataframe tbody tr th:only-of-type {\n",
              "        vertical-align: middle;\n",
              "    }\n",
              "\n",
              "    .dataframe tbody tr th {\n",
              "        vertical-align: top;\n",
              "    }\n",
              "\n",
              "    .dataframe thead th {\n",
              "        text-align: right;\n",
              "    }\n",
              "</style>\n",
              "<table border=\"1\" class=\"dataframe\">\n",
              "  <thead>\n",
              "    <tr style=\"text-align: right;\">\n",
              "      <th></th>\n",
              "      <th>title</th>\n",
              "      <th>artist</th>\n",
              "      <th>artist_y</th>\n",
              "      <th>track_name</th>\n",
              "      <th>artist_name</th>\n",
              "      <th>match</th>\n",
              "      <th>match_2</th>\n",
              "    </tr>\n",
              "  </thead>\n",
              "  <tbody>\n",
              "    <tr>\n",
              "      <th>6</th>\n",
              "      <td>Roses - Imanbek Remix</td>\n",
              "      <td>SAINt JHN, Fedez, Dargen D'Amico</td>\n",
              "      <td>SAINt JHN</td>\n",
              "      <td>Roses - Imanbek Remix</td>\n",
              "      <td>SAINt JHN</td>\n",
              "      <td>False</td>\n",
              "      <td>True</td>\n",
              "    </tr>\n",
              "    <tr>\n",
              "      <th>9</th>\n",
              "      <td>Tutu</td>\n",
              "      <td>Camilo, Pedro Capó</td>\n",
              "      <td>NaN</td>\n",
              "      <td>Tutu</td>\n",
              "      <td>Camilo</td>\n",
              "      <td>False</td>\n",
              "      <td>True</td>\n",
              "    </tr>\n",
              "    <tr>\n",
              "      <th>11</th>\n",
              "      <td>death bed (coffee for your head)</td>\n",
              "      <td>Powfu, beabadoobee</td>\n",
              "      <td>NaN</td>\n",
              "      <td>death bed (coffee for your head)</td>\n",
              "      <td>Powfu</td>\n",
              "      <td>False</td>\n",
              "      <td>True</td>\n",
              "    </tr>\n",
              "    <tr>\n",
              "      <th>12</th>\n",
              "      <td>death bed (coffee for your head)</td>\n",
              "      <td>Powfu, beabadoobee</td>\n",
              "      <td>Powfu</td>\n",
              "      <td>death bed (coffee for your head)</td>\n",
              "      <td>Powfu</td>\n",
              "      <td>False</td>\n",
              "      <td>True</td>\n",
              "    </tr>\n",
              "    <tr>\n",
              "      <th>31</th>\n",
              "      <td>Savage Remix (feat. Beyoncé)</td>\n",
              "      <td>Beyoncé, Megan Thee Stallion</td>\n",
              "      <td>NaN</td>\n",
              "      <td>Savage Remix (feat. Beyoncé)</td>\n",
              "      <td>Megan Thee Stallion</td>\n",
              "      <td>False</td>\n",
              "      <td>True</td>\n",
              "    </tr>\n",
              "    <tr>\n",
              "      <th>...</th>\n",
              "      <td>...</td>\n",
              "      <td>...</td>\n",
              "      <td>...</td>\n",
              "      <td>...</td>\n",
              "      <td>...</td>\n",
              "      <td>...</td>\n",
              "      <td>...</td>\n",
              "    </tr>\n",
              "    <tr>\n",
              "      <th>711</th>\n",
              "      <td>WTF</td>\n",
              "      <td>Young Spool, JAKOB</td>\n",
              "      <td>Young Spool</td>\n",
              "      <td>WTF</td>\n",
              "      <td>Young Spool</td>\n",
              "      <td>False</td>\n",
              "      <td>True</td>\n",
              "    </tr>\n",
              "    <tr>\n",
              "      <th>712</th>\n",
              "      <td>The Weekend - Funk Wav Remix</td>\n",
              "      <td>SZA, Calvin Harris</td>\n",
              "      <td>SZA, Calvin Harris, Funk Wav</td>\n",
              "      <td>The Weekend - Funk Wav Remix</td>\n",
              "      <td>SZA</td>\n",
              "      <td>False</td>\n",
              "      <td>True</td>\n",
              "    </tr>\n",
              "    <tr>\n",
              "      <th>713</th>\n",
              "      <td>Crimewave</td>\n",
              "      <td>Crystal Castles, HEALTH</td>\n",
              "      <td>Crystal Castles</td>\n",
              "      <td>Crimewave</td>\n",
              "      <td>Crystal Castles</td>\n",
              "      <td>False</td>\n",
              "      <td>True</td>\n",
              "    </tr>\n",
              "    <tr>\n",
              "      <th>714</th>\n",
              "      <td>Eenie Meenie</td>\n",
              "      <td>Sean Kingston, Justin Bieber</td>\n",
              "      <td>Sean Kingston</td>\n",
              "      <td>Eenie Meenie</td>\n",
              "      <td>Sean Kingston</td>\n",
              "      <td>False</td>\n",
              "      <td>True</td>\n",
              "    </tr>\n",
              "    <tr>\n",
              "      <th>715</th>\n",
              "      <td>Give Love</td>\n",
              "      <td>AKMU, 서기, 신승익, 이찬혁, LEE SUHYUN</td>\n",
              "      <td>AKMU</td>\n",
              "      <td>Give Love</td>\n",
              "      <td>AKMU</td>\n",
              "      <td>False</td>\n",
              "      <td>True</td>\n",
              "    </tr>\n",
              "  </tbody>\n",
              "</table>\n",
              "<p>99 rows × 7 columns</p>\n",
              "</div>\n",
              "      <button class=\"colab-df-convert\" onclick=\"convertToInteractive('df-a671d337-71da-4680-87b7-1daa40fe8870')\"\n",
              "              title=\"Convert this dataframe to an interactive table.\"\n",
              "              style=\"display:none;\">\n",
              "        \n",
              "  <svg xmlns=\"http://www.w3.org/2000/svg\" height=\"24px\"viewBox=\"0 0 24 24\"\n",
              "       width=\"24px\">\n",
              "    <path d=\"M0 0h24v24H0V0z\" fill=\"none\"/>\n",
              "    <path d=\"M18.56 5.44l.94 2.06.94-2.06 2.06-.94-2.06-.94-.94-2.06-.94 2.06-2.06.94zm-11 1L8.5 8.5l.94-2.06 2.06-.94-2.06-.94L8.5 2.5l-.94 2.06-2.06.94zm10 10l.94 2.06.94-2.06 2.06-.94-2.06-.94-.94-2.06-.94 2.06-2.06.94z\"/><path d=\"M17.41 7.96l-1.37-1.37c-.4-.4-.92-.59-1.43-.59-.52 0-1.04.2-1.43.59L10.3 9.45l-7.72 7.72c-.78.78-.78 2.05 0 2.83L4 21.41c.39.39.9.59 1.41.59.51 0 1.02-.2 1.41-.59l7.78-7.78 2.81-2.81c.8-.78.8-2.07 0-2.86zM5.41 20L4 18.59l7.72-7.72 1.47 1.35L5.41 20z\"/>\n",
              "  </svg>\n",
              "      </button>\n",
              "      \n",
              "  <style>\n",
              "    .colab-df-container {\n",
              "      display:flex;\n",
              "      flex-wrap:wrap;\n",
              "      gap: 12px;\n",
              "    }\n",
              "\n",
              "    .colab-df-convert {\n",
              "      background-color: #E8F0FE;\n",
              "      border: none;\n",
              "      border-radius: 50%;\n",
              "      cursor: pointer;\n",
              "      display: none;\n",
              "      fill: #1967D2;\n",
              "      height: 32px;\n",
              "      padding: 0 0 0 0;\n",
              "      width: 32px;\n",
              "    }\n",
              "\n",
              "    .colab-df-convert:hover {\n",
              "      background-color: #E2EBFA;\n",
              "      box-shadow: 0px 1px 2px rgba(60, 64, 67, 0.3), 0px 1px 3px 1px rgba(60, 64, 67, 0.15);\n",
              "      fill: #174EA6;\n",
              "    }\n",
              "\n",
              "    [theme=dark] .colab-df-convert {\n",
              "      background-color: #3B4455;\n",
              "      fill: #D2E3FC;\n",
              "    }\n",
              "\n",
              "    [theme=dark] .colab-df-convert:hover {\n",
              "      background-color: #434B5C;\n",
              "      box-shadow: 0px 1px 3px 1px rgba(0, 0, 0, 0.15);\n",
              "      filter: drop-shadow(0px 1px 2px rgba(0, 0, 0, 0.3));\n",
              "      fill: #FFFFFF;\n",
              "    }\n",
              "  </style>\n",
              "\n",
              "      <script>\n",
              "        const buttonEl =\n",
              "          document.querySelector('#df-a671d337-71da-4680-87b7-1daa40fe8870 button.colab-df-convert');\n",
              "        buttonEl.style.display =\n",
              "          google.colab.kernel.accessAllowed ? 'block' : 'none';\n",
              "\n",
              "        async function convertToInteractive(key) {\n",
              "          const element = document.querySelector('#df-a671d337-71da-4680-87b7-1daa40fe8870');\n",
              "          const dataTable =\n",
              "            await google.colab.kernel.invokeFunction('convertToInteractive',\n",
              "                                                     [key], {});\n",
              "          if (!dataTable) return;\n",
              "\n",
              "          const docLinkHtml = 'Like what you see? Visit the ' +\n",
              "            '<a target=\"_blank\" href=https://colab.research.google.com/notebooks/data_table.ipynb>data table notebook</a>'\n",
              "            + ' to learn more about interactive tables.';\n",
              "          element.innerHTML = '';\n",
              "          dataTable['output_type'] = 'display_data';\n",
              "          await google.colab.output.renderOutput(dataTable, element);\n",
              "          const docLink = document.createElement('div');\n",
              "          docLink.innerHTML = docLinkHtml;\n",
              "          element.appendChild(docLink);\n",
              "        }\n",
              "      </script>\n",
              "    </div>\n",
              "  </div>\n",
              "  "
            ]
          },
          "metadata": {},
          "execution_count": 50
        }
      ],
      "source": [
        "# check the rows where the artists names aren't an exact match - for visual inspection \n",
        "df_tiktok_tracks_only.loc[(df_tiktok_tracks_only['artist'] != df_tiktok_tracks_only['artist_name']) & (df_tiktok_tracks_only['match'] |df_tiktok_tracks_only['match_2'])]"
      ]
    },
    {
      "cell_type": "code",
      "execution_count": 79,
      "metadata": {
        "id": "9VbUNXhYjJKW",
        "outputId": "f57f7ad2-c81c-4326-d5a6-687eba0ae1f5",
        "colab": {
          "base_uri": "https://localhost:8080/"
        }
      },
      "outputs": [
        {
          "output_type": "execute_result",
          "data": {
            "text/plain": [
              "525"
            ]
          },
          "metadata": {},
          "execution_count": 79
        }
      ],
      "source": [
        "# Create a dataframe of overlapping songs based on the two matches colums and drop duplicates\n",
        "df_tiktok_matches_final = df_tiktok_tracks_only.loc[(df_tiktok_tracks_only['match'] |df_tiktok_tracks_only['match_2'])]\n",
        "\n",
        "# Check the shape of the df \n",
        "df_tiktok_matches_final.shape[0]"
      ]
    },
    {
      "cell_type": "code",
      "execution_count": 80,
      "metadata": {
        "id": "kbwjCLEOTJzD",
        "outputId": "fbdb716b-9c7a-4f7e-a62c-7b2c4fb89cbc",
        "colab": {
          "base_uri": "https://localhost:8080/",
          "height": 206
        }
      },
      "outputs": [
        {
          "output_type": "execute_result",
          "data": {
            "text/plain": [
              "                                      title                   artist  \\\n",
              "93                                     Baby  Justin Bieber, Ludacris   \n",
              "96                                     Baby  Justin Bieber, Ludacris   \n",
              "300  Peaches (feat. Daniel Caesar & Giveon)            Justin Bieber   \n",
              "378                                 Hold On            Justin Bieber   \n",
              "392                                   Ghost            Justin Bieber   \n",
              "\n",
              "          artist_y                              track_name    artist_name  \\\n",
              "93             NaN                                    Baby  Justin Bieber   \n",
              "96   Justin Bieber                                    Baby  Justin Bieber   \n",
              "300            NaN  Peaches (feat. Daniel Caesar & Giveon)  Justin Bieber   \n",
              "378            NaN                                 Hold On  Justin Bieber   \n",
              "392            NaN                                   Ghost  Justin Bieber   \n",
              "\n",
              "     match  match_2  \n",
              "93   False     True  \n",
              "96   False     True  \n",
              "300   True     True  \n",
              "378   True     True  \n",
              "392   True     True  "
            ],
            "text/html": [
              "\n",
              "  <div id=\"df-7ae16839-764b-42f7-8a5e-0c458d2a5cfe\">\n",
              "    <div class=\"colab-df-container\">\n",
              "      <div>\n",
              "<style scoped>\n",
              "    .dataframe tbody tr th:only-of-type {\n",
              "        vertical-align: middle;\n",
              "    }\n",
              "\n",
              "    .dataframe tbody tr th {\n",
              "        vertical-align: top;\n",
              "    }\n",
              "\n",
              "    .dataframe thead th {\n",
              "        text-align: right;\n",
              "    }\n",
              "</style>\n",
              "<table border=\"1\" class=\"dataframe\">\n",
              "  <thead>\n",
              "    <tr style=\"text-align: right;\">\n",
              "      <th></th>\n",
              "      <th>title</th>\n",
              "      <th>artist</th>\n",
              "      <th>artist_y</th>\n",
              "      <th>track_name</th>\n",
              "      <th>artist_name</th>\n",
              "      <th>match</th>\n",
              "      <th>match_2</th>\n",
              "    </tr>\n",
              "  </thead>\n",
              "  <tbody>\n",
              "    <tr>\n",
              "      <th>93</th>\n",
              "      <td>Baby</td>\n",
              "      <td>Justin Bieber, Ludacris</td>\n",
              "      <td>NaN</td>\n",
              "      <td>Baby</td>\n",
              "      <td>Justin Bieber</td>\n",
              "      <td>False</td>\n",
              "      <td>True</td>\n",
              "    </tr>\n",
              "    <tr>\n",
              "      <th>96</th>\n",
              "      <td>Baby</td>\n",
              "      <td>Justin Bieber, Ludacris</td>\n",
              "      <td>Justin Bieber</td>\n",
              "      <td>Baby</td>\n",
              "      <td>Justin Bieber</td>\n",
              "      <td>False</td>\n",
              "      <td>True</td>\n",
              "    </tr>\n",
              "    <tr>\n",
              "      <th>300</th>\n",
              "      <td>Peaches (feat. Daniel Caesar &amp; Giveon)</td>\n",
              "      <td>Justin Bieber</td>\n",
              "      <td>NaN</td>\n",
              "      <td>Peaches (feat. Daniel Caesar &amp; Giveon)</td>\n",
              "      <td>Justin Bieber</td>\n",
              "      <td>True</td>\n",
              "      <td>True</td>\n",
              "    </tr>\n",
              "    <tr>\n",
              "      <th>378</th>\n",
              "      <td>Hold On</td>\n",
              "      <td>Justin Bieber</td>\n",
              "      <td>NaN</td>\n",
              "      <td>Hold On</td>\n",
              "      <td>Justin Bieber</td>\n",
              "      <td>True</td>\n",
              "      <td>True</td>\n",
              "    </tr>\n",
              "    <tr>\n",
              "      <th>392</th>\n",
              "      <td>Ghost</td>\n",
              "      <td>Justin Bieber</td>\n",
              "      <td>NaN</td>\n",
              "      <td>Ghost</td>\n",
              "      <td>Justin Bieber</td>\n",
              "      <td>True</td>\n",
              "      <td>True</td>\n",
              "    </tr>\n",
              "  </tbody>\n",
              "</table>\n",
              "</div>\n",
              "      <button class=\"colab-df-convert\" onclick=\"convertToInteractive('df-7ae16839-764b-42f7-8a5e-0c458d2a5cfe')\"\n",
              "              title=\"Convert this dataframe to an interactive table.\"\n",
              "              style=\"display:none;\">\n",
              "        \n",
              "  <svg xmlns=\"http://www.w3.org/2000/svg\" height=\"24px\"viewBox=\"0 0 24 24\"\n",
              "       width=\"24px\">\n",
              "    <path d=\"M0 0h24v24H0V0z\" fill=\"none\"/>\n",
              "    <path d=\"M18.56 5.44l.94 2.06.94-2.06 2.06-.94-2.06-.94-.94-2.06-.94 2.06-2.06.94zm-11 1L8.5 8.5l.94-2.06 2.06-.94-2.06-.94L8.5 2.5l-.94 2.06-2.06.94zm10 10l.94 2.06.94-2.06 2.06-.94-2.06-.94-.94-2.06-.94 2.06-2.06.94z\"/><path d=\"M17.41 7.96l-1.37-1.37c-.4-.4-.92-.59-1.43-.59-.52 0-1.04.2-1.43.59L10.3 9.45l-7.72 7.72c-.78.78-.78 2.05 0 2.83L4 21.41c.39.39.9.59 1.41.59.51 0 1.02-.2 1.41-.59l7.78-7.78 2.81-2.81c.8-.78.8-2.07 0-2.86zM5.41 20L4 18.59l7.72-7.72 1.47 1.35L5.41 20z\"/>\n",
              "  </svg>\n",
              "      </button>\n",
              "      \n",
              "  <style>\n",
              "    .colab-df-container {\n",
              "      display:flex;\n",
              "      flex-wrap:wrap;\n",
              "      gap: 12px;\n",
              "    }\n",
              "\n",
              "    .colab-df-convert {\n",
              "      background-color: #E8F0FE;\n",
              "      border: none;\n",
              "      border-radius: 50%;\n",
              "      cursor: pointer;\n",
              "      display: none;\n",
              "      fill: #1967D2;\n",
              "      height: 32px;\n",
              "      padding: 0 0 0 0;\n",
              "      width: 32px;\n",
              "    }\n",
              "\n",
              "    .colab-df-convert:hover {\n",
              "      background-color: #E2EBFA;\n",
              "      box-shadow: 0px 1px 2px rgba(60, 64, 67, 0.3), 0px 1px 3px 1px rgba(60, 64, 67, 0.15);\n",
              "      fill: #174EA6;\n",
              "    }\n",
              "\n",
              "    [theme=dark] .colab-df-convert {\n",
              "      background-color: #3B4455;\n",
              "      fill: #D2E3FC;\n",
              "    }\n",
              "\n",
              "    [theme=dark] .colab-df-convert:hover {\n",
              "      background-color: #434B5C;\n",
              "      box-shadow: 0px 1px 3px 1px rgba(0, 0, 0, 0.15);\n",
              "      filter: drop-shadow(0px 1px 2px rgba(0, 0, 0, 0.3));\n",
              "      fill: #FFFFFF;\n",
              "    }\n",
              "  </style>\n",
              "\n",
              "      <script>\n",
              "        const buttonEl =\n",
              "          document.querySelector('#df-7ae16839-764b-42f7-8a5e-0c458d2a5cfe button.colab-df-convert');\n",
              "        buttonEl.style.display =\n",
              "          google.colab.kernel.accessAllowed ? 'block' : 'none';\n",
              "\n",
              "        async function convertToInteractive(key) {\n",
              "          const element = document.querySelector('#df-7ae16839-764b-42f7-8a5e-0c458d2a5cfe');\n",
              "          const dataTable =\n",
              "            await google.colab.kernel.invokeFunction('convertToInteractive',\n",
              "                                                     [key], {});\n",
              "          if (!dataTable) return;\n",
              "\n",
              "          const docLinkHtml = 'Like what you see? Visit the ' +\n",
              "            '<a target=\"_blank\" href=https://colab.research.google.com/notebooks/data_table.ipynb>data table notebook</a>'\n",
              "            + ' to learn more about interactive tables.';\n",
              "          element.innerHTML = '';\n",
              "          dataTable['output_type'] = 'display_data';\n",
              "          await google.colab.output.renderOutput(dataTable, element);\n",
              "          const docLink = document.createElement('div');\n",
              "          docLink.innerHTML = docLinkHtml;\n",
              "          element.appendChild(docLink);\n",
              "        }\n",
              "      </script>\n",
              "    </div>\n",
              "  </div>\n",
              "  "
            ]
          },
          "metadata": {},
          "execution_count": 80
        }
      ],
      "source": [
        "# spot check an artist to see if the name matching looks appropriate \n",
        "df_tiktok_matches_final.loc[(df_tiktok_matches_final['artist_name'] == \"Justin Bieber\" )|( df_tiktok_matches_final['artist'] == \"Justin Bieber\" )]"
      ]
    },
    {
      "cell_type": "code",
      "execution_count": 81,
      "metadata": {
        "id": "XrdLP4IVPxZZ",
        "outputId": "15dcabbb-8354-4ba3-8846-6eb552e0bdf2",
        "colab": {
          "base_uri": "https://localhost:8080/"
        }
      },
      "outputs": [
        {
          "output_type": "stream",
          "name": "stderr",
          "text": [
            "<ipython-input-81-d43e3dc5fd77>:2: SettingWithCopyWarning: \n",
            "A value is trying to be set on a copy of a slice from a DataFrame\n",
            "\n",
            "See the caveats in the documentation: https://pandas.pydata.org/pandas-docs/stable/user_guide/indexing.html#returning-a-view-versus-a-copy\n",
            "  df_tiktok_matches_final.drop(['match', 'match_2', 'track_name', 'artist_name'], inplace =True, axis =1)\n"
          ]
        }
      ],
      "source": [
        "# drop rows that are no longer needed\n",
        "df_tiktok_matches_final.drop(['match', 'match_2', 'track_name', 'artist_name'], inplace =True, axis =1)\n",
        "\n",
        "# add a column to indicate tiktok popularity \n",
        "df_tiktok_matches_final= df_tiktok_matches_final.assign(tiktok_pop = 1)"
      ]
    },
    {
      "cell_type": "code",
      "execution_count": 82,
      "metadata": {
        "id": "rSScxkw6RHrq",
        "outputId": "d31ef76b-909b-4a60-cab7-ef692a92042f",
        "colab": {
          "base_uri": "https://localhost:8080/",
          "height": 206
        }
      },
      "outputs": [
        {
          "output_type": "execute_result",
          "data": {
            "text/plain": [
              "                   title     artist artist_y  tiktok_pop\n",
              "0                Ride It     Regard      NaN           1\n",
              "1                  GOOBA    6ix9ine      NaN           1\n",
              "2                 Ransom  Lil Tecca      NaN           1\n",
              "3        Don't Start Now   Dua Lipa      NaN           1\n",
              "4  Roses - Imanbek Remix  SAINt JHN      NaN           1"
            ],
            "text/html": [
              "\n",
              "  <div id=\"df-e7a668cd-ac5d-4f72-8bba-772bacd638e5\">\n",
              "    <div class=\"colab-df-container\">\n",
              "      <div>\n",
              "<style scoped>\n",
              "    .dataframe tbody tr th:only-of-type {\n",
              "        vertical-align: middle;\n",
              "    }\n",
              "\n",
              "    .dataframe tbody tr th {\n",
              "        vertical-align: top;\n",
              "    }\n",
              "\n",
              "    .dataframe thead th {\n",
              "        text-align: right;\n",
              "    }\n",
              "</style>\n",
              "<table border=\"1\" class=\"dataframe\">\n",
              "  <thead>\n",
              "    <tr style=\"text-align: right;\">\n",
              "      <th></th>\n",
              "      <th>title</th>\n",
              "      <th>artist</th>\n",
              "      <th>artist_y</th>\n",
              "      <th>tiktok_pop</th>\n",
              "    </tr>\n",
              "  </thead>\n",
              "  <tbody>\n",
              "    <tr>\n",
              "      <th>0</th>\n",
              "      <td>Ride It</td>\n",
              "      <td>Regard</td>\n",
              "      <td>NaN</td>\n",
              "      <td>1</td>\n",
              "    </tr>\n",
              "    <tr>\n",
              "      <th>1</th>\n",
              "      <td>GOOBA</td>\n",
              "      <td>6ix9ine</td>\n",
              "      <td>NaN</td>\n",
              "      <td>1</td>\n",
              "    </tr>\n",
              "    <tr>\n",
              "      <th>2</th>\n",
              "      <td>Ransom</td>\n",
              "      <td>Lil Tecca</td>\n",
              "      <td>NaN</td>\n",
              "      <td>1</td>\n",
              "    </tr>\n",
              "    <tr>\n",
              "      <th>3</th>\n",
              "      <td>Don't Start Now</td>\n",
              "      <td>Dua Lipa</td>\n",
              "      <td>NaN</td>\n",
              "      <td>1</td>\n",
              "    </tr>\n",
              "    <tr>\n",
              "      <th>4</th>\n",
              "      <td>Roses - Imanbek Remix</td>\n",
              "      <td>SAINt JHN</td>\n",
              "      <td>NaN</td>\n",
              "      <td>1</td>\n",
              "    </tr>\n",
              "  </tbody>\n",
              "</table>\n",
              "</div>\n",
              "      <button class=\"colab-df-convert\" onclick=\"convertToInteractive('df-e7a668cd-ac5d-4f72-8bba-772bacd638e5')\"\n",
              "              title=\"Convert this dataframe to an interactive table.\"\n",
              "              style=\"display:none;\">\n",
              "        \n",
              "  <svg xmlns=\"http://www.w3.org/2000/svg\" height=\"24px\"viewBox=\"0 0 24 24\"\n",
              "       width=\"24px\">\n",
              "    <path d=\"M0 0h24v24H0V0z\" fill=\"none\"/>\n",
              "    <path d=\"M18.56 5.44l.94 2.06.94-2.06 2.06-.94-2.06-.94-.94-2.06-.94 2.06-2.06.94zm-11 1L8.5 8.5l.94-2.06 2.06-.94-2.06-.94L8.5 2.5l-.94 2.06-2.06.94zm10 10l.94 2.06.94-2.06 2.06-.94-2.06-.94-.94-2.06-.94 2.06-2.06.94z\"/><path d=\"M17.41 7.96l-1.37-1.37c-.4-.4-.92-.59-1.43-.59-.52 0-1.04.2-1.43.59L10.3 9.45l-7.72 7.72c-.78.78-.78 2.05 0 2.83L4 21.41c.39.39.9.59 1.41.59.51 0 1.02-.2 1.41-.59l7.78-7.78 2.81-2.81c.8-.78.8-2.07 0-2.86zM5.41 20L4 18.59l7.72-7.72 1.47 1.35L5.41 20z\"/>\n",
              "  </svg>\n",
              "      </button>\n",
              "      \n",
              "  <style>\n",
              "    .colab-df-container {\n",
              "      display:flex;\n",
              "      flex-wrap:wrap;\n",
              "      gap: 12px;\n",
              "    }\n",
              "\n",
              "    .colab-df-convert {\n",
              "      background-color: #E8F0FE;\n",
              "      border: none;\n",
              "      border-radius: 50%;\n",
              "      cursor: pointer;\n",
              "      display: none;\n",
              "      fill: #1967D2;\n",
              "      height: 32px;\n",
              "      padding: 0 0 0 0;\n",
              "      width: 32px;\n",
              "    }\n",
              "\n",
              "    .colab-df-convert:hover {\n",
              "      background-color: #E2EBFA;\n",
              "      box-shadow: 0px 1px 2px rgba(60, 64, 67, 0.3), 0px 1px 3px 1px rgba(60, 64, 67, 0.15);\n",
              "      fill: #174EA6;\n",
              "    }\n",
              "\n",
              "    [theme=dark] .colab-df-convert {\n",
              "      background-color: #3B4455;\n",
              "      fill: #D2E3FC;\n",
              "    }\n",
              "\n",
              "    [theme=dark] .colab-df-convert:hover {\n",
              "      background-color: #434B5C;\n",
              "      box-shadow: 0px 1px 3px 1px rgba(0, 0, 0, 0.15);\n",
              "      filter: drop-shadow(0px 1px 2px rgba(0, 0, 0, 0.3));\n",
              "      fill: #FFFFFF;\n",
              "    }\n",
              "  </style>\n",
              "\n",
              "      <script>\n",
              "        const buttonEl =\n",
              "          document.querySelector('#df-e7a668cd-ac5d-4f72-8bba-772bacd638e5 button.colab-df-convert');\n",
              "        buttonEl.style.display =\n",
              "          google.colab.kernel.accessAllowed ? 'block' : 'none';\n",
              "\n",
              "        async function convertToInteractive(key) {\n",
              "          const element = document.querySelector('#df-e7a668cd-ac5d-4f72-8bba-772bacd638e5');\n",
              "          const dataTable =\n",
              "            await google.colab.kernel.invokeFunction('convertToInteractive',\n",
              "                                                     [key], {});\n",
              "          if (!dataTable) return;\n",
              "\n",
              "          const docLinkHtml = 'Like what you see? Visit the ' +\n",
              "            '<a target=\"_blank\" href=https://colab.research.google.com/notebooks/data_table.ipynb>data table notebook</a>'\n",
              "            + ' to learn more about interactive tables.';\n",
              "          element.innerHTML = '';\n",
              "          dataTable['output_type'] = 'display_data';\n",
              "          await google.colab.output.renderOutput(dataTable, element);\n",
              "          const docLink = document.createElement('div');\n",
              "          docLink.innerHTML = docLinkHtml;\n",
              "          element.appendChild(docLink);\n",
              "        }\n",
              "      </script>\n",
              "    </div>\n",
              "  </div>\n",
              "  "
            ]
          },
          "metadata": {},
          "execution_count": 82
        }
      ],
      "source": [
        "df_tiktok_matches_final.head()"
      ]
    },
    {
      "cell_type": "code",
      "execution_count": 83,
      "metadata": {
        "id": "W7ZBdyHGRaib",
        "outputId": "7bf4cefc-fd4b-46f4-8fa7-e6c9e756c6c4",
        "colab": {
          "base_uri": "https://localhost:8080/",
          "height": 112
        }
      },
      "outputs": [
        {
          "output_type": "execute_result",
          "data": {
            "text/plain": [
              "            title  artist  artist_y\n",
              "tiktok_pop                         \n",
              "1             525     525       103"
            ],
            "text/html": [
              "\n",
              "  <div id=\"df-d8ff9103-7a5c-458e-9caf-6457b52f0346\">\n",
              "    <div class=\"colab-df-container\">\n",
              "      <div>\n",
              "<style scoped>\n",
              "    .dataframe tbody tr th:only-of-type {\n",
              "        vertical-align: middle;\n",
              "    }\n",
              "\n",
              "    .dataframe tbody tr th {\n",
              "        vertical-align: top;\n",
              "    }\n",
              "\n",
              "    .dataframe thead th {\n",
              "        text-align: right;\n",
              "    }\n",
              "</style>\n",
              "<table border=\"1\" class=\"dataframe\">\n",
              "  <thead>\n",
              "    <tr style=\"text-align: right;\">\n",
              "      <th></th>\n",
              "      <th>title</th>\n",
              "      <th>artist</th>\n",
              "      <th>artist_y</th>\n",
              "    </tr>\n",
              "    <tr>\n",
              "      <th>tiktok_pop</th>\n",
              "      <th></th>\n",
              "      <th></th>\n",
              "      <th></th>\n",
              "    </tr>\n",
              "  </thead>\n",
              "  <tbody>\n",
              "    <tr>\n",
              "      <th>1</th>\n",
              "      <td>525</td>\n",
              "      <td>525</td>\n",
              "      <td>103</td>\n",
              "    </tr>\n",
              "  </tbody>\n",
              "</table>\n",
              "</div>\n",
              "      <button class=\"colab-df-convert\" onclick=\"convertToInteractive('df-d8ff9103-7a5c-458e-9caf-6457b52f0346')\"\n",
              "              title=\"Convert this dataframe to an interactive table.\"\n",
              "              style=\"display:none;\">\n",
              "        \n",
              "  <svg xmlns=\"http://www.w3.org/2000/svg\" height=\"24px\"viewBox=\"0 0 24 24\"\n",
              "       width=\"24px\">\n",
              "    <path d=\"M0 0h24v24H0V0z\" fill=\"none\"/>\n",
              "    <path d=\"M18.56 5.44l.94 2.06.94-2.06 2.06-.94-2.06-.94-.94-2.06-.94 2.06-2.06.94zm-11 1L8.5 8.5l.94-2.06 2.06-.94-2.06-.94L8.5 2.5l-.94 2.06-2.06.94zm10 10l.94 2.06.94-2.06 2.06-.94-2.06-.94-.94-2.06-.94 2.06-2.06.94z\"/><path d=\"M17.41 7.96l-1.37-1.37c-.4-.4-.92-.59-1.43-.59-.52 0-1.04.2-1.43.59L10.3 9.45l-7.72 7.72c-.78.78-.78 2.05 0 2.83L4 21.41c.39.39.9.59 1.41.59.51 0 1.02-.2 1.41-.59l7.78-7.78 2.81-2.81c.8-.78.8-2.07 0-2.86zM5.41 20L4 18.59l7.72-7.72 1.47 1.35L5.41 20z\"/>\n",
              "  </svg>\n",
              "      </button>\n",
              "      \n",
              "  <style>\n",
              "    .colab-df-container {\n",
              "      display:flex;\n",
              "      flex-wrap:wrap;\n",
              "      gap: 12px;\n",
              "    }\n",
              "\n",
              "    .colab-df-convert {\n",
              "      background-color: #E8F0FE;\n",
              "      border: none;\n",
              "      border-radius: 50%;\n",
              "      cursor: pointer;\n",
              "      display: none;\n",
              "      fill: #1967D2;\n",
              "      height: 32px;\n",
              "      padding: 0 0 0 0;\n",
              "      width: 32px;\n",
              "    }\n",
              "\n",
              "    .colab-df-convert:hover {\n",
              "      background-color: #E2EBFA;\n",
              "      box-shadow: 0px 1px 2px rgba(60, 64, 67, 0.3), 0px 1px 3px 1px rgba(60, 64, 67, 0.15);\n",
              "      fill: #174EA6;\n",
              "    }\n",
              "\n",
              "    [theme=dark] .colab-df-convert {\n",
              "      background-color: #3B4455;\n",
              "      fill: #D2E3FC;\n",
              "    }\n",
              "\n",
              "    [theme=dark] .colab-df-convert:hover {\n",
              "      background-color: #434B5C;\n",
              "      box-shadow: 0px 1px 3px 1px rgba(0, 0, 0, 0.15);\n",
              "      filter: drop-shadow(0px 1px 2px rgba(0, 0, 0, 0.3));\n",
              "      fill: #FFFFFF;\n",
              "    }\n",
              "  </style>\n",
              "\n",
              "      <script>\n",
              "        const buttonEl =\n",
              "          document.querySelector('#df-d8ff9103-7a5c-458e-9caf-6457b52f0346 button.colab-df-convert');\n",
              "        buttonEl.style.display =\n",
              "          google.colab.kernel.accessAllowed ? 'block' : 'none';\n",
              "\n",
              "        async function convertToInteractive(key) {\n",
              "          const element = document.querySelector('#df-d8ff9103-7a5c-458e-9caf-6457b52f0346');\n",
              "          const dataTable =\n",
              "            await google.colab.kernel.invokeFunction('convertToInteractive',\n",
              "                                                     [key], {});\n",
              "          if (!dataTable) return;\n",
              "\n",
              "          const docLinkHtml = 'Like what you see? Visit the ' +\n",
              "            '<a target=\"_blank\" href=https://colab.research.google.com/notebooks/data_table.ipynb>data table notebook</a>'\n",
              "            + ' to learn more about interactive tables.';\n",
              "          element.innerHTML = '';\n",
              "          dataTable['output_type'] = 'display_data';\n",
              "          await google.colab.output.renderOutput(dataTable, element);\n",
              "          const docLink = document.createElement('div');\n",
              "          docLink.innerHTML = docLinkHtml;\n",
              "          element.appendChild(docLink);\n",
              "        }\n",
              "      </script>\n",
              "    </div>\n",
              "  </div>\n",
              "  "
            ]
          },
          "metadata": {},
          "execution_count": 83
        }
      ],
      "source": [
        "df_tiktok_matches_final.groupby(['tiktok_pop']).count()"
      ]
    },
    {
      "cell_type": "code",
      "source": [
        "df_tiktok_matches_final.drop(columns=['artist_y'], inplace=True)\n",
        "df_charts_features_tiktok = pd.merge(df_charts_features, df_tiktok_matches_final, on=['title', 'artist'], how='left')\n",
        "df_charts_features_tiktok['tiktok_pop'] = df_charts_features_tiktok['tiktok_pop'].apply(lambda x: x if x == 1 else 0)"
      ],
      "metadata": {
        "id": "tg0m6--cHd5E"
      },
      "execution_count": 87,
      "outputs": []
    },
    {
      "cell_type": "code",
      "source": [
        "df_charts_features_tiktok.head()\n",
        "#TODO: drop na rows (can't get this to work, don't know why yet)"
      ],
      "metadata": {
        "id": "5Gw64drtHteM",
        "outputId": "62b182e2-c10b-4338-9c21-9b81a46b45b2",
        "colab": {
          "base_uri": "https://localhost:8080/",
          "height": 206
        }
      },
      "execution_count": 88,
      "outputs": [
        {
          "output_type": "execute_result",
          "data": {
            "text/plain": [
              "     title  rank        date     artist    region   chart  Year danceability  \\\n",
              "0  Ride It   146  2020-05-01     Regard   Bolivia  top200  2020         0.88   \n",
              "1   +Linda   147  2020-05-01      Dalex   Bolivia  top200  2020                \n",
              "2     Woah   148  2020-05-01   Lil Baby    Canada  top200  2020        0.882   \n",
              "3     25/8   105  2020-05-01  Bad Bunny     Chile  top200  2020        0.761   \n",
              "4     Keii    65  2020-05-01   Anuel AA  Colombia  top200  2020        0.708   \n",
              "\n",
              "  energy speechiness acousticness liveness valence    tempo duration_ms  \\\n",
              "0  0.751      0.0874        0.177    0.106   0.884  117.948      157606   \n",
              "1                                                                         \n",
              "2  0.602       0.245       0.0177    0.178    0.43  142.959      183011   \n",
              "3  0.732      0.0549        0.092   0.0716   0.542  151.982      243276   \n",
              "4  0.797      0.0391          0.4    0.096    0.51   88.015      210000   \n",
              "\n",
              "   tiktok_pop  \n",
              "0         1.0  \n",
              "1         0.0  \n",
              "2         0.0  \n",
              "3         0.0  \n",
              "4         0.0  "
            ],
            "text/html": [
              "\n",
              "  <div id=\"df-fdda4290-fc3d-4633-8f36-bf120a868b3a\">\n",
              "    <div class=\"colab-df-container\">\n",
              "      <div>\n",
              "<style scoped>\n",
              "    .dataframe tbody tr th:only-of-type {\n",
              "        vertical-align: middle;\n",
              "    }\n",
              "\n",
              "    .dataframe tbody tr th {\n",
              "        vertical-align: top;\n",
              "    }\n",
              "\n",
              "    .dataframe thead th {\n",
              "        text-align: right;\n",
              "    }\n",
              "</style>\n",
              "<table border=\"1\" class=\"dataframe\">\n",
              "  <thead>\n",
              "    <tr style=\"text-align: right;\">\n",
              "      <th></th>\n",
              "      <th>title</th>\n",
              "      <th>rank</th>\n",
              "      <th>date</th>\n",
              "      <th>artist</th>\n",
              "      <th>region</th>\n",
              "      <th>chart</th>\n",
              "      <th>Year</th>\n",
              "      <th>danceability</th>\n",
              "      <th>energy</th>\n",
              "      <th>speechiness</th>\n",
              "      <th>acousticness</th>\n",
              "      <th>liveness</th>\n",
              "      <th>valence</th>\n",
              "      <th>tempo</th>\n",
              "      <th>duration_ms</th>\n",
              "      <th>tiktok_pop</th>\n",
              "    </tr>\n",
              "  </thead>\n",
              "  <tbody>\n",
              "    <tr>\n",
              "      <th>0</th>\n",
              "      <td>Ride It</td>\n",
              "      <td>146</td>\n",
              "      <td>2020-05-01</td>\n",
              "      <td>Regard</td>\n",
              "      <td>Bolivia</td>\n",
              "      <td>top200</td>\n",
              "      <td>2020</td>\n",
              "      <td>0.88</td>\n",
              "      <td>0.751</td>\n",
              "      <td>0.0874</td>\n",
              "      <td>0.177</td>\n",
              "      <td>0.106</td>\n",
              "      <td>0.884</td>\n",
              "      <td>117.948</td>\n",
              "      <td>157606</td>\n",
              "      <td>1.0</td>\n",
              "    </tr>\n",
              "    <tr>\n",
              "      <th>1</th>\n",
              "      <td>+Linda</td>\n",
              "      <td>147</td>\n",
              "      <td>2020-05-01</td>\n",
              "      <td>Dalex</td>\n",
              "      <td>Bolivia</td>\n",
              "      <td>top200</td>\n",
              "      <td>2020</td>\n",
              "      <td></td>\n",
              "      <td></td>\n",
              "      <td></td>\n",
              "      <td></td>\n",
              "      <td></td>\n",
              "      <td></td>\n",
              "      <td></td>\n",
              "      <td></td>\n",
              "      <td>0.0</td>\n",
              "    </tr>\n",
              "    <tr>\n",
              "      <th>2</th>\n",
              "      <td>Woah</td>\n",
              "      <td>148</td>\n",
              "      <td>2020-05-01</td>\n",
              "      <td>Lil Baby</td>\n",
              "      <td>Canada</td>\n",
              "      <td>top200</td>\n",
              "      <td>2020</td>\n",
              "      <td>0.882</td>\n",
              "      <td>0.602</td>\n",
              "      <td>0.245</td>\n",
              "      <td>0.0177</td>\n",
              "      <td>0.178</td>\n",
              "      <td>0.43</td>\n",
              "      <td>142.959</td>\n",
              "      <td>183011</td>\n",
              "      <td>0.0</td>\n",
              "    </tr>\n",
              "    <tr>\n",
              "      <th>3</th>\n",
              "      <td>25/8</td>\n",
              "      <td>105</td>\n",
              "      <td>2020-05-01</td>\n",
              "      <td>Bad Bunny</td>\n",
              "      <td>Chile</td>\n",
              "      <td>top200</td>\n",
              "      <td>2020</td>\n",
              "      <td>0.761</td>\n",
              "      <td>0.732</td>\n",
              "      <td>0.0549</td>\n",
              "      <td>0.092</td>\n",
              "      <td>0.0716</td>\n",
              "      <td>0.542</td>\n",
              "      <td>151.982</td>\n",
              "      <td>243276</td>\n",
              "      <td>0.0</td>\n",
              "    </tr>\n",
              "    <tr>\n",
              "      <th>4</th>\n",
              "      <td>Keii</td>\n",
              "      <td>65</td>\n",
              "      <td>2020-05-01</td>\n",
              "      <td>Anuel AA</td>\n",
              "      <td>Colombia</td>\n",
              "      <td>top200</td>\n",
              "      <td>2020</td>\n",
              "      <td>0.708</td>\n",
              "      <td>0.797</td>\n",
              "      <td>0.0391</td>\n",
              "      <td>0.4</td>\n",
              "      <td>0.096</td>\n",
              "      <td>0.51</td>\n",
              "      <td>88.015</td>\n",
              "      <td>210000</td>\n",
              "      <td>0.0</td>\n",
              "    </tr>\n",
              "  </tbody>\n",
              "</table>\n",
              "</div>\n",
              "      <button class=\"colab-df-convert\" onclick=\"convertToInteractive('df-fdda4290-fc3d-4633-8f36-bf120a868b3a')\"\n",
              "              title=\"Convert this dataframe to an interactive table.\"\n",
              "              style=\"display:none;\">\n",
              "        \n",
              "  <svg xmlns=\"http://www.w3.org/2000/svg\" height=\"24px\"viewBox=\"0 0 24 24\"\n",
              "       width=\"24px\">\n",
              "    <path d=\"M0 0h24v24H0V0z\" fill=\"none\"/>\n",
              "    <path d=\"M18.56 5.44l.94 2.06.94-2.06 2.06-.94-2.06-.94-.94-2.06-.94 2.06-2.06.94zm-11 1L8.5 8.5l.94-2.06 2.06-.94-2.06-.94L8.5 2.5l-.94 2.06-2.06.94zm10 10l.94 2.06.94-2.06 2.06-.94-2.06-.94-.94-2.06-.94 2.06-2.06.94z\"/><path d=\"M17.41 7.96l-1.37-1.37c-.4-.4-.92-.59-1.43-.59-.52 0-1.04.2-1.43.59L10.3 9.45l-7.72 7.72c-.78.78-.78 2.05 0 2.83L4 21.41c.39.39.9.59 1.41.59.51 0 1.02-.2 1.41-.59l7.78-7.78 2.81-2.81c.8-.78.8-2.07 0-2.86zM5.41 20L4 18.59l7.72-7.72 1.47 1.35L5.41 20z\"/>\n",
              "  </svg>\n",
              "      </button>\n",
              "      \n",
              "  <style>\n",
              "    .colab-df-container {\n",
              "      display:flex;\n",
              "      flex-wrap:wrap;\n",
              "      gap: 12px;\n",
              "    }\n",
              "\n",
              "    .colab-df-convert {\n",
              "      background-color: #E8F0FE;\n",
              "      border: none;\n",
              "      border-radius: 50%;\n",
              "      cursor: pointer;\n",
              "      display: none;\n",
              "      fill: #1967D2;\n",
              "      height: 32px;\n",
              "      padding: 0 0 0 0;\n",
              "      width: 32px;\n",
              "    }\n",
              "\n",
              "    .colab-df-convert:hover {\n",
              "      background-color: #E2EBFA;\n",
              "      box-shadow: 0px 1px 2px rgba(60, 64, 67, 0.3), 0px 1px 3px 1px rgba(60, 64, 67, 0.15);\n",
              "      fill: #174EA6;\n",
              "    }\n",
              "\n",
              "    [theme=dark] .colab-df-convert {\n",
              "      background-color: #3B4455;\n",
              "      fill: #D2E3FC;\n",
              "    }\n",
              "\n",
              "    [theme=dark] .colab-df-convert:hover {\n",
              "      background-color: #434B5C;\n",
              "      box-shadow: 0px 1px 3px 1px rgba(0, 0, 0, 0.15);\n",
              "      filter: drop-shadow(0px 1px 2px rgba(0, 0, 0, 0.3));\n",
              "      fill: #FFFFFF;\n",
              "    }\n",
              "  </style>\n",
              "\n",
              "      <script>\n",
              "        const buttonEl =\n",
              "          document.querySelector('#df-fdda4290-fc3d-4633-8f36-bf120a868b3a button.colab-df-convert');\n",
              "        buttonEl.style.display =\n",
              "          google.colab.kernel.accessAllowed ? 'block' : 'none';\n",
              "\n",
              "        async function convertToInteractive(key) {\n",
              "          const element = document.querySelector('#df-fdda4290-fc3d-4633-8f36-bf120a868b3a');\n",
              "          const dataTable =\n",
              "            await google.colab.kernel.invokeFunction('convertToInteractive',\n",
              "                                                     [key], {});\n",
              "          if (!dataTable) return;\n",
              "\n",
              "          const docLinkHtml = 'Like what you see? Visit the ' +\n",
              "            '<a target=\"_blank\" href=https://colab.research.google.com/notebooks/data_table.ipynb>data table notebook</a>'\n",
              "            + ' to learn more about interactive tables.';\n",
              "          element.innerHTML = '';\n",
              "          dataTable['output_type'] = 'display_data';\n",
              "          await google.colab.output.renderOutput(dataTable, element);\n",
              "          const docLink = document.createElement('div');\n",
              "          docLink.innerHTML = docLinkHtml;\n",
              "          element.appendChild(docLink);\n",
              "        }\n",
              "      </script>\n",
              "    </div>\n",
              "  </div>\n",
              "  "
            ]
          },
          "metadata": {},
          "execution_count": 88
        }
      ]
    },
    {
      "cell_type": "markdown",
      "metadata": {
        "id": "Eekt5MsyjswP"
      },
      "source": [
        "# Genius Lyrics Dataset Creation and EDA"
      ]
    },
    {
      "cell_type": "code",
      "execution_count": 110,
      "metadata": {
        "id": "0qEn8QjXbcGi",
        "outputId": "a2a67060-2fc5-4cb4-c578-bf8441bcb618",
        "colab": {
          "base_uri": "https://localhost:8080/"
        }
      },
      "outputs": [
        {
          "output_type": "stream",
          "name": "stdout",
          "text": [
            "Looking in indexes: https://pypi.org/simple, https://us-python.pkg.dev/colab-wheels/public/simple/\n",
            "Collecting lyricsgenius\n",
            "  Downloading lyricsgenius-3.0.1-py3-none-any.whl (59 kB)\n",
            "\u001b[2K     \u001b[90m━━━━━━━━━━━━━━━━━━━━━━━━━━━━━━━━━━━━━━━━\u001b[0m \u001b[32m59.4/59.4 kB\u001b[0m \u001b[31m8.7 MB/s\u001b[0m eta \u001b[36m0:00:00\u001b[0m\n",
            "\u001b[?25hRequirement already satisfied: beautifulsoup4>=4.6.0 in /usr/local/lib/python3.9/dist-packages (from lyricsgenius) (4.11.2)\n",
            "Requirement already satisfied: requests>=2.20.0 in /usr/local/lib/python3.9/dist-packages (from lyricsgenius) (2.27.1)\n",
            "Requirement already satisfied: soupsieve>1.2 in /usr/local/lib/python3.9/dist-packages (from beautifulsoup4>=4.6.0->lyricsgenius) (2.4)\n",
            "Requirement already satisfied: certifi>=2017.4.17 in /usr/local/lib/python3.9/dist-packages (from requests>=2.20.0->lyricsgenius) (2022.12.7)\n",
            "Requirement already satisfied: urllib3<1.27,>=1.21.1 in /usr/local/lib/python3.9/dist-packages (from requests>=2.20.0->lyricsgenius) (1.26.15)\n",
            "Requirement already satisfied: idna<4,>=2.5 in /usr/local/lib/python3.9/dist-packages (from requests>=2.20.0->lyricsgenius) (3.4)\n",
            "Requirement already satisfied: charset-normalizer~=2.0.0 in /usr/local/lib/python3.9/dist-packages (from requests>=2.20.0->lyricsgenius) (2.0.12)\n",
            "Installing collected packages: lyricsgenius\n",
            "Successfully installed lyricsgenius-3.0.1\n"
          ]
        }
      ],
      "source": [
        "!pip install lyricsgenius"
      ]
    },
    {
      "cell_type": "code",
      "execution_count": 111,
      "metadata": {
        "id": "5Ym966T4Crmo",
        "outputId": "e8a8c7fd-0e96-4241-b5fe-8658fc41edef",
        "colab": {
          "base_uri": "https://localhost:8080/",
          "height": 35
        }
      },
      "outputs": [
        {
          "output_type": "execute_result",
          "data": {
            "text/plain": [
              "\"from google.colab import files\\nfeature_matches.to_csv('combined_features.csv') \\nfiles.download('combined_features.csv')\""
            ],
            "application/vnd.google.colaboratory.intrinsic+json": {
              "type": "string"
            }
          },
          "metadata": {},
          "execution_count": 111
        }
      ],
      "source": [
        "\"\"\"from google.colab import files\n",
        "feature_matches.to_csv('combined_features.csv') \n",
        "files.download('combined_features.csv')\"\"\""
      ]
    },
    {
      "cell_type": "code",
      "execution_count": 112,
      "metadata": {
        "id": "HNiMjD2tu5_c"
      },
      "outputs": [],
      "source": [
        "import lyricsgenius\n",
        "import os\n",
        "import spacy\n",
        "import re"
      ]
    },
    {
      "cell_type": "code",
      "execution_count": 113,
      "metadata": {
        "id": "37JKFZI3n8Fu"
      },
      "outputs": [],
      "source": [
        "client_id = 'TS15U5iwbWLGkhfGFVqnOuDA9mVjJhhLlXpJDYai6nm79S9JWFzznlsQN5dCFuZG'\n",
        "client_secret = 'SOhrXQxD9YZ2RxBQwR-wwu5Zbxh6UgkfuIEaUJltx9L9h8aynN5zZ9Jsm1JNlh_5Npu_uev1MKorJV_A6MVYKw'\n",
        "access_token = 'US00oQ6_8lkhwRjHAOudB62bruf1B3JGOGuHR8V8zeawxpoc8fcA9QGXQ3bhYWu-'\n",
        "website_url = 'https://github.com/Joseph-Willem-Ricci/5450-final-project'"
      ]
    },
    {
      "cell_type": "code",
      "execution_count": 114,
      "metadata": {
        "id": "q7-Si0qot9Bp",
        "outputId": "df74d29f-9ef6-4c08-8f18-7bb20ea21518",
        "colab": {
          "base_uri": "https://localhost:8080/",
          "height": 35
        }
      },
      "outputs": [
        {
          "output_type": "execute_result",
          "data": {
            "text/plain": [
              "\"genius = lyricsgenius.Genius(access_token)\\nartist = genius.search_artist('Andy Shauf')\\nartist.save_lyrics()\""
            ],
            "application/vnd.google.colaboratory.intrinsic+json": {
              "type": "string"
            }
          },
          "metadata": {},
          "execution_count": 114
        }
      ],
      "source": [
        "\"\"\"genius = lyricsgenius.Genius(access_token)\n",
        "artist = genius.search_artist('Andy Shauf')\n",
        "artist.save_lyrics()\"\"\""
      ]
    },
    {
      "cell_type": "code",
      "execution_count": 115,
      "metadata": {
        "id": "aD1gD1uxuw4n",
        "outputId": "aae4935d-eba1-49ab-b872-825f0f071ff8",
        "colab": {
          "base_uri": "https://localhost:8080/",
          "height": 35
        }
      },
      "outputs": [
        {
          "output_type": "execute_result",
          "data": {
            "text/plain": [
              "'api = lyricsgenius.Genius(access_token)\\nartist = api.artist(380491)\\nprint(artist)'"
            ],
            "application/vnd.google.colaboratory.intrinsic+json": {
              "type": "string"
            }
          },
          "metadata": {},
          "execution_count": 115
        }
      ],
      "source": [
        "\"\"\"api = lyricsgenius.Genius(access_token)\n",
        "artist = api.artist(380491)\n",
        "print(artist)\"\"\"\n"
      ]
    },
    {
      "cell_type": "code",
      "execution_count": 116,
      "metadata": {
        "id": "FPZfntq-CKy2",
        "outputId": "4298da0a-2842-4dd2-b953-3f333a6a9ad5",
        "colab": {
          "base_uri": "https://localhost:8080/"
        }
      },
      "outputs": [
        {
          "output_type": "stream",
          "name": "stderr",
          "text": [
            "[nltk_data] Downloading package stopwords to /root/nltk_data...\n",
            "[nltk_data]   Unzipping corpora/stopwords.zip.\n",
            "[nltk_data] Downloading package punkt to /root/nltk_data...\n",
            "[nltk_data]   Unzipping tokenizers/punkt.zip.\n",
            "[nltk_data] Downloading package vader_lexicon to /root/nltk_data...\n"
          ]
        }
      ],
      "source": [
        "import nltk\n",
        "from nltk.corpus import stopwords\n",
        "nltk.download('stopwords')\n",
        "nltk.download('punkt')\n",
        "nltk.download('vader_lexicon')\n",
        "#stopword_en = nltk.corpus.stopwords.words('english')\n",
        "#stopword_es = nltk.corpus.stopwords.words('spanish')\n",
        "#stopword = stopword_en + stopword_es\n",
        "stopwords = set(stopwords.words(['english', 'spanish', 'german','french']))\n"
      ]
    },
    {
      "cell_type": "code",
      "execution_count": 131,
      "metadata": {
        "id": "Ywy08Es-DH9D",
        "outputId": "88a1bdf2-e481-4f20-a31b-0caf079c3bcc",
        "colab": {
          "base_uri": "https://localhost:8080/",
          "height": 345
        }
      },
      "outputs": [
        {
          "output_type": "error",
          "ename": "NotImplementedError",
          "evalue": "ignored",
          "traceback": [
            "\u001b[0;31m---------------------------------------------------------------------------\u001b[0m",
            "\u001b[0;31mNotImplementedError\u001b[0m                       Traceback (most recent call last)",
            "\u001b[0;32m<ipython-input-131-22e65c009689>\u001b[0m in \u001b[0;36m<cell line: 1>\u001b[0;34m()\u001b[0m\n\u001b[0;32m----> 1\u001b[0;31m \u001b[0mget_ipython\u001b[0m\u001b[0;34m(\u001b[0m\u001b[0;34m)\u001b[0m\u001b[0;34m.\u001b[0m\u001b[0mgetoutput\u001b[0m\u001b[0;34m(\u001b[0m\u001b[0;34m'LC_ALL=en_US.UTF-8'\u001b[0m\u001b[0;34m)\u001b[0m\u001b[0;34m\u001b[0m\u001b[0;34m\u001b[0m\u001b[0m\n\u001b[0m\u001b[1;32m      2\u001b[0m \u001b[0mget_ipython\u001b[0m\u001b[0;34m(\u001b[0m\u001b[0;34m)\u001b[0m\u001b[0;34m.\u001b[0m\u001b[0mgetoutput\u001b[0m\u001b[0;34m(\u001b[0m\u001b[0;34m'kaggle datasets download -d joannecrean/spotify-songs-lyrics'\u001b[0m\u001b[0;34m)\u001b[0m\u001b[0;34m\u001b[0m\u001b[0;34m\u001b[0m\u001b[0m\n\u001b[1;32m      3\u001b[0m \u001b[0mget_ipython\u001b[0m\u001b[0;34m(\u001b[0m\u001b[0;34m)\u001b[0m\u001b[0;34m.\u001b[0m\u001b[0msystem\u001b[0m\u001b[0;34m(\u001b[0m\u001b[0;34m'unzip /content/spotify-songs-lyrics.zip'\u001b[0m\u001b[0;34m)\u001b[0m\u001b[0;34m\u001b[0m\u001b[0;34m\u001b[0m\u001b[0m\n",
            "\u001b[0;32m/usr/local/lib/python3.9/dist-packages/google/colab/_shell.py\u001b[0m in \u001b[0;36mgetoutput\u001b[0;34m(self, *args, **kwargs)\u001b[0m\n\u001b[1;32m     78\u001b[0m       \u001b[0;32mreturn\u001b[0m \u001b[0msuper\u001b[0m\u001b[0;34m(\u001b[0m\u001b[0mShell\u001b[0m\u001b[0;34m,\u001b[0m \u001b[0mself\u001b[0m\u001b[0;34m)\u001b[0m\u001b[0;34m.\u001b[0m\u001b[0mgetoutput\u001b[0m\u001b[0;34m(\u001b[0m\u001b[0;34m*\u001b[0m\u001b[0margs\u001b[0m\u001b[0;34m,\u001b[0m \u001b[0;34m**\u001b[0m\u001b[0mkwargs\u001b[0m\u001b[0;34m)\u001b[0m\u001b[0;34m\u001b[0m\u001b[0;34m\u001b[0m\u001b[0m\n\u001b[1;32m     79\u001b[0m \u001b[0;34m\u001b[0m\u001b[0m\n\u001b[0;32m---> 80\u001b[0;31m     \u001b[0moutput\u001b[0m \u001b[0;34m=\u001b[0m \u001b[0m_system_commands\u001b[0m\u001b[0;34m.\u001b[0m\u001b[0m_getoutput_compat\u001b[0m\u001b[0;34m(\u001b[0m\u001b[0mself\u001b[0m\u001b[0;34m,\u001b[0m \u001b[0;34m*\u001b[0m\u001b[0margs\u001b[0m\u001b[0;34m,\u001b[0m \u001b[0;34m**\u001b[0m\u001b[0mkwargs\u001b[0m\u001b[0;34m)\u001b[0m  \u001b[0;31m# pylint:disable=protected-access\u001b[0m\u001b[0;34m\u001b[0m\u001b[0;34m\u001b[0m\u001b[0m\n\u001b[0m\u001b[1;32m     81\u001b[0m \u001b[0;34m\u001b[0m\u001b[0m\n\u001b[1;32m     82\u001b[0m     \u001b[0;32mif\u001b[0m \u001b[0m_show_pip_warning\u001b[0m\u001b[0;34m(\u001b[0m\u001b[0;34m)\u001b[0m \u001b[0;32mand\u001b[0m \u001b[0m_pip\u001b[0m\u001b[0;34m.\u001b[0m\u001b[0mis_pip_install_command\u001b[0m\u001b[0;34m(\u001b[0m\u001b[0;34m*\u001b[0m\u001b[0margs\u001b[0m\u001b[0;34m,\u001b[0m \u001b[0;34m**\u001b[0m\u001b[0mkwargs\u001b[0m\u001b[0;34m)\u001b[0m\u001b[0;34m:\u001b[0m\u001b[0;34m\u001b[0m\u001b[0;34m\u001b[0m\u001b[0m\n",
            "\u001b[0;32m/usr/local/lib/python3.9/dist-packages/google/colab/_system_commands.py\u001b[0m in \u001b[0;36m_getoutput_compat\u001b[0;34m(shell, cmd, split, depth)\u001b[0m\n\u001b[1;32m    417\u001b[0m   \u001b[0;31m# is expected to call this function, thus adding one level of nesting to the\u001b[0m\u001b[0;34m\u001b[0m\u001b[0;34m\u001b[0m\u001b[0m\n\u001b[1;32m    418\u001b[0m   \u001b[0;31m# stack.\u001b[0m\u001b[0;34m\u001b[0m\u001b[0;34m\u001b[0m\u001b[0m\n\u001b[0;32m--> 419\u001b[0;31m   result = _run_command(\n\u001b[0m\u001b[1;32m    420\u001b[0m       \u001b[0mshell\u001b[0m\u001b[0;34m.\u001b[0m\u001b[0mvar_expand\u001b[0m\u001b[0;34m(\u001b[0m\u001b[0mcmd\u001b[0m\u001b[0;34m,\u001b[0m \u001b[0mdepth\u001b[0m\u001b[0;34m=\u001b[0m\u001b[0mdepth\u001b[0m \u001b[0;34m+\u001b[0m \u001b[0;36m2\u001b[0m\u001b[0;34m)\u001b[0m\u001b[0;34m,\u001b[0m \u001b[0mclear_streamed_output\u001b[0m\u001b[0;34m=\u001b[0m\u001b[0;32mTrue\u001b[0m\u001b[0;34m\u001b[0m\u001b[0;34m\u001b[0m\u001b[0m\n\u001b[1;32m    421\u001b[0m   )\n",
            "\u001b[0;32m/usr/local/lib/python3.9/dist-packages/google/colab/_system_commands.py\u001b[0m in \u001b[0;36m_run_command\u001b[0;34m(cmd, clear_streamed_output)\u001b[0m\n\u001b[1;32m    165\u001b[0m   \u001b[0mlocale_encoding\u001b[0m \u001b[0;34m=\u001b[0m \u001b[0mlocale\u001b[0m\u001b[0;34m.\u001b[0m\u001b[0mgetpreferredencoding\u001b[0m\u001b[0;34m(\u001b[0m\u001b[0;34m)\u001b[0m\u001b[0;34m\u001b[0m\u001b[0;34m\u001b[0m\u001b[0m\n\u001b[1;32m    166\u001b[0m   \u001b[0;32mif\u001b[0m \u001b[0mlocale_encoding\u001b[0m \u001b[0;34m!=\u001b[0m \u001b[0m_ENCODING\u001b[0m\u001b[0;34m:\u001b[0m\u001b[0;34m\u001b[0m\u001b[0;34m\u001b[0m\u001b[0m\n\u001b[0;32m--> 167\u001b[0;31m     raise NotImplementedError(\n\u001b[0m\u001b[1;32m    168\u001b[0m         \u001b[0;34m'A UTF-8 locale is required. Got {}'\u001b[0m\u001b[0;34m.\u001b[0m\u001b[0mformat\u001b[0m\u001b[0;34m(\u001b[0m\u001b[0mlocale_encoding\u001b[0m\u001b[0;34m)\u001b[0m\u001b[0;34m\u001b[0m\u001b[0;34m\u001b[0m\u001b[0m\n\u001b[1;32m    169\u001b[0m     )\n",
            "\u001b[0;31mNotImplementedError\u001b[0m: A UTF-8 locale is required. Got ANSI_X3.4-1968"
          ]
        }
      ],
      "source": [
        "!!kaggle datasets download -d joannecrean/spotify-songs-lyrics\n",
        "!unzip /content/spotify-songs-lyrics.zip"
      ]
    },
    {
      "cell_type": "code",
      "execution_count": null,
      "metadata": {
        "id": "z588WsRN0Sek"
      },
      "outputs": [],
      "source": [
        "df_lyrics = pd.read_csv('all_song_data_complete.csv')"
      ]
    },
    {
      "cell_type": "code",
      "execution_count": null,
      "metadata": {
        "id": "oZ5P__YKtqWf"
      },
      "outputs": [],
      "source": [
        "sensitive_words = pd.read_csv('sensitive_words.csv')\n",
        "sensitive_words =sensitive_words.values.tolist()\n"
      ]
    },
    {
      "cell_type": "code",
      "execution_count": null,
      "metadata": {
        "id": "tFO_EiBGCUsd"
      },
      "outputs": [],
      "source": [
        "def tokenize_content(content):\n",
        "  content = content.lower() #convert to lowercase\n",
        "  content_tokens = nltk.word_tokenize(content) # tokenise\n",
        "  alpha_tokens = [w for w in content_tokens if w.isalpha()] # keep alpha tokens\n",
        "  stop_tokens = [t for t in alpha_tokens if not t in stopwords] #remove if stopword\n",
        "  final_tokens = [s for s in stop_tokens if not s in sensitive_words] #remove if sensitive\n",
        "  #print(final_tokens)\n",
        "  return final_tokens"
      ]
    },
    {
      "cell_type": "code",
      "execution_count": null,
      "metadata": {
        "id": "RxDXD3obDweO"
      },
      "outputs": [],
      "source": [
        "df_lyrics.head(10)"
      ]
    },
    {
      "cell_type": "code",
      "execution_count": null,
      "metadata": {
        "id": "24JvqH8XEJv0"
      },
      "outputs": [],
      "source": [
        "len(df_lyrics)"
      ]
    },
    {
      "cell_type": "code",
      "execution_count": null,
      "metadata": {
        "id": "xqg3iEZMzy-w"
      },
      "outputs": [],
      "source": [
        "df_lyrics.loc[df_lyrics['title'] == 'You Make My Dreams (Come True)']"
      ]
    },
    {
      "cell_type": "code",
      "execution_count": null,
      "metadata": {
        "id": "y0PWn_-EECd_"
      },
      "outputs": [],
      "source": [
        "df_lyrics.dropna(inplace = True)"
      ]
    },
    {
      "cell_type": "code",
      "execution_count": null,
      "metadata": {
        "id": "QAE_iPMk2SH1"
      },
      "outputs": [],
      "source": [
        "df_lyrics.loc[df_lyrics['song URL'] == 'https://genius.com/Gerald-haywood-2018-haywoodindahood-listening-log-annotated']"
      ]
    },
    {
      "cell_type": "code",
      "execution_count": null,
      "metadata": {
        "id": "q9P6l1nK0XqX"
      },
      "outputs": [],
      "source": [
        "# clean up by dropping rows that aren't lyrics\n",
        "df_lyrics = df_lyrics[~df_lyrics['song URL'].str.contains('annotated')]"
      ]
    },
    {
      "cell_type": "code",
      "execution_count": null,
      "metadata": {
        "id": "KblsyvnF9BHy"
      },
      "outputs": [],
      "source": [
        "# remove the intro text before the lyrics \n",
        "df_lyrics['lyrics'] = [re.sub('^.*Lyrics', '', x) for x in df_lyrics['lyrics']]"
      ]
    },
    {
      "cell_type": "code",
      "execution_count": null,
      "metadata": {
        "id": "-26t2NwUv0CY"
      },
      "outputs": [],
      "source": [
        "#remove rows where the URL is not correct so the lyrics are not accurate\n",
        "\n",
        "df_lyrics['clean URL'] = df_lyrics['song URL'].str.replace('-', '').str.lower()\n",
        "df_lyrics['clean artist'] = df_lyrics['artist'].str.replace(' ', '').str.lower()\n",
        "\n",
        "df_lyrics['URL letters'] = df_lyrics['clean URL'].str.extract(r'https://genius\\.com/(\\w{2})')\n",
        "\n",
        "#print(df_lyrics.head(10))\n",
        "\n",
        "df_lyrics = df_lyrics.loc[df_lyrics['URL letters'] == df_lyrics['clean artist'].str[:2]]"
      ]
    },
    {
      "cell_type": "code",
      "execution_count": null,
      "metadata": {
        "id": "JJJGsOi-4gYy"
      },
      "outputs": [],
      "source": [
        "len(df_lyrics)"
      ]
    },
    {
      "cell_type": "code",
      "execution_count": null,
      "metadata": {
        "id": "6kXjFyE9apEY"
      },
      "outputs": [],
      "source": [
        "df_lyrics.head(10)"
      ]
    },
    {
      "cell_type": "code",
      "execution_count": null,
      "metadata": {
        "id": "L4chSLK3zAel"
      },
      "outputs": [],
      "source": [
        "#df_lyrics_clean = df_lyrics.apply(lambda x: x['Unnamed: 0'] , axis=1)"
      ]
    },
    {
      "cell_type": "code",
      "execution_count": null,
      "metadata": {
        "id": "9Rx6KfHECiu0"
      },
      "outputs": [],
      "source": [
        "df_lyrics['tokenized'] = df_lyrics.apply(lambda x: tokenize_content(x.lyrics), axis=1)"
      ]
    },
    {
      "cell_type": "code",
      "execution_count": null,
      "metadata": {
        "id": "2amPvUbLEIQg"
      },
      "outputs": [],
      "source": [
        "from nltk.sentiment import SentimentIntensityAnalyzer\n",
        "sia = SentimentIntensityAnalyzer()\n",
        "\n",
        "def retrieve_sentiment(content):\n",
        "  return sia.polarity_scores(content)['compound']\n"
      ]
    },
    {
      "cell_type": "code",
      "execution_count": null,
      "metadata": {
        "id": "TrWOeSiLEiDW"
      },
      "outputs": [],
      "source": [
        "df_lyrics['sentiment'] = df_lyrics.apply(lambda x: retrieve_sentiment(x.lyrics), axis=1)\n",
        "df_lyrics_positive = df_lyrics.sort_values(by = ['sentiment'], ascending = False)\n",
        "df_lyrics_positive.head(10)"
      ]
    },
    {
      "cell_type": "code",
      "execution_count": null,
      "metadata": {
        "id": "xEU9M2g5jswR"
      },
      "outputs": [],
      "source": [
        "df_lyrics_negative = df_lyrics.sort_values(by = ['sentiment'])\n",
        "df_lyrics_negative.head(10)"
      ]
    },
    {
      "cell_type": "code",
      "source": [
        "!python3 -m spacy download en_core_web_sm"
      ],
      "metadata": {
        "id": "JHjFSRoDgVOY",
        "outputId": "c7121bcf-35e3-44d8-b778-02e8e7a47195",
        "colab": {
          "base_uri": "https://localhost:8080/",
          "height": 311
        }
      },
      "execution_count": 118,
      "outputs": [
        {
          "output_type": "error",
          "ename": "NotImplementedError",
          "evalue": "ignored",
          "traceback": [
            "\u001b[0;31m---------------------------------------------------------------------------\u001b[0m",
            "\u001b[0;31mNotImplementedError\u001b[0m                       Traceback (most recent call last)",
            "\u001b[0;32m<ipython-input-118-82e22f7fccdb>\u001b[0m in \u001b[0;36m<cell line: 1>\u001b[0;34m()\u001b[0m\n\u001b[0;32m----> 1\u001b[0;31m \u001b[0mget_ipython\u001b[0m\u001b[0;34m(\u001b[0m\u001b[0;34m)\u001b[0m\u001b[0;34m.\u001b[0m\u001b[0msystem\u001b[0m\u001b[0;34m(\u001b[0m\u001b[0;34m'python3 -m spacy download en_core_web_sm'\u001b[0m\u001b[0;34m)\u001b[0m\u001b[0;34m\u001b[0m\u001b[0;34m\u001b[0m\u001b[0m\n\u001b[0m",
            "\u001b[0;32m/usr/local/lib/python3.9/dist-packages/google/colab/_shell.py\u001b[0m in \u001b[0;36msystem\u001b[0;34m(self, *args, **kwargs)\u001b[0m\n\u001b[1;32m     96\u001b[0m       \u001b[0mkwargs\u001b[0m\u001b[0;34m.\u001b[0m\u001b[0mupdate\u001b[0m\u001b[0;34m(\u001b[0m\u001b[0;34m{\u001b[0m\u001b[0;34m'also_return_output'\u001b[0m\u001b[0;34m:\u001b[0m \u001b[0;32mTrue\u001b[0m\u001b[0;34m}\u001b[0m\u001b[0;34m)\u001b[0m\u001b[0;34m\u001b[0m\u001b[0;34m\u001b[0m\u001b[0m\n\u001b[1;32m     97\u001b[0m \u001b[0;34m\u001b[0m\u001b[0m\n\u001b[0;32m---> 98\u001b[0;31m     \u001b[0moutput\u001b[0m \u001b[0;34m=\u001b[0m \u001b[0m_system_commands\u001b[0m\u001b[0;34m.\u001b[0m\u001b[0m_system_compat\u001b[0m\u001b[0;34m(\u001b[0m\u001b[0mself\u001b[0m\u001b[0;34m,\u001b[0m \u001b[0;34m*\u001b[0m\u001b[0margs\u001b[0m\u001b[0;34m,\u001b[0m \u001b[0;34m**\u001b[0m\u001b[0mkwargs\u001b[0m\u001b[0;34m)\u001b[0m  \u001b[0;31m# pylint:disable=protected-access\u001b[0m\u001b[0;34m\u001b[0m\u001b[0;34m\u001b[0m\u001b[0m\n\u001b[0m\u001b[1;32m     99\u001b[0m \u001b[0;34m\u001b[0m\u001b[0m\n\u001b[1;32m    100\u001b[0m     \u001b[0;32mif\u001b[0m \u001b[0mpip_warn\u001b[0m\u001b[0;34m:\u001b[0m\u001b[0;34m\u001b[0m\u001b[0;34m\u001b[0m\u001b[0m\n",
            "\u001b[0;32m/usr/local/lib/python3.9/dist-packages/google/colab/_system_commands.py\u001b[0m in \u001b[0;36m_system_compat\u001b[0;34m(shell, cmd, also_return_output)\u001b[0m\n\u001b[1;32m    451\u001b[0m   \u001b[0;31m# is expected to call this function, thus adding one level of nesting to the\u001b[0m\u001b[0;34m\u001b[0m\u001b[0;34m\u001b[0m\u001b[0m\n\u001b[1;32m    452\u001b[0m   \u001b[0;31m# stack.\u001b[0m\u001b[0;34m\u001b[0m\u001b[0;34m\u001b[0m\u001b[0m\n\u001b[0;32m--> 453\u001b[0;31m   result = _run_command(\n\u001b[0m\u001b[1;32m    454\u001b[0m       \u001b[0mshell\u001b[0m\u001b[0;34m.\u001b[0m\u001b[0mvar_expand\u001b[0m\u001b[0;34m(\u001b[0m\u001b[0mcmd\u001b[0m\u001b[0;34m,\u001b[0m \u001b[0mdepth\u001b[0m\u001b[0;34m=\u001b[0m\u001b[0;36m2\u001b[0m\u001b[0;34m)\u001b[0m\u001b[0;34m,\u001b[0m \u001b[0mclear_streamed_output\u001b[0m\u001b[0;34m=\u001b[0m\u001b[0;32mFalse\u001b[0m\u001b[0;34m\u001b[0m\u001b[0;34m\u001b[0m\u001b[0m\n\u001b[1;32m    455\u001b[0m   )\n",
            "\u001b[0;32m/usr/local/lib/python3.9/dist-packages/google/colab/_system_commands.py\u001b[0m in \u001b[0;36m_run_command\u001b[0;34m(cmd, clear_streamed_output)\u001b[0m\n\u001b[1;32m    165\u001b[0m   \u001b[0mlocale_encoding\u001b[0m \u001b[0;34m=\u001b[0m \u001b[0mlocale\u001b[0m\u001b[0;34m.\u001b[0m\u001b[0mgetpreferredencoding\u001b[0m\u001b[0;34m(\u001b[0m\u001b[0;34m)\u001b[0m\u001b[0;34m\u001b[0m\u001b[0;34m\u001b[0m\u001b[0m\n\u001b[1;32m    166\u001b[0m   \u001b[0;32mif\u001b[0m \u001b[0mlocale_encoding\u001b[0m \u001b[0;34m!=\u001b[0m \u001b[0m_ENCODING\u001b[0m\u001b[0;34m:\u001b[0m\u001b[0;34m\u001b[0m\u001b[0;34m\u001b[0m\u001b[0m\n\u001b[0;32m--> 167\u001b[0;31m     raise NotImplementedError(\n\u001b[0m\u001b[1;32m    168\u001b[0m         \u001b[0;34m'A UTF-8 locale is required. Got {}'\u001b[0m\u001b[0;34m.\u001b[0m\u001b[0mformat\u001b[0m\u001b[0;34m(\u001b[0m\u001b[0mlocale_encoding\u001b[0m\u001b[0;34m)\u001b[0m\u001b[0;34m\u001b[0m\u001b[0;34m\u001b[0m\u001b[0m\n\u001b[1;32m    169\u001b[0m     )\n",
            "\u001b[0;31mNotImplementedError\u001b[0m: A UTF-8 locale is required. Got ANSI_X3.4-1968"
          ]
        }
      ]
    },
    {
      "cell_type": "code",
      "execution_count": null,
      "metadata": {
        "id": "Dah5lt4YjswS"
      },
      "outputs": [],
      "source": [
        "\"\"\"def add_spacy_data(dataset, feature_column):\n",
        "    '''\n",
        "    Grabs the verb, adverb, noun, and stop word Parts of Speech (POS) \n",
        "    tokens and pushes them into a new dataset. returns an \n",
        "    enriched dataset.\n",
        "    \n",
        "    Parameters:\n",
        "    \n",
        "    dataset (dataframe): the dataframe to parse\n",
        "    feature_column (string): the column to parse in the dataset.\n",
        "    \n",
        "    Returns: \n",
        "    dataframe\n",
        "    '''\n",
        "    \n",
        "    verbs = []\n",
        "    nouns = []\n",
        "    adverbs = []\n",
        "    corpus = []\n",
        "    nlp = spacy.load('en_core_web_sm')\n",
        "    ##\n",
        "    for i in range (0, len(dataset)):\n",
        "        print(\"Extracting verbs and topics from record {} of {}\".format(i+1, len(dataset)), end = \"\\r\")\n",
        "        song = dataset.iloc[i][feature_column]\n",
        "        doc = nlp(song)\n",
        "        spacy_dataframe = pd.DataFrame()\n",
        "        for token in doc:\n",
        "            if token.lemma_ == \"-PRON-\":\n",
        "                    lemma = token.text\n",
        "            else:\n",
        "                lemma = token.lemma_\n",
        "            row = {\n",
        "                \"Word\": token.text,\n",
        "                \"Lemma\": lemma,\n",
        "                \"PoS\": token.pos_,\n",
        "                \"Stop Word\": token.is_stop\n",
        "            }\n",
        "            spacy_dataframe = spacy_dataframe.append(row, ignore_index = True)\n",
        "        verbs.append(\" \".join(spacy_dataframe[\"Lemma\"][spacy_dataframe[\"PoS\"] == \"VERB\"].values))\n",
        "        nouns.append(\" \".join(spacy_dataframe[\"Lemma\"][spacy_dataframe[\"PoS\"] == \"NOUN\"].values))\n",
        "        adverbs.append(\" \".join(spacy_dataframe[\"Lemma\"][spacy_dataframe[\"PoS\"] == \"ADV\"].values))\n",
        "        corpus_clean = \" \".join(spacy_dataframe[\"Lemma\"][spacy_dataframe[\"Stop Word\"] == False].values)\n",
        "        corpus_clean = re.sub(r'[^A-Za-z0-9]+', ' ', corpus_clean)   \n",
        "        corpus.append(corpus_clean)\n",
        "    dataset['verbs'] = verbs\n",
        "    dataset['nouns'] = nouns\n",
        "    dataset['adverbs'] = adverbs\n",
        "    dataset['corpus'] = corpus\n",
        "\n",
        "    return dataset\"\"\""
      ]
    },
    {
      "cell_type": "code",
      "execution_count": 119,
      "metadata": {
        "id": "SJIBdKkGwT3F"
      },
      "outputs": [],
      "source": [
        "# alt spacy dataset\n",
        "# alt spacy dataset\n",
        "\n",
        "def extract_spacy_data(song):\n",
        "    doc = nlp(song)\n",
        "    spacy_dataframe = pd.DataFrame([{\n",
        "        \"Word\": token.text,\n",
        "        \"Lemma\": token.lemma_ if token.lemma_ != \"-PRON-\" else token.text,\n",
        "        \"PoS\": token.pos_,\n",
        "        \"Stop Word\": token.is_stop\n",
        "    } for token in doc])\n",
        "    verbs = \" \".join(spacy_dataframe[\"Lemma\"][spacy_dataframe[\"PoS\"] == \"VERB\"].values)\n",
        "    nouns = \" \".join(spacy_dataframe[\"Lemma\"][spacy_dataframe[\"PoS\"] == \"NOUN\"].values)\n",
        "    adverbs = \" \".join(spacy_dataframe[\"Lemma\"][spacy_dataframe[\"PoS\"] == \"ADV\"].values)\n",
        "    corpus_clean = \" \".join([token.lemma_ if token.lemma_ != \"-PRON-\" else token.text\n",
        "                              for token in doc if not token.is_stop])\n",
        "    corpus_clean = re.sub(r'[^A-Za-z0-9]+', ' ', corpus_clean)\n",
        "    return verbs, nouns, adverbs, corpus_clean"
      ]
    },
    {
      "cell_type": "code",
      "source": [
        "from datetime import datetime\n",
        "start_time = datetime.now()\n",
        "print(\"Started at {}\".format(start_time))\n",
        "nlp = spacy.load('en_core_web_sm')\n",
        "df_lyrics[['verbs', 'nouns', 'adverbs', 'corpus']] = df_lyrics['lyrics'].apply(lambda x: pd.Series(extract_spacy_data(x)))\n",
        "print(\"\\nCompleted at {}\".format(start_time))\n",
        "end_time = datetime.now()\n",
        "print(\"Total time to collect method 2: {}\".format(end_time - start_time))"
      ],
      "metadata": {
        "id": "DopkXgFHgadx",
        "outputId": "07e2ac58-a346-4f5e-8f6d-ddb3fb89d23d",
        "colab": {
          "base_uri": "https://localhost:8080/",
          "height": 252
        }
      },
      "execution_count": 120,
      "outputs": [
        {
          "output_type": "stream",
          "name": "stdout",
          "text": [
            "Started at 2023-04-15 14:04:57.062792\n"
          ]
        },
        {
          "output_type": "error",
          "ename": "NameError",
          "evalue": "ignored",
          "traceback": [
            "\u001b[0;31m---------------------------------------------------------------------------\u001b[0m",
            "\u001b[0;31mNameError\u001b[0m                                 Traceback (most recent call last)",
            "\u001b[0;32m<ipython-input-120-0f746baf781d>\u001b[0m in \u001b[0;36m<cell line: 5>\u001b[0;34m()\u001b[0m\n\u001b[1;32m      3\u001b[0m \u001b[0mprint\u001b[0m\u001b[0;34m(\u001b[0m\u001b[0;34m\"Started at {}\"\u001b[0m\u001b[0;34m.\u001b[0m\u001b[0mformat\u001b[0m\u001b[0;34m(\u001b[0m\u001b[0mstart_time\u001b[0m\u001b[0;34m)\u001b[0m\u001b[0;34m)\u001b[0m\u001b[0;34m\u001b[0m\u001b[0;34m\u001b[0m\u001b[0m\n\u001b[1;32m      4\u001b[0m \u001b[0mnlp\u001b[0m \u001b[0;34m=\u001b[0m \u001b[0mspacy\u001b[0m\u001b[0;34m.\u001b[0m\u001b[0mload\u001b[0m\u001b[0;34m(\u001b[0m\u001b[0;34m'en_core_web_sm'\u001b[0m\u001b[0;34m)\u001b[0m\u001b[0;34m\u001b[0m\u001b[0;34m\u001b[0m\u001b[0m\n\u001b[0;32m----> 5\u001b[0;31m \u001b[0mdf_lyrics\u001b[0m\u001b[0;34m[\u001b[0m\u001b[0;34m[\u001b[0m\u001b[0;34m'verbs'\u001b[0m\u001b[0;34m,\u001b[0m \u001b[0;34m'nouns'\u001b[0m\u001b[0;34m,\u001b[0m \u001b[0;34m'adverbs'\u001b[0m\u001b[0;34m,\u001b[0m \u001b[0;34m'corpus'\u001b[0m\u001b[0;34m]\u001b[0m\u001b[0;34m]\u001b[0m \u001b[0;34m=\u001b[0m \u001b[0mdf_lyrics\u001b[0m\u001b[0;34m[\u001b[0m\u001b[0;34m'lyrics'\u001b[0m\u001b[0;34m]\u001b[0m\u001b[0;34m.\u001b[0m\u001b[0mapply\u001b[0m\u001b[0;34m(\u001b[0m\u001b[0;32mlambda\u001b[0m \u001b[0mx\u001b[0m\u001b[0;34m:\u001b[0m \u001b[0mpd\u001b[0m\u001b[0;34m.\u001b[0m\u001b[0mSeries\u001b[0m\u001b[0;34m(\u001b[0m\u001b[0mextract_spacy_data\u001b[0m\u001b[0;34m(\u001b[0m\u001b[0mx\u001b[0m\u001b[0;34m)\u001b[0m\u001b[0;34m)\u001b[0m\u001b[0;34m)\u001b[0m\u001b[0;34m\u001b[0m\u001b[0;34m\u001b[0m\u001b[0m\n\u001b[0m\u001b[1;32m      6\u001b[0m \u001b[0mprint\u001b[0m\u001b[0;34m(\u001b[0m\u001b[0;34m\"\\nCompleted at {}\"\u001b[0m\u001b[0;34m.\u001b[0m\u001b[0mformat\u001b[0m\u001b[0;34m(\u001b[0m\u001b[0mstart_time\u001b[0m\u001b[0;34m)\u001b[0m\u001b[0;34m)\u001b[0m\u001b[0;34m\u001b[0m\u001b[0;34m\u001b[0m\u001b[0m\n\u001b[1;32m      7\u001b[0m \u001b[0mend_time\u001b[0m \u001b[0;34m=\u001b[0m \u001b[0mdatetime\u001b[0m\u001b[0;34m.\u001b[0m\u001b[0mnow\u001b[0m\u001b[0;34m(\u001b[0m\u001b[0;34m)\u001b[0m\u001b[0;34m\u001b[0m\u001b[0;34m\u001b[0m\u001b[0m\n",
            "\u001b[0;31mNameError\u001b[0m: name 'df_lyrics' is not defined"
          ]
        }
      ]
    },
    {
      "cell_type": "code",
      "execution_count": null,
      "metadata": {
        "id": "4UAyj1VziQ3r"
      },
      "outputs": [],
      "source": [
        "\"\"\"df_lyrics_words = add_spacy_data(df_lyrics, 'lyrics')\"\"\""
      ]
    },
    {
      "cell_type": "code",
      "execution_count": 121,
      "metadata": {
        "id": "GGwz1W7Fu4xl",
        "outputId": "f61661ae-f75c-48f7-da71-0daef375d2ae",
        "colab": {
          "base_uri": "https://localhost:8080/",
          "height": 165
        }
      },
      "outputs": [
        {
          "output_type": "error",
          "ename": "NameError",
          "evalue": "ignored",
          "traceback": [
            "\u001b[0;31m---------------------------------------------------------------------------\u001b[0m",
            "\u001b[0;31mNameError\u001b[0m                                 Traceback (most recent call last)",
            "\u001b[0;32m<ipython-input-121-55e03893c0fd>\u001b[0m in \u001b[0;36m<cell line: 1>\u001b[0;34m()\u001b[0m\n\u001b[0;32m----> 1\u001b[0;31m \u001b[0mdf_lyrics\u001b[0m\u001b[0;34m.\u001b[0m\u001b[0mhead\u001b[0m\u001b[0;34m(\u001b[0m\u001b[0;36m5\u001b[0m\u001b[0;34m)\u001b[0m\u001b[0;34m\u001b[0m\u001b[0;34m\u001b[0m\u001b[0m\n\u001b[0m",
            "\u001b[0;31mNameError\u001b[0m: name 'df_lyrics' is not defined"
          ]
        }
      ],
      "source": [
        "df_lyrics.head(5)"
      ]
    },
    {
      "cell_type": "code",
      "execution_count": 122,
      "metadata": {
        "id": "qJD9L0s-uM-j",
        "outputId": "76d100dd-388c-49f1-9b9d-c6c73b71b90c",
        "colab": {
          "base_uri": "https://localhost:8080/",
          "height": 165
        }
      },
      "outputs": [
        {
          "output_type": "error",
          "ename": "NameError",
          "evalue": "ignored",
          "traceback": [
            "\u001b[0;31m---------------------------------------------------------------------------\u001b[0m",
            "\u001b[0;31mNameError\u001b[0m                                 Traceback (most recent call last)",
            "\u001b[0;32m<ipython-input-122-e623d20d0b7a>\u001b[0m in \u001b[0;36m<cell line: 1>\u001b[0;34m()\u001b[0m\n\u001b[0;32m----> 1\u001b[0;31m \u001b[0mdf_lyrics\u001b[0m\u001b[0;34m.\u001b[0m\u001b[0mdrop\u001b[0m\u001b[0;34m(\u001b[0m\u001b[0mcolumns\u001b[0m \u001b[0;34m=\u001b[0m \u001b[0;34m[\u001b[0m\u001b[0;34m'Unnamed: 0'\u001b[0m\u001b[0;34m]\u001b[0m\u001b[0;34m,\u001b[0m \u001b[0minplace\u001b[0m\u001b[0;34m=\u001b[0m\u001b[0;32mTrue\u001b[0m\u001b[0;34m)\u001b[0m\u001b[0;34m\u001b[0m\u001b[0;34m\u001b[0m\u001b[0m\n\u001b[0m",
            "\u001b[0;31mNameError\u001b[0m: name 'df_lyrics' is not defined"
          ]
        }
      ],
      "source": [
        "df_lyrics.drop(columns = ['Unnamed: 0'], inplace=True)"
      ]
    },
    {
      "cell_type": "code",
      "execution_count": 123,
      "metadata": {
        "id": "jIa3VED9uTHu",
        "outputId": "e47c30b8-310f-40a7-f2b4-008fff154ccf",
        "colab": {
          "base_uri": "https://localhost:8080/",
          "height": 235
        }
      },
      "outputs": [
        {
          "output_type": "error",
          "ename": "NameError",
          "evalue": "ignored",
          "traceback": [
            "\u001b[0;31m---------------------------------------------------------------------------\u001b[0m",
            "\u001b[0;31mNameError\u001b[0m                                 Traceback (most recent call last)",
            "\u001b[0;32m<ipython-input-123-23a14db0731d>\u001b[0m in \u001b[0;36m<cell line: 3>\u001b[0;34m()\u001b[0m\n\u001b[1;32m      1\u001b[0m \u001b[0mword_counts\u001b[0m \u001b[0;34m=\u001b[0m \u001b[0;34m[\u001b[0m\u001b[0;34m]\u001b[0m\u001b[0;34m\u001b[0m\u001b[0;34m\u001b[0m\u001b[0m\n\u001b[1;32m      2\u001b[0m \u001b[0munique_word_counts\u001b[0m \u001b[0;34m=\u001b[0m \u001b[0;34m[\u001b[0m\u001b[0;34m]\u001b[0m\u001b[0;34m\u001b[0m\u001b[0;34m\u001b[0m\u001b[0m\n\u001b[0;32m----> 3\u001b[0;31m \u001b[0;32mfor\u001b[0m \u001b[0mi\u001b[0m \u001b[0;32min\u001b[0m \u001b[0mrange\u001b[0m \u001b[0;34m(\u001b[0m\u001b[0;36m0\u001b[0m\u001b[0;34m,\u001b[0m \u001b[0mlen\u001b[0m\u001b[0;34m(\u001b[0m\u001b[0mdf_lyrics\u001b[0m\u001b[0;34m)\u001b[0m\u001b[0;34m)\u001b[0m\u001b[0;34m:\u001b[0m\u001b[0;34m\u001b[0m\u001b[0;34m\u001b[0m\u001b[0m\n\u001b[0m\u001b[1;32m      4\u001b[0m     \u001b[0mword_counts\u001b[0m\u001b[0;34m.\u001b[0m\u001b[0mappend\u001b[0m\u001b[0;34m(\u001b[0m\u001b[0mlen\u001b[0m\u001b[0;34m(\u001b[0m\u001b[0mdf_lyrics\u001b[0m\u001b[0;34m.\u001b[0m\u001b[0miloc\u001b[0m\u001b[0;34m[\u001b[0m\u001b[0mi\u001b[0m\u001b[0;34m]\u001b[0m\u001b[0;34m[\u001b[0m\u001b[0;34m'lyrics'\u001b[0m\u001b[0;34m]\u001b[0m\u001b[0;34m.\u001b[0m\u001b[0msplit\u001b[0m\u001b[0;34m(\u001b[0m\u001b[0;34m)\u001b[0m\u001b[0;34m)\u001b[0m\u001b[0;34m)\u001b[0m\u001b[0;34m\u001b[0m\u001b[0;34m\u001b[0m\u001b[0m\n\u001b[1;32m      5\u001b[0m     \u001b[0munique_word_counts\u001b[0m\u001b[0;34m.\u001b[0m\u001b[0mappend\u001b[0m\u001b[0;34m(\u001b[0m\u001b[0mlen\u001b[0m\u001b[0;34m(\u001b[0m\u001b[0mset\u001b[0m\u001b[0;34m(\u001b[0m\u001b[0mdf_lyrics\u001b[0m\u001b[0;34m.\u001b[0m\u001b[0miloc\u001b[0m\u001b[0;34m[\u001b[0m\u001b[0mi\u001b[0m\u001b[0;34m]\u001b[0m\u001b[0;34m[\u001b[0m\u001b[0;34m'lyrics'\u001b[0m\u001b[0;34m]\u001b[0m\u001b[0;34m.\u001b[0m\u001b[0msplit\u001b[0m\u001b[0;34m(\u001b[0m\u001b[0;34m)\u001b[0m\u001b[0;34m)\u001b[0m\u001b[0;34m)\u001b[0m\u001b[0;34m)\u001b[0m\u001b[0;34m\u001b[0m\u001b[0;34m\u001b[0m\u001b[0m\n",
            "\u001b[0;31mNameError\u001b[0m: name 'df_lyrics' is not defined"
          ]
        }
      ],
      "source": [
        "word_counts = []\n",
        "unique_word_counts = []\n",
        "for i in range (0, len(df_lyrics)):\n",
        "    word_counts.append(len(df_lyrics.iloc[i]['lyrics'].split()))\n",
        "    unique_word_counts.append(len(set(df_lyrics.iloc[i]['lyrics'].split())))\n",
        "df_lyrics['word counts'] = word_counts\n",
        "df_lyrics['unique word counts'] = unique_word_counts"
      ]
    },
    {
      "cell_type": "code",
      "execution_count": null,
      "metadata": {
        "id": "DfaHuJ1aR0In"
      },
      "outputs": [],
      "source": [
        "\"\"\"df_lyrics['common noun']= df_lyrics.apply(lambda x: x['nouns'].value_counts().idxmax(), axis=1)\n",
        "df_lyrics['common verb']= df_lyrics.apply(lambda x: x['verbs'].value_counts().idxmax(), axis=1)\"\"\""
      ]
    },
    {
      "cell_type": "code",
      "execution_count": null,
      "metadata": {
        "id": "-QY-m_yWCXJw"
      },
      "outputs": [],
      "source": [
        "\"\"\"df_lyrics_ready = df_lyrics_words[['title', 'artist', 'sentiment', 'word count', 'unique word count', 'common noun', 'common verb']]\"\"\""
      ]
    },
    {
      "cell_type": "markdown",
      "metadata": {
        "id": "1RZX6lNwo17Q"
      },
      "source": [
        "# Creating Final Dataset and EDA\n",
        "\n"
      ]
    },
    {
      "cell_type": "code",
      "execution_count": null,
      "metadata": {
        "id": "S5BVJcojpIXl"
      },
      "outputs": [],
      "source": [
        "\"\"\"df_features_lyrics =feature_matches.merge(df_lyrics_ready, left_on = ['title'], right_on = ['title'], how = 'inner')\"\"\""
      ]
    },
    {
      "cell_type": "code",
      "execution_count": null,
      "metadata": {
        "id": "eW-aMO5hphew"
      },
      "outputs": [],
      "source": [
        "\"\"\"df_features_lyrics_tiktok = df_features_lyrics.merge(df_tiktok_matches_final, left_on = ['title'], right_on = ['title'], how = 'inner')\"\"\""
      ]
    }
  ],
  "metadata": {
    "colab": {
      "provenance": [],
      "include_colab_link": true
    },
    "kernelspec": {
      "display_name": "Python 3",
      "name": "python3"
    },
    "language_info": {
      "name": "python"
    },
    "accelerator": "GPU",
    "gpuClass": "standard"
  },
  "nbformat": 4,
  "nbformat_minor": 0
}